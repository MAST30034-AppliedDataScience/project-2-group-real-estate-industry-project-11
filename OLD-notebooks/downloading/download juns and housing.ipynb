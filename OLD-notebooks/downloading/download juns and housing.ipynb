{
 "cells": [
  {
   "cell_type": "markdown",
   "id": "8a7fb103",
   "metadata": {},
   "source": [
    "## Create File System"
   ]
  },
  {
   "cell_type": "code",
   "execution_count": 9,
   "id": "d5b1283f",
   "metadata": {},
   "outputs": [],
   "source": [
    "import os\n",
    "\n",
    "# get the relative output path\n",
    "RELATIVE_PATH = \"../../data/landing/\"\n",
    "\n",
    "# get the directory names\n",
    "directory_names = [\"housing\", \"population\", \"economic\", \"economic_by_region\", \"school\"]\n",
    "\n",
    "# create each new directory\n",
    "for directory_name in directory_names:\n",
    "    new_path = RELATIVE_PATH + directory_name\n",
    "\n",
    "    # if path doesn't exist, create\n",
    "    if (not os.path.exists(new_path)):\n",
    "        os.mkdir(new_path)"
   ]
  },
  {
   "cell_type": "markdown",
   "id": "0a5c768e",
   "metadata": {},
   "source": [
    "## Functions"
   ]
  },
  {
   "cell_type": "code",
   "execution_count": 1,
   "id": "672c2592",
   "metadata": {},
   "outputs": [],
   "source": [
    "SLEEP_TIME = 10.2"
   ]
  },
  {
   "cell_type": "markdown",
   "id": "9aed09d9",
   "metadata": {},
   "source": [
    "### Excel"
   ]
  },
  {
   "cell_type": "code",
   "execution_count": 2,
   "id": "f5a4326a",
   "metadata": {},
   "outputs": [],
   "source": [
    "import io\n",
    "import time\n",
    "import requests\n",
    "import pandas as pd"
   ]
  },
  {
   "cell_type": "code",
   "execution_count": 3,
   "id": "1f9abafd",
   "metadata": {},
   "outputs": [],
   "source": [
    "def get_new_columns(old_columns, missing_columns):\n",
    "    new_columns = []\n",
    "    for column in old_columns:\n",
    "        if \"Unnamed\" in column:\n",
    "            new_columns.append(missing_columns.pop(0))\n",
    "        else:\n",
    "            new_columns.append(column)\n",
    "\n",
    "    return new_columns"
   ]
  },
  {
   "cell_type": "code",
   "execution_count": 4,
   "id": "16c13462",
   "metadata": {},
   "outputs": [],
   "source": [
    "def write_csv(data, sheet_dict, read_excel_dict):\n",
    "    if (not sheet_dict.get(\"csv\")):\n",
    "        # read the excel data\n",
    "        df = pd.read_excel(data,\n",
    "            sheet_name=sheet_dict[\"sheet\"],\n",
    "            skiprows=read_excel_dict[\"skiprows\"],\n",
    "            index_col=read_excel_dict[\"index col\"], \n",
    "            header=read_excel_dict[\"header rows\"],\n",
    "            nrows=read_excel_dict.get(\"nrows\")\n",
    "        )\n",
    "    else:\n",
    "        # read csv data\n",
    "        csv_data = io.StringIO(data.decode('ascii', errors=\"replace\"))\n",
    "        df = pd.read_csv(csv_data, index_col=0, header=0, encoding='cp1252')\n",
    "\n",
    "    # skip the final records if necessary\n",
    "    if (read_excel_dict.get(\"skip tail\")):\n",
    "        df = df.iloc[:-read_excel_dict[\"skip tail\"]]\n",
    "\n",
    "    # if there are missing columns\n",
    "    if (sheet_dict.get(\"missing header\")):\n",
    "        df.columns = get_new_columns(df.columns, sheet_dict.get(\"missing header\"))\n",
    "\n",
    "    # get the full path\n",
    "    full_path = read_excel_dict[\"relative path\"] + sheet_dict[\"name\"] + \".csv\"\n",
    "\n",
    "    # write to csv\n",
    "    df.to_csv(full_path)"
   ]
  },
  {
   "cell_type": "code",
   "execution_count": 5,
   "id": "cb498a13",
   "metadata": {},
   "outputs": [],
   "source": [
    "def write_all_csvs(url_to_sheets, read_excel_dict):\n",
    "    for url, sheet_dict_list in url_to_sheets.items():\n",
    "        # get the data\n",
    "        data = requests.get(url).content\n",
    "\n",
    "        # for each sheet, write a csv\n",
    "        for sheet_dict in sheet_dict_list:\n",
    "            print(f\"writing \\\"{sheet_dict['name']}\\\"\")\n",
    "\n",
    "            write_csv(data, sheet_dict, read_excel_dict)\n",
    "\n",
    "            print(\"success, waiting sever reset\")\n",
    "            time.sleep(SLEEP_TIME)"
   ]
  },
  {
   "cell_type": "markdown",
   "id": "8a044c9c",
   "metadata": {},
   "source": [
    "### ABS"
   ]
  },
  {
   "cell_type": "code",
   "execution_count": 6,
   "id": "d38e047d",
   "metadata": {},
   "outputs": [],
   "source": [
    "from bs4 import BeautifulSoup\n",
    "import csv"
   ]
  },
  {
   "cell_type": "code",
   "execution_count": 7,
   "id": "2a0f2f09",
   "metadata": {},
   "outputs": [],
   "source": [
    "### DOWNLOADING PAGES FROM HTML\n",
    "\n",
    "\"\"\"Assumes a bs4 object has been passed in\"\"\"\n",
    "def tag_to_csv(table_tag, dst_path):\n",
    "    with open(dst_path, mode='w', newline='', encoding='utf-8') as csv_file:\n",
    "        writer = csv.writer(csv_file)\n",
    "\n",
    "        # Iterate through table rows <tr>\n",
    "        for row in table_tag.find_all('tr'):\n",
    "            # Get all <td> or <th> in the row\n",
    "            columns = row.find_all(['td', 'th'])\n",
    "\n",
    "            # Extract text from each column and write the row to the CSV file\n",
    "            writer.writerow([col.text.strip() for col in columns])"
   ]
  },
  {
   "cell_type": "code",
   "execution_count": 8,
   "id": "5611b9ad",
   "metadata": {},
   "outputs": [],
   "source": [
    "def write_table(string, url, dst_path):\n",
    "    content = requests.get(url).content\n",
    "    soup = BeautifulSoup(content, 'html')\n",
    "    \n",
    "    caption_tag = soup.find('caption', string=string)\n",
    "\n",
    "    table_tag = caption_tag.find_parent()\n",
    "\n",
    "    tag_to_csv(table_tag, dst_path)\n",
    "\n",
    "    time.sleep(SLEEP_TIME)"
   ]
  },
  {
   "cell_type": "markdown",
   "id": "fc0301be",
   "metadata": {},
   "source": [
    "## Housing"
   ]
  },
  {
   "cell_type": "code",
   "execution_count": 23,
   "id": "19096df1",
   "metadata": {},
   "outputs": [],
   "source": [
    "# setting up the parameters for the reading data\n",
    "read_excel_dict_houses = {\n",
    "    \"skiprows\": [0, 2],\n",
    "    \"index col\": 0,\n",
    "    \"header rows\": 0,\n",
    "    \"relative path\": RELATIVE_PATH + \"housing/\"\n",
    "}\n",
    "\n",
    "# get all the URLS and sheets to get\n",
    "URL_TO_SHEETS_HOUSES = {\n",
    "    \"https://www.dffh.vic.gov.au/moving-annual-rent-suburb-june-quarter-2024\": [\n",
    "        {\"sheet\": \"1 bedroom flat\", \"name\": \"flat_1_bed\"},\n",
    "        {\"sheet\": \"2 bedroom flat\", \"name\": \"flat_2_bed\"},\n",
    "        {\"sheet\": \"3 bedroom flat\", \"name\": \"flat_3_bed\"},\n",
    "        {\"sheet\": \"2 bedroom house\", \"name\": \"house_2_bed\"},\n",
    "        {\"sheet\": \"3 bedroom house\", \"name\": \"house_3_bed\"},\n",
    "        {\"sheet\": \"4 bedroom house\", \"name\": \"house_4_bed\"}\n",
    "    ]\n",
    "}"
   ]
  },
  {
   "cell_type": "code",
   "execution_count": 24,
   "id": "994fa3f3",
   "metadata": {},
   "outputs": [
    {
     "name": "stdout",
     "output_type": "stream",
     "text": [
      "writing \"flat_1_bed\"\n",
      "success, waiting sever reset\n",
      "writing \"flat_2_bed\"\n",
      "success, waiting sever reset\n",
      "writing \"flat_3_bed\"\n",
      "success, waiting sever reset\n",
      "writing \"house_2_bed\"\n",
      "success, waiting sever reset\n",
      "writing \"house_3_bed\"\n",
      "success, waiting sever reset\n",
      "writing \"house_4_bed\"\n",
      "success, waiting sever reset\n"
     ]
    }
   ],
   "source": [
    "write_all_csvs(URL_TO_SHEETS_HOUSES, read_excel_dict_houses)"
   ]
  },
  {
   "cell_type": "markdown",
   "id": "5f5e2698",
   "metadata": {},
   "source": [
    "## Economic"
   ]
  },
  {
   "cell_type": "markdown",
   "id": "cbe7b72a",
   "metadata": {},
   "source": [
    "### Interest Rates"
   ]
  },
  {
   "cell_type": "code",
   "execution_count": 21,
   "id": "ece53642",
   "metadata": {},
   "outputs": [],
   "source": [
    "# setting up the parameters for the reading data\n",
    "read_excel_dict_interest = {\n",
    "    \"skiprows\": [x for x in range(11) if x != 1],\n",
    "    \"index col\": 0,\n",
    "    \"header rows\": 0,\n",
    "    \"relative path\": RELATIVE_PATH + \"economic/\"\n",
    "}\n",
    "\n",
    "# get all the URLS and sheets to get\n",
    "URL_TO_SHEETS_INTEREST = {\n",
    "    \"https://www.rba.gov.au/statistics/tables/xls/f05hist.xlsx?v=2024-09-28-19-56-34\": [{\n",
    "        \"sheet\": \"Data\",\n",
    "        \"name\": \"lending\"        \n",
    "    }]\n",
    "}"
   ]
  },
  {
   "cell_type": "code",
   "execution_count": 14,
   "id": "f92c0c49",
   "metadata": {},
   "outputs": [
    {
     "name": "stdout",
     "output_type": "stream",
     "text": [
      "writing \"lending\"\n",
      "success, waiting sever reset\n"
     ]
    }
   ],
   "source": [
    "write_all_csvs(URL_TO_SHEETS_INTEREST, read_excel_dict_interest)"
   ]
  },
  {
   "cell_type": "markdown",
   "id": "6d9ee70c",
   "metadata": {},
   "source": [
    "### GDP"
   ]
  },
  {
   "cell_type": "code",
   "execution_count": 15,
   "id": "1ee24e3c",
   "metadata": {},
   "outputs": [],
   "source": [
    "# setting up the parameters for the reading data\n",
    "read_excel_dict_gdp = {\n",
    "    \"skiprows\": list(range(9)),\n",
    "    \"index col\": 0,\n",
    "    \"header rows\": 0,\n",
    "    \"relative path\": RELATIVE_PATH + \"economic/\"\n",
    "}\n",
    "\n",
    "# get all the URLS and sheets to get\n",
    "URL_TO_SHEETS_GDP = {\n",
    "    \"https://www.abs.gov.au/statistics/economy/national-accounts/australian-national-accounts-national-income-expenditure-and-product/jun-2024/5206001_Key_Aggregates.xlsx\": [{\n",
    "        \"sheet\": \"Data1\",\n",
    "        \"name\": \"gdp\"        \n",
    "    }]\n",
    "}"
   ]
  },
  {
   "cell_type": "code",
   "execution_count": 16,
   "id": "ddb9dcbc",
   "metadata": {},
   "outputs": [
    {
     "name": "stdout",
     "output_type": "stream",
     "text": [
      "writing \"gdp\"\n",
      "success, waiting sever reset\n"
     ]
    }
   ],
   "source": [
    "write_all_csvs(URL_TO_SHEETS_GDP, read_excel_dict_gdp)"
   ]
  },
  {
   "cell_type": "markdown",
   "id": "e04dc1b1",
   "metadata": {},
   "source": [
    "### Inflation"
   ]
  },
  {
   "cell_type": "code",
   "execution_count": 17,
   "id": "b4f7a156",
   "metadata": {},
   "outputs": [],
   "source": [
    "# setting up the parameters for the reading data\n",
    "read_excel_dict_inflation = {\n",
    "    \"skiprows\": list(range(1, 10)),\n",
    "    \"index col\": 0,\n",
    "    \"header rows\": 0,\n",
    "    \"relative path\": RELATIVE_PATH + \"economic/\"\n",
    "}\n",
    "\n",
    "# get all the URLS and sheets to get\n",
    "URL_TO_SHEETS_INFLATION = {\n",
    "    \"https://www.abs.gov.au/statistics/economy/price-indexes-and-inflation/consumer-price-index-australia/jun-quarter-2024/640106.xlsx\": [{\n",
    "        \"sheet\": \"Data1\",\n",
    "        \"name\": \"inflation\"        \n",
    "    }]\n",
    "}"
   ]
  },
  {
   "cell_type": "code",
   "execution_count": 18,
   "id": "b8c6aace",
   "metadata": {},
   "outputs": [
    {
     "name": "stdout",
     "output_type": "stream",
     "text": [
      "writing \"inflation\"\n",
      "success, waiting sever reset\n"
     ]
    }
   ],
   "source": [
    "write_all_csvs(URL_TO_SHEETS_INFLATION, read_excel_dict_inflation)"
   ]
  },
  {
   "cell_type": "markdown",
   "id": "53f35a6b",
   "metadata": {},
   "source": [
    "## Population"
   ]
  },
  {
   "cell_type": "markdown",
   "id": "3a717813",
   "metadata": {},
   "source": [
    "### Immigration"
   ]
  },
  {
   "cell_type": "code",
   "execution_count": 109,
   "id": "85fb4888",
   "metadata": {},
   "outputs": [],
   "source": [
    "# setting up the parameters for the reading data\n",
    "read_excel_dict_immigration = {\n",
    "    \"skiprows\": list(range(12)),\n",
    "    \"index col\": 0,\n",
    "    \"header rows\": 0,\n",
    "    \"relative path\": RELATIVE_PATH + \"population/\",\n",
    "    \"nrows\": 250\n",
    "}\n",
    "\n",
    "# get all the URLS and sheets to get\n",
    "URL_TO_SHEETS_IMMIGRATION = {\n",
    "    \"https://www.abs.gov.au/statistics/people/population/overseas-migration/2022-23-financial-year/34070DO001_202223.xlsx\": [{\n",
    "        \"sheet\": \"Table 1.3\",\n",
    "        \"name\": \"immigration_2022\"\n",
    "    }]\n",
    "}"
   ]
  },
  {
   "cell_type": "code",
   "execution_count": 110,
   "id": "4766c21f",
   "metadata": {},
   "outputs": [],
   "source": [
    "write_all_csvs(URL_TO_SHEETS_IMMIGRATION, read_excel_dict_immigration)"
   ]
  },
  {
   "cell_type": "markdown",
   "id": "7792cb29",
   "metadata": {},
   "source": [
    "### Age Demos"
   ]
  },
  {
   "cell_type": "code",
   "execution_count": 12,
   "id": "a8ae958e",
   "metadata": {},
   "outputs": [],
   "source": [
    "# setting up the parameters for the reading data\n",
    "read_excel_dict_age = {\n",
    "    \"skiprows\": list(range(5)),\n",
    "    \"index col\": 0,\n",
    "    \"header rows\": [0, 1],\n",
    "    \"relative path\": RELATIVE_PATH + \"population/\",\n",
    "    \"skip tail\": 1\n",
    "}\n",
    "\n",
    "# get all the URLS and sheets to get\n",
    "URL_TO_SHEETS_AGE = {\n",
    "    \"https://www.abs.gov.au/statistics/people/population/regional-population-age-and-sex/2023/32350DS0005_2001-23.xlsx\": [{\n",
    "        \"sheet\": \"Table 3\",\n",
    "        \"name\": \"age_demos\"\n",
    "    }]\n",
    "}"
   ]
  },
  {
   "cell_type": "code",
   "execution_count": 13,
   "id": "df2ff6c3",
   "metadata": {},
   "outputs": [],
   "source": [
    "write_all_csvs(URL_TO_SHEETS_AGE, read_excel_dict_age)"
   ]
  },
  {
   "cell_type": "markdown",
   "id": "1d07dfa4",
   "metadata": {},
   "source": [
    "### Population Projections"
   ]
  },
  {
   "cell_type": "code",
   "execution_count": 113,
   "id": "2c45d4be",
   "metadata": {},
   "outputs": [],
   "source": [
    "URL_POPULATION = \"https://www.abs.gov.au/statistics/people/population/population-projections-australia/latest-release\"\n",
    "\n",
    "REQUESTS_POPULATION = [\n",
    "    {\"string\": \"Projected population, Victoria\", \"name\": \"population_proj\"},\n",
    "    {\"string\": \"Projected natural increase, Victoria\", \"name\": \"population_natural_proj\"},\n",
    "    {\"string\": \"Population proportion(a), Victoria\", \"name\": \"population_proportions\"}\n",
    "]"
   ]
  },
  {
   "cell_type": "code",
   "execution_count": 114,
   "id": "6b5786d2",
   "metadata": {},
   "outputs": [],
   "source": [
    "for population_dict in REQUESTS_POPULATION:\n",
    "    # get the output path\n",
    "    path = RELATIVE_PATH + \"population/\" + population_dict[\"name\"] + \".csv\"\n",
    "\n",
    "    # write the table\n",
    "    write_table(population_dict[\"string\"], URL_POPULATION, path)"
   ]
  },
  {
   "cell_type": "markdown",
   "id": "c98de17f",
   "metadata": {},
   "source": [
    "## Economic by Region"
   ]
  },
  {
   "cell_type": "code",
   "execution_count": 18,
   "id": "07a98abf",
   "metadata": {},
   "outputs": [],
   "source": [
    "# setting up the parameters for the reading data\n",
    "read_excel_dict_socioeconomic = {\n",
    "    \"skiprows\": list(range(5)),\n",
    "    \"index col\": [0, 1],\n",
    "    \"header rows\": [0, 1],\n",
    "    \"relative path\": RELATIVE_PATH + \"economic_by_region/\",\n",
    "    \"skip tail\": 5\n",
    "}\n",
    "\n",
    "# get all the URLS and sheets to get\n",
    "URL_TO_SHEETS_SOCIOECONOMIC = {\n",
    "    \"https://www.abs.gov.au/statistics/labour/earnings-and-working-conditions/personal-income-australia/2011-12-2016-17/6124055002ds0001_2019.xls\": [{\n",
    "        \"sheet\": \"Table 1.4\",\n",
    "        \"name\": \"income_by_geography_2011_2017\"\n",
    "    }], \"https://www.abs.gov.au/statistics/labour/earnings-and-working-conditions/personal-income-australia/2020-21-financial-year/Table%201%20-%20Total%20income%2C%20earners%20and%20summary%20statistics%20by%20geography%2C%202016-17%20to%202020-21.xlsx\": [{\n",
    "        \"sheet\": \"Table 1.4\",\n",
    "        \"name\": \"income_by_geography_2016_2023\"\n",
    "    }], \"https://www.abs.gov.au/statistics/labour/earnings-and-working-conditions/personal-income-australia/2020-21-financial-year/Table%202%20-%20Total%20income%20distribution%20by%20geography%2C%202020-21.xlsx\": [{\n",
    "        \"sheet\": \"Table 2.4\",\n",
    "        \"name\": \"income_distribution_by_geography_2021\"\n",
    "    }], \n",
    "}"
   ]
  },
  {
   "cell_type": "code",
   "execution_count": 19,
   "id": "830fab4c",
   "metadata": {},
   "outputs": [
    {
     "name": "stdout",
     "output_type": "stream",
     "text": [
      "writing \"income_by_geography_2011_2017\"\n",
      "success, waiting sever reset\n",
      "writing \"income_by_geography_2016_2023\"\n",
      "success, waiting sever reset\n",
      "writing \"income_distribution_by_geography_2021\"\n",
      "success, waiting sever reset\n"
     ]
    }
   ],
   "source": [
    "write_all_csvs(URL_TO_SHEETS_SOCIOECONOMIC, read_excel_dict_socioeconomic)"
   ]
  },
  {
   "cell_type": "markdown",
   "id": "a624196e",
   "metadata": {},
   "source": [
    "## Schools"
   ]
  },
  {
   "cell_type": "code",
   "execution_count": 117,
   "id": "ad31336d",
   "metadata": {},
   "outputs": [],
   "source": [
    "# setting up the parameters for the reading data\n",
    "read_excel_dict_school = {\n",
    "    \"skiprows\": [x for x in range(7) if x != 5],\n",
    "    \"index col\": 0,\n",
    "    \"header rows\": 0,\n",
    "    \"relative path\": RELATIVE_PATH + \"school/\"\n",
    "}\n",
    "\n",
    "MISSING_HEADERS_SCHOOL = [\"VCAA code\", \"School name\", \"Sector\", \"Locality\", \n",
    "                          \"Total Completed Year 12\", \"Survey Participants\"]\n",
    "\n",
    "URL_TO_SHEETS_SCHOOL = {\n",
    "    \"https://www.education.vic.gov.au/Documents/about/research/OnTrack2019/DestinationData2019.xlsx\": [{\n",
    "        \"sheet\": \"SCHOOL PUBLICATION TABLE 2019\",\n",
    "        \"name\": \"after_school_2019\",\n",
    "        \"missing header\": MISSING_HEADERS_SCHOOL\n",
    "    }], \"https://www.education.vic.gov.au/Documents/about/research/OnTrack2021/DestinationData2021_new.XLSX\": [{\n",
    "        \"sheet\": \"SCHOOL PUBLICATION TABLE 2021\",\n",
    "        \"name\": \"after_school_2021\",\n",
    "        \"missing header\": MISSING_HEADERS_SCHOOL\n",
    "    }], \"https://www.education.vic.gov.au/Documents/about/research/datavic/dv331_schoollocations2022.csv\": [{\n",
    "        \"csv\": True,\n",
    "        \"name\": \"locations_2022\"\n",
    "    }]\n",
    "}"
   ]
  },
  {
   "cell_type": "code",
   "execution_count": 118,
   "id": "fa355d6e",
   "metadata": {},
   "outputs": [],
   "source": [
    "write_all_csvs(URL_TO_SHEETS_SCHOOL, read_excel_dict_school)"
   ]
  }
 ],
 "metadata": {
  "kernelspec": {
   "display_name": "Python 3 (ipykernel)",
   "language": "python",
   "name": "python3"
  },
  "language_info": {
   "codemirror_mode": {
    "name": "ipython",
    "version": 3
   },
   "file_extension": ".py",
   "mimetype": "text/x-python",
   "name": "python",
   "nbconvert_exporter": "python",
   "pygments_lexer": "ipython3",
   "version": "3.9.12"
  }
 },
 "nbformat": 4,
 "nbformat_minor": 5
}
