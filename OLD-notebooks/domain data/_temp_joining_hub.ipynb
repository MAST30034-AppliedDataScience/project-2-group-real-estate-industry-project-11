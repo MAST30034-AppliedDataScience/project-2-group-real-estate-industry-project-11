{
 "cells": [
  {
   "cell_type": "markdown",
   "metadata": {},
   "source": [
    "### This jupyternotebook is used to join openRouteServices csv files\n"
   ]
  },
  {
   "cell_type": "markdown",
   "metadata": {},
   "source": [
    "**Note**\n",
    "- Most code are used to join and save the data\n",
    "- Running this notebook will not return all data \n",
    "- The purpose of this notebook is simply to serve as a hub to join files\n"
   ]
  },
  {
   "cell_type": "code",
   "execution_count": 17,
   "metadata": {},
   "outputs": [],
   "source": [
    "import pandas as pd\n",
    "import numpy as np\n",
    "import os\n",
    "\n",
    "part_1 = pd.read_csv(\"../data/raw/domain_and_distance_[5332, 5828].csv\")\n",
    "part_2 = pd.read_csv(\"../data/raw/domain_and_distance_[5828, 7156].csv\")\n",
    "part_3 = pd.read_csv(\"../data/raw/domain_and_distance_[7156, 7244].csv\")\n",
    "part_4 = pd.read_csv(\"../data/raw/domain_and_distance_[7244, 7998].csv\")\n"
   ]
  },
  {
   "cell_type": "code",
   "execution_count": 18,
   "metadata": {},
   "outputs": [],
   "source": [
    "part_2.drop(len(part_2)-1, inplace=True)"
   ]
  },
  {
   "cell_type": "code",
   "execution_count": 19,
   "metadata": {},
   "outputs": [],
   "source": [
    "part_3.drop(len(part_3)-1, inplace=True)\n",
    "part_3.drop(0, inplace=True)"
   ]
  },
  {
   "cell_type": "code",
   "execution_count": 20,
   "metadata": {},
   "outputs": [],
   "source": [
    "part_4.drop(0, inplace=True)"
   ]
  },
  {
   "cell_type": "code",
   "execution_count": 21,
   "metadata": {},
   "outputs": [],
   "source": [
    "result = pd.concat([part_1, part_2, part_3, part_4], axis=0, ignore_index=True)"
   ]
  },
  {
   "cell_type": "code",
   "execution_count": 22,
   "metadata": {},
   "outputs": [],
   "source": [
    "# Save the concatenated DataFrame to CSV\n",
    "result.to_csv('../data/raw/combined_domain_distance_part_3.csv', index=False)"
   ]
  },
  {
   "cell_type": "code",
   "execution_count": null,
   "metadata": {},
   "outputs": [],
   "source": []
  },
  {
   "cell_type": "code",
   "execution_count": 23,
   "metadata": {},
   "outputs": [
    {
     "ename": "SyntaxError",
     "evalue": "'break' outside loop (668683560.py, line 1)",
     "output_type": "error",
     "traceback": [
      "\u001b[0;36m  Cell \u001b[0;32mIn[23], line 1\u001b[0;36m\u001b[0m\n\u001b[0;31m    break\u001b[0m\n\u001b[0m    ^\u001b[0m\n\u001b[0;31mSyntaxError\u001b[0m\u001b[0;31m:\u001b[0m 'break' outside loop\n"
     ]
    }
   ],
   "source": [
    "break"
   ]
  },
  {
   "cell_type": "code",
   "execution_count": 24,
   "metadata": {},
   "outputs": [],
   "source": [
    "import pandas as pd\n",
    "import numpy as np\n",
    "import os\n"
   ]
  },
  {
   "cell_type": "code",
   "execution_count": 25,
   "metadata": {},
   "outputs": [],
   "source": [
    "part_1 = pd.read_csv(\"../data/raw/combined_domain_distance_part_1.csv\")\n",
    "part_2 = pd.read_csv(\"../data/raw/combined_domain_distance_part_2.csv\")\n",
    "part_3 = pd.read_csv(\"../data/raw/combined_domain_distance_part_3.csv\")\n",
    "part_4 = pd.read_csv(\"../data/raw/combined_domain_distance_part_4.csv\")\n",
    "part_5 = pd.read_csv(\"../data/raw/combined_domain_distance_part_5.csv\")"
   ]
  },
  {
   "cell_type": "code",
   "execution_count": 26,
   "metadata": {},
   "outputs": [],
   "source": [
    "amenity_pd = pd.concat([part_1, part_2, part_3, part_4, part_5], axis=0, ignore_index=True)"
   ]
  },
  {
   "cell_type": "code",
   "execution_count": 27,
   "metadata": {},
   "outputs": [],
   "source": [
    "from pyspark.sql import SparkSession, functions as F\n",
    "from pyspark.sql.types import StructType, StructField, StringType, IntegerType, FloatType\n",
    "import json\n",
    "import re\n",
    "import pandas as pd\n",
    "import numpy as np\n",
    "import requests\n",
    "\n",
    "\n",
    "# Create a spark session (which will run spark jobs)\n",
    "spark = (\n",
    "    SparkSession.builder.appName(\"MAST30034 Open Route Services\")\n",
    "    .config(\"spark.sql.repl.eagerEval.enabled\", True)\n",
    "    .config(\"spark.sql.parquet.cacheMetadata\", \"true\")\n",
    "    .config(\"spark.sql.session.timeZone\", \"Etc/UTC\")\n",
    "    .config(\"spark.driver.port\", \"6066\")\n",
    "    .getOrCreate()\n",
    ")"
   ]
  },
  {
   "cell_type": "code",
   "execution_count": 28,
   "metadata": {},
   "outputs": [],
   "source": [
    "cleaned_domain_data = spark.read.parquet(\"../data/raw/cleaned_domain_current_listings.parquet\")"
   ]
  },
  {
   "cell_type": "code",
   "execution_count": 29,
   "metadata": {},
   "outputs": [
    {
     "data": {
      "text/plain": [
       "13328"
      ]
     },
     "execution_count": 29,
     "metadata": {},
     "output_type": "execute_result"
    }
   ],
   "source": [
    "cleaned_domain_data.count()"
   ]
  },
  {
   "cell_type": "code",
   "execution_count": 30,
   "metadata": {},
   "outputs": [
    {
     "data": {
      "text/plain": [
       "(13328, 19)"
      ]
     },
     "execution_count": 30,
     "metadata": {},
     "output_type": "execute_result"
    }
   ],
   "source": [
    "amenity_pd.shape"
   ]
  },
  {
   "cell_type": "code",
   "execution_count": 31,
   "metadata": {},
   "outputs": [
    {
     "name": "stderr",
     "output_type": "stream",
     "text": [
      "                                                                                \r"
     ]
    }
   ],
   "source": [
    "domain_pd_df = cleaned_domain_data.toPandas()"
   ]
  },
  {
   "cell_type": "code",
   "execution_count": 32,
   "metadata": {},
   "outputs": [],
   "source": [
    "amenity_pd.drop('House Name', axis=1, inplace=True)"
   ]
  },
  {
   "cell_type": "code",
   "execution_count": 33,
   "metadata": {},
   "outputs": [],
   "source": [
    "domain_joined_distance = pd.concat([domain_pd_df, amenity_pd], axis=1)"
   ]
  },
  {
   "cell_type": "code",
   "execution_count": 34,
   "metadata": {},
   "outputs": [],
   "source": [
    "spark_df = spark.createDataFrame(domain_joined_distance)"
   ]
  },
  {
   "cell_type": "code",
   "execution_count": 35,
   "metadata": {},
   "outputs": [
    {
     "name": "stderr",
     "output_type": "stream",
     "text": [
      "                                                                                \r"
     ]
    },
    {
     "data": {
      "text/plain": [
       "13328"
      ]
     },
     "execution_count": 35,
     "metadata": {},
     "output_type": "execute_result"
    }
   ],
   "source": [
    "spark_df.count()"
   ]
  },
  {
   "cell_type": "code",
   "execution_count": 36,
   "metadata": {},
   "outputs": [
    {
     "data": {
      "text/plain": [
       "30"
      ]
     },
     "execution_count": 36,
     "metadata": {},
     "output_type": "execute_result"
    }
   ],
   "source": [
    "len(spark_df.columns)"
   ]
  },
  {
   "cell_type": "code",
   "execution_count": 37,
   "metadata": {},
   "outputs": [
    {
     "data": {
      "text/plain": [
       "[Row(bedrooms=1, bathrooms=1, car_parks=0, url='https://www.domain.com.au/1111-228-la-trobe-street-melbourne-vic-3000-17194010\\n', name='1111/228 La Trobe Street, Melbourne VIC 3000', cost_text='$660 per week', type='Apartment / Unit / Flat', latitude='-37.809615', longitude='144.9623021', suburb=' Melbourne VIC 3000', postcode='3000', rent_pw=660, school_name='Ozford College', school_walking=9.3, school_driving=9.3, hospital_name='Peter MacCallum Cancer Centre', hospital_walking=28.42, hospital_driving=34.4, doctors_name='Breast Imaging Victoria', doctors_walking=11.5, doctors_driving=11.5, bank_name='BOM', bank_walking=6.18, bank_driving=11.61, restaurant_name='Vegie Tribe', restaurant_walking=8.07, restaurant_driving=8.07, PTV_name='Flinders Street Railway Station (Melbourne City)', PTV_walking=6.42, PTV_driving=61.66),\n",
       " Row(bedrooms=1, bathrooms=1, car_parks=0, url='https://www.domain.com.au/12-246-albert-street-east-melbourne-vic-3002-17196721\\n', name='12/246 Albert Street, East Melbourne VIC 3002', cost_text='$500 weekly', type='Apartment / Unit / Flat', latitude='-37.8101099', longitude='144.982837', suburb=' East Melbourne VIC 3002', postcode='3002', rent_pw=500, school_name='Collingwood Alternative School', school_walking=9.61, school_driving=17.84, hospital_name='Epworth Richmond Hospital', hospital_walking=10.78, hospital_driving=10.78, doctors_name='Dr Alice Huang', doctors_walking=3.42, doctors_driving=14.83, bank_name='Commonwealth Bank', bank_walking=5.88, bank_driving=13.29, restaurant_name='Pizza Hut', restaurant_walking=7.08, restaurant_driving=18.4, PTV_name='Flinders Street Railway Station (Melbourne City)', PTV_walking=6.42, PTV_driving=61.66),\n",
       " Row(bedrooms=2, bathrooms=2, car_parks=0, url='https://www.domain.com.au/2802-63-la-trobe-street-melbourne-vic-3000-17193022\\n', name='2802/63 La Trobe Street, Melbourne VIC 3000', cost_text='$995 per week', type='Apartment / Unit / Flat', latitude='-37.8081542', longitude='144.9695394', suburb=' Melbourne VIC 3000', postcode='3000', rent_pw=995, school_name='Holmes Grammar School', school_walking=12.57, school_driving=17.05, hospital_name='Peter MacCallum Cancer Centre', hospital_walking=28.42, hospital_driving=34.4, doctors_name='Breast Imaging Victoria', doctors_walking=11.5, doctors_driving=11.5, bank_name='Bank of Sydney', bank_walking=5.47, bank_driving=13.34, restaurant_name='Shuji Sushi', restaurant_walking=2.62, restaurant_driving=8.5, PTV_name='Flinders Street Railway Station (Melbourne City)', PTV_walking=6.42, PTV_driving=61.66),\n",
       " Row(bedrooms=2, bathrooms=1, car_parks=1, url='https://www.domain.com.au/17-11-13-llaneast-street-armadale-vic-3143-17060954\\n', name='17/11 - 13 Llaneast Street, Armadale VIC 3143', cost_text='$485 per week', type='Apartment / Unit / Flat', latitude='-37.861388', longitude='145.027134', suburb=' Armadale VIC 3143', postcode='3143', rent_pw=485, school_name='Sophia Mundi Steiner School', school_walking=13.19, school_driving=144.07, hospital_name='Orthodontist', hospital_walking=19.52, hospital_driving=19.52, doctors_name='Dr Kristine Meredith', doctors_walking=0.99, doctors_driving=7.46, bank_name='Commonwealth Bank', bank_walking=4.71, bank_driving=13.81, restaurant_name='Kolonaki Athenian Street Food', restaurant_walking=3.01, restaurant_driving=9.57, PTV_name='Caulfield Railway Station (Caulfield East)', PTV_walking=15.97, PTV_driving=29.84),\n",
       " Row(bedrooms=3, bathrooms=1, car_parks=1, url='https://www.domain.com.au/55-57-hotham-street-st-kilda-east-vic-3183-17142061\\n', name='55-57 Hotham Street, St Kilda East VIC 3183', cost_text='$995 per week', type='Apartment / Unit / Flat', latitude='-37.8650459', longitude='145.0000388', suburb=' St Kilda East VIC 3183', postcode='3183', rent_pw=995, school_name='Holmes Grammar School', school_walking=12.57, school_driving=17.05, hospital_name='Orthodontist', hospital_walking=19.52, hospital_driving=19.52, doctors_name='Chapel Gate Medical Centre', doctors_walking=2.26, doctors_driving=12.66, bank_name='Commonwealth Bank', bank_walking=5.12, bank_driving=13.28, restaurant_name='Glik’s', restaurant_walking=4.66, restaurant_driving=13.54, PTV_name='Caulfield Railway Station (Caulfield East)', PTV_walking=15.97, PTV_driving=29.84)]"
      ]
     },
     "execution_count": 37,
     "metadata": {},
     "output_type": "execute_result"
    }
   ],
   "source": [
    "spark_df.tail(5)"
   ]
  },
  {
   "cell_type": "code",
   "execution_count": 38,
   "metadata": {},
   "outputs": [
    {
     "name": "stderr",
     "output_type": "stream",
     "text": [
      "24/10/04 01:48:56 WARN MemoryManager: Total allocation exceeds 95.00% (906,992,014 bytes) of heap memory\n",
      "Scaling row group sizes to 96.54% for 7 writers\n",
      "                                                                                \r"
     ]
    }
   ],
   "source": [
    "# write to raw layer\n",
    "import os\n",
    "\n",
    "output_directory = '../data/raw/domain_listing_openRouteServices'\n",
    "os.makedirs(output_directory, exist_ok=True)\n",
    "\n",
    "spark_df.write.mode('overwrite').parquet(output_directory)"
   ]
  },
  {
   "cell_type": "code",
   "execution_count": 39,
   "metadata": {},
   "outputs": [
    {
     "data": {
      "text/html": [
       "<table border='1'>\n",
       "<tr><th>bedrooms</th><th>bathrooms</th><th>car_parks</th><th>url</th><th>name</th><th>cost_text</th><th>type</th><th>latitude</th><th>longitude</th><th>suburb</th><th>postcode</th><th>rent_pw</th><th>school_name</th><th>school_walking</th><th>school_driving</th><th>hospital_name</th><th>hospital_walking</th><th>hospital_driving</th><th>doctors_name</th><th>doctors_walking</th><th>doctors_driving</th><th>bank_name</th><th>bank_walking</th><th>bank_driving</th><th>restaurant_name</th><th>restaurant_walking</th><th>restaurant_driving</th><th>PTV_name</th><th>PTV_walking</th><th>PTV_driving</th></tr>\n",
       "<tr><td>2</td><td>1</td><td>1</td><td>https://www.domai...</td><td>705/8 Marmion Pla...</td><td>$600 per week</td><td>Apartment / Unit ...</td><td>-37.8134708</td><td>144.9424794</td><td> Docklands VIC 3008</td><td>3008</td><td>600</td><td>Ozford College</td><td>9.3</td><td>9.3</td><td>Peter MacCallum C...</td><td>28.42</td><td>34.4</td><td>Victoria Harbour ...</td><td>5.01</td><td>14.84</td><td>Westpac</td><td>6.26</td><td>18.28</td><td>Achelya</td><td>7.33</td><td>13.4</td><td>North Melbourne R...</td><td>6.85</td><td>6.85</td></tr>\n",
       "<tr><td>3</td><td>2</td><td>2</td><td>https://www.domai...</td><td>5/18-20 Ibbottson...</td><td>$650 Per Week</td><td>Townhouse</td><td>-37.70987239999999</td><td>145.0844928</td><td> Watsonia VIC 3087</td><td>3087</td><td>650</td><td>The Austin School</td><td>38.22</td><td>38.22</td><td>Mercy Hospital fo...</td><td>22.44</td><td>34.99</td><td>Dynamic Health Os...</td><td>12.95</td><td>24.32</td><td>BOM</td><td>5.51</td><td>16.99</td><td>The A Team Kitchen</td><td>8.42</td><td>21.83</td><td>Broadmeadows Rail...</td><td>3.27</td><td>37.47</td></tr>\n",
       "<tr><td>3</td><td>2</td><td>1</td><td>https://www.domai...</td><td>2109/35 Malcolm S...</td><td>$1,150/week</td><td>Apartment / Unit ...</td><td>-37.8369683</td><td>144.9964622</td><td> South Yarra VIC ...</td><td>3141</td><td>1150</td><td>Holmes Grammar Sc...</td><td>12.57</td><td>17.05</td><td>Epworth Richmond ...</td><td>10.78</td><td>10.78</td><td>BB Skin Boutique</td><td>0.58</td><td>4.86</td><td>HSBC</td><td>5.14</td><td>15.74</td><td>Hunky Dory Fish &amp;...</td><td>5.34</td><td>14.4</td><td>Richmond Railway ...</td><td>1.64</td><td>45.69</td></tr>\n",
       "<tr><td>2</td><td>1</td><td>1</td><td>https://www.domai...</td><td>4/17a The Esplana...</td><td>$475.00 per week</td><td>Apartment / Unit ...</td><td>-38.1345686</td><td>144.3548803</td><td> Geelong VIC 3220</td><td>3220</td><td>475</td><td>Ozford College</td><td>9.3</td><td>9.3</td><td>Boardwalk Health ...</td><td>5.99</td><td>10.23</td><td>Dentists &amp; Doctors</td><td>11.21</td><td>11.21</td><td>Bendigo Bank</td><td>5.74</td><td>14.96</td><td>Tulip</td><td>8.92</td><td>18.15</td><td>Geelong Railway S...</td><td>1.6</td><td>29.94</td></tr>\n",
       "<tr><td>3</td><td>2</td><td>2</td><td>https://www.domai...</td><td>501/446 Malvern R...</td><td>$2200 Per Week</td><td>Apartment / Unit ...</td><td>-37.8479885</td><td>145.0012197</td><td> Prahran VIC 3181</td><td>3181</td><td>2200</td><td>Holmes Grammar Sc...</td><td>12.57</td><td>17.05</td><td>Epworth Richmond ...</td><td>10.78</td><td>10.78</td><td>High Street Medic...</td><td>8.01</td><td>14.89</td><td>ANZ</td><td>2.73</td><td>11.05</td><td>Bistro Thierry</td><td>8.43</td><td>17.89</td><td>Richmond Railway ...</td><td>1.64</td><td>45.69</td></tr>\n",
       "</table>\n"
      ],
      "text/plain": [
       "+--------+---------+---------+--------------------+--------------------+----------------+--------------------+------------------+-----------+--------------------+--------+-------+--------------------+--------------+--------------+--------------------+----------------+----------------+--------------------+---------------+---------------+------------+------------+------------+--------------------+------------------+------------------+--------------------+-----------+-----------+\n",
       "|bedrooms|bathrooms|car_parks|                 url|                name|       cost_text|                type|          latitude|  longitude|              suburb|postcode|rent_pw|         school_name|school_walking|school_driving|       hospital_name|hospital_walking|hospital_driving|        doctors_name|doctors_walking|doctors_driving|   bank_name|bank_walking|bank_driving|     restaurant_name|restaurant_walking|restaurant_driving|            PTV_name|PTV_walking|PTV_driving|\n",
       "+--------+---------+---------+--------------------+--------------------+----------------+--------------------+------------------+-----------+--------------------+--------+-------+--------------------+--------------+--------------+--------------------+----------------+----------------+--------------------+---------------+---------------+------------+------------+------------+--------------------+------------------+------------------+--------------------+-----------+-----------+\n",
       "|       2|        1|        1|https://www.domai...|705/8 Marmion Pla...|   $600 per week|Apartment / Unit ...|       -37.8134708|144.9424794|  Docklands VIC 3008|    3008|    600|      Ozford College|           9.3|           9.3|Peter MacCallum C...|           28.42|            34.4|Victoria Harbour ...|           5.01|          14.84|     Westpac|        6.26|       18.28|             Achelya|              7.33|              13.4|North Melbourne R...|       6.85|       6.85|\n",
       "|       3|        2|        2|https://www.domai...|5/18-20 Ibbottson...|   $650 Per Week|           Townhouse|-37.70987239999999|145.0844928|   Watsonia VIC 3087|    3087|    650|   The Austin School|         38.22|         38.22|Mercy Hospital fo...|           22.44|           34.99|Dynamic Health Os...|          12.95|          24.32|         BOM|        5.51|       16.99|  The A Team Kitchen|              8.42|             21.83|Broadmeadows Rail...|       3.27|      37.47|\n",
       "|       3|        2|        1|https://www.domai...|2109/35 Malcolm S...|     $1,150/week|Apartment / Unit ...|       -37.8369683|144.9964622| South Yarra VIC ...|    3141|   1150|Holmes Grammar Sc...|         12.57|         17.05|Epworth Richmond ...|           10.78|           10.78|    BB Skin Boutique|           0.58|           4.86|        HSBC|        5.14|       15.74|Hunky Dory Fish &...|              5.34|              14.4|Richmond Railway ...|       1.64|      45.69|\n",
       "|       2|        1|        1|https://www.domai...|4/17a The Esplana...|$475.00 per week|Apartment / Unit ...|       -38.1345686|144.3548803|    Geelong VIC 3220|    3220|    475|      Ozford College|           9.3|           9.3|Boardwalk Health ...|            5.99|           10.23|  Dentists & Doctors|          11.21|          11.21|Bendigo Bank|        5.74|       14.96|               Tulip|              8.92|             18.15|Geelong Railway S...|        1.6|      29.94|\n",
       "|       3|        2|        2|https://www.domai...|501/446 Malvern R...|  $2200 Per Week|Apartment / Unit ...|       -37.8479885|145.0012197|    Prahran VIC 3181|    3181|   2200|Holmes Grammar Sc...|         12.57|         17.05|Epworth Richmond ...|           10.78|           10.78|High Street Medic...|           8.01|          14.89|         ANZ|        2.73|       11.05|      Bistro Thierry|              8.43|             17.89|Richmond Railway ...|       1.64|      45.69|\n",
       "+--------+---------+---------+--------------------+--------------------+----------------+--------------------+------------------+-----------+--------------------+--------+-------+--------------------+--------------+--------------+--------------------+----------------+----------------+--------------------+---------------+---------------+------------+------------+------------+--------------------+------------------+------------------+--------------------+-----------+-----------+"
      ]
     },
     "execution_count": 39,
     "metadata": {},
     "output_type": "execute_result"
    }
   ],
   "source": [
    "spark_df.limit(5)"
   ]
  },
  {
   "cell_type": "code",
   "execution_count": 40,
   "metadata": {},
   "outputs": [
    {
     "data": {
      "text/html": [
       "<div>\n",
       "<style scoped>\n",
       "    .dataframe tbody tr th:only-of-type {\n",
       "        vertical-align: middle;\n",
       "    }\n",
       "\n",
       "    .dataframe tbody tr th {\n",
       "        vertical-align: top;\n",
       "    }\n",
       "\n",
       "    .dataframe thead th {\n",
       "        text-align: right;\n",
       "    }\n",
       "</style>\n",
       "<table border=\"1\" class=\"dataframe\">\n",
       "  <thead>\n",
       "    <tr style=\"text-align: right;\">\n",
       "      <th></th>\n",
       "      <th>Unnamed: 0</th>\n",
       "      <th>x</th>\n",
       "      <th>y</th>\n",
       "      <th>school_name</th>\n",
       "      <th>number_vce_subjects</th>\n",
       "      <th>satisfactory_complete_vce_percent</th>\n",
       "      <th>median_study_score</th>\n",
       "      <th>study_score_over_40_percent</th>\n",
       "      <th>percentage_applying_to_victorian_uni</th>\n",
       "    </tr>\n",
       "  </thead>\n",
       "  <tbody>\n",
       "    <tr>\n",
       "      <th>0</th>\n",
       "      <td>0</td>\n",
       "      <td>146.96093</td>\n",
       "      <td>-36.73310</td>\n",
       "      <td>bright p college</td>\n",
       "      <td>30.0</td>\n",
       "      <td>95.00000</td>\n",
       "      <td>29.000000</td>\n",
       "      <td>4.800000</td>\n",
       "      <td>20.000000</td>\n",
       "    </tr>\n",
       "    <tr>\n",
       "      <th>1</th>\n",
       "      <td>1</td>\n",
       "      <td>144.16067</td>\n",
       "      <td>-38.04200</td>\n",
       "      <td>bannockburn p college</td>\n",
       "      <td>33.0</td>\n",
       "      <td>92.00000</td>\n",
       "      <td>24.000000</td>\n",
       "      <td>0.900000</td>\n",
       "      <td>42.000000</td>\n",
       "    </tr>\n",
       "    <tr>\n",
       "      <th>2</th>\n",
       "      <td>2</td>\n",
       "      <td>144.11368</td>\n",
       "      <td>-36.04736</td>\n",
       "      <td>pyramid hill college</td>\n",
       "      <td>3.0</td>\n",
       "      <td>95.62892</td>\n",
       "      <td>28.756957</td>\n",
       "      <td>7.186515</td>\n",
       "      <td>67.054348</td>\n",
       "    </tr>\n",
       "    <tr>\n",
       "      <th>3</th>\n",
       "      <td>3</td>\n",
       "      <td>149.75430</td>\n",
       "      <td>-37.55943</td>\n",
       "      <td>mallacoota p college</td>\n",
       "      <td>7.0</td>\n",
       "      <td>100.00000</td>\n",
       "      <td>34.000000</td>\n",
       "      <td>16.700000</td>\n",
       "      <td>50.000000</td>\n",
       "    </tr>\n",
       "    <tr>\n",
       "      <th>4</th>\n",
       "      <td>4</td>\n",
       "      <td>149.15302</td>\n",
       "      <td>-37.56970</td>\n",
       "      <td>cann river p college</td>\n",
       "      <td>8.0</td>\n",
       "      <td>100.00000</td>\n",
       "      <td>24.000000</td>\n",
       "      <td>7.186515</td>\n",
       "      <td>67.000000</td>\n",
       "    </tr>\n",
       "  </tbody>\n",
       "</table>\n",
       "</div>"
      ],
      "text/plain": [
       "   Unnamed: 0          x         y            school_name  \\\n",
       "0           0  146.96093 -36.73310       bright p college   \n",
       "1           1  144.16067 -38.04200  bannockburn p college   \n",
       "2           2  144.11368 -36.04736   pyramid hill college   \n",
       "3           3  149.75430 -37.55943   mallacoota p college   \n",
       "4           4  149.15302 -37.56970   cann river p college   \n",
       "\n",
       "   number_vce_subjects  satisfactory_complete_vce_percent  median_study_score  \\\n",
       "0                 30.0                           95.00000           29.000000   \n",
       "1                 33.0                           92.00000           24.000000   \n",
       "2                  3.0                           95.62892           28.756957   \n",
       "3                  7.0                          100.00000           34.000000   \n",
       "4                  8.0                          100.00000           24.000000   \n",
       "\n",
       "   study_score_over_40_percent  percentage_applying_to_victorian_uni  \n",
       "0                     4.800000                             20.000000  \n",
       "1                     0.900000                             42.000000  \n",
       "2                     7.186515                             67.054348  \n",
       "3                    16.700000                             50.000000  \n",
       "4                     7.186515                             67.000000  "
      ]
     },
     "execution_count": 40,
     "metadata": {},
     "output_type": "execute_result"
    }
   ],
   "source": [
    "school = pd.read_csv(\"../data/raw/schools.csv\")\n",
    "school.head(5)"
   ]
  },
  {
   "cell_type": "code",
   "execution_count": null,
   "metadata": {},
   "outputs": [],
   "source": []
  }
 ],
 "metadata": {
  "kernelspec": {
   "display_name": "Python 3",
   "language": "python",
   "name": "python3"
  },
  "language_info": {
   "codemirror_mode": {
    "name": "ipython",
    "version": 3
   },
   "file_extension": ".py",
   "mimetype": "text/x-python",
   "name": "python",
   "nbconvert_exporter": "python",
   "pygments_lexer": "ipython3",
   "version": "3.10.12"
  }
 },
 "nbformat": 4,
 "nbformat_minor": 2
}
