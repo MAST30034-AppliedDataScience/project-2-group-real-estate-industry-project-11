{
 "cells": [
  {
   "cell_type": "code",
   "execution_count": 1,
   "metadata": {},
   "outputs": [
    {
     "name": "stderr",
     "output_type": "stream",
     "text": [
      "your 131072x1 screen size is bogus. expect trouble\n",
      "24/10/07 07:24:13 WARN Utils: Your hostname, DESKTOP-VD1EQUL resolves to a loopback address: 127.0.1.1; using 10.255.255.254 instead (on interface lo)\n",
      "24/10/07 07:24:13 WARN Utils: Set SPARK_LOCAL_IP if you need to bind to another address\n",
      "Setting default log level to \"WARN\".\n",
      "To adjust logging level use sc.setLogLevel(newLevel). For SparkR, use setLogLevel(newLevel).\n",
      "24/10/07 07:24:14 WARN NativeCodeLoader: Unable to load native-hadoop library for your platform... using builtin-java classes where applicable\n",
      "24/10/07 07:24:14 WARN Utils: Service 'sparkDriver' could not bind on port 6066. Attempting port 6067.\n",
      "24/10/07 07:24:15 WARN Utils: Service 'SparkUI' could not bind on port 4040. Attempting port 4041.\n"
     ]
    }
   ],
   "source": [
    "from pyspark.sql import SparkSession, functions as F\n",
    "from pyspark.sql.types import StructType, StructField, StringType, IntegerType, FloatType\n",
    "import json\n",
    "import re\n",
    "import pandas as pd\n",
    "import numpy as np\n",
    "import requests\n",
    "from pyspark.sql.functions import lower\n",
    "from pyspark.sql.functions import col\n",
    "\n",
    "\n",
    "# Create a spark session (which will run spark jobs)\n",
    "spark = (\n",
    "    SparkSession.builder.appName(\"MAST30034 Domain EDA\")\n",
    "    .config(\"spark.sql.repl.eagerEval.enabled\", True)\n",
    "    .config(\"spark.sql.parquet.cacheMetadata\", \"true\")\n",
    "    .config(\"spark.sql.session.timeZone\", \"Etc/UTC\")\n",
    "    .config(\"spark.driver.port\", \"6066\")\n",
    "    .getOrCreate()\n",
    ")"
   ]
  },
  {
   "cell_type": "code",
   "execution_count": 2,
   "metadata": {},
   "outputs": [
    {
     "name": "stderr",
     "output_type": "stream",
     "text": [
      "                                                                                \r"
     ]
    }
   ],
   "source": [
    "domain_open_route = spark.read.parquet(\"../../data/raw/domain_listing_openRouteServices\")\n",
    "school_data = spark.read.csv(\"../../data/raw/schools.csv\", header=True)\n",
    "domain_cost_per_week = spark.read.parquet(\"../../data/raw/domain_cost_per_week\")"
   ]
  },
  {
   "cell_type": "code",
   "execution_count": 3,
   "metadata": {},
   "outputs": [],
   "source": [
    "VIC_amenities = spark.read.parquet(\"../../data/raw/VIC_amenities\")"
   ]
  },
  {
   "cell_type": "markdown",
   "metadata": {},
   "source": [
    "**Domain with Open Route Services**"
   ]
  },
  {
   "cell_type": "code",
   "execution_count": 4,
   "metadata": {},
   "outputs": [
    {
     "name": "stderr",
     "output_type": "stream",
     "text": [
      "24/10/07 07:24:24 WARN SparkStringUtils: Truncated the string representation of a plan since it was too large. This behavior can be adjusted by setting 'spark.sql.debug.maxToStringFields'.\n"
     ]
    },
    {
     "data": {
      "text/html": [
       "<table border='1'>\n",
       "<tr><th>bedrooms</th><th>bathrooms</th><th>car_parks</th><th>url</th><th>name</th><th>cost_text</th><th>type</th><th>latitude</th><th>longitude</th><th>suburb</th><th>postcode</th><th>rent_pw</th><th>school_name</th><th>school_walking</th><th>school_driving</th><th>hospital_name</th><th>hospital_walking</th><th>hospital_driving</th><th>doctors_name</th><th>doctors_walking</th><th>doctors_driving</th><th>bank_name</th><th>bank_walking</th><th>bank_driving</th><th>restaurant_name</th><th>restaurant_walking</th><th>restaurant_driving</th><th>PTV_name</th><th>PTV_walking</th><th>PTV_driving</th></tr>\n",
       "<tr><td>2</td><td>1</td><td>1</td><td>https://www.domai...</td><td>1/4 Hayley court,...</td><td>$460</td><td>Townhouse</td><td>-37.664825</td><td>145.040977</td><td> Mill Park VIC 3082</td><td>3082</td><td>460</td><td>The Austin School</td><td>38.22</td><td>38.22</td><td>Mercy Hospital fo...</td><td>22.44</td><td>34.99</td><td>Northend Medical ...</td><td>22.85</td><td>32.0</td><td>Westpac</td><td>24.19</td><td>24.19</td><td>Amalfi Pizza &amp; Pasta</td><td>4.06</td><td>16.48</td><td>Broadmeadows Rail...</td><td>3.27</td><td>37.47</td></tr>\n",
       "</table>\n"
      ],
      "text/plain": [
       "+--------+---------+---------+--------------------+--------------------+---------+---------+----------+----------+-------------------+--------+-------+-----------------+--------------+--------------+--------------------+----------------+----------------+--------------------+---------------+---------------+---------+------------+------------+--------------------+------------------+------------------+--------------------+-----------+-----------+\n",
       "|bedrooms|bathrooms|car_parks|                 url|                name|cost_text|     type|  latitude| longitude|             suburb|postcode|rent_pw|      school_name|school_walking|school_driving|       hospital_name|hospital_walking|hospital_driving|        doctors_name|doctors_walking|doctors_driving|bank_name|bank_walking|bank_driving|     restaurant_name|restaurant_walking|restaurant_driving|            PTV_name|PTV_walking|PTV_driving|\n",
       "+--------+---------+---------+--------------------+--------------------+---------+---------+----------+----------+-------------------+--------+-------+-----------------+--------------+--------------+--------------------+----------------+----------------+--------------------+---------------+---------------+---------+------------+------------+--------------------+------------------+------------------+--------------------+-----------+-----------+\n",
       "|       2|        1|        1|https://www.domai...|1/4 Hayley court,...|     $460|Townhouse|-37.664825|145.040977| Mill Park VIC 3082|    3082|    460|The Austin School|         38.22|         38.22|Mercy Hospital fo...|           22.44|           34.99|Northend Medical ...|          22.85|           32.0|  Westpac|       24.19|       24.19|Amalfi Pizza & Pasta|              4.06|             16.48|Broadmeadows Rail...|       3.27|      37.47|\n",
       "+--------+---------+---------+--------------------+--------------------+---------+---------+----------+----------+-------------------+--------+-------+-----------------+--------------+--------------+--------------------+----------------+----------------+--------------------+---------------+---------------+---------+------------+------------+--------------------+------------------+------------------+--------------------+-----------+-----------+"
      ]
     },
     "execution_count": 4,
     "metadata": {},
     "output_type": "execute_result"
    }
   ],
   "source": [
    "domain_open_route.limit(1)"
   ]
  },
  {
   "cell_type": "code",
   "execution_count": 5,
   "metadata": {},
   "outputs": [
    {
     "data": {
      "text/plain": [
       "13328"
      ]
     },
     "execution_count": 5,
     "metadata": {},
     "output_type": "execute_result"
    }
   ],
   "source": [
    "domain_open_route.count()"
   ]
  },
  {
   "cell_type": "code",
   "execution_count": 6,
   "metadata": {},
   "outputs": [
    {
     "name": "stderr",
     "output_type": "stream",
     "text": [
      "                                                                                \r"
     ]
    },
    {
     "data": {
      "text/html": [
       "<table border='1'>\n",
       "<tr><th>url</th><th>name</th><th>bedrooms</th><th>bathrooms</th><th>car_parks</th><th>cost_text</th><th>type</th><th>latitude</th><th>longitude</th><th>suburb</th><th>postcode</th><th>rent_pw</th><th>school_name</th><th>school_walking</th><th>school_driving</th><th>hospital_name</th><th>hospital_walking</th><th>hospital_driving</th><th>doctors_name</th><th>doctors_walking</th><th>doctors_driving</th><th>bank_name</th><th>bank_walking</th><th>bank_driving</th><th>restaurant_name</th><th>restaurant_walking</th><th>restaurant_driving</th><th>PTV_name</th><th>PTV_walking</th><th>PTV_driving</th></tr>\n",
       "<tr><td>https://www.domai...</td><td>101/50 Victoria S...</td><td>2</td><td>1</td><td>1</td><td>$600 weekly</td><td>Apartment / Unit ...</td><td>-37.7690778</td><td>144.9792236</td><td> Brunswick East V...</td><td>3057</td><td>600</td><td>Sydney Road Commu...</td><td>13.43</td><td>13.43</td><td>Unknown</td><td>17.6</td><td>17.6</td><td>East Brunswick Me...</td><td>13.15</td><td>18.73</td><td>Commonwealth Bank</td><td>8.59</td><td>17.85</td><td>Rumi</td><td>16.26</td><td>16.26</td><td>North Melbourne R...</td><td>6.85</td><td>6.85</td></tr>\n",
       "<tr><td>https://www.domai...</td><td>101/50 Victoria S...</td><td>2</td><td>1</td><td>1</td><td>$600 weekly</td><td>Apartment / Unit ...</td><td>-37.7690778</td><td>144.9792236</td><td> Brunswick East V...</td><td>3057</td><td>600</td><td>Sydney Road Commu...</td><td>13.43</td><td>13.43</td><td>Unknown</td><td>17.6</td><td>17.6</td><td>East Brunswick Me...</td><td>13.15</td><td>18.73</td><td>Commonwealth Bank</td><td>8.59</td><td>17.85</td><td>Rumi</td><td>16.26</td><td>16.26</td><td>North Melbourne R...</td><td>6.85</td><td>6.85</td></tr>\n",
       "<tr><td>https://www.domai...</td><td>3/25 Lansdowne Ro...</td><td>3</td><td>1</td><td>1</td><td>$675</td><td>Apartment / Unit ...</td><td>-37.86387000000001</td><td>145.0065834</td><td> St Kilda East VI...</td><td>3183</td><td>675</td><td>Holmes Grammar Sc...</td><td>12.57</td><td>17.05</td><td>Orthodontist</td><td>19.52</td><td>19.52</td><td>Chapel Gate Medic...</td><td>2.26</td><td>12.66</td><td>Commonwealth Bank</td><td>5.12</td><td>13.28</td><td>Ecoblu</td><td>4.25</td><td>13.4</td><td>Caulfield Railway...</td><td>15.97</td><td>29.84</td></tr>\n",
       "</table>\n"
      ],
      "text/plain": [
       "+--------------------+--------------------+--------+---------+---------+-----------+--------------------+------------------+-----------+--------------------+--------+-------+--------------------+--------------+--------------+-------------+----------------+----------------+--------------------+---------------+---------------+-----------------+------------+------------+---------------+------------------+------------------+--------------------+-----------+-----------+\n",
       "|                 url|                name|bedrooms|bathrooms|car_parks|  cost_text|                type|          latitude|  longitude|              suburb|postcode|rent_pw|         school_name|school_walking|school_driving|hospital_name|hospital_walking|hospital_driving|        doctors_name|doctors_walking|doctors_driving|        bank_name|bank_walking|bank_driving|restaurant_name|restaurant_walking|restaurant_driving|            PTV_name|PTV_walking|PTV_driving|\n",
       "+--------------------+--------------------+--------+---------+---------+-----------+--------------------+------------------+-----------+--------------------+--------+-------+--------------------+--------------+--------------+-------------+----------------+----------------+--------------------+---------------+---------------+-----------------+------------+------------+---------------+------------------+------------------+--------------------+-----------+-----------+\n",
       "|https://www.domai...|101/50 Victoria S...|       2|        1|        1|$600 weekly|Apartment / Unit ...|       -37.7690778|144.9792236| Brunswick East V...|    3057|    600|Sydney Road Commu...|         13.43|         13.43|      Unknown|            17.6|            17.6|East Brunswick Me...|          13.15|          18.73|Commonwealth Bank|        8.59|       17.85|           Rumi|             16.26|             16.26|North Melbourne R...|       6.85|       6.85|\n",
       "|https://www.domai...|101/50 Victoria S...|       2|        1|        1|$600 weekly|Apartment / Unit ...|       -37.7690778|144.9792236| Brunswick East V...|    3057|    600|Sydney Road Commu...|         13.43|         13.43|      Unknown|            17.6|            17.6|East Brunswick Me...|          13.15|          18.73|Commonwealth Bank|        8.59|       17.85|           Rumi|             16.26|             16.26|North Melbourne R...|       6.85|       6.85|\n",
       "|https://www.domai...|3/25 Lansdowne Ro...|       3|        1|        1|       $675|Apartment / Unit ...|-37.86387000000001|145.0065834| St Kilda East VI...|    3183|    675|Holmes Grammar Sc...|         12.57|         17.05| Orthodontist|           19.52|           19.52|Chapel Gate Medic...|           2.26|          12.66|Commonwealth Bank|        5.12|       13.28|         Ecoblu|              4.25|              13.4|Caulfield Railway...|      15.97|      29.84|\n",
       "+--------------------+--------------------+--------+---------+---------+-----------+--------------------+------------------+-----------+--------------------+--------+-------+--------------------+--------------+--------------+-------------+----------------+----------------+--------------------+---------------+---------------+-----------------+------------+------------+---------------+------------------+------------------+--------------------+-----------+-----------+"
      ]
     },
     "execution_count": 6,
     "metadata": {},
     "output_type": "execute_result"
    }
   ],
   "source": [
    "\n",
    "# Step 1: Find duplicate keys\n",
    "duplicates_df = domain_open_route.groupBy(\"url\", \"name\") \\\n",
    "    .agg(F.count(\"*\").alias(\"count\")) \\\n",
    "    .filter(F.col(\"count\") > 1)\n",
    "\n",
    "# Step 2: Filter the original DataFrame to get all rows with duplicate keys\n",
    "duplicate_keys = duplicates_df.select(\"url\", \"name\")\n",
    "\n",
    "# Join to get full rows of duplicates\n",
    "duplicate_records_df = domain_open_route.join(duplicate_keys, on=[\"url\", \"name\"], how=\"inner\")\n",
    "\n",
    "# Show all duplicate records\n",
    "duplicate_records_df.limit(3)"
   ]
  },
  {
   "cell_type": "code",
   "execution_count": 7,
   "metadata": {},
   "outputs": [],
   "source": [
    "domain_open_route = domain_open_route.dropDuplicates()"
   ]
  },
  {
   "cell_type": "code",
   "execution_count": 8,
   "metadata": {},
   "outputs": [
    {
     "name": "stderr",
     "output_type": "stream",
     "text": [
      "                                                                                \r"
     ]
    },
    {
     "data": {
      "text/plain": [
       "9308"
      ]
     },
     "execution_count": 8,
     "metadata": {},
     "output_type": "execute_result"
    }
   ],
   "source": [
    "domain_open_route.count()"
   ]
  },
  {
   "cell_type": "markdown",
   "metadata": {},
   "source": [
    "**Domain with Cost Per Week Modification**"
   ]
  },
  {
   "cell_type": "code",
   "execution_count": 9,
   "metadata": {},
   "outputs": [
    {
     "data": {
      "text/html": [
       "<table border='1'>\n",
       "<tr><th>bedrooms</th><th>bathrooms</th><th>car_parks</th><th>url</th><th>name</th><th>cost_text</th><th>type</th><th>latitude</th><th>longitude</th><th>suburb</th><th>postcode</th><th>rent_pw</th><th>school_name</th><th>school_walking</th><th>school_driving</th><th>hospital_name</th><th>hospital_walking</th><th>hospital_driving</th><th>doctors_name</th><th>doctors_walking</th><th>doctors_driving</th><th>bank_name</th><th>bank_walking</th><th>bank_driving</th><th>restaurant_name</th><th>restaurant_walking</th><th>restaurant_driving</th><th>PTV_name</th><th>PTV_walking</th><th>PTV_driving</th><th>rate_type</th><th>cost_per_week</th></tr>\n",
       "<tr><td>3</td><td>2</td><td>0</td><td>https://www.domai...</td><td>38 Airlie Avenue,...</td><td>$895 per week</td><td>House</td><td>-37.8563278</td><td>145.0077722</td><td> Prahran VIC 3181</td><td>3181</td><td>895</td><td>Sophia Mundi Stei...</td><td>13.19</td><td>144.07</td><td>Orthodontist</td><td>19.52</td><td>19.52</td><td>Chapel Gate Medic...</td><td>2.26</td><td>12.66</td><td>Commonwealth Bank</td><td>4.71</td><td>13.81</td><td>La Poele - modern...</td><td>1.28</td><td>10.12</td><td>Caulfield Railway...</td><td>15.97</td><td>29.84</td><td>weekly</td><td>895.0</td></tr>\n",
       "</table>\n"
      ],
      "text/plain": [
       "+--------+---------+---------+--------------------+--------------------+-------------+-----+-----------+-----------+-----------------+--------+-------+--------------------+--------------+--------------+-------------+----------------+----------------+--------------------+---------------+---------------+-----------------+------------+------------+--------------------+------------------+------------------+--------------------+-----------+-----------+---------+-------------+\n",
       "|bedrooms|bathrooms|car_parks|                 url|                name|    cost_text| type|   latitude|  longitude|           suburb|postcode|rent_pw|         school_name|school_walking|school_driving|hospital_name|hospital_walking|hospital_driving|        doctors_name|doctors_walking|doctors_driving|        bank_name|bank_walking|bank_driving|     restaurant_name|restaurant_walking|restaurant_driving|            PTV_name|PTV_walking|PTV_driving|rate_type|cost_per_week|\n",
       "+--------+---------+---------+--------------------+--------------------+-------------+-----+-----------+-----------+-----------------+--------+-------+--------------------+--------------+--------------+-------------+----------------+----------------+--------------------+---------------+---------------+-----------------+------------+------------+--------------------+------------------+------------------+--------------------+-----------+-----------+---------+-------------+\n",
       "|       3|        2|        0|https://www.domai...|38 Airlie Avenue,...|$895 per week|House|-37.8563278|145.0077722| Prahran VIC 3181|    3181|    895|Sophia Mundi Stei...|         13.19|        144.07| Orthodontist|           19.52|           19.52|Chapel Gate Medic...|           2.26|          12.66|Commonwealth Bank|        4.71|       13.81|La Poele - modern...|              1.28|             10.12|Caulfield Railway...|      15.97|      29.84|   weekly|        895.0|\n",
       "+--------+---------+---------+--------------------+--------------------+-------------+-----+-----------+-----------+-----------------+--------+-------+--------------------+--------------+--------------+-------------+----------------+----------------+--------------------+---------------+---------------+-----------------+------------+------------+--------------------+------------------+------------------+--------------------+-----------+-----------+---------+-------------+"
      ]
     },
     "execution_count": 9,
     "metadata": {},
     "output_type": "execute_result"
    }
   ],
   "source": [
    "domain_cost_per_week.limit(1)"
   ]
  },
  {
   "cell_type": "code",
   "execution_count": 10,
   "metadata": {},
   "outputs": [
    {
     "data": {
      "text/plain": [
       "13328"
      ]
     },
     "execution_count": 10,
     "metadata": {},
     "output_type": "execute_result"
    }
   ],
   "source": [
    "domain_cost_per_week.count()"
   ]
  },
  {
   "cell_type": "code",
   "execution_count": 11,
   "metadata": {},
   "outputs": [
    {
     "data": {
      "text/html": [
       "<table border='1'>\n",
       "<tr><th>url</th><th>name</th><th>bedrooms</th><th>bathrooms</th><th>car_parks</th><th>cost_text</th><th>type</th><th>latitude</th><th>longitude</th><th>suburb</th><th>postcode</th><th>rent_pw</th><th>school_name</th><th>school_walking</th><th>school_driving</th><th>hospital_name</th><th>hospital_walking</th><th>hospital_driving</th><th>doctors_name</th><th>doctors_walking</th><th>doctors_driving</th><th>bank_name</th><th>bank_walking</th><th>bank_driving</th><th>restaurant_name</th><th>restaurant_walking</th><th>restaurant_driving</th><th>PTV_name</th><th>PTV_walking</th><th>PTV_driving</th><th>rate_type</th><th>cost_per_week</th></tr>\n",
       "<tr><td>https://www.domai...</td><td>2/43 McNulty Driv...</td><td>3</td><td>2</td><td>2</td><td>$550</td><td>House</td><td>-38.2068047</td><td>146.5115895</td><td> Traralgon VIC 3844</td><td>3844</td><td>550</td><td>Kurnai College Un...</td><td>27.97</td><td>27.97</td><td>Heyfield Hospital</td><td>50.98</td><td>50.98</td><td>Breed Street Clinic</td><td>22.68</td><td>22.85</td><td>Bank of Australia</td><td>19.35</td><td>19.35</td><td>Unknown</td><td>40.9</td><td>40.9</td><td>Traralgon Railway...</td><td>15.47</td><td>20.03</td><td>weekly</td><td>550.0</td></tr>\n",
       "<tr><td>https://www.domai...</td><td>2/43 McNulty Driv...</td><td>3</td><td>2</td><td>2</td><td>$550</td><td>House</td><td>-38.2068047</td><td>146.5115895</td><td> Traralgon VIC 3844</td><td>3844</td><td>550</td><td>Kurnai College Un...</td><td>27.97</td><td>27.97</td><td>Heyfield Hospital</td><td>50.98</td><td>50.98</td><td>Breed Street Clinic</td><td>22.68</td><td>22.85</td><td>Bank of Australia</td><td>19.35</td><td>19.35</td><td>Unknown</td><td>40.9</td><td>40.9</td><td>Traralgon Railway...</td><td>15.47</td><td>20.03</td><td>weekly</td><td>550.0</td></tr>\n",
       "<tr><td>https://www.domai...</td><td>2/43 McNulty Driv...</td><td>3</td><td>2</td><td>2</td><td>$550</td><td>House</td><td>-38.2068047</td><td>146.5115895</td><td> Traralgon VIC 3844</td><td>3844</td><td>550</td><td>Kurnai College Un...</td><td>27.97</td><td>27.97</td><td>Heyfield Hospital</td><td>50.98</td><td>50.98</td><td>Breed Street Clinic</td><td>22.68</td><td>22.85</td><td>Bank of Australia</td><td>19.35</td><td>19.35</td><td>Unknown</td><td>40.9</td><td>40.9</td><td>Traralgon Railway...</td><td>15.47</td><td>20.03</td><td>weekly</td><td>550.0</td></tr>\n",
       "</table>\n"
      ],
      "text/plain": [
       "+--------------------+--------------------+--------+---------+---------+---------+-----+-----------+-----------+-------------------+--------+-------+--------------------+--------------+--------------+-----------------+----------------+----------------+-------------------+---------------+---------------+-----------------+------------+------------+---------------+------------------+------------------+--------------------+-----------+-----------+---------+-------------+\n",
       "|                 url|                name|bedrooms|bathrooms|car_parks|cost_text| type|   latitude|  longitude|             suburb|postcode|rent_pw|         school_name|school_walking|school_driving|    hospital_name|hospital_walking|hospital_driving|       doctors_name|doctors_walking|doctors_driving|        bank_name|bank_walking|bank_driving|restaurant_name|restaurant_walking|restaurant_driving|            PTV_name|PTV_walking|PTV_driving|rate_type|cost_per_week|\n",
       "+--------------------+--------------------+--------+---------+---------+---------+-----+-----------+-----------+-------------------+--------+-------+--------------------+--------------+--------------+-----------------+----------------+----------------+-------------------+---------------+---------------+-----------------+------------+------------+---------------+------------------+------------------+--------------------+-----------+-----------+---------+-------------+\n",
       "|https://www.domai...|2/43 McNulty Driv...|       3|        2|        2|     $550|House|-38.2068047|146.5115895| Traralgon VIC 3844|    3844|    550|Kurnai College Un...|         27.97|         27.97|Heyfield Hospital|           50.98|           50.98|Breed Street Clinic|          22.68|          22.85|Bank of Australia|       19.35|       19.35|        Unknown|              40.9|              40.9|Traralgon Railway...|      15.47|      20.03|   weekly|        550.0|\n",
       "|https://www.domai...|2/43 McNulty Driv...|       3|        2|        2|     $550|House|-38.2068047|146.5115895| Traralgon VIC 3844|    3844|    550|Kurnai College Un...|         27.97|         27.97|Heyfield Hospital|           50.98|           50.98|Breed Street Clinic|          22.68|          22.85|Bank of Australia|       19.35|       19.35|        Unknown|              40.9|              40.9|Traralgon Railway...|      15.47|      20.03|   weekly|        550.0|\n",
       "|https://www.domai...|2/43 McNulty Driv...|       3|        2|        2|     $550|House|-38.2068047|146.5115895| Traralgon VIC 3844|    3844|    550|Kurnai College Un...|         27.97|         27.97|Heyfield Hospital|           50.98|           50.98|Breed Street Clinic|          22.68|          22.85|Bank of Australia|       19.35|       19.35|        Unknown|              40.9|              40.9|Traralgon Railway...|      15.47|      20.03|   weekly|        550.0|\n",
       "+--------------------+--------------------+--------+---------+---------+---------+-----+-----------+-----------+-------------------+--------+-------+--------------------+--------------+--------------+-----------------+----------------+----------------+-------------------+---------------+---------------+-----------------+------------+------------+---------------+------------------+------------------+--------------------+-----------+-----------+---------+-------------+"
      ]
     },
     "execution_count": 11,
     "metadata": {},
     "output_type": "execute_result"
    }
   ],
   "source": [
    "# Step 1: Find duplicate keys\n",
    "duplicates_df = domain_cost_per_week.groupBy(\"url\", \"name\") \\\n",
    "    .agg(F.count(\"*\").alias(\"count\")) \\\n",
    "    .filter(F.col(\"count\") > 1)\n",
    "\n",
    "# Step 2: Filter the original DataFrame to get all rows with duplicate keys\n",
    "duplicate_keys = duplicates_df.select(\"url\", \"name\")\n",
    "\n",
    "# Join to get full rows of duplicates\n",
    "duplicate_records_df = domain_cost_per_week.join(duplicate_keys, on=[\"url\", \"name\"], how=\"inner\")\n",
    "\n",
    "# Show all duplicate records\n",
    "duplicate_records_df.limit(3)"
   ]
  },
  {
   "cell_type": "code",
   "execution_count": 12,
   "metadata": {},
   "outputs": [],
   "source": [
    "domain_cost_per_week = domain_cost_per_week.dropDuplicates()"
   ]
  },
  {
   "cell_type": "code",
   "execution_count": 13,
   "metadata": {},
   "outputs": [
    {
     "data": {
      "text/plain": [
       "9308"
      ]
     },
     "execution_count": 13,
     "metadata": {},
     "output_type": "execute_result"
    }
   ],
   "source": [
    "domain_cost_per_week.count()"
   ]
  },
  {
   "cell_type": "markdown",
   "metadata": {},
   "source": [
    "**To deal with messed up rows due to pyspark saving**"
   ]
  },
  {
   "cell_type": "code",
   "execution_count": 14,
   "metadata": {},
   "outputs": [],
   "source": [
    "domain_cost_per_week = domain_cost_per_week.drop(\"car_parks\", \"cost_text\",\n",
    "                                                 \"suburb\", \"postcode\", \"rent_pw\",\n",
    "                                                 \"school_name\", \"school_walking\",\n",
    "                                                 \"school_driving\", \"hospital_name\",\n",
    "                                                 \"hospital_walking\", \"hospital_driving\",\n",
    "                                                 \"doctors_name\", \"doctors_walking\", \n",
    "                                                 \"doctors_driving\", \"bank_name\",\n",
    "                                                 \"bank_walking\", \"bank_driving\",\n",
    "                                                 \"restaurant_name\", \"restaurant_walking\",\n",
    "                                                 \"restaurant_driving\", \"PTV_name\",\n",
    "                                                 \"PTV_walking\", \"PTV_driving\")"
   ]
  },
  {
   "cell_type": "code",
   "execution_count": 15,
   "metadata": {},
   "outputs": [
    {
     "name": "stderr",
     "output_type": "stream",
     "text": [
      "                                                                                \r"
     ]
    },
    {
     "data": {
      "text/html": [
       "<table border='1'>\n",
       "<tr><th>url</th><th>name</th><th>latitude</th><th>longitude</th><th>bedrooms</th><th>bathrooms</th><th>type</th><th>car_parks</th><th>cost_text</th><th>suburb</th><th>postcode</th><th>rent_pw</th><th>school_name</th><th>school_walking</th><th>school_driving</th><th>hospital_name</th><th>hospital_walking</th><th>hospital_driving</th><th>doctors_name</th><th>doctors_walking</th><th>doctors_driving</th><th>bank_name</th><th>bank_walking</th><th>bank_driving</th><th>restaurant_name</th><th>restaurant_walking</th><th>restaurant_driving</th><th>PTV_name</th><th>PTV_walking</th><th>PTV_driving</th><th>rate_type</th><th>cost_per_week</th></tr>\n",
       "<tr><td>https://www.domai...</td><td>5/254-256 Dandeno...</td><td>-37.8593356</td><td>145.0009763</td><td>1</td><td>1</td><td>Apartment / Unit ...</td><td>1</td><td>$410 per week</td><td> St Kilda East VI...</td><td>3183</td><td>410</td><td>Holmes Grammar Sc...</td><td>12.57</td><td>17.05</td><td>Orthodontist</td><td>19.52</td><td>19.52</td><td>Chapel Gate Medic...</td><td>2.26</td><td>12.66</td><td>Commonwealth Bank</td><td>5.12</td><td>13.28</td><td>La Poele - modern...</td><td>1.28</td><td>10.12</td><td>Richmond Railway ...</td><td>1.64</td><td>45.69</td><td>weekly</td><td>410.0</td></tr>\n",
       "</table>\n"
      ],
      "text/plain": [
       "+--------------------+--------------------+-----------+-----------+--------+---------+--------------------+---------+-------------+--------------------+--------+-------+--------------------+--------------+--------------+-------------+----------------+----------------+--------------------+---------------+---------------+-----------------+------------+------------+--------------------+------------------+------------------+--------------------+-----------+-----------+---------+-------------+\n",
       "|                 url|                name|   latitude|  longitude|bedrooms|bathrooms|                type|car_parks|    cost_text|              suburb|postcode|rent_pw|         school_name|school_walking|school_driving|hospital_name|hospital_walking|hospital_driving|        doctors_name|doctors_walking|doctors_driving|        bank_name|bank_walking|bank_driving|     restaurant_name|restaurant_walking|restaurant_driving|            PTV_name|PTV_walking|PTV_driving|rate_type|cost_per_week|\n",
       "+--------------------+--------------------+-----------+-----------+--------+---------+--------------------+---------+-------------+--------------------+--------+-------+--------------------+--------------+--------------+-------------+----------------+----------------+--------------------+---------------+---------------+-----------------+------------+------------+--------------------+------------------+------------------+--------------------+-----------+-----------+---------+-------------+\n",
       "|https://www.domai...|5/254-256 Dandeno...|-37.8593356|145.0009763|       1|        1|Apartment / Unit ...|        1|$410 per week| St Kilda East VI...|    3183|    410|Holmes Grammar Sc...|         12.57|         17.05| Orthodontist|           19.52|           19.52|Chapel Gate Medic...|           2.26|          12.66|Commonwealth Bank|        5.12|       13.28|La Poele - modern...|              1.28|             10.12|Richmond Railway ...|       1.64|      45.69|   weekly|        410.0|\n",
       "+--------------------+--------------------+-----------+-----------+--------+---------+--------------------+---------+-------------+--------------------+--------+-------+--------------------+--------------+--------------+-------------+----------------+----------------+--------------------+---------------+---------------+-----------------+------------+------------+--------------------+------------------+------------------+--------------------+-----------+-----------+---------+-------------+"
      ]
     },
     "execution_count": 15,
     "metadata": {},
     "output_type": "execute_result"
    }
   ],
   "source": [
    "domain_joined = domain_open_route.join(domain_cost_per_week, \n",
    "                                       on=[\"url\", \"name\", \n",
    "                                           \"latitude\", \"longitude\",\n",
    "                                           \"bedrooms\", \"bathrooms\",\n",
    "                                           \"type\"], \n",
    "                                       how=\"left\")  # Change \"inner\" to \"left\", \"right\", \"outer\" as needed\n",
    "\n",
    "# Show the result\n",
    "domain_joined.limit(1)"
   ]
  },
  {
   "cell_type": "code",
   "execution_count": 16,
   "metadata": {},
   "outputs": [
    {
     "name": "stderr",
     "output_type": "stream",
     "text": [
      "                                                                                \r"
     ]
    },
    {
     "data": {
      "text/plain": [
       "9308"
      ]
     },
     "execution_count": 16,
     "metadata": {},
     "output_type": "execute_result"
    }
   ],
   "source": [
    "domain_joined.count()"
   ]
  },
  {
   "cell_type": "code",
   "execution_count": 17,
   "metadata": {},
   "outputs": [
    {
     "name": "stderr",
     "output_type": "stream",
     "text": [
      "                                                                                \r"
     ]
    },
    {
     "data": {
      "text/plain": [
       "9256"
      ]
     },
     "execution_count": 17,
     "metadata": {},
     "output_type": "execute_result"
    }
   ],
   "source": [
    "domain_joined = domain_joined.filter(\n",
    "    (F.col(\"postcode\").isNotNull()) & \n",
    "    (F.trim(F.col(\"postcode\")) != \"\")\n",
    ")\n",
    "domain_joined.count()"
   ]
  },
  {
   "cell_type": "code",
   "execution_count": 18,
   "metadata": {},
   "outputs": [],
   "source": [
    "# domain_cleaned = domain_joined.drop(\"url\", \"name\", \"latitude\",\n",
    "#                                     \"longitude\", \"cost_text\", \n",
    "#                                     \"rent_pw\", \"school_name\",\n",
    "#                                     \"hospital_name\", \"doctors_name\",\n",
    "#                                     \"bank_name\", \"restaurant_name\",\n",
    "#                                     \"PTV_name\")\n",
    "\n",
    "domain_cleaned = domain_joined"
   ]
  },
  {
   "cell_type": "code",
   "execution_count": 19,
   "metadata": {},
   "outputs": [
    {
     "name": "stderr",
     "output_type": "stream",
     "text": [
      "                                                                                \r"
     ]
    },
    {
     "data": {
      "text/html": [
       "<table border='1'>\n",
       "<tr><th>url</th><th>name</th><th>latitude</th><th>longitude</th><th>bedrooms</th><th>bathrooms</th><th>type</th><th>car_parks</th><th>cost_text</th><th>suburb</th><th>postcode</th><th>rent_pw</th><th>school_name</th><th>school_walking</th><th>school_driving</th><th>hospital_name</th><th>hospital_walking</th><th>hospital_driving</th><th>doctors_name</th><th>doctors_walking</th><th>doctors_driving</th><th>bank_name</th><th>bank_walking</th><th>bank_driving</th><th>restaurant_name</th><th>restaurant_walking</th><th>restaurant_driving</th><th>PTV_name</th><th>PTV_walking</th><th>PTV_driving</th><th>rate_type</th><th>cost_per_week</th></tr>\n",
       "<tr><td>https://www.domai...</td><td>5/254-256 Dandeno...</td><td>-37.8593356</td><td>145.0009763</td><td>1</td><td>1</td><td>Apartment / Unit ...</td><td>1</td><td>$410 per week</td><td> St Kilda East VI...</td><td>3183</td><td>410</td><td>Holmes Grammar Sc...</td><td>12.57</td><td>17.05</td><td>Orthodontist</td><td>19.52</td><td>19.52</td><td>Chapel Gate Medic...</td><td>2.26</td><td>12.66</td><td>Commonwealth Bank</td><td>5.12</td><td>13.28</td><td>La Poele - modern...</td><td>1.28</td><td>10.12</td><td>Richmond Railway ...</td><td>1.64</td><td>45.69</td><td>weekly</td><td>410.0</td></tr>\n",
       "</table>\n"
      ],
      "text/plain": [
       "+--------------------+--------------------+-----------+-----------+--------+---------+--------------------+---------+-------------+--------------------+--------+-------+--------------------+--------------+--------------+-------------+----------------+----------------+--------------------+---------------+---------------+-----------------+------------+------------+--------------------+------------------+------------------+--------------------+-----------+-----------+---------+-------------+\n",
       "|                 url|                name|   latitude|  longitude|bedrooms|bathrooms|                type|car_parks|    cost_text|              suburb|postcode|rent_pw|         school_name|school_walking|school_driving|hospital_name|hospital_walking|hospital_driving|        doctors_name|doctors_walking|doctors_driving|        bank_name|bank_walking|bank_driving|     restaurant_name|restaurant_walking|restaurant_driving|            PTV_name|PTV_walking|PTV_driving|rate_type|cost_per_week|\n",
       "+--------------------+--------------------+-----------+-----------+--------+---------+--------------------+---------+-------------+--------------------+--------+-------+--------------------+--------------+--------------+-------------+----------------+----------------+--------------------+---------------+---------------+-----------------+------------+------------+--------------------+------------------+------------------+--------------------+-----------+-----------+---------+-------------+\n",
       "|https://www.domai...|5/254-256 Dandeno...|-37.8593356|145.0009763|       1|        1|Apartment / Unit ...|        1|$410 per week| St Kilda East VI...|    3183|    410|Holmes Grammar Sc...|         12.57|         17.05| Orthodontist|           19.52|           19.52|Chapel Gate Medic...|           2.26|          12.66|Commonwealth Bank|        5.12|       13.28|La Poele - modern...|              1.28|             10.12|Richmond Railway ...|       1.64|      45.69|   weekly|        410.0|\n",
       "+--------------------+--------------------+-----------+-----------+--------+---------+--------------------+---------+-------------+--------------------+--------+-------+--------------------+--------------+--------------+-------------+----------------+----------------+--------------------+---------------+---------------+-----------------+------------+------------+--------------------+------------------+------------------+--------------------+-----------+-----------+---------+-------------+"
      ]
     },
     "execution_count": 19,
     "metadata": {},
     "output_type": "execute_result"
    }
   ],
   "source": [
    "domain_cleaned.limit(1)"
   ]
  },
  {
   "cell_type": "code",
   "execution_count": 20,
   "metadata": {},
   "outputs": [
    {
     "name": "stdout",
     "output_type": "stream",
     "text": [
      "1st Percentile: 210.0, 99th Percentile: 2687.0\n"
     ]
    }
   ],
   "source": [
    "# Calculate 1st and 99th percentiles\n",
    "percentiles = domain_cleaned.selectExpr(\"percentile_approx(cost_per_week, 0.01) as p1\",\n",
    "                                           \"percentile_approx(cost_per_week, 0.99) as p99\").first()\n",
    "\n",
    "p1 = percentiles.p1\n",
    "p99 = percentiles.p99\n",
    "\n",
    "print(f\"1st Percentile: {p1}, 99th Percentile: {p99}\")\n",
    "\n",
    "# Filter out values outside of the 1st and 99th percentiles\n",
    "filtered_df = domain_cleaned.filter((col('cost_per_week') > p1) & (col('cost_per_week') < p99))"
   ]
  },
  {
   "cell_type": "code",
   "execution_count": 21,
   "metadata": {},
   "outputs": [
    {
     "name": "stderr",
     "output_type": "stream",
     "text": [
      "                                                                                \r"
     ]
    }
   ],
   "source": [
    "domain_cleaned_pd = filtered_df.toPandas()"
   ]
  },
  {
   "cell_type": "code",
   "execution_count": 22,
   "metadata": {},
   "outputs": [
    {
     "data": {
      "text/html": [
       "<div>\n",
       "<style scoped>\n",
       "    .dataframe tbody tr th:only-of-type {\n",
       "        vertical-align: middle;\n",
       "    }\n",
       "\n",
       "    .dataframe tbody tr th {\n",
       "        vertical-align: top;\n",
       "    }\n",
       "\n",
       "    .dataframe thead th {\n",
       "        text-align: right;\n",
       "    }\n",
       "</style>\n",
       "<table border=\"1\" class=\"dataframe\">\n",
       "  <thead>\n",
       "    <tr style=\"text-align: right;\">\n",
       "      <th></th>\n",
       "      <th>bedrooms</th>\n",
       "      <th>bathrooms</th>\n",
       "      <th>car_parks</th>\n",
       "      <th>rent_pw</th>\n",
       "      <th>school_walking</th>\n",
       "      <th>school_driving</th>\n",
       "      <th>hospital_walking</th>\n",
       "      <th>hospital_driving</th>\n",
       "      <th>doctors_walking</th>\n",
       "      <th>doctors_driving</th>\n",
       "      <th>bank_walking</th>\n",
       "      <th>bank_driving</th>\n",
       "      <th>restaurant_walking</th>\n",
       "      <th>restaurant_driving</th>\n",
       "      <th>PTV_walking</th>\n",
       "      <th>PTV_driving</th>\n",
       "      <th>cost_per_week</th>\n",
       "    </tr>\n",
       "  </thead>\n",
       "  <tbody>\n",
       "    <tr>\n",
       "      <th>count</th>\n",
       "      <td>9068.000000</td>\n",
       "      <td>9068.000000</td>\n",
       "      <td>9068.000000</td>\n",
       "      <td>9068.000000</td>\n",
       "      <td>9068.000000</td>\n",
       "      <td>9068.000000</td>\n",
       "      <td>9041.000000</td>\n",
       "      <td>9041.000000</td>\n",
       "      <td>9068.000000</td>\n",
       "      <td>9068.000000</td>\n",
       "      <td>9068.000000</td>\n",
       "      <td>9068.000000</td>\n",
       "      <td>9068.000000</td>\n",
       "      <td>9068.000000</td>\n",
       "      <td>9068.000000</td>\n",
       "      <td>9068.000000</td>\n",
       "      <td>9068.000000</td>\n",
       "    </tr>\n",
       "    <tr>\n",
       "      <th>mean</th>\n",
       "      <td>2.685708</td>\n",
       "      <td>1.574327</td>\n",
       "      <td>1.377702</td>\n",
       "      <td>632.822894</td>\n",
       "      <td>23.998999</td>\n",
       "      <td>41.023180</td>\n",
       "      <td>19.768172</td>\n",
       "      <td>22.863088</td>\n",
       "      <td>11.564373</td>\n",
       "      <td>18.517235</td>\n",
       "      <td>9.864198</td>\n",
       "      <td>18.659133</td>\n",
       "      <td>10.715957</td>\n",
       "      <td>17.210533</td>\n",
       "      <td>8.781230</td>\n",
       "      <td>38.341544</td>\n",
       "      <td>649.562155</td>\n",
       "    </tr>\n",
       "    <tr>\n",
       "      <th>std</th>\n",
       "      <td>1.083493</td>\n",
       "      <td>0.630543</td>\n",
       "      <td>1.009351</td>\n",
       "      <td>741.584404</td>\n",
       "      <td>27.623619</td>\n",
       "      <td>46.246862</td>\n",
       "      <td>11.215324</td>\n",
       "      <td>11.624789</td>\n",
       "      <td>7.571277</td>\n",
       "      <td>16.362329</td>\n",
       "      <td>8.219827</td>\n",
       "      <td>22.572978</td>\n",
       "      <td>10.263701</td>\n",
       "      <td>10.447934</td>\n",
       "      <td>7.914618</td>\n",
       "      <td>22.215953</td>\n",
       "      <td>321.404215</td>\n",
       "    </tr>\n",
       "    <tr>\n",
       "      <th>min</th>\n",
       "      <td>0.000000</td>\n",
       "      <td>0.000000</td>\n",
       "      <td>0.000000</td>\n",
       "      <td>1.000000</td>\n",
       "      <td>5.290000</td>\n",
       "      <td>9.300000</td>\n",
       "      <td>1.410000</td>\n",
       "      <td>1.710000</td>\n",
       "      <td>0.100000</td>\n",
       "      <td>0.100000</td>\n",
       "      <td>0.020000</td>\n",
       "      <td>0.460000</td>\n",
       "      <td>0.100000</td>\n",
       "      <td>0.130000</td>\n",
       "      <td>0.070000</td>\n",
       "      <td>0.110000</td>\n",
       "      <td>220.000000</td>\n",
       "    </tr>\n",
       "    <tr>\n",
       "      <th>25%</th>\n",
       "      <td>2.000000</td>\n",
       "      <td>1.000000</td>\n",
       "      <td>1.000000</td>\n",
       "      <td>480.000000</td>\n",
       "      <td>9.610000</td>\n",
       "      <td>17.050000</td>\n",
       "      <td>10.780000</td>\n",
       "      <td>11.000000</td>\n",
       "      <td>6.530000</td>\n",
       "      <td>12.180000</td>\n",
       "      <td>5.070000</td>\n",
       "      <td>12.380000</td>\n",
       "      <td>4.970000</td>\n",
       "      <td>11.560000</td>\n",
       "      <td>2.160000</td>\n",
       "      <td>25.360000</td>\n",
       "      <td>485.000000</td>\n",
       "    </tr>\n",
       "    <tr>\n",
       "      <th>50%</th>\n",
       "      <td>3.000000</td>\n",
       "      <td>2.000000</td>\n",
       "      <td>1.000000</td>\n",
       "      <td>560.000000</td>\n",
       "      <td>13.430000</td>\n",
       "      <td>32.200000</td>\n",
       "      <td>17.600000</td>\n",
       "      <td>20.320000</td>\n",
       "      <td>11.210000</td>\n",
       "      <td>15.770000</td>\n",
       "      <td>7.550000</td>\n",
       "      <td>14.150000</td>\n",
       "      <td>7.995000</td>\n",
       "      <td>15.010000</td>\n",
       "      <td>6.420000</td>\n",
       "      <td>32.420000</td>\n",
       "      <td>570.000000</td>\n",
       "    </tr>\n",
       "    <tr>\n",
       "      <th>75%</th>\n",
       "      <td>3.000000</td>\n",
       "      <td>2.000000</td>\n",
       "      <td>2.000000</td>\n",
       "      <td>680.000000</td>\n",
       "      <td>32.840000</td>\n",
       "      <td>38.220000</td>\n",
       "      <td>28.420000</td>\n",
       "      <td>34.400000</td>\n",
       "      <td>15.100000</td>\n",
       "      <td>20.160000</td>\n",
       "      <td>12.290000</td>\n",
       "      <td>18.280000</td>\n",
       "      <td>13.790000</td>\n",
       "      <td>19.760000</td>\n",
       "      <td>13.110000</td>\n",
       "      <td>45.690000</td>\n",
       "      <td>700.000000</td>\n",
       "    </tr>\n",
       "    <tr>\n",
       "      <th>max</th>\n",
       "      <td>9.000000</td>\n",
       "      <td>12.000000</td>\n",
       "      <td>19.000000</td>\n",
       "      <td>52000.000000</td>\n",
       "      <td>196.350000</td>\n",
       "      <td>196.350000</td>\n",
       "      <td>55.440000</td>\n",
       "      <td>55.440000</td>\n",
       "      <td>49.870000</td>\n",
       "      <td>156.370000</td>\n",
       "      <td>82.800000</td>\n",
       "      <td>225.120000</td>\n",
       "      <td>270.750000</td>\n",
       "      <td>161.750000</td>\n",
       "      <td>70.310000</td>\n",
       "      <td>99.610000</td>\n",
       "      <td>2672.000000</td>\n",
       "    </tr>\n",
       "  </tbody>\n",
       "</table>\n",
       "</div>"
      ],
      "text/plain": [
       "          bedrooms    bathrooms    car_parks       rent_pw  school_walking  \\\n",
       "count  9068.000000  9068.000000  9068.000000   9068.000000     9068.000000   \n",
       "mean      2.685708     1.574327     1.377702    632.822894       23.998999   \n",
       "std       1.083493     0.630543     1.009351    741.584404       27.623619   \n",
       "min       0.000000     0.000000     0.000000      1.000000        5.290000   \n",
       "25%       2.000000     1.000000     1.000000    480.000000        9.610000   \n",
       "50%       3.000000     2.000000     1.000000    560.000000       13.430000   \n",
       "75%       3.000000     2.000000     2.000000    680.000000       32.840000   \n",
       "max       9.000000    12.000000    19.000000  52000.000000      196.350000   \n",
       "\n",
       "       school_driving  hospital_walking  hospital_driving  doctors_walking  \\\n",
       "count     9068.000000       9041.000000       9041.000000      9068.000000   \n",
       "mean        41.023180         19.768172         22.863088        11.564373   \n",
       "std         46.246862         11.215324         11.624789         7.571277   \n",
       "min          9.300000          1.410000          1.710000         0.100000   \n",
       "25%         17.050000         10.780000         11.000000         6.530000   \n",
       "50%         32.200000         17.600000         20.320000        11.210000   \n",
       "75%         38.220000         28.420000         34.400000        15.100000   \n",
       "max        196.350000         55.440000         55.440000        49.870000   \n",
       "\n",
       "       doctors_driving  bank_walking  bank_driving  restaurant_walking  \\\n",
       "count      9068.000000   9068.000000   9068.000000         9068.000000   \n",
       "mean         18.517235      9.864198     18.659133           10.715957   \n",
       "std          16.362329      8.219827     22.572978           10.263701   \n",
       "min           0.100000      0.020000      0.460000            0.100000   \n",
       "25%          12.180000      5.070000     12.380000            4.970000   \n",
       "50%          15.770000      7.550000     14.150000            7.995000   \n",
       "75%          20.160000     12.290000     18.280000           13.790000   \n",
       "max         156.370000     82.800000    225.120000          270.750000   \n",
       "\n",
       "       restaurant_driving  PTV_walking  PTV_driving  cost_per_week  \n",
       "count         9068.000000  9068.000000  9068.000000    9068.000000  \n",
       "mean            17.210533     8.781230    38.341544     649.562155  \n",
       "std             10.447934     7.914618    22.215953     321.404215  \n",
       "min              0.130000     0.070000     0.110000     220.000000  \n",
       "25%             11.560000     2.160000    25.360000     485.000000  \n",
       "50%             15.010000     6.420000    32.420000     570.000000  \n",
       "75%             19.760000    13.110000    45.690000     700.000000  \n",
       "max            161.750000    70.310000    99.610000    2672.000000  "
      ]
     },
     "execution_count": 22,
     "metadata": {},
     "output_type": "execute_result"
    }
   ],
   "source": [
    "domain_cleaned_pd.describe()"
   ]
  },
  {
   "cell_type": "code",
   "execution_count": 23,
   "metadata": {},
   "outputs": [
    {
     "data": {
      "text/plain": [
       "url                    0\n",
       "name                   0\n",
       "latitude               0\n",
       "longitude              0\n",
       "bedrooms               0\n",
       "bathrooms              0\n",
       "type                   0\n",
       "car_parks              0\n",
       "cost_text              0\n",
       "suburb                 0\n",
       "postcode               0\n",
       "rent_pw                0\n",
       "school_name            0\n",
       "school_walking         0\n",
       "school_driving         0\n",
       "hospital_name          0\n",
       "hospital_walking      27\n",
       "hospital_driving      27\n",
       "doctors_name           0\n",
       "doctors_walking        0\n",
       "doctors_driving        0\n",
       "bank_name              0\n",
       "bank_walking           0\n",
       "bank_driving           0\n",
       "restaurant_name        0\n",
       "restaurant_walking     0\n",
       "restaurant_driving     0\n",
       "PTV_name               0\n",
       "PTV_walking            0\n",
       "PTV_driving            0\n",
       "rate_type              0\n",
       "cost_per_week          0\n",
       "dtype: int64"
      ]
     },
     "execution_count": 23,
     "metadata": {},
     "output_type": "execute_result"
    }
   ],
   "source": [
    "domain_cleaned_pd.isnull().sum()"
   ]
  },
  {
   "cell_type": "code",
   "execution_count": 24,
   "metadata": {},
   "outputs": [],
   "source": [
    "domain_cleaned_pd = domain_cleaned_pd.dropna()"
   ]
  },
  {
   "cell_type": "code",
   "execution_count": 29,
   "metadata": {},
   "outputs": [],
   "source": [
    "domain_cleaned_spark = spark.createDataFrame(domain_cleaned_pd)"
   ]
  },
  {
   "cell_type": "code",
   "execution_count": 30,
   "metadata": {},
   "outputs": [
    {
     "name": "stderr",
     "output_type": "stream",
     "text": [
      "24/10/07 07:37:22 WARN MemoryManager: Total allocation exceeds 95.00% (906,992,014 bytes) of heap memory\n",
      "Scaling row group sizes to 96.54% for 7 writers\n",
      "24/10/07 07:37:22 WARN MemoryManager: Total allocation exceeds 95.00% (906,992,014 bytes) of heap memory\n",
      "Scaling row group sizes to 84.47% for 8 writers\n",
      "24/10/07 07:37:23 WARN MemoryManager: Total allocation exceeds 95.00% (906,992,014 bytes) of heap memory\n",
      "Scaling row group sizes to 96.54% for 7 writers\n",
      "                                                                                \r"
     ]
    }
   ],
   "source": [
    "domain_cleaned_spark.write.mode('overwrite').parquet('../../data/curated/domain_cleaned_pyspark')"
   ]
  }
 ],
 "metadata": {
  "kernelspec": {
   "display_name": "Python 3",
   "language": "python",
   "name": "python3"
  },
  "language_info": {
   "codemirror_mode": {
    "name": "ipython",
    "version": 3
   },
   "file_extension": ".py",
   "mimetype": "text/x-python",
   "name": "python",
   "nbconvert_exporter": "python",
   "pygments_lexer": "ipython3",
   "version": "3.10.12"
  }
 },
 "nbformat": 4,
 "nbformat_minor": 2
}
