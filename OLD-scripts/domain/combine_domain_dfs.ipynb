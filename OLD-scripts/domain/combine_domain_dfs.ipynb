{
 "cells": [
  {
   "cell_type": "markdown",
   "metadata": {},
   "source": [
    "## Combine Domain Parquet Files\n",
    "\n",
    "This notebook aims to take the domain parquet data and converts it into a single parquet.\n",
    "\n",
    "First we perform necessary imports."
   ]
  },
  {
   "cell_type": "code",
   "execution_count": 1,
   "metadata": {},
   "outputs": [
    {
     "name": "stderr",
     "output_type": "stream",
     "text": [
      "your 131072x1 screen size is bogus. expect trouble\n",
      "24/09/09 10:42:38 WARN Utils: Your hostname, TABLET-K04EDL4Q resolves to a loopback address: 127.0.1.1; using 10.255.255.254 instead (on interface lo)\n",
      "24/09/09 10:42:38 WARN Utils: Set SPARK_LOCAL_IP if you need to bind to another address\n",
      "Setting default log level to \"WARN\".\n",
      "To adjust logging level use sc.setLogLevel(newLevel). For SparkR, use setLogLevel(newLevel).\n",
      "24/09/09 10:42:39 WARN NativeCodeLoader: Unable to load native-hadoop library for your platform... using builtin-java classes where applicable\n"
     ]
    }
   ],
   "source": [
    "from pyspark.sql import SparkSession, functions as F\n",
    "from pyspark.sql.types import StructType, StructField, StringType, IntegerType, FloatType\n",
    "import json\n",
    "import re\n",
    "import csv\n",
    "from functools import reduce\n",
    "\n",
    "# Create a spark session (which will run spark jobs)\n",
    "spark = (\n",
    "    SparkSession.builder.appName(\"MAST30034 Crime Curated\")\n",
    "    .config(\"spark.sql.repl.eagerEval.enabled\", True)\n",
    "    .config(\"spark.sql.parquet.cacheMetadata\", \"true\")\n",
    "    .config(\"spark.sql.session.timeZone\", \"Etc/UTC\")\n",
    "    .config('spark.driver.memory', '4g')\n",
    "    .config('spark.executor.memory', '2g')\n",
    "    .getOrCreate()\n",
    ")\n",
    "\n",
    "PAGE_DIRECTORY = '../data/raw/domain/pages'"
   ]
  },
  {
   "cell_type": "code",
   "execution_count": 5,
   "metadata": {},
   "outputs": [],
   "source": [
    "# this is just used to make sure the data is correct when being read in\n",
    "\n",
    "listings_links_path = \"../data/raw/domain/metadata/listings_links.csv\"\n",
    "\n",
    "# Open and read the CSV file\n",
    "with open(listings_links_path, 'r') as file:\n",
    "    listing_urls = set(file.readlines())\n",
    "\n",
    "\n",
    "# load all the dataframes\n",
    "BATCH_SIZE = 500\n",
    "dfs = []\n",
    "\n",
    "\n",
    "for i in range(0, len(listing_urls), BATCH_SIZE):\n",
    "    page_directory = PAGE_DIRECTORY + f'/{i}-{i+BATCH_SIZE}.parquet'\n",
    "    dfs.append(spark.read.parquet(page_directory))\n",
    "\n",
    "union_df = reduce(lambda df1, df2: df1.union(df2), dfs)"
   ]
  },
  {
   "cell_type": "code",
   "execution_count": 15,
   "metadata": {},
   "outputs": [
    {
     "name": "stderr",
     "output_type": "stream",
     "text": [
      "                                                                                \r"
     ]
    }
   ],
   "source": [
    "output_path = \"../data/raw/domain/domain_current_listings.parquet\"\n",
    "\n",
    "# repartition the dataframe (as 450+ parititons is very excessive)\n",
    "repartitioned = union_df.coalesce(4)\n",
    "\n",
    "# finally write to file\n",
    "repartitioned.write.parquet(output_path)"
   ]
  },
  {
   "cell_type": "code",
   "execution_count": 14,
   "metadata": {},
   "outputs": [
    {
     "data": {
      "text/html": [
       "<table border='1'>\n",
       "<tr><th>bedrooms</th><th>bathrooms</th><th>car_parks</th><th>url</th><th>name</th><th>cost_text</th><th>type</th><th>latitude</th><th>longitude</th></tr>\n",
       "<tr><td>2</td><td>1</td><td>1</td><td>https://www.domai...</td><td>207/173 City Road...</td><td>$900 per week Gre...</td><td>Apartment / Unit ...</td><td>-37.8244974</td><td>144.962227</td></tr>\n",
       "<tr><td>1</td><td>1</td><td>1</td><td>https://www.domai...</td><td>616 Glenferrie Ro...</td><td>$750 Per Week - F...</td><td>Apartment / Unit ...</td><td>-37.8235172</td><td>145.0356866</td></tr>\n",
       "<tr><td>2</td><td>2</td><td>1</td><td>https://www.domai...</td><td>901c/851 Whitehor...</td><td>$750/w with Carpa...</td><td>Apartment / Unit ...</td><td>-37.8169818</td><td>145.1176698</td></tr>\n",
       "<tr><td>2</td><td>2</td><td>1</td><td>https://www.domai...</td><td>1/378-390 St Geor...</td><td>$700 per week</td><td>Apartment / Unit ...</td><td>-37.7784848</td><td>144.9882531</td></tr>\n",
       "<tr><td>2</td><td>1</td><td>2</td><td>https://www.domai...</td><td>1/16 Banksia Cres...</td><td>$390 per week</td><td>Apartment / Unit ...</td><td>-37.8610294</td><td>144.6848746</td></tr>\n",
       "<tr><td>2</td><td>1</td><td>1</td><td>https://www.domai...</td><td>216/288 Adderley ...</td><td>$720 per week</td><td>Apartment / Unit ...</td><td>-37.8072029</td><td>144.9431762</td></tr>\n",
       "<tr><td>1</td><td>1</td><td>1</td><td>https://www.domai...</td><td>101/288 Tooronga ...</td><td>Stay 1 mth plus -...</td><td>Apartment / Unit ...</td><td>-37.8526724</td><td>145.0424648</td></tr>\n",
       "<tr><td>2</td><td>1</td><td>1</td><td>https://www.domai...</td><td>171/28 Little Lon...</td><td>$650.00</td><td>Apartment / Unit ...</td><td>-37.8085836</td><td>144.9706298</td></tr>\n",
       "<tr><td>1</td><td>1</td><td>1</td><td>https://www.domai...</td><td>413A/72 Ascot Val...</td><td>$500pw/$2172pcm</td><td>Apartment / Unit ...</td><td>-37.7840953</td><td>144.9230675</td></tr>\n",
       "<tr><td>1</td><td>1</td><td>1</td><td>https://www.domai...</td><td>218A/2A Duffy Str...</td><td>$495 per week</td><td>Apartment / Unit ...</td><td>-37.7401486</td><td>144.9000425</td></tr>\n",
       "<tr><td>2</td><td>1</td><td>1</td><td>https://www.domai...</td><td>1203/2 Hallenstei...</td><td>$610 Per week</td><td>Apartment / Unit ...</td><td>-37.8004303</td><td>144.9081625</td></tr>\n",
       "<tr><td>1</td><td>1</td><td>1</td><td>https://www.domai...</td><td>1702/38 Albert Ro...</td><td>$580 per week</td><td>Apartment / Unit ...</td><td>-37.8337132</td><td>144.9713157</td></tr>\n",
       "<tr><td>2</td><td>2</td><td>1</td><td>https://www.domai...</td><td>206/1555-1559 Mal...</td><td>$675 weekly</td><td>Apartment / Unit ...</td><td>-37.8536224</td><td>145.0477641</td></tr>\n",
       "<tr><td>4</td><td>3</td><td>2</td><td>https://www.domai...</td><td>13/2 Ambrose Trea...</td><td>$700 Per week Sem...</td><td>Townhouse</td><td>-37.6876647</td><td>145.0676306</td></tr>\n",
       "<tr><td>2</td><td>2</td><td>1</td><td>https://www.domai...</td><td>2711/618 Lonsdale...</td><td>$850.00</td><td>Apartment / Unit ...</td><td>-37.81441450000001</td><td>144.9539107</td></tr>\n",
       "<tr><td>5</td><td>2</td><td>2</td><td>https://www.domai...</td><td>72 Fairground Pro...</td><td>Under Application...</td><td>House</td><td>-38.0751759</td><td>145.3728535</td></tr>\n",
       "<tr><td>2</td><td>1</td><td>1</td><td>https://www.domai...</td><td>309/179 Boundary ...</td><td>$580.00</td><td>Apartment / Unit ...</td><td>-37.7889129</td><td>144.9392885</td></tr>\n",
       "<tr><td>2</td><td>2</td><td>1</td><td>https://www.domai...</td><td>6409/228 La Trobe...</td><td>$900 per week</td><td>Apartment / Unit ...</td><td>-37.809615</td><td>144.9623021</td></tr>\n",
       "<tr><td>2</td><td>2</td><td>2</td><td>https://www.domai...</td><td>6/881 Doncaster R...</td><td>$675</td><td>Apartment / Unit ...</td><td>-37.78713279999999</td><td>145.1467706</td></tr>\n",
       "<tr><td>2</td><td>2</td><td>1</td><td>https://www.domai...</td><td>905/628 Flinders ...</td><td>$800 per week</td><td>Apartment / Unit ...</td><td>-37.8209722</td><td>144.9532542</td></tr>\n",
       "</table>\n",
       "only showing top 20 rows\n"
      ],
      "text/plain": [
       "+--------+---------+---------+--------------------+--------------------+--------------------+--------------------+------------------+-----------+\n",
       "|bedrooms|bathrooms|car_parks|                 url|                name|           cost_text|                type|          latitude|  longitude|\n",
       "+--------+---------+---------+--------------------+--------------------+--------------------+--------------------+------------------+-----------+\n",
       "|       2|        1|        1|https://www.domai...|207/173 City Road...|$900 per week Gre...|Apartment / Unit ...|       -37.8244974| 144.962227|\n",
       "|       1|        1|        1|https://www.domai...|616 Glenferrie Ro...|$750 Per Week - F...|Apartment / Unit ...|       -37.8235172|145.0356866|\n",
       "|       2|        2|        1|https://www.domai...|901c/851 Whitehor...|$750/w with Carpa...|Apartment / Unit ...|       -37.8169818|145.1176698|\n",
       "|       2|        2|        1|https://www.domai...|1/378-390 St Geor...|       $700 per week|Apartment / Unit ...|       -37.7784848|144.9882531|\n",
       "|       2|        1|        2|https://www.domai...|1/16 Banksia Cres...|       $390 per week|Apartment / Unit ...|       -37.8610294|144.6848746|\n",
       "|       2|        1|        1|https://www.domai...|216/288 Adderley ...|       $720 per week|Apartment / Unit ...|       -37.8072029|144.9431762|\n",
       "|       1|        1|        1|https://www.domai...|101/288 Tooronga ...|Stay 1 mth plus -...|Apartment / Unit ...|       -37.8526724|145.0424648|\n",
       "|       2|        1|        1|https://www.domai...|171/28 Little Lon...|             $650.00|Apartment / Unit ...|       -37.8085836|144.9706298|\n",
       "|       1|        1|        1|https://www.domai...|413A/72 Ascot Val...|     $500pw/$2172pcm|Apartment / Unit ...|       -37.7840953|144.9230675|\n",
       "|       1|        1|        1|https://www.domai...|218A/2A Duffy Str...|       $495 per week|Apartment / Unit ...|       -37.7401486|144.9000425|\n",
       "|       2|        1|        1|https://www.domai...|1203/2 Hallenstei...|       $610 Per week|Apartment / Unit ...|       -37.8004303|144.9081625|\n",
       "|       1|        1|        1|https://www.domai...|1702/38 Albert Ro...|       $580 per week|Apartment / Unit ...|       -37.8337132|144.9713157|\n",
       "|       2|        2|        1|https://www.domai...|206/1555-1559 Mal...|         $675 weekly|Apartment / Unit ...|       -37.8536224|145.0477641|\n",
       "|       4|        3|        2|https://www.domai...|13/2 Ambrose Trea...|$700 Per week Sem...|           Townhouse|       -37.6876647|145.0676306|\n",
       "|       2|        2|        1|https://www.domai...|2711/618 Lonsdale...|             $850.00|Apartment / Unit ...|-37.81441450000001|144.9539107|\n",
       "|       5|        2|        2|https://www.domai...|72 Fairground Pro...|Under Application...|               House|       -38.0751759|145.3728535|\n",
       "|       2|        1|        1|https://www.domai...|309/179 Boundary ...|             $580.00|Apartment / Unit ...|       -37.7889129|144.9392885|\n",
       "|       2|        2|        1|https://www.domai...|6409/228 La Trobe...|       $900 per week|Apartment / Unit ...|        -37.809615|144.9623021|\n",
       "|       2|        2|        2|https://www.domai...|6/881 Doncaster R...|                $675|Apartment / Unit ...|-37.78713279999999|145.1467706|\n",
       "|       2|        2|        1|https://www.domai...|905/628 Flinders ...|       $800 per week|Apartment / Unit ...|       -37.8209722|144.9532542|\n",
       "+--------+---------+---------+--------------------+--------------------+--------------------+--------------------+------------------+-----------+\n",
       "only showing top 20 rows"
      ]
     },
     "execution_count": 14,
     "metadata": {},
     "output_type": "execute_result"
    }
   ],
   "source": [
    "repartitioned.where(F.col('car_parks') > 0)"
   ]
  },
  {
   "cell_type": "markdown",
   "metadata": {},
   "source": [
    "All the functions used are defined below:"
   ]
  }
 ],
 "metadata": {
  "kernelspec": {
   "display_name": "Python 3",
   "language": "python",
   "name": "python3"
  },
  "language_info": {
   "codemirror_mode": {
    "name": "ipython",
    "version": 3
   },
   "file_extension": ".py",
   "mimetype": "text/x-python",
   "name": "python",
   "nbconvert_exporter": "python",
   "pygments_lexer": "ipython3",
   "version": "3.10.12"
  }
 },
 "nbformat": 4,
 "nbformat_minor": 2
}
