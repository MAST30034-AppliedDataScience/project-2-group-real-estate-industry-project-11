{
 "cells": [
  {
   "cell_type": "markdown",
   "metadata": {},
   "source": [
    "## Clean Rental Rate Notebook\n",
    "\n",
    "This notebook aims to clean the rental rates for the given data.\n",
    "\n",
    "First we perform necessary imports."
   ]
  },
  {
   "cell_type": "code",
   "execution_count": 1,
   "metadata": {},
   "outputs": [
    {
     "name": "stderr",
     "output_type": "stream",
     "text": [
      "your 131072x1 screen size is bogus. expect trouble\n",
      "24/09/08 13:51:33 WARN Utils: Your hostname, TABLET-K04EDL4Q resolves to a loopback address: 127.0.1.1; using 10.255.255.254 instead (on interface lo)\n",
      "24/09/08 13:51:33 WARN Utils: Set SPARK_LOCAL_IP if you need to bind to another address\n",
      "Setting default log level to \"WARN\".\n",
      "To adjust logging level use sc.setLogLevel(newLevel). For SparkR, use setLogLevel(newLevel).\n",
      "24/09/08 13:51:35 WARN NativeCodeLoader: Unable to load native-hadoop library for your platform... using builtin-java classes where applicable\n",
      "24/09/08 13:51:39 WARN Utils: Service 'SparkUI' could not bind on port 4040. Attempting port 4041.\n"
     ]
    }
   ],
   "source": [
    "from pyspark.sql import SparkSession, functions as F\n",
    "from pyspark.sql.types import StructType, StructField, StringType, IntegerType, FloatType\n",
    "import json\n",
    "import re\n",
    "\n",
    "# Create a spark session (which will run spark jobs)\n",
    "spark = (\n",
    "    SparkSession.builder.appName(\"MAST30034 Crime Curated\")\n",
    "    .config(\"spark.sql.repl.eagerEval.enabled\", True)\n",
    "    .config(\"spark.sql.parquet.cacheMetadata\", \"true\")\n",
    "    .config(\"spark.sql.session.timeZone\", \"Etc/UTC\")\n",
    "    .config('spark.driver.memory', '4g')\n",
    "    .config('spark.executor.memory', '2g')\n",
    "    .config(\"spark.driver.port\", \"6066\")\n",
    "    .getOrCreate()\n",
    ")\n",
    "\n",
    "FILE_PATH = '../data/raw/example.json'"
   ]
  },
  {
   "cell_type": "markdown",
   "metadata": {},
   "source": [
    "All the functions used are defined below:"
   ]
  },
  {
   "cell_type": "code",
   "execution_count": 112,
   "metadata": {},
   "outputs": [],
   "source": [
    "def extract_number(text, keyword):\n",
    "    \"\"\"\n",
    "    Takes a string input and extracts the numeric value, casting it to an int.\n",
    "    \"\"\"\n",
    "    match = re.search(rf'(\\d+)\\s*{keyword}', text, re.IGNORECASE)\n",
    "    return int(match.group(1)) if match else None\n",
    "\n",
    "def find_largest_number(text, number_pattern):\n",
    "    \"\"\"\n",
    "    Finds the largest number based on a number pattern in a given string.\n",
    "    \"\"\"\n",
    "    number_pattern = r'\\$?\\d+[\\d,]*(?:\\.\\d+)?'\n",
    "    matches = re.findall(number_pattern, text)\n",
    "\n",
    "    if matches:\n",
    "        numbers = [float(match.replace('$', '').replace(',', '')) for match in matches]\n",
    "        return max(numbers)\n",
    "    return None"
   ]
  },
  {
   "cell_type": "markdown",
   "metadata": {},
   "source": [
    "Now load the data into a data frame."
   ]
  },
  {
   "cell_type": "code",
   "execution_count": 5,
   "metadata": {},
   "outputs": [
    {
     "name": "stdout",
     "output_type": "stream",
     "text": [
      "Dataframe of 977 rows.\n"
     ]
    },
    {
     "data": {
      "text/html": [
       "<table border='1'>\n",
       "<tr><th>url</th><th>cost_text</th><th>bedrooms</th><th>bathrooms</th></tr>\n",
       "<tr><td>https://www.domai...</td><td>Price on Application</td><td>9</td><td>9</td></tr>\n",
       "<tr><td>https://www.domai...</td><td>$38,000 p.a. Incl...</td><td>NULL</td><td>NULL</td></tr>\n",
       "<tr><td>https://www.domai...</td><td>$12,500 pw</td><td>4</td><td>4</td></tr>\n",
       "<tr><td>https://www.domai...</td><td>$9,999 pw</td><td>5</td><td>5</td></tr>\n",
       "<tr><td>https://www.domai...</td><td>$5,750.00</td><td>2</td><td>2</td></tr>\n",
       "</table>\n"
      ],
      "text/plain": [
       "+--------------------+--------------------+--------+---------+\n",
       "|                 url|           cost_text|bedrooms|bathrooms|\n",
       "+--------------------+--------------------+--------+---------+\n",
       "|https://www.domai...|Price on Application|       9|        9|\n",
       "|https://www.domai...|$38,000 p.a. Incl...|    NULL|     NULL|\n",
       "|https://www.domai...|          $12,500 pw|       4|        4|\n",
       "|https://www.domai...|           $9,999 pw|       5|        5|\n",
       "|https://www.domai...|           $5,750.00|       2|        2|\n",
       "+--------------------+--------------------+--------+---------+"
      ]
     },
     "execution_count": 5,
     "metadata": {},
     "output_type": "execute_result"
    }
   ],
   "source": [
    "# 0: define the schema for the dataframe\n",
    "schema = StructType([\n",
    "    StructField(\"url\", StringType(), True),\n",
    "    StructField(\"cost_text\", StringType(), True),\n",
    "    StructField(\"bedrooms\", IntegerType(), True),\n",
    "    StructField(\"bathrooms\", IntegerType(), True)\n",
    "])\n",
    "\n",
    "# 1: read the file\n",
    "with open(FILE_PATH, 'r') as fp:\n",
    "    data = json.load(fp)\n",
    "\n",
    "# 2: extract the cost, along with the number of bedrooms and bathrooms\n",
    "extracted_data = []\n",
    "for url, entity in data.items():\n",
    "    cost_text = entity.get(\"cost_text\", \"\")\n",
    "    rooms = entity.get(\"rooms\", [])\n",
    "    \n",
    "    bedrooms = None\n",
    "    bathrooms = None\n",
    "    for room in rooms:\n",
    "        if 'bed' in room.lower():\n",
    "            bedrooms = extract_number(room, 'bed')\n",
    "        elif 'bath' in room.lower():\n",
    "            bathrooms = extract_number(room, 'bath')\n",
    "    \n",
    "    extracted_data.append((url, cost_text, bedrooms, bathrooms))\n",
    "\n",
    "# 3: create the dataframe from this data\n",
    "df = spark.createDataFrame(extracted_data, schema=schema)\n",
    "\n",
    "# verify the dataframe is working as expected\n",
    "print(f\"Dataframe of {df.count()} rows.\")\n",
    "df.limit(5)"
   ]
  },
  {
   "cell_type": "markdown",
   "metadata": {},
   "source": [
    "First, we will do some exploratory analysis. \n",
    "\n",
    "1. How many don't have the price included at all?"
   ]
  },
  {
   "cell_type": "code",
   "execution_count": 117,
   "metadata": {},
   "outputs": [
    {
     "data": {
      "text/html": [
       "<table border='1'>\n",
       "<tr><th>url</th><th>cost_text</th><th>bedrooms</th><th>bathrooms</th><th>unknown_rate</th><th>per_week</th><th>per_year</th><th>per_month</th></tr>\n",
       "<tr><td>https://www.domai...</td><td>Price on Application</td><td>9</td><td>9</td><td>NULL</td><td>NULL</td><td>NULL</td><td>NULL</td></tr>\n",
       "<tr><td>https://www.domai...</td><td>$38,000 p.a. Incl...</td><td>NULL</td><td>NULL</td><td>38000.0</td><td>NULL</td><td>NULL</td><td>NULL</td></tr>\n",
       "<tr><td>https://www.domai...</td><td>$12,500 pw</td><td>4</td><td>4</td><td>12500.0</td><td>12500.0</td><td>NULL</td><td>NULL</td></tr>\n",
       "<tr><td>https://www.domai...</td><td>$9,999 pw</td><td>5</td><td>5</td><td>9999.0</td><td>9999.0</td><td>NULL</td><td>NULL</td></tr>\n",
       "<tr><td>https://www.domai...</td><td>$5,750.00</td><td>2</td><td>2</td><td>5750.0</td><td>NULL</td><td>NULL</td><td>NULL</td></tr>\n",
       "<tr><td>https://www.domai...</td><td>Fully Furn - $500...</td><td>4</td><td>4</td><td>5000.0</td><td>5000.0</td><td>NULL</td><td>NULL</td></tr>\n",
       "<tr><td>https://www.domai...</td><td>5000</td><td>2</td><td>2</td><td>5000.0</td><td>NULL</td><td>NULL</td><td>NULL</td></tr>\n",
       "<tr><td>https://www.domai...</td><td>$4,000 per week</td><td>3</td><td>2</td><td>4000.0</td><td>4000.0</td><td>NULL</td><td>NULL</td></tr>\n",
       "<tr><td>https://www.domai...</td><td>$3900 pw Furnished</td><td>4</td><td>3</td><td>3900.0</td><td>3900.0</td><td>NULL</td><td>NULL</td></tr>\n",
       "<tr><td>https://www.domai...</td><td>$3,800.00 per week</td><td>5</td><td>6</td><td>3800.0</td><td>3800.0</td><td>NULL</td><td>NULL</td></tr>\n",
       "<tr><td>https://www.domai...</td><td>$3,800 weekly</td><td>4</td><td>4</td><td>3800.0</td><td>3800.0</td><td>NULL</td><td>NULL</td></tr>\n",
       "<tr><td>https://www.domai...</td><td>$3,750 Per Week</td><td>4</td><td>3</td><td>3750.0</td><td>3750.0</td><td>NULL</td><td>NULL</td></tr>\n",
       "<tr><td>https://www.domai...</td><td>$3,375 per week</td><td>3</td><td>3</td><td>3375.0</td><td>3375.0</td><td>NULL</td><td>NULL</td></tr>\n",
       "<tr><td>https://www.domai...</td><td>$3,302</td><td>0</td><td>0</td><td>3302.0</td><td>NULL</td><td>NULL</td><td>NULL</td></tr>\n",
       "<tr><td>https://www.domai...</td><td>$3,250.00</td><td>3</td><td>2</td><td>3250.0</td><td>NULL</td><td>NULL</td><td>NULL</td></tr>\n",
       "<tr><td>https://www.domai...</td><td>$2990 per week</td><td>4</td><td>3</td><td>2990.0</td><td>2990.0</td><td>NULL</td><td>NULL</td></tr>\n",
       "<tr><td>https://www.domai...</td><td>$3,000.00</td><td>4</td><td>4</td><td>3000.0</td><td>NULL</td><td>NULL</td><td>NULL</td></tr>\n",
       "<tr><td>https://www.domai...</td><td>$3,000.00</td><td>3</td><td>3</td><td>3000.0</td><td>NULL</td><td>NULL</td><td>NULL</td></tr>\n",
       "<tr><td>https://www.domai...</td><td>$2995 Per Week</td><td>5</td><td>4</td><td>2995.0</td><td>2995.0</td><td>NULL</td><td>NULL</td></tr>\n",
       "<tr><td>https://www.domai...</td><td>$2,900</td><td>3</td><td>3</td><td>2900.0</td><td>NULL</td><td>NULL</td><td>NULL</td></tr>\n",
       "</table>\n"
      ],
      "text/plain": [
       "+--------------------+--------------------+--------+---------+------------+--------+--------+---------+\n",
       "|                 url|           cost_text|bedrooms|bathrooms|unknown_rate|per_week|per_year|per_month|\n",
       "+--------------------+--------------------+--------+---------+------------+--------+--------+---------+\n",
       "|https://www.domai...|Price on Application|       9|        9|        NULL|    NULL|    NULL|     NULL|\n",
       "|https://www.domai...|$38,000 p.a. Incl...|    NULL|     NULL|     38000.0|    NULL|    NULL|     NULL|\n",
       "|https://www.domai...|          $12,500 pw|       4|        4|     12500.0| 12500.0|    NULL|     NULL|\n",
       "|https://www.domai...|           $9,999 pw|       5|        5|      9999.0|  9999.0|    NULL|     NULL|\n",
       "|https://www.domai...|           $5,750.00|       2|        2|      5750.0|    NULL|    NULL|     NULL|\n",
       "|https://www.domai...|Fully Furn - $500...|       4|        4|      5000.0|  5000.0|    NULL|     NULL|\n",
       "|https://www.domai...|                5000|       2|        2|      5000.0|    NULL|    NULL|     NULL|\n",
       "|https://www.domai...|     $4,000 per week|       3|        2|      4000.0|  4000.0|    NULL|     NULL|\n",
       "|https://www.domai...|  $3900 pw Furnished|       4|        3|      3900.0|  3900.0|    NULL|     NULL|\n",
       "|https://www.domai...|  $3,800.00 per week|       5|        6|      3800.0|  3800.0|    NULL|     NULL|\n",
       "|https://www.domai...|       $3,800 weekly|       4|        4|      3800.0|  3800.0|    NULL|     NULL|\n",
       "|https://www.domai...|     $3,750 Per Week|       4|        3|      3750.0|  3750.0|    NULL|     NULL|\n",
       "|https://www.domai...|     $3,375 per week|       3|        3|      3375.0|  3375.0|    NULL|     NULL|\n",
       "|https://www.domai...|              $3,302|       0|        0|      3302.0|    NULL|    NULL|     NULL|\n",
       "|https://www.domai...|           $3,250.00|       3|        2|      3250.0|    NULL|    NULL|     NULL|\n",
       "|https://www.domai...|      $2990 per week|       4|        3|      2990.0|  2990.0|    NULL|     NULL|\n",
       "|https://www.domai...|           $3,000.00|       4|        4|      3000.0|    NULL|    NULL|     NULL|\n",
       "|https://www.domai...|           $3,000.00|       3|        3|      3000.0|    NULL|    NULL|     NULL|\n",
       "|https://www.domai...|      $2995 Per Week|       5|        4|      2995.0|  2995.0|    NULL|     NULL|\n",
       "|https://www.domai...|              $2,900|       3|        3|      2900.0|    NULL|    NULL|     NULL|\n",
       "+--------------------+--------------------+--------+---------+------------+--------+--------+---------+"
      ]
     },
     "execution_count": 117,
     "metadata": {},
     "output_type": "execute_result"
    }
   ],
   "source": [
    "# df.where(df['cost_text'])\n",
    "\n",
    "COST_COLUMNS = ['unknown_rate', 'per_month', 'per_week', 'per_year']\n",
    "\n",
    "number_pattern = r'\\$?\\d+[\\d,]*(\\.\\d+)?'\n",
    "\n",
    "per_annum_text = r'p\\.?a\\.?|per annum|py|p\\.y\\.|per year|yr|year|yearly|p/y'\n",
    "per_calendar_month_text = r'p\\.?m\\.?|per month|p\\.?c\\.?m\\.?|month|monthly|mth|p/m'\n",
    "per_week_text = r'p\\.?w\\.?|per week|week|weekly|p/w|wk|w'\n",
    "\n",
    "between_amount_and_rate = f'\\s*/?\\s*'\n",
    "\n",
    "# match if just a number\n",
    "df_extracted = df.withColumn(\"unknown_rate\", F.regexp_extract(F.col(\"cost_text\"), fr'^{number_pattern}$', 0)) \\\n",
    "\n",
    "# match with per week strings\n",
    "df_extracted = df_extracted.withColumn(\"per_week\", F.regexp_extract(F.col(\"cost_text\"), fr'(?i){number_pattern}{between_amount_and_rate}({per_week_text})',\n",
    "                                                          0))\n",
    "\n",
    "# match with per year strings\n",
    "df_extracted = df_extracted.withColumn(\"per_year\", F.regexp_extract(F.col(\"cost_text\"), fr'(?i){number_pattern}{between_amount_and_rate}({per_annum_text})',\n",
    "                                                          0))\n",
    "\n",
    "# match with per month strings\n",
    "df_extracted = df_extracted.withColumn(\"per_month\", F.regexp_extract(F.col(\"cost_text\"), fr'(?i){number_pattern}{between_amount_and_rate}({per_calendar_month_text})',\n",
    "                                                          0))\n",
    "\n",
    "# finally match with the largest number in the text\n",
    "find_largest_number_udf = F.udf(lambda text: find_largest_number(text, number_pattern), FloatType())\n",
    "\n",
    "# convert columns to floats\n",
    "for col_name in COST_COLUMNS:\n",
    "    df_extracted = df_extracted.withColumn(col_name, F.regexp_replace(F.col(col_name), r'[^\\d.]', '')) \\\n",
    "    .withColumn(col_name, F.col(col_name).cast(\"float\"))\n",
    "\n",
    "# find and save the largest number to a new column\n",
    "df_extracted = df_extracted.withColumn(\"unknown_rate_within_text\", find_largest_number_udf(F.col(\"cost_text\"))) \\\n",
    "                            .withColumn(\n",
    "                                \"unknown_rate\", \n",
    "                                F.coalesce(F.col(\"unknown_rate\"), F.col(\"unknown_rate_within_text\"))\n",
    "                            ).drop(\"unknown_rate_within_text\")\n",
    "\n",
    "\n",
    "\n",
    "# df_extracted.where(F.col('unknown_rate_within_text').isNotNull())\n",
    "\n",
    "df_extracted.limit(20)"
   ]
  },
  {
   "cell_type": "markdown",
   "metadata": {},
   "source": [
    "Checking to see how many entries have unknown rates."
   ]
  },
  {
   "cell_type": "code",
   "execution_count": 121,
   "metadata": {},
   "outputs": [
    {
     "name": "stdout",
     "output_type": "stream",
     "text": [
      "There are: 418 of 977 total columns with unknown rates.\n"
     ]
    }
   ],
   "source": [
    "KNOWN_RATE_COLUMNS = ['per_month', 'per_week', 'per_year']\n",
    "\n",
    "unknown_rate_condition = F.col(KNOWN_RATE_COLUMNS[0]).isNull()\n",
    "\n",
    "for col in KNOWN_RATE_COLUMNS[1:]:\n",
    "    unknown_rate_condition = unknown_rate_condition & F.col(col).isNull()\n",
    "\n",
    "# apply the filter (+ also filter out where no numbers in text for clarity)\n",
    "print(f\"There are: {df_extracted.filter(unknown_rate_condition).count()} of {df_extracted.count()} total columns with unknown rates.\")"
   ]
  },
  {
   "cell_type": "markdown",
   "metadata": {},
   "source": [
    "Since this is a large portion of rents, a future step is to create a model to predict if the rate is monthly, weekly or per year. This will be trained as a supervised model on the known rate types."
   ]
  },
  {
   "cell_type": "code",
   "execution_count": null,
   "metadata": {},
   "outputs": [],
   "source": [
    "# for now, merge everything into one column \n",
    "\n",
    "def yearly_to_weekly_rate(yearly_rate):\n",
    "    \"\"\" \n",
    "    Converts a yearly rental rate to a weekly rate.\n",
    "    \"\"\"\n",
    "    return yearly_rate / 52.14\n",
    "\n",
    "def monthly_to_weekly_rate(monthly_rate):\n",
    "    \"\"\"\n",
    "    Converts a monthly rental rate to a weekly rate.\n",
    "    \"\"\"\n",
    "    return yearly_to_weekly_rate(monthly_rate * 12)\n",
    "\n",
    "df_extracted = df_extracted.withColumn(\"unknown_rate_within_text\", find_largest_number_udf(F.col(\"cost_text\"))) \\\n",
    "                            .withColumn(\n",
    "                                \"unknown_rate\", \n",
    "                                F.coalesce(F.col(\"unknown_rate\"), F.col(\"unknown_rate_within_text\"))\n",
    "                            ).drop(\"unknown_rate_within_text\")"
   ]
  },
  {
   "cell_type": "markdown",
   "metadata": {},
   "source": [
    "This section is for debugging purposes. Use this to see if there's any phrases still not being matched."
   ]
  },
  {
   "cell_type": "code",
   "execution_count": 110,
   "metadata": {},
   "outputs": [
    {
     "name": "stdout",
     "output_type": "stream",
     "text": [
      "Length:  0\n",
      "+---+---------+--------+---------+------------+--------+--------+---------+\n",
      "|url|cost_text|bedrooms|bathrooms|unknown_rate|per_week|per_year|per_month|\n",
      "+---+---------+--------+---------+------------+--------+--------+---------+\n",
      "+---+---------+--------+---------+------------+--------+--------+---------+\n",
      "\n"
     ]
    }
   ],
   "source": [
    "# check for rows where all is null\n",
    "null_condition = F.col(COST_COLUMNS[0]).isNull()\n",
    "\n",
    "for col in COST_COLUMNS[1:]:\n",
    "    null_condition = null_condition & F.col(col).isNull()\n",
    "\n",
    "# apply the filter (+ also filter out where no numbers in text for clarity)\n",
    "df_view = df_extracted.filter(null_condition).filter(F.col(\"cost_text\").rlike(r'\\d'))\n",
    "\n",
    "print(\"Length: \", df_view.count())\n",
    "df_view.show(20, truncate=False)"
   ]
  },
  {
   "cell_type": "code",
   "execution_count": 24,
   "metadata": {},
   "outputs": [
    {
     "data": {
      "text/plain": [
       "Row(url='https://www.domain.com.au/667-glenhuntly-road-caulfield-vic-3162-11598047', cost_text='$38,000 p.a. Incl. Outgoings + GST', bedrooms=None, bathrooms=None)"
      ]
     },
     "execution_count": 24,
     "metadata": {},
     "output_type": "execute_result"
    }
   ],
   "source": [
    "df.take(2)[1]"
   ]
  }
 ],
 "metadata": {
  "kernelspec": {
   "display_name": "Python 3",
   "language": "python",
   "name": "python3"
  },
  "language_info": {
   "codemirror_mode": {
    "name": "ipython",
    "version": 3
   },
   "file_extension": ".py",
   "mimetype": "text/x-python",
   "name": "python",
   "nbconvert_exporter": "python",
   "pygments_lexer": "ipython3",
   "version": "3.10.12"
  }
 },
 "nbformat": 4,
 "nbformat_minor": 2
}
