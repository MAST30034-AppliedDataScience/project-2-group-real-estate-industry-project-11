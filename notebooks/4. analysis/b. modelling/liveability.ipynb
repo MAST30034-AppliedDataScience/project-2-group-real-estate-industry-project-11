{
 "cells": [
  {
   "cell_type": "code",
   "execution_count": 1,
   "metadata": {},
   "outputs": [],
   "source": [
    "import pandas as pd\n",
    "import geopandas as gpd\n",
    "import folium\n",
    "from folium import GeoJson\n",
    "from math import log\n",
    "import sys\n",
    "import os\n",
    "\n",
    "sys.path.append(os.path.abspath('../../../scripts/2. modules'))\n",
    "import processing\n",
    "import analysis\n",
    "\n",
    "# Inputs\n",
    "HISTORICAL_DATA_PATH = '../../../data/3. curated/merged/all_historical_data.csv'"
   ]
  },
  {
   "cell_type": "code",
   "execution_count": null,
   "metadata": {},
   "outputs": [],
   "source": [
    "DWELLING_COMBINATIONS = [\n",
    "    ('house', '2'), ('house', '3'), ('house', '4'), ('flat', '1'), ('flat', '2'), ('flat', '3'), ('all', 'all')\n",
    "]\n",
    "\n",
    "housing_df = pd.read_csv(HISTORICAL_DATA_PATH)\n",
    "regions_df = processing.get_regions_df(3)"
   ]
  }
 ],
 "metadata": {
  "kernelspec": {
   "display_name": "Python 3",
   "language": "python",
   "name": "python3"
  },
  "language_info": {
   "codemirror_mode": {
    "name": "ipython",
    "version": 3
   },
   "file_extension": ".py",
   "mimetype": "text/x-python",
   "name": "python",
   "nbconvert_exporter": "python",
   "pygments_lexer": "ipython3",
   "version": "3.10.12"
  }
 },
 "nbformat": 4,
 "nbformat_minor": 2
}
