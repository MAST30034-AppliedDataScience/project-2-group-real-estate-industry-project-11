{
 "cells": [
  {
   "cell_type": "markdown",
   "metadata": {},
   "source": [
    "# Forecasting Analysis\n",
    "\n",
    "This summary notebook explores the rental growth of specific regions, and aims to predict the growth going into the future. The notebook runs a linear regression model accoutning for various time sensitive features.\n",
    "\n",
    "It uses the external prices curated dataset."
   ]
  },
  {
   "cell_type": "code",
   "execution_count": 1,
   "metadata": {},
   "outputs": [],
   "source": [
    "import pandas as pd\n",
    "import numpy as np"
   ]
  },
  {
   "cell_type": "markdown",
   "metadata": {},
   "source": [
    "### Download and filter"
   ]
  },
  {
   "cell_type": "code",
   "execution_count": 5,
   "metadata": {},
   "outputs": [
    {
     "name": "stdout",
     "output_type": "stream",
     "text": [
      "(6228, 179)\n"
     ]
    }
   ],
   "source": [
    "curated_raw = pd.read_csv(\"../../../data/3. curated/external prices.csv\", index_col=0)\n",
    "print(curated_raw.shape)"
   ]
  },
  {
   "cell_type": "code",
   "execution_count": 6,
   "metadata": {},
   "outputs": [],
   "source": [
    "def filter_frame(df, type=False, start_year=False, end_year=False):\n",
    "    df_mask = pd.Series(data=True, index=df.index)\n",
    "    if (type):\n",
    "        df_mask = df_mask & (df[\"housing: type\"] == type)\n",
    "    \n",
    "    if (start_year):\n",
    "        df_mask = df_mask & (df[\"year groups\"] >= start_year)\n",
    "    if (end_year):\n",
    "        df_mask = df_mask & (df[\"year groups\"] <= end_year)\n",
    "    \n",
    "    return df[df_mask]"
   ]
  },
  {
   "cell_type": "code",
   "execution_count": 7,
   "metadata": {},
   "outputs": [
    {
     "name": "stdout",
     "output_type": "stream",
     "text": [
      "(6228, 119)\n"
     ]
    },
    {
     "data": {
      "text/html": [
       "<div>\n",
       "<style scoped>\n",
       "    .dataframe tbody tr th:only-of-type {\n",
       "        vertical-align: middle;\n",
       "    }\n",
       "\n",
       "    .dataframe tbody tr th {\n",
       "        vertical-align: top;\n",
       "    }\n",
       "\n",
       "    .dataframe thead th {\n",
       "        text-align: right;\n",
       "    }\n",
       "</style>\n",
       "<table border=\"1\" class=\"dataframe\">\n",
       "  <thead>\n",
       "    <tr style=\"text-align: right;\">\n",
       "      <th></th>\n",
       "      <th>economic: median income</th>\n",
       "      <th>economic: median age of earners</th>\n",
       "      <th>economic: gini coefficient</th>\n",
       "      <th>economic: variable interest rate</th>\n",
       "      <th>economic: gdp per capita quarterly</th>\n",
       "      <th>economic: trimmed mean quarterly</th>\n",
       "      <th>economic: number of earners</th>\n",
       "      <th>economic: net inflation</th>\n",
       "      <th>economic: variable interest rate growth</th>\n",
       "      <th>housing: type</th>\n",
       "      <th>...</th>\n",
       "      <th>studying: tertiary total (%)</th>\n",
       "      <th>studying: tafe total (%)</th>\n",
       "      <th>studying: primary government (%)</th>\n",
       "      <th>studying: primary total (%)</th>\n",
       "      <th>distance: crow distance to cbd</th>\n",
       "      <th>distance: distance to cbd</th>\n",
       "      <th>distance: crow distance to cbd inv</th>\n",
       "      <th>distance: distance to cbd inv</th>\n",
       "      <th>suburbs</th>\n",
       "      <th>year groups</th>\n",
       "    </tr>\n",
       "  </thead>\n",
       "  <tbody>\n",
       "    <tr>\n",
       "      <th>0</th>\n",
       "      <td>63415.3</td>\n",
       "      <td>39.8</td>\n",
       "      <td>0.5565</td>\n",
       "      <td>6.3825</td>\n",
       "      <td>0.625</td>\n",
       "      <td>0.675</td>\n",
       "      <td>21731.8</td>\n",
       "      <td>1.044823</td>\n",
       "      <td>-0.070</td>\n",
       "      <td>flat</td>\n",
       "      <td>...</td>\n",
       "      <td>0.0637</td>\n",
       "      <td>0.0236</td>\n",
       "      <td>0.0336</td>\n",
       "      <td>0.0436</td>\n",
       "      <td>4.535857</td>\n",
       "      <td>6702.5</td>\n",
       "      <td>0.081735</td>\n",
       "      <td>0.211996</td>\n",
       "      <td>Albert Park-Middle Park-West St Kilda</td>\n",
       "      <td>2.0</td>\n",
       "    </tr>\n",
       "    <tr>\n",
       "      <th>1</th>\n",
       "      <td>63415.3</td>\n",
       "      <td>39.8</td>\n",
       "      <td>0.5565</td>\n",
       "      <td>6.6325</td>\n",
       "      <td>0.725</td>\n",
       "      <td>0.675</td>\n",
       "      <td>21731.8</td>\n",
       "      <td>1.073584</td>\n",
       "      <td>0.039</td>\n",
       "      <td>flat</td>\n",
       "      <td>...</td>\n",
       "      <td>0.0637</td>\n",
       "      <td>0.0236</td>\n",
       "      <td>0.0336</td>\n",
       "      <td>0.0436</td>\n",
       "      <td>4.535857</td>\n",
       "      <td>6702.5</td>\n",
       "      <td>0.081735</td>\n",
       "      <td>0.211996</td>\n",
       "      <td>Albert Park-Middle Park-West St Kilda</td>\n",
       "      <td>3.0</td>\n",
       "    </tr>\n",
       "    <tr>\n",
       "      <th>2</th>\n",
       "      <td>63415.3</td>\n",
       "      <td>39.8</td>\n",
       "      <td>0.5565</td>\n",
       "      <td>7.0700</td>\n",
       "      <td>0.475</td>\n",
       "      <td>0.675</td>\n",
       "      <td>21731.8</td>\n",
       "      <td>1.102315</td>\n",
       "      <td>0.066</td>\n",
       "      <td>flat</td>\n",
       "      <td>...</td>\n",
       "      <td>0.0637</td>\n",
       "      <td>0.0236</td>\n",
       "      <td>0.0336</td>\n",
       "      <td>0.0436</td>\n",
       "      <td>4.535857</td>\n",
       "      <td>6702.5</td>\n",
       "      <td>0.081735</td>\n",
       "      <td>0.211996</td>\n",
       "      <td>Albert Park-Middle Park-West St Kilda</td>\n",
       "      <td>4.0</td>\n",
       "    </tr>\n",
       "  </tbody>\n",
       "</table>\n",
       "<p>3 rows × 119 columns</p>\n",
       "</div>"
      ],
      "text/plain": [
       "   economic: median income  economic: median age of earners  \\\n",
       "0                  63415.3                             39.8   \n",
       "1                  63415.3                             39.8   \n",
       "2                  63415.3                             39.8   \n",
       "\n",
       "   economic: gini coefficient  economic: variable interest rate  \\\n",
       "0                      0.5565                            6.3825   \n",
       "1                      0.5565                            6.6325   \n",
       "2                      0.5565                            7.0700   \n",
       "\n",
       "   economic: gdp per capita quarterly  economic: trimmed mean quarterly  \\\n",
       "0                               0.625                             0.675   \n",
       "1                               0.725                             0.675   \n",
       "2                               0.475                             0.675   \n",
       "\n",
       "   economic: number of earners  economic: net inflation  \\\n",
       "0                      21731.8                 1.044823   \n",
       "1                      21731.8                 1.073584   \n",
       "2                      21731.8                 1.102315   \n",
       "\n",
       "   economic: variable interest rate growth housing: type  ...  \\\n",
       "0                                   -0.070          flat  ...   \n",
       "1                                    0.039          flat  ...   \n",
       "2                                    0.066          flat  ...   \n",
       "\n",
       "   studying: tertiary total (%)  studying: tafe total (%)  \\\n",
       "0                        0.0637                    0.0236   \n",
       "1                        0.0637                    0.0236   \n",
       "2                        0.0637                    0.0236   \n",
       "\n",
       "   studying: primary government (%)  studying: primary total (%)  \\\n",
       "0                            0.0336                       0.0436   \n",
       "1                            0.0336                       0.0436   \n",
       "2                            0.0336                       0.0436   \n",
       "\n",
       "   distance: crow distance to cbd  distance: distance to cbd  \\\n",
       "0                        4.535857                     6702.5   \n",
       "1                        4.535857                     6702.5   \n",
       "2                        4.535857                     6702.5   \n",
       "\n",
       "   distance: crow distance to cbd inv  distance: distance to cbd inv  \\\n",
       "0                            0.081735                       0.211996   \n",
       "1                            0.081735                       0.211996   \n",
       "2                            0.081735                       0.211996   \n",
       "\n",
       "                                 suburbs  year groups  \n",
       "0  Albert Park-Middle Park-West St Kilda          2.0  \n",
       "1  Albert Park-Middle Park-West St Kilda          3.0  \n",
       "2  Albert Park-Middle Park-West St Kilda          4.0  \n",
       "\n",
       "[3 rows x 119 columns]"
      ]
     },
     "execution_count": 7,
     "metadata": {},
     "output_type": "execute_result"
    }
   ],
   "source": [
    "def filter_columns(df, find=[], avoid=[], require_all=False):\n",
    "    curr_columns = df.columns\n",
    "    \n",
    "    # filter any columns that contain the find_sub\n",
    "    if (find):\n",
    "        if (not require_all):\n",
    "            curr_columns = [column for column in curr_columns if any(sub in column for sub in find)]\n",
    "        else:\n",
    "            curr_columns = [column for column in curr_columns if all(sub in column for sub in find)]\n",
    "\n",
    "    # avoid any columns that contain the avoid_sub\n",
    "    curr_columns = [column for column in curr_columns if all(not sub in column for sub in avoid)]\n",
    "\n",
    "    return curr_columns\n",
    "\n",
    "FEATURES = filter_columns(curated_raw, find=[\"economic:\"], avoid=[\"%\", \"gdp quarterly\"]) + \\\n",
    "           filter_columns(curated_raw, find=[\"housing:\"]) + \\\n",
    "           filter_columns(curated_raw, find=[\"overseas:\"]) + \\\n",
    "           filter_columns(curated_raw, find=[\"population:\"]) + \\\n",
    "           filter_columns(curated_raw, find=[\"relationships:\"]) + \\\n",
    "           filter_columns(curated_raw, find=[\"studying:\"], avoid=[\"PT\", \"FT\"]) + \\\n",
    "           filter_columns(curated_raw, find=[\"distance:\"]) + \\\n",
    "           [\"suburbs\", \"year groups\"]\n",
    "\n",
    "curated = curated_raw[FEATURES]\n",
    "\n",
    "print(curated.shape)\n",
    "curated.head(3)"
   ]
  },
  {
   "cell_type": "markdown",
   "metadata": {},
   "source": [
    "## Plotting"
   ]
  },
  {
   "cell_type": "code",
   "execution_count": 8,
   "metadata": {},
   "outputs": [],
   "source": [
    "import seaborn as sns\n",
    "import matplotlib.pyplot as plt\n",
    "%matplotlib inline"
   ]
  },
  {
   "cell_type": "code",
   "execution_count": 9,
   "metadata": {},
   "outputs": [],
   "source": [
    "Y_COLUMN = \"housing: median growth avg\"\n",
    "\n",
    "def plot_subset(df, find=False, name=\"pairplot.png\", display=True, root=False):\n",
    "    y_column = Y_COLUMN\n",
    "    if (root):\n",
    "        y_column += \" root\"\n",
    "\n",
    "    if (find):\n",
    "        print(f\"using \\\"{find}\\\" to filter\")\n",
    "\n",
    "        # get the filtered df\n",
    "        df = df.copy()\n",
    "        df = df[filter_columns(df, find=[find, y_column])]\n",
    "\n",
    "    # print the shape and ask to continue\n",
    "    response = input(f\"frame has {df.shape[1]} columns, wish to proceed? (y)\")\n",
    "    if (response.lower() != \"y\"):\n",
    "        return\n",
    "\n",
    "    print(filter_columns(df, avoid=[y_column]))\n",
    "\n",
    "    # graph\n",
    "    sns.set_style('white')\n",
    "    pairplot = sns.pairplot(df, y_vars=y_column, x_vars=df.columns, diag_kind=None)# #plot_kws={'alpha': 0.6})\n",
    "\n",
    "    # save and show\n",
    "    pairplot.figure.savefig(name + \".png\", bbox_inches='tight', facecolor='white')\n",
    "    if (display):\n",
    "        plt.show()"
   ]
  },
  {
   "cell_type": "markdown",
   "metadata": {},
   "source": [
    "### Distance"
   ]
  },
  {
   "cell_type": "code",
   "execution_count": 10,
   "metadata": {},
   "outputs": [
    {
     "name": "stdout",
     "output_type": "stream",
     "text": [
      "using \"distance:\" to filter\n"
     ]
    },
    {
     "name": "stdout",
     "output_type": "stream",
     "text": [
      "using \"distance:\" to filter\n"
     ]
    }
   ],
   "source": [
    "plot_subset(filter_frame(curated, type=\"house\"), \"distance:\")\n",
    "plot_subset(filter_frame(curated, type=\"flat\"), \"distance:\")"
   ]
  },
  {
   "cell_type": "markdown",
   "metadata": {},
   "source": [
    "### Housing"
   ]
  },
  {
   "cell_type": "code",
   "execution_count": 11,
   "metadata": {},
   "outputs": [
    {
     "name": "stdout",
     "output_type": "stream",
     "text": [
      "using \"housing:\" to filter\n"
     ]
    },
    {
     "name": "stdout",
     "output_type": "stream",
     "text": [
      "using \"housing:\" to filter\n"
     ]
    }
   ],
   "source": [
    "plot_subset(filter_frame(curated, type=\"house\"), \"housing:\")\n",
    "plot_subset(filter_frame(curated, type=\"flat\"), \"housing:\")"
   ]
  },
  {
   "cell_type": "code",
   "execution_count": 12,
   "metadata": {},
   "outputs": [
    {
     "name": "stdout",
     "output_type": "stream",
     "text": [
      "housing: previous price          -0.355480\n",
      "housing: median                  -0.207310\n",
      "housing: count growth            -0.147125\n",
      "housing: count                   -0.144862\n",
      "housing: previous count growth   -0.122718\n",
      "housing: previous count          -0.101524\n",
      "housing: previous growth          0.579776\n",
      "housing: previous growth avg      0.732234\n",
      "housing: median growth            0.918211\n",
      "housing: median growth avg        1.000000\n",
      "Name: housing: median growth avg, dtype: float64\n",
      "housing: previous price          -0.255966\n",
      "housing: median                  -0.162964\n",
      "housing: previous count          -0.127517\n",
      "housing: count                   -0.122916\n",
      "housing: previous count growth   -0.107006\n",
      "housing: count growth             0.022862\n",
      "housing: previous growth          0.606603\n",
      "housing: previous growth avg      0.761395\n",
      "housing: median growth            0.894960\n",
      "housing: median growth avg        1.000000\n",
      "Name: housing: median growth avg, dtype: float64\n"
     ]
    },
    {
     "name": "stderr",
     "output_type": "stream",
     "text": [
      "/tmp/ipykernel_111039/1189150039.py:1: FutureWarning: The default value of numeric_only in DataFrame.corr is deprecated. In a future version, it will default to False. Select only valid columns or specify the value of numeric_only to silence this warning.\n",
      "  print(filter_frame(curated, type=\"flat\")[filter_columns(curated, find=[\"housing: \"])].corr()[Y_COLUMN].sort_values())\n",
      "/tmp/ipykernel_111039/1189150039.py:2: FutureWarning: The default value of numeric_only in DataFrame.corr is deprecated. In a future version, it will default to False. Select only valid columns or specify the value of numeric_only to silence this warning.\n",
      "  print(filter_frame(curated, type=\"house\")[filter_columns(curated, find=[\"housing: \"])].corr()[Y_COLUMN].sort_values())\n"
     ]
    }
   ],
   "source": [
    "print(filter_frame(curated, type=\"flat\")[filter_columns(curated, find=[\"housing: \"])].corr()[Y_COLUMN].sort_values())\n",
    "print(filter_frame(curated, type=\"house\")[filter_columns(curated, find=[\"housing: \"])].corr()[Y_COLUMN].sort_values())"
   ]
  },
  {
   "cell_type": "markdown",
   "metadata": {},
   "source": [
    "### Population (not total)"
   ]
  },
  {
   "cell_type": "code",
   "execution_count": 13,
   "metadata": {},
   "outputs": [],
   "source": [
    "POP_COLUMNS = filter_columns(curated, find=[\"population: \", \"growth\"], require_all=True) + filter_columns(curated, find=[\"housing: median growth\"])\n",
    "\n",
    "plot_subset(filter_frame(curated, type=\"house\")[POP_COLUMNS], name=\"population house\")\n",
    "plot_subset(filter_frame(curated, type=\"flat\")[POP_COLUMNS], name=\"population flat\")"
   ]
  },
  {
   "cell_type": "code",
   "execution_count": 14,
   "metadata": {},
   "outputs": [
    {
     "name": "stdout",
     "output_type": "stream",
     "text": [
      "population: 65-69 growth     -0.012840\n",
      "population: 50-54 growth      0.030216\n",
      "population: 60-69 growth      0.070893\n",
      "population: 0-4 growth        0.109553\n",
      "population: 60-64 growth      0.111986\n",
      "population: 70-74 growth      0.113121\n",
      "population: 80-84 growth      0.114920\n",
      "population: 50-59 growth      0.117370\n",
      "population: 0-9 growth        0.142729\n",
      "population: 75-79 growth      0.146165\n",
      "population: 5-9 growth        0.152826\n",
      "population: 55-59 growth      0.156595\n",
      "population: 70-79 growth      0.190870\n",
      "population: 80-89 growth      0.203963\n",
      "population: 85+ growth        0.205900\n",
      "population: 45-49 growth      0.272578\n",
      "population: 10-14 growth      0.281404\n",
      "population: 40-44 growth      0.366014\n",
      "population: 35-39 growth      0.414083\n",
      "population: 15-19 growth      0.416585\n",
      "population: 40-49 growth      0.417957\n",
      "population: 20-24 growth      0.445861\n",
      "population: 25-29 growth      0.513763\n",
      "population: 30-34 growth      0.515767\n",
      "population: 10-19 growth      0.520125\n",
      "population: 30-39 growth      0.530701\n",
      "population: 20-29 growth      0.535050\n",
      "population: total growth      0.665952\n",
      "housing: median growth avg    0.926024\n",
      "housing: median growth        1.000000\n",
      "Name: housing: median growth, dtype: float64\n",
      "\n",
      "\n",
      "population: 50-59 growth     -0.044634\n",
      "population: 50-54 growth     -0.032198\n",
      "population: 55-59 growth     -0.020823\n",
      "population: 75-79 growth      0.025062\n",
      "population: 85+ growth        0.039882\n",
      "population: 80-84 growth      0.049952\n",
      "population: 80-89 growth      0.065940\n",
      "population: 65-69 growth      0.074946\n",
      "population: 15-19 growth      0.119167\n",
      "population: 25-29 growth      0.126713\n",
      "population: 45-49 growth      0.129298\n",
      "population: 5-9 growth        0.138238\n",
      "population: 70-79 growth      0.143408\n",
      "population: 0-4 growth        0.146733\n",
      "population: 20-24 growth      0.146942\n",
      "population: 20-29 growth      0.147390\n",
      "population: 70-74 growth      0.151013\n",
      "population: 0-9 growth        0.157411\n",
      "population: 40-44 growth      0.178663\n",
      "population: 35-39 growth      0.183876\n",
      "population: 40-49 growth      0.192185\n",
      "population: 60-69 growth      0.199488\n",
      "population: 30-34 growth      0.201404\n",
      "population: 60-64 growth      0.205026\n",
      "population: 30-39 growth      0.215066\n",
      "population: 10-19 growth      0.231273\n",
      "population: 10-14 growth      0.232106\n",
      "population: total growth      0.245451\n",
      "housing: median growth avg    0.805288\n",
      "housing: median growth        1.000000\n",
      "Name: housing: median growth, dtype: float64\n"
     ]
    }
   ],
   "source": [
    "print(filter_frame(curated, type=\"flat\", start_year=22, end_year=23)[POP_COLUMNS].corr()[\"housing: median growth\"].sort_values())\n",
    "print(\"\\n\")\n",
    "print(filter_frame(curated, type=\"house\", start_year=22, end_year=23)[POP_COLUMNS].corr()[\"housing: median growth\"].sort_values())"
   ]
  },
  {
   "cell_type": "markdown",
   "metadata": {},
   "source": [
    "### Population Total"
   ]
  },
  {
   "cell_type": "code",
   "execution_count": 15,
   "metadata": {},
   "outputs": [],
   "source": [
    "POP_COLUMNS = filter_columns(curated, find=[\"population: \", \"total\"], require_all=True) + filter_columns(curated, find=[\"housing: median growth\"])\n",
    "\n",
    "plot_subset(filter_frame(curated, type=\"house\")[POP_COLUMNS], name=\"population total house\")\n",
    "plot_subset(filter_frame(curated, type=\"flat\")[POP_COLUMNS], name=\"population total flat\")"
   ]
  },
  {
   "cell_type": "code",
   "execution_count": 16,
   "metadata": {},
   "outputs": [
    {
     "name": "stdout",
     "output_type": "stream",
     "text": [
      "population: total            -0.029168\n",
      "population: total growth      0.249894\n",
      "housing: median growth avg    0.918211\n",
      "housing: median growth        1.000000\n",
      "Name: housing: median growth, dtype: float64\n",
      "\n",
      "\n",
      "population: total            -0.066097\n",
      "population: total growth      0.246820\n",
      "housing: median growth avg    0.894960\n",
      "housing: median growth        1.000000\n",
      "Name: housing: median growth, dtype: float64\n"
     ]
    }
   ],
   "source": [
    "print(filter_frame(curated, type=\"flat\")[POP_COLUMNS].corr()[\"housing: median growth\"].sort_values())\n",
    "print(\"\\n\")\n",
    "print(filter_frame(curated, type=\"house\")[POP_COLUMNS].corr()[\"housing: median growth\"].sort_values())"
   ]
  },
  {
   "cell_type": "markdown",
   "metadata": {},
   "source": [
    "### Studying"
   ]
  },
  {
   "cell_type": "code",
   "execution_count": 17,
   "metadata": {},
   "outputs": [],
   "source": [
    "STUDY_COLUMNS = filter_columns(curated, find=[\"study\", \"%\"], require_all=True) + filter_columns(curated, find=[\"housing: median growth\"])\n",
    "\n",
    "plot_subset(filter_frame(curated, type=\"house\", start_year=22, end_year=23)[STUDY_COLUMNS], name=\"study house\")\n",
    "plot_subset(filter_frame(curated, type=\"flat\", start_year=22, end_year=23)[STUDY_COLUMNS], name=\"study flat\")"
   ]
  },
  {
   "cell_type": "code",
   "execution_count": 18,
   "metadata": {},
   "outputs": [
    {
     "name": "stdout",
     "output_type": "stream",
     "text": [
      "studying: tertiary total (%)         -0.034239\n",
      "studying: primary other (%)          -0.020106\n",
      "studying: tafe total (%)             -0.008364\n",
      "studying: secondary total (%)         0.011617\n",
      "studying: secondary government (%)    0.021185\n",
      "studying: secondary catholic (%)      0.023574\n",
      "studying: primary catholic (%)        0.025759\n",
      "studying: primary total (%)           0.028186\n",
      "studying: primary government (%)      0.031979\n",
      "studying: preschool (%)               0.032842\n",
      "housing: median growth avg            0.918211\n",
      "housing: median growth                1.000000\n",
      "Name: housing: median growth, dtype: float64\n",
      "\n",
      "\n",
      "studying: secondary total (%)        -0.033728\n",
      "studying: tertiary total (%)         -0.028062\n",
      "studying: primary other (%)          -0.019719\n",
      "studying: primary total (%)          -0.017587\n",
      "studying: secondary government (%)   -0.017443\n",
      "studying: primary government (%)     -0.009900\n",
      "studying: secondary catholic (%)     -0.008741\n",
      "studying: primary catholic (%)       -0.006449\n",
      "studying: preschool (%)              -0.006250\n",
      "studying: tafe total (%)              0.004040\n",
      "housing: median growth avg            0.894960\n",
      "housing: median growth                1.000000\n",
      "Name: housing: median growth, dtype: float64\n"
     ]
    }
   ],
   "source": [
    "print(filter_frame(curated, type=\"flat\")[STUDY_COLUMNS].corr()[\"housing: median growth\"].sort_values())\n",
    "print(\"\\n\")\n",
    "print(filter_frame(curated, type=\"house\")[STUDY_COLUMNS].corr()[\"housing: median growth\"].sort_values())"
   ]
  },
  {
   "cell_type": "markdown",
   "metadata": {},
   "source": [
    "### Relationships"
   ]
  },
  {
   "cell_type": "code",
   "execution_count": 19,
   "metadata": {},
   "outputs": [],
   "source": [
    "RELATIONSHIPS_COLUMNS = filter_columns(curated, find=[\"relationships\", \"%\"], require_all=True) + filter_columns(curated, find=[\"housing: median growth\"])\n",
    "\n",
    "plot_subset(filter_frame(curated, type=\"house\", start_year=22, end_year=23)[RELATIONSHIPS_COLUMNS], name=\"relationships house\")\n",
    "plot_subset(filter_frame(curated, type=\"flat\", start_year=22, end_year=23)[RELATIONSHIPS_COLUMNS], name=\"relationships flat\")"
   ]
  },
  {
   "cell_type": "code",
   "execution_count": 21,
   "metadata": {},
   "outputs": [
    {
     "name": "stdout",
     "output_type": "stream",
     "text": [
      "relationships: non dependent child (%)        -0.323492\n",
      "relationships: married (%)                    -0.298578\n",
      "relationships: dependent student (%)          -0.259016\n",
      "relationships: lone parents (%)               -0.244314\n",
      "relationships: other related individual (%)    0.032722\n",
      "relationships: defacto (%)                     0.210890\n",
      "relationships: lone persons (%)                0.309547\n",
      "relationships: group household (%)             0.340148\n",
      "housing: median growth avg                     0.926024\n",
      "housing: median growth                         1.000000\n",
      "Name: housing: median growth, dtype: float64\n",
      "\n",
      "\n",
      "relationships: group household (%)            -0.115638\n",
      "relationships: defacto (%)                    -0.112123\n",
      "relationships: dependent student (%)          -0.051615\n",
      "relationships: lone persons (%)                0.001877\n",
      "relationships: other related individual (%)    0.045534\n",
      "relationships: married (%)                     0.051738\n",
      "relationships: non dependent child (%)         0.068599\n",
      "relationships: lone parents (%)                0.132507\n",
      "housing: median growth avg                     0.805288\n",
      "housing: median growth                         1.000000\n",
      "Name: housing: median growth, dtype: float64\n"
     ]
    }
   ],
   "source": [
    "print(filter_frame(curated, type=\"flat\", start_year=22, end_year=23)[RELATIONSHIPS_COLUMNS].corr()[\"housing: median growth\"].sort_values())\n",
    "print(\"\\n\")\n",
    "print(filter_frame(curated, type=\"house\", start_year=22, end_year=23)[RELATIONSHIPS_COLUMNS].corr()[\"housing: median growth\"].sort_values())"
   ]
  },
  {
   "cell_type": "markdown",
   "metadata": {},
   "source": [
    "### Economic"
   ]
  },
  {
   "cell_type": "code",
   "execution_count": 22,
   "metadata": {},
   "outputs": [],
   "source": [
    "ECONOMIC_COLUMNS = filter_columns(curated, find=[\"economic: \"], require_all=True) + filter_columns(curated, find=[\"housing: median growth\"])\n",
    "\n",
    "plot_subset(filter_frame(curated, type=\"house\", start_year=22, end_year=23)[ECONOMIC_COLUMNS], name=\"relationships house\")\n",
    "plot_subset(filter_frame(curated, type=\"flat\", start_year=22, end_year=23)[ECONOMIC_COLUMNS], name=\"relationships flat\")"
   ]
  },
  {
   "cell_type": "code",
   "execution_count": 24,
   "metadata": {},
   "outputs": [
    {
     "name": "stdout",
     "output_type": "stream",
     "text": [
      "economic: gdp per capita quarterly        -0.552718\n",
      "economic: trimmed mean quarterly          -0.552718\n",
      "economic: median age of earners           -0.214159\n",
      "economic: number of earners               -0.063016\n",
      "economic: median income                   -0.025452\n",
      "economic: gini coefficient                 0.185838\n",
      "economic: variable interest rate           0.552718\n",
      "economic: net inflation                    0.552718\n",
      "economic: variable interest rate growth    0.552718\n",
      "housing: median growth avg                 0.926024\n",
      "housing: median growth                     1.000000\n",
      "Name: housing: median growth, dtype: float64\n",
      "\n",
      "\n",
      "economic: gdp per capita quarterly        -0.363385\n",
      "economic: trimmed mean quarterly          -0.363385\n",
      "economic: median income                   -0.212123\n",
      "economic: gini coefficient                -0.064385\n",
      "economic: number of earners                0.070352\n",
      "economic: median age of earners            0.084169\n",
      "economic: variable interest rate           0.363385\n",
      "economic: variable interest rate growth    0.363385\n",
      "economic: net inflation                    0.363385\n",
      "housing: median growth avg                 0.805288\n",
      "housing: median growth                     1.000000\n",
      "Name: housing: median growth, dtype: float64\n"
     ]
    }
   ],
   "source": [
    "print(filter_frame(curated, type=\"flat\", start_year=22, end_year=23)[ECONOMIC_COLUMNS].corr()[\"housing: median growth\"].sort_values())\n",
    "print(\"\\n\")\n",
    "print(filter_frame(curated, type=\"house\", start_year=22, end_year=23)[ECONOMIC_COLUMNS].corr()[\"housing: median growth\"].sort_values())"
   ]
  },
  {
   "cell_type": "markdown",
   "metadata": {},
   "source": [
    "### Overseas"
   ]
  },
  {
   "cell_type": "code",
   "execution_count": 25,
   "metadata": {},
   "outputs": [],
   "source": [
    "OVERSEAS_COLUMNS = filter_columns(curated, find=[\"oversea\"], require_all=True) + filter_columns(curated, find=[\"housing: median growth\"])\n",
    "\n",
    "plot_subset(filter_frame(curated, type=\"house\", start_year=22, end_year=23)[OVERSEAS_COLUMNS], name=\"overseas house\")\n",
    "plot_subset(filter_frame(curated, type=\"flat\", start_year=22, end_year=23)[OVERSEAS_COLUMNS], name=\"overseas flat\")"
   ]
  },
  {
   "cell_type": "markdown",
   "metadata": {},
   "source": [
    "## Outliers"
   ]
  },
  {
   "cell_type": "code",
   "execution_count": 26,
   "metadata": {},
   "outputs": [],
   "source": [
    "# filter out spots less than 200 (to noisy)\n",
    "curated = curated[curated[\"housing: count\"] >= 200]"
   ]
  },
  {
   "cell_type": "markdown",
   "metadata": {},
   "source": [
    "## Transformations"
   ]
  },
  {
   "cell_type": "markdown",
   "metadata": {},
   "source": [
    "### Cubed root (not implemented at the moment, as just copy again in \"Log\")"
   ]
  },
  {
   "cell_type": "code",
   "execution_count": 27,
   "metadata": {},
   "outputs": [],
   "source": [
    "# do the log transforms\n",
    "ROOT_FEATURES = [\"housing: median growth\"]\n",
    "\n",
    "curated_final = curated.copy()\n",
    "for feature in ROOT_FEATURES:\n",
    "    curated_final.loc[:, feature + \" root\"] = curated[feature].apply(np.cbrt)\n",
    "\n",
    "plot_subset(filter_frame(curated_final, type=\"house\")[filter_columns(curated_final, find=[\"root\", \"housing:\"])], name=\"root transformation housing\", root=True)\n",
    "plot_subset(filter_frame(curated_final, type=\"flat\")[filter_columns(curated_final, find=[\"root\", \"housing:\"])], name=\"root transformation flat\", root=True)"
   ]
  },
  {
   "cell_type": "markdown",
   "metadata": {},
   "source": [
    "### Log"
   ]
  },
  {
   "cell_type": "code",
   "execution_count": 30,
   "metadata": {},
   "outputs": [
    {
     "data": {
      "text/plain": [
       "['relationships: other related individual (%)',\n",
       " 'relationships: dependent student (%)',\n",
       " 'relationships: non dependent child (%)',\n",
       " 'relationships: lone parents (%)',\n",
       " 'relationships: defacto (%)',\n",
       " 'relationships: lone persons (%)',\n",
       " 'relationships: group household (%)',\n",
       " 'relationships: married (%)',\n",
       " 'studying: secondary catholic (%)',\n",
       " 'studying: preschool (%)',\n",
       " 'studying: primary other (%)',\n",
       " 'studying: primary catholic (%)',\n",
       " 'studying: secondary government (%)',\n",
       " 'studying: secondary total (%)',\n",
       " 'studying: tertiary total (%)',\n",
       " 'studying: tafe total (%)',\n",
       " 'studying: primary government (%)',\n",
       " 'studying: primary total (%)']"
      ]
     },
     "execution_count": 30,
     "metadata": {},
     "output_type": "execute_result"
    }
   ],
   "source": [
    "[x for x in curated.columns if \"(%)\" in x]"
   ]
  },
  {
   "cell_type": "code",
   "execution_count": 29,
   "metadata": {},
   "outputs": [
    {
     "ename": "KeyError",
     "evalue": "'overseas: 5 years (%)'",
     "output_type": "error",
     "traceback": [
      "\u001b[0;31m---------------------------------------------------------------------------\u001b[0m",
      "\u001b[0;31mKeyError\u001b[0m                                  Traceback (most recent call last)",
      "File \u001b[0;32m~/anaconda3/lib/python3.9/site-packages/pandas/core/indexes/base.py:3802\u001b[0m, in \u001b[0;36mIndex.get_loc\u001b[0;34m(self, key, method, tolerance)\u001b[0m\n\u001b[1;32m   3801\u001b[0m \u001b[38;5;28;01mtry\u001b[39;00m:\n\u001b[0;32m-> 3802\u001b[0m     \u001b[38;5;28;01mreturn\u001b[39;00m \u001b[38;5;28;43mself\u001b[39;49m\u001b[38;5;241;43m.\u001b[39;49m\u001b[43m_engine\u001b[49m\u001b[38;5;241;43m.\u001b[39;49m\u001b[43mget_loc\u001b[49m\u001b[43m(\u001b[49m\u001b[43mcasted_key\u001b[49m\u001b[43m)\u001b[49m\n\u001b[1;32m   3803\u001b[0m \u001b[38;5;28;01mexcept\u001b[39;00m \u001b[38;5;167;01mKeyError\u001b[39;00m \u001b[38;5;28;01mas\u001b[39;00m err:\n",
      "File \u001b[0;32m~/anaconda3/lib/python3.9/site-packages/pandas/_libs/index.pyx:138\u001b[0m, in \u001b[0;36mpandas._libs.index.IndexEngine.get_loc\u001b[0;34m()\u001b[0m\n",
      "File \u001b[0;32m~/anaconda3/lib/python3.9/site-packages/pandas/_libs/index.pyx:165\u001b[0m, in \u001b[0;36mpandas._libs.index.IndexEngine.get_loc\u001b[0;34m()\u001b[0m\n",
      "File \u001b[0;32mpandas/_libs/hashtable_class_helper.pxi:5745\u001b[0m, in \u001b[0;36mpandas._libs.hashtable.PyObjectHashTable.get_item\u001b[0;34m()\u001b[0m\n",
      "File \u001b[0;32mpandas/_libs/hashtable_class_helper.pxi:5753\u001b[0m, in \u001b[0;36mpandas._libs.hashtable.PyObjectHashTable.get_item\u001b[0;34m()\u001b[0m\n",
      "\u001b[0;31mKeyError\u001b[0m: 'overseas: 5 years (%)'",
      "\nThe above exception was the direct cause of the following exception:\n",
      "\u001b[0;31mKeyError\u001b[0m                                  Traceback (most recent call last)",
      "Input \u001b[0;32mIn [29]\u001b[0m, in \u001b[0;36m<cell line: 10>\u001b[0;34m()\u001b[0m\n\u001b[1;32m      9\u001b[0m curated_final \u001b[38;5;241m=\u001b[39m curated\u001b[38;5;241m.\u001b[39mcopy()\n\u001b[1;32m     10\u001b[0m \u001b[38;5;28;01mfor\u001b[39;00m feature \u001b[38;5;129;01min\u001b[39;00m LOG_FEATURES:\n\u001b[0;32m---> 11\u001b[0m     curated_final\u001b[38;5;241m.\u001b[39mloc[:, feature \u001b[38;5;241m+\u001b[39m \u001b[38;5;124m\"\u001b[39m\u001b[38;5;124m log\u001b[39m\u001b[38;5;124m\"\u001b[39m] \u001b[38;5;241m=\u001b[39m \u001b[43mcurated\u001b[49m\u001b[43m[\u001b[49m\u001b[43mfeature\u001b[49m\u001b[43m]\u001b[49m\u001b[38;5;241m.\u001b[39mapply(np\u001b[38;5;241m.\u001b[39mlog)\n\u001b[1;32m     12\u001b[0m     curated_final\u001b[38;5;241m.\u001b[39mrename(columns\u001b[38;5;241m=\u001b[39m{feature: feature \u001b[38;5;241m+\u001b[39m \u001b[38;5;124m\"\u001b[39m\u001b[38;5;124m norm\u001b[39m\u001b[38;5;124m\"\u001b[39m}, inplace\u001b[38;5;241m=\u001b[39m\u001b[38;5;28;01mTrue\u001b[39;00m)\n\u001b[1;32m     15\u001b[0m plot_subset(filter_frame(curated_final, \u001b[38;5;28mtype\u001b[39m\u001b[38;5;241m=\u001b[39m\u001b[38;5;124m\"\u001b[39m\u001b[38;5;124mhouse\u001b[39m\u001b[38;5;124m\"\u001b[39m)[filter_columns(curated_final, find\u001b[38;5;241m=\u001b[39m[\u001b[38;5;124m\"\u001b[39m\u001b[38;5;124mlog\u001b[39m\u001b[38;5;124m\"\u001b[39m, \u001b[38;5;124m\"\u001b[39m\u001b[38;5;124mhousing: median\u001b[39m\u001b[38;5;124m\"\u001b[39m])], name\u001b[38;5;241m=\u001b[39m\u001b[38;5;124m\"\u001b[39m\u001b[38;5;124mtransformation housing\u001b[39m\u001b[38;5;124m\"\u001b[39m, root\u001b[38;5;241m=\u001b[39m\u001b[38;5;28;01mFalse\u001b[39;00m)\n",
      "File \u001b[0;32m~/anaconda3/lib/python3.9/site-packages/pandas/core/frame.py:3807\u001b[0m, in \u001b[0;36mDataFrame.__getitem__\u001b[0;34m(self, key)\u001b[0m\n\u001b[1;32m   3805\u001b[0m \u001b[38;5;28;01mif\u001b[39;00m \u001b[38;5;28mself\u001b[39m\u001b[38;5;241m.\u001b[39mcolumns\u001b[38;5;241m.\u001b[39mnlevels \u001b[38;5;241m>\u001b[39m \u001b[38;5;241m1\u001b[39m:\n\u001b[1;32m   3806\u001b[0m     \u001b[38;5;28;01mreturn\u001b[39;00m \u001b[38;5;28mself\u001b[39m\u001b[38;5;241m.\u001b[39m_getitem_multilevel(key)\n\u001b[0;32m-> 3807\u001b[0m indexer \u001b[38;5;241m=\u001b[39m \u001b[38;5;28;43mself\u001b[39;49m\u001b[38;5;241;43m.\u001b[39;49m\u001b[43mcolumns\u001b[49m\u001b[38;5;241;43m.\u001b[39;49m\u001b[43mget_loc\u001b[49m\u001b[43m(\u001b[49m\u001b[43mkey\u001b[49m\u001b[43m)\u001b[49m\n\u001b[1;32m   3808\u001b[0m \u001b[38;5;28;01mif\u001b[39;00m is_integer(indexer):\n\u001b[1;32m   3809\u001b[0m     indexer \u001b[38;5;241m=\u001b[39m [indexer]\n",
      "File \u001b[0;32m~/anaconda3/lib/python3.9/site-packages/pandas/core/indexes/base.py:3804\u001b[0m, in \u001b[0;36mIndex.get_loc\u001b[0;34m(self, key, method, tolerance)\u001b[0m\n\u001b[1;32m   3802\u001b[0m     \u001b[38;5;28;01mreturn\u001b[39;00m \u001b[38;5;28mself\u001b[39m\u001b[38;5;241m.\u001b[39m_engine\u001b[38;5;241m.\u001b[39mget_loc(casted_key)\n\u001b[1;32m   3803\u001b[0m \u001b[38;5;28;01mexcept\u001b[39;00m \u001b[38;5;167;01mKeyError\u001b[39;00m \u001b[38;5;28;01mas\u001b[39;00m err:\n\u001b[0;32m-> 3804\u001b[0m     \u001b[38;5;28;01mraise\u001b[39;00m \u001b[38;5;167;01mKeyError\u001b[39;00m(key) \u001b[38;5;28;01mfrom\u001b[39;00m \u001b[38;5;21;01merr\u001b[39;00m\n\u001b[1;32m   3805\u001b[0m \u001b[38;5;28;01mexcept\u001b[39;00m \u001b[38;5;167;01mTypeError\u001b[39;00m:\n\u001b[1;32m   3806\u001b[0m     \u001b[38;5;66;03m# If we have a listlike key, _check_indexing_error will raise\u001b[39;00m\n\u001b[1;32m   3807\u001b[0m     \u001b[38;5;66;03m#  InvalidIndexError. Otherwise we fall through and re-raise\u001b[39;00m\n\u001b[1;32m   3808\u001b[0m     \u001b[38;5;66;03m#  the TypeError.\u001b[39;00m\n\u001b[1;32m   3809\u001b[0m     \u001b[38;5;28mself\u001b[39m\u001b[38;5;241m.\u001b[39m_check_indexing_error(key)\n",
      "\u001b[0;31mKeyError\u001b[0m: 'overseas: 5 years (%)'"
     ]
    }
   ],
   "source": [
    "# do the log transforms\n",
    "LOG_FEATURES = [\"housing: previous count\", \"housing: count\"] + \\\n",
    "               [\"studying: tertiary total (%)\", \"studying: primary other (%)\", \"studying: tafe total (%)\"] + \\\n",
    "               [\"economic: number of earners\"] + \\\n",
    "               [\"population: total\"] + \\\n",
    "               [\"overseas: 5 years (%)\"] + \\\n",
    "               [\"distance: distance to cbd\", \"distance: crow distance to cbd\"]\n",
    "\n",
    "curated_final = curated.copy()\n",
    "for feature in LOG_FEATURES:\n",
    "    curated_final.loc[:, feature + \" log\"] = curated[feature].apply(np.log)\n",
    "    curated_final.rename(columns={feature: feature + \" norm\"}, inplace=True)\n",
    "\n",
    "\n",
    "plot_subset(filter_frame(curated_final, type=\"house\")[filter_columns(curated_final, find=[\"log\", \"housing: median\"])], name=\"transformation housing\", root=False)\n",
    "plot_subset(filter_frame(curated_final, type=\"flat\")[filter_columns(curated_final, find=[\"log\", \"housing: median\"])], name=\"transformation flat\", root=False)"
   ]
  },
  {
   "cell_type": "code",
   "execution_count": null,
   "metadata": {},
   "outputs": [
    {
     "name": "stdout",
     "output_type": "stream",
     "text": [
      "distance: crow distance to cbd log   -0.215810\n",
      "distance: distance to cbd log        -0.192655\n",
      "studying: primary other (%) log      -0.154974\n",
      "economic: number of earners log      -0.047088\n",
      "population: total persons log        -0.037280\n",
      "studying: tafe total (%) log          0.226281\n",
      "housing: count log                    0.232566\n",
      "studying: tertiary total (%) log      0.232669\n",
      "overseas: 5 years (%) log             0.266609\n",
      "housing: previous count log           0.295759\n",
      "housing: median                       0.481114\n",
      "housing: median growth avg            0.926024\n",
      "housing: median growth                1.000000\n",
      "Name: housing: median growth, dtype: float64\n",
      "\n",
      "\n",
      "studying: tertiary total (%) log     -0.197672\n",
      "overseas: 5 years (%) log            -0.083264\n",
      "housing: median                      -0.071006\n",
      "studying: primary other (%) log       0.013640\n",
      "housing: count log                    0.016711\n",
      "economic: number of earners log       0.031581\n",
      "housing: previous count log           0.050363\n",
      "population: total persons log         0.074444\n",
      "studying: tafe total (%) log          0.099596\n",
      "distance: distance to cbd log         0.209018\n",
      "distance: crow distance to cbd log    0.212785\n",
      "housing: median growth avg            0.805288\n",
      "housing: median growth                1.000000\n",
      "Name: housing: median growth, dtype: float64\n"
     ]
    }
   ],
   "source": [
    "print(filter_frame(curated_final, type=\"flat\", start_year=22, end_year=23)[filter_columns(curated_final, find=[\"log\", \"housing: median\"])].corr()[\"housing: median growth\"].sort_values())\n",
    "print(\"\\n\")\n",
    "print(filter_frame(curated_final, type=\"house\", start_year=22, end_year=23)[filter_columns(curated_final, find=[\"log\", \"housing: median\"])].corr()[\"housing: median growth\"].sort_values())"
   ]
  },
  {
   "cell_type": "markdown",
   "metadata": {},
   "source": [
    "## Interaction"
   ]
  },
  {
   "cell_type": "code",
   "execution_count": 95,
   "metadata": {},
   "outputs": [],
   "source": [
    "def get_interaction(df, interaction_pairs):\n",
    "    # get all the interaction pairs\n",
    "    for column_1, column_2 in interaction_pairs:\n",
    "        new_name = f\"interaction: ({column_1}) & ({column_2})\"\n",
    "        df[new_name] = df[column_1] * df[column_2]\n",
    "    \n",
    "    return df"
   ]
  },
  {
   "cell_type": "code",
   "execution_count": 96,
   "metadata": {},
   "outputs": [],
   "source": [
    "POP_COLUMNS = filter_columns(curated_final, [\"population: \", \"growth\", \"0\", \"9\"], [\"interaction\"], require_all=True) + filter_columns(curated_final, [\"population:\", \"total\"], [\"norm\", \"interaction\"], require_all=True)\n",
    "\n",
    "# will get interaction between\n",
    "# - all population growths and distance / median income\n",
    "# - quarterly growths with distance / median income\n",
    "# - all population growths and teritary\n",
    "interaction_pairs = [(x, y) for x in filter_columns(curated_final, [\"distance:\", \"economic: median income\"], [\"inv\", \"norm\", \"interaction\"]) for y in POP_COLUMNS] + \\\n",
    "                    [(x, y) for x in filter_columns(curated_final, [\"distance:\", \"economic: median income\"], [\"inv\", \"norm\", \"interaction\"]) for y in ['economic: trimmed mean quarterly', 'economic: gdp per capita quarterly']] + \\\n",
    "                    [(x, y) for x in filter_columns(curated_final, [\"studying:\", \"tertiary\", \"log\"], [\"interaction\"], require_all=True) for y in POP_COLUMNS]\n",
    "\n",
    "curated_final = get_interaction(curated_final, interaction_pairs)"
   ]
  },
  {
   "cell_type": "code",
   "execution_count": 97,
   "metadata": {},
   "outputs": [],
   "source": [
    "INTERACTION_COLUMNS = filter_columns(curated_final, find=[\"interaction: \", \"population\", \": distance\"], require_all=True) + filter_columns(curated_final, find=[\"housing: median growth\"])\n",
    "\n",
    "plot_subset(filter_frame(curated_final, type=\"house\")[INTERACTION_COLUMNS], name=\"interaction house\")\n",
    "plot_subset(filter_frame(curated_final, type=\"flat\")[INTERACTION_COLUMNS], name=\"interaction flat\")"
   ]
  },
  {
   "cell_type": "code",
   "execution_count": 98,
   "metadata": {},
   "outputs": [
    {
     "name": "stdout",
     "output_type": "stream",
     "text": [
      "interaction: (distance: distance to cbd log) & (population: 70-79 growth)           -0.036252\n",
      "interaction: (distance: distance to cbd log) & (population: total persons log)       0.037565\n",
      "interaction: (distance: distance to cbd log) & (population: 80-89 growth)            0.042079\n",
      "interaction: (distance: distance to cbd log) & (population: 50-59 growth)            0.065393\n",
      "interaction: (distance: distance to cbd log) & (population: 30-39 growth)            0.103052\n",
      "interaction: (distance: distance to cbd log) & (population: 60-69 growth)            0.114543\n",
      "interaction: (distance: distance to cbd log) & (population: 40-49 growth)            0.157679\n",
      "interaction: (distance: distance to cbd log) & (population: 10-19 growth)            0.183080\n",
      "interaction: (distance: distance to cbd log) & (population: 0-9 growth)              0.195254\n",
      "interaction: (distance: distance to cbd log) & (population: total persons growth)    0.252431\n",
      "interaction: (distance: distance to cbd log) & (population: 20-29 growth)            0.366722\n",
      "housing: median growth avg                                                           0.918211\n",
      "housing: median growth                                                               1.000000\n",
      "Name: housing: median growth, dtype: float64\n",
      "\n",
      "\n",
      "interaction: (distance: distance to cbd log) & (population: 70-79 growth)           -0.043823\n",
      "interaction: (distance: distance to cbd log) & (population: total persons log)      -0.000700\n",
      "interaction: (distance: distance to cbd log) & (population: 10-19 growth)            0.044677\n",
      "interaction: (distance: distance to cbd log) & (population: 30-39 growth)            0.057128\n",
      "interaction: (distance: distance to cbd log) & (population: 50-59 growth)            0.077998\n",
      "interaction: (distance: distance to cbd log) & (population: 80-89 growth)            0.098479\n",
      "interaction: (distance: distance to cbd log) & (population: 40-49 growth)            0.139718\n",
      "interaction: (distance: distance to cbd log) & (population: 0-9 growth)              0.171216\n",
      "interaction: (distance: distance to cbd log) & (population: 60-69 growth)            0.201050\n",
      "interaction: (distance: distance to cbd log) & (population: total persons growth)    0.222556\n",
      "interaction: (distance: distance to cbd log) & (population: 20-29 growth)            0.272008\n",
      "housing: median growth avg                                                           0.894960\n",
      "housing: median growth                                                               1.000000\n",
      "Name: housing: median growth, dtype: float64\n"
     ]
    }
   ],
   "source": [
    "print(filter_frame(curated_final, type=\"flat\")[INTERACTION_COLUMNS].corr()[\"housing: median growth\"].sort_values())\n",
    "print(\"\\n\")\n",
    "print(filter_frame(curated_final, type=\"house\")[INTERACTION_COLUMNS].corr()[\"housing: median growth\"].sort_values())\n"
   ]
  },
  {
   "cell_type": "markdown",
   "metadata": {},
   "source": [
    "## Fitting the model"
   ]
  },
  {
   "cell_type": "code",
   "execution_count": 99,
   "metadata": {},
   "outputs": [],
   "source": [
    "from sklearn.model_selection import train_test_split\n",
    "from sklearn.linear_model import LinearRegression\n",
    "from sklearn.metrics import mean_squared_error, r2_score\n",
    "from sklearn.preprocessing import OneHotEncoder"
   ]
  },
  {
   "cell_type": "markdown",
   "metadata": {},
   "source": [
    "##### Overftting"
   ]
  },
  {
   "cell_type": "code",
   "execution_count": 22,
   "metadata": {},
   "outputs": [
    {
     "data": {
      "text/plain": [
       "126"
      ]
     },
     "execution_count": 22,
     "metadata": {},
     "output_type": "execute_result"
    }
   ],
   "source": [
    "##### FOR OVERFITTING / TRENDS ###########\n",
    "\n",
    "# include the following\n",
    "# - information about the region that doesn't change (economic)\n",
    "# - types of beds and the previous, price growth, count growth, log count, price\n",
    "# - number of people overseas 5 years ago\n",
    "# - population growth by each demographic\n",
    "# - population total count log\n",
    "# - percentage of the population studying and what not\n",
    "FEATURES = filter_columns(curated_final, find=[\"housing\"], avoid=[\"norm\", \"median growth\", \"housing: count\", \"housing: median\"]) + \\\n",
    "           filter_columns(curated_final, find=[\"population:\", \"growth\"], require_all=True) + \\\n",
    "           filter_columns(curated_final, find=[\"population\", \"total\", \"log\"], require_all=True) + \\\n",
    "           filter_columns(curated_final, find=[\"overseas:\", \"log\"], require_all=True) + \\\n",
    "           filter_columns(curated_final, find=[\"economic\"], avoid=[\"growth\", \"inflation\", \"norm\", \"interest\"]) + \\\n",
    "           filter_columns(curated_final, find=[\"studying:\", \"(%)\"], avoid=[\"norm\"], require_all=True)\n",
    "CAT_FEATURES = [\"housing: type\"]\n",
    "\n",
    "len(FEATURES)"
   ]
  },
  {
   "cell_type": "markdown",
   "metadata": {},
   "source": [
    "##### Interaction"
   ]
  },
  {
   "cell_type": "code",
   "execution_count": 100,
   "metadata": {},
   "outputs": [
    {
     "data": {
      "text/plain": [
       "42"
      ]
     },
     "execution_count": 100,
     "metadata": {},
     "output_type": "execute_result"
    }
   ],
   "source": [
    "##### FOR all variables that can actually work ###########\n",
    "\n",
    "# include the following\n",
    "# - information about the region that doesn't change (economic)\n",
    "# - types of beds and the previous, price growth, count growth, log count, price\n",
    "# - number of people overseas 5 years ago\n",
    "# - population growth by each demographic\n",
    "# - population total count log\n",
    "# - percentage of the population studying and what not\n",
    "FEATURES = filter_columns(curated_final, find=[\"housing\"], avoid=[\"norm\", \"median growth\", \"housing: count\", \"housing: median\", \"interaction\", \"avg\"]) + \\\n",
    "           POP_COLUMNS + \\\n",
    "           filter_columns(curated_final, find=[\"economic\", \"quarterly\"], avoid=[\"distance\"], require_all=True) + \\\n",
    "           filter_columns(curated_final, find=[\"interaction\", \"population\"], avoid=[\"distance\"], require_all=True)\n",
    "           \n",
    "\n",
    "CAT_FEATURES = [\"housing: type\"]\n",
    "\n",
    "len(FEATURES)"
   ]
  },
  {
   "cell_type": "markdown",
   "metadata": {},
   "source": [
    "##### No interaction reasonable"
   ]
  },
  {
   "cell_type": "code",
   "execution_count": 471,
   "metadata": {},
   "outputs": [
    {
     "data": {
      "text/plain": [
       "23"
      ]
     },
     "execution_count": 471,
     "metadata": {},
     "output_type": "execute_result"
    }
   ],
   "source": [
    "##### FOR all variables that can actually work ###########\n",
    "\n",
    "# include the following\n",
    "# - information about the region that doesn't change (economic)\n",
    "# - types of beds and the previous, price growth, count growth, log count, price\n",
    "# - number of people overseas 5 years ago\n",
    "# - population growth by each demographic\n",
    "# - population total count log\n",
    "# - percentage of the population studying and what not\n",
    "FEATURES = filter_columns(curated_final, find=[\"housing\"], avoid=[\"norm\", \"median growth\", \"housing: count\", \"housing: median\", \"interaction\"]) + \\\n",
    "           POP_COLUMNS + \\\n",
    "           filter_columns(curated_final, find=[\"economic\", \"quarterly\"], avoid=[\"crow\"], require_all=True)\n",
    "\n",
    "CAT_FEATURES = [\"housing: type\"]\n",
    "\n",
    "len(FEATURES)"
   ]
  },
  {
   "cell_type": "code",
   "execution_count": 472,
   "metadata": {},
   "outputs": [
    {
     "data": {
      "text/plain": [
       "['housing: type',\n",
       " 'housing: previous growth',\n",
       " 'housing: previous price',\n",
       " 'housing: previous count growth',\n",
       " 'housing: previous growth avg',\n",
       " 'housing: previous count log',\n",
       " 'population: 0-9 growth',\n",
       " 'population: 10-19 growth',\n",
       " 'population: 20-29 growth',\n",
       " 'population: 30-39 growth',\n",
       " 'population: 40-49 growth',\n",
       " 'population: 50-59 growth',\n",
       " 'population: 60-69 growth',\n",
       " 'population: 70-79 growth',\n",
       " 'population: 80-89 growth',\n",
       " 'population: total persons growth',\n",
       " 'population: total persons log',\n",
       " 'economic: trimmed mean quarterly',\n",
       " 'economic: gdp per capita quarterly',\n",
       " 'interaction: (economic: median income) & (economic: trimmed mean quarterly)',\n",
       " 'interaction: (economic: median income) & (economic: gdp per capita quarterly)',\n",
       " 'interaction: (distance: distance to cbd log) & (economic: trimmed mean quarterly)',\n",
       " 'interaction: (distance: distance to cbd log) & (economic: gdp per capita quarterly)']"
      ]
     },
     "execution_count": 472,
     "metadata": {},
     "output_type": "execute_result"
    }
   ],
   "source": [
    "FEATURES"
   ]
  },
  {
   "cell_type": "markdown",
   "metadata": {},
   "source": [
    "##### No population growth everywhere"
   ]
  },
  {
   "cell_type": "code",
   "execution_count": 414,
   "metadata": {},
   "outputs": [
    {
     "data": {
      "text/plain": [
       "9"
      ]
     },
     "execution_count": 414,
     "metadata": {},
     "output_type": "execute_result"
    }
   ],
   "source": [
    "##### FOR very small model, only big population, economic and more ###########\n",
    "\n",
    "# include the following\n",
    "# - information about the region that doesn't change (economic)\n",
    "# - types of beds and the previous, price growth, count growth, log count, price\n",
    "# - number of people overseas 5 years ago\n",
    "# - population growth by each demographic\n",
    "# - population total count log\n",
    "# - percentage of the population studying and what not\n",
    "FEATURES = filter_columns(curated_final, find=[\"housing\"], avoid=[\"norm\", \"median growth\", \"housing: count\", \"housing: median\"]) + \\\n",
    "           filter_columns(curated_final, find=[\"economic\", \"quarterly\"], require_all=True) + \\\n",
    "           filter_columns(curated_final, find=[\"population\", \"total\", \"log\"], require_all=True)\n",
    "\n",
    "CAT_FEATURES = [\"housing: type\"]\n",
    "\n",
    "len(FEATURES)"
   ]
  },
  {
   "cell_type": "markdown",
   "metadata": {},
   "source": [
    "##### Smallest baseline"
   ]
  },
  {
   "cell_type": "code",
   "execution_count": 258,
   "metadata": {},
   "outputs": [
    {
     "data": {
      "text/plain": [
       "4"
      ]
     },
     "execution_count": 258,
     "metadata": {},
     "output_type": "execute_result"
    }
   ],
   "source": [
    "##### Smallest baseline ###########\n",
    "\n",
    "# only includes:\n",
    "# - previous growth rate\n",
    "# - inflation\n",
    "FEATURES = filter_columns(curated_final, find=[\"housing\", \"previous growth\"], require_all=True) + \\\n",
    "           filter_columns(curated_final, find=[\"economic\", \"quarterly\", \"trimmed\"], require_all=True) + \\\n",
    "           [\"housing: type\"]\n",
    "\n",
    "CAT_FEATURES = [\"housing: type\"]\n",
    "\n",
    "len(FEATURES)"
   ]
  },
  {
   "cell_type": "markdown",
   "metadata": {},
   "source": [
    "### Functions"
   ]
  },
  {
   "cell_type": "code",
   "execution_count": 25,
   "metadata": {},
   "outputs": [],
   "source": [
    "def calculate_aic(model, X, y):\n",
    "    \"\"\"\n",
    "    Calculate the Akaike Information Criterion (AIC) for a given scikit-learn model.\n",
    "\n",
    "    Parameters:\n",
    "    - model: A fitted scikit-learn model that implements the `predict` method.\n",
    "    - X: Features (numpy array or pandas DataFrame) used for fitting the model.\n",
    "    - y: True target values (numpy array or pandas Series).\n",
    "\n",
    "    Returns:\n",
    "    - aic: The Akaike Information Criterion value.\n",
    "    \"\"\"\n",
    "    # Ensure the model has been fitted\n",
    "    if not hasattr(model, 'predict'):\n",
    "        raise ValueError(\"The model must implement the `predict` method and be fitted.\")\n",
    "\n",
    "    # Number of observations\n",
    "    n = len(y)\n",
    "\n",
    "    # Number of parameters (coefficients + intercept)\n",
    "    if hasattr(model, 'coef_'):\n",
    "        # Linear models (e.g., LinearRegression)\n",
    "        k = model.coef_.shape[0] + 1  # Coefficients + Intercept\n",
    "    else:\n",
    "        # Other models\n",
    "        k = len(model.get_params())\n",
    "\n",
    "    # Predicted values\n",
    "    y_pred = model.predict(X)\n",
    "\n",
    "    # Calculate residual sum of squares\n",
    "    residual_sum_of_squares = np.sum((y - y_pred) ** 2)\n",
    "\n",
    "    # Calculate AIC\n",
    "    aic = n * np.log(residual_sum_of_squares / n) + 2 * k\n",
    "    return aic"
   ]
  },
  {
   "cell_type": "code",
   "execution_count": 26,
   "metadata": {},
   "outputs": [],
   "source": [
    "def forward_selection_with_validation(X_select_train, y_select_train, X_select_val, y_select_val, validation_size=0.2, random_state=42, use_aic=True):\n",
    "    \"\"\"\n",
    "    Perform forward selection using a validation set to choose the best set of features for linear regression.\n",
    "    \n",
    "    Args:\n",
    "    X: Features (DataFrame)\n",
    "    y: Target variable (Series)\n",
    "    validation_size: Fraction of data to use as validation set (default 0.2)\n",
    "    random_state: Random seed for reproducibility (default 42)\n",
    "    \n",
    "    Returns:\n",
    "    best_features: List of selected features based on validation set performance\n",
    "    final_model: Trained linear regression model using the selected features\n",
    "    \"\"\"\n",
    "\n",
    "    # Rename\n",
    "    X_train, y_train, X_val, y_val = X_select_train, y_select_train, X_select_val, y_select_val\n",
    "    \n",
    "    # Initialize variables\n",
    "    initial_features = []\n",
    "    remaining_features = list(X_train.columns)\n",
    "    best_features = []\n",
    "    best_score = float('inf')  # Start with a very high RMSE\n",
    "    \n",
    "    # Iterate through all features to add one by one\n",
    "    while remaining_features:\n",
    "        scores_with_candidates = []\n",
    "        \n",
    "        # Try adding each remaining feature to the model\n",
    "        for candidate in remaining_features:\n",
    "            # Features to include in the model\n",
    "            features_to_test = initial_features + [candidate]\n",
    "            \n",
    "            # Fit a linear regression model using the current feature set\n",
    "            model = LinearRegression()\n",
    "            model.fit(X_train[features_to_test], y_train)\n",
    "            \n",
    "            if (not use_aic):\n",
    "                # Predict and calculate RMSE on the validation set\n",
    "                y_val_pred = model.predict(X_val[features_to_test])\n",
    "                rmse = np.sqrt(mean_squared_error(y_val, y_val_pred))\n",
    "\n",
    "                # Store the result: (rmse, feature_name)\n",
    "                scores_with_candidates.append((rmse, candidate))\n",
    "                \n",
    "            else:\n",
    "                # get the AIC\n",
    "                aic = calculate_aic(model, X_val[features_to_test], y_val)\n",
    "                scores_with_candidates.append((aic, candidate))\n",
    "        \n",
    "        # Sort by RMSE, select the best candidate feature\n",
    "        scores_with_candidates.sort(reverse=False)\n",
    "        best_new_score, best_new_feature = scores_with_candidates[0]\n",
    "        \n",
    "        # If the score improves, update the best features list\n",
    "        if best_new_score < best_score:\n",
    "            initial_features.append(best_new_feature)\n",
    "            remaining_features.remove(best_new_feature)\n",
    "            best_features = initial_features.copy()\n",
    "            best_score = best_new_score\n",
    "            if (use_aic):\n",
    "                print(f\"Selected '{best_new_feature}' with AIC: {best_new_score:.4f}\")\n",
    "            else:\n",
    "                print(f\"Selected '{best_new_feature}' with RMSE: {best_new_score:.4f}\")\n",
    "        else:\n",
    "            break  # Stop if adding a new feature doesn't improve the score\n",
    "    \n",
    "    return best_features, best_score\n"
   ]
  },
  {
   "cell_type": "code",
   "execution_count": 27,
   "metadata": {},
   "outputs": [],
   "source": [
    "def get_mask(df, start_year, end_year=False):\n",
    "    if (not end_year):\n",
    "        mask = df[\"year groups\"] == start_year\n",
    "    else:\n",
    "        mask = ((df[\"year groups\"] >= start_year) &\n",
    "                (df[\"year groups\"] <= end_year))\n",
    "    return mask"
   ]
  },
  {
   "cell_type": "code",
   "execution_count": 28,
   "metadata": {},
   "outputs": [],
   "source": [
    "TEST_COLUMN = \"housing: median growth\"\n",
    "\n",
    "def get_data(df, start_year, end_year, test_year, features):\n",
    "\n",
    "    # remove `all`` properties\n",
    "    df_filt = df.copy()[(df[\"housing: type\"] == \"house\")] #& (curated_final[\"housing: beds\"] == \"3\")]\n",
    "    not_na_mask = ~df_filt[features + [TEST_COLUMN]].isna().any(axis=1)\n",
    "\n",
    "    # test mask\n",
    "    test_mask = get_mask(df_filt, test_year) & not_na_mask\n",
    "\n",
    "    # get the mask forward selection\n",
    "    selection_train_masks = [get_mask(df_filt, start_year, end_year=end_year-1) & not_na_mask for start_year in range(start_year, end_year)]\n",
    "    selection_val_mask = get_mask(df_filt, end_year) & not_na_mask\n",
    "\n",
    "    # get the train test features\n",
    "    X = df_filt[features]\n",
    "    y = df_filt[TEST_COLUMN]\n",
    "\n",
    "    # Step 3: One-Hot Encode the categorical features\n",
    "    X = pd.get_dummies(X, columns=list(set(CAT_FEATURES) & set(features)), drop_first=True)\n",
    "\n",
    "    # split the train and test\n",
    "    X_train, y_train, X_test, y_test = X[selection_train_masks[0]], y[selection_train_masks[0]], X[test_mask], y[test_mask]\n",
    "\n",
    "    # store in dictionary\n",
    "    data_dict = {\n",
    "        \"X_train\": X_train,\n",
    "        \"y_train\": y_train,\n",
    "        \"X_test\": X_test, \n",
    "        \"y_test\": y_test,\n",
    "        \"X\": X,\n",
    "        \"y\": y,\n",
    "        \"train_masks\": selection_train_masks,\n",
    "        \"val_mask\": selection_val_mask\n",
    "        }\n",
    "    return data_dict"
   ]
  },
  {
   "cell_type": "code",
   "execution_count": 29,
   "metadata": {},
   "outputs": [],
   "source": [
    "def get_train_test(df, start_year, end_year, test_year, features):\n",
    "    data_dict = get_data(df, start_year, end_year, test_year, features)\n",
    "\n",
    "    # get the datasets\n",
    "    train_mask = data_dict[\"train_masks\"][0]\n",
    "    val_mask = data_dict[\"val_mask\"]\n",
    "    X = data_dict[\"X\"]\n",
    "    y = data_dict[\"y\"]\n",
    "    X_test = data_dict[\"X_test\"]\n",
    "    y_test = data_dict[\"y_test\"]\n",
    "\n",
    "    # split the validation\n",
    "    X_select_train, y_select_train, X_select_val, y_select_val = X[train_mask], y[train_mask], X[val_mask], y[val_mask]\n",
    "\n",
    "    # get the best features\n",
    "    best_features, score = forward_selection_with_validation(X_select_train, y_select_train, X_select_val, y_select_val, use_aic=True)\n",
    "\n",
    "    # get the best feature mask and split\n",
    "    X_train = X[train_mask][best_features]\n",
    "    y_train = y[train_mask]\n",
    "    X_test = X_test[best_features]\n",
    "\n",
    "    return X_train, y_train, X_test, y_test, best_features"
   ]
  },
  {
   "cell_type": "markdown",
   "metadata": {},
   "source": [
    "### Every batch"
   ]
  },
  {
   "cell_type": "code",
   "execution_count": 128,
   "metadata": {},
   "outputs": [
    {
     "name": "stdout",
     "output_type": "stream",
     "text": [
      "up to 2\n",
      "Selected 'population: total persons log' with AIC: -1105.7850\n",
      "Selected 'interaction: (economic: median income) & (population: 80-89 growth)' with AIC: -1105.9321\n",
      "up to 3\n",
      "Selected 'economic: gdp per capita quarterly' with AIC: -1049.4122\n",
      "Selected 'population: 80-89 growth' with AIC: -1053.3441\n",
      "Selected 'housing: previous count growth' with AIC: -1055.2310\n",
      "Selected 'interaction: (studying: tertiary total (%) log) & (population: 70-79 growth)' with AIC: -1057.6565\n",
      "up to 4\n",
      "Selected 'economic: trimmed mean quarterly' with AIC: -875.6259\n",
      "Selected 'housing: previous growth' with AIC: -881.3274\n",
      "Selected 'housing: previous count log' with AIC: -882.0787\n",
      "up to 5\n",
      "Selected 'economic: trimmed mean quarterly' with AIC: -883.0560\n",
      "Selected 'interaction: (studying: tertiary total (%) log) & (population: total persons log)' with AIC: -908.1014\n",
      "Selected 'housing: previous growth' with AIC: -916.4927\n",
      "Selected 'population: total persons log' with AIC: -918.8057\n",
      "Selected 'interaction: (economic: median income) & (population: 0-9 growth)' with AIC: -920.1096\n",
      "Selected 'housing: previous count growth' with AIC: -920.8382\n",
      "up to 6\n",
      "Selected 'housing: previous count growth' with AIC: -984.3744\n",
      "Selected 'interaction: (studying: tertiary total (%) log) & (population: 30-39 growth)' with AIC: -991.9086\n",
      "Selected 'population: total persons log' with AIC: -994.3282\n",
      "up to 7\n",
      "Selected 'interaction: (economic: median income) & (economic: trimmed mean quarterly)' with AIC: -798.5753\n",
      "Selected 'interaction: (economic: median income) & (population: 30-39 growth)' with AIC: -822.5675\n",
      "Selected 'interaction: (economic: median income) & (population: 80-89 growth)' with AIC: -837.2308\n",
      "Selected 'interaction: (studying: tertiary total (%) log) & (population: 80-89 growth)' with AIC: -866.1804\n",
      "Selected 'interaction: (studying: tertiary total (%) log) & (population: 0-9 growth)' with AIC: -871.7209\n",
      "Selected 'interaction: (economic: median income) & (population: 40-49 growth)' with AIC: -872.5027\n",
      "Selected 'interaction: (studying: tertiary total (%) log) & (population: 10-19 growth)' with AIC: -874.4741\n",
      "Selected 'housing: previous price' with AIC: -880.2221\n",
      "Selected 'housing: previous count log' with AIC: -882.4841\n",
      "Selected 'population: total persons growth' with AIC: -884.2907\n",
      "up to 8\n",
      "Selected 'economic: gdp per capita quarterly' with AIC: -1010.2891\n",
      "Selected 'interaction: (studying: tertiary total (%) log) & (population: 50-59 growth)' with AIC: -1016.2794\n",
      "up to 9\n",
      "Selected 'economic: trimmed mean quarterly' with AIC: -929.8523\n",
      "Selected 'housing: previous count log' with AIC: -941.9137\n",
      "Selected 'interaction: (studying: tertiary total (%) log) & (population: 10-19 growth)' with AIC: -951.7504\n",
      "up to 10\n",
      "Selected 'interaction: (economic: median income) & (economic: gdp per capita quarterly)' with AIC: -984.3937\n",
      "Selected 'interaction: (economic: median income) & (economic: trimmed mean quarterly)' with AIC: -1062.1522\n",
      "Selected 'housing: previous price' with AIC: -1064.3407\n",
      "up to 11\n",
      "Selected 'interaction: (economic: median income) & (economic: trimmed mean quarterly)' with AIC: -1087.5061\n",
      "up to 12\n",
      "Selected 'housing: previous price' with AIC: -1116.1576\n",
      "up to 13\n",
      "Selected 'interaction: (economic: median income) & (population: 10-19 growth)' with AIC: -1115.5612\n",
      "Selected 'interaction: (economic: median income) & (economic: trimmed mean quarterly)' with AIC: -1118.2858\n",
      "Selected 'interaction: (economic: median income) & (economic: gdp per capita quarterly)' with AIC: -1119.7230\n",
      "up to 14\n",
      "Selected 'interaction: (economic: median income) & (population: 30-39 growth)' with AIC: -1124.7671\n",
      "Selected 'interaction: (economic: median income) & (population: 0-9 growth)' with AIC: -1128.3514\n",
      "up to 15\n",
      "Selected 'interaction: (studying: tertiary total (%) log) & (population: total persons log)' with AIC: -1107.3109\n",
      "up to 16\n",
      "Selected 'interaction: (economic: median income) & (population: 20-29 growth)' with AIC: -1053.9808\n",
      "Selected 'economic: trimmed mean quarterly' with AIC: -1055.4207\n",
      "Selected 'housing: previous count growth' with AIC: -1056.9676\n",
      "up to 17\n",
      "Selected 'economic: gdp per capita quarterly' with AIC: -1029.5097\n",
      "Selected 'housing: previous price' with AIC: -1052.4978\n",
      "Selected 'interaction: (economic: median income) & (economic: gdp per capita quarterly)' with AIC: -1062.7332\n",
      "Selected 'population: total persons log' with AIC: -1069.2281\n",
      "up to 18\n",
      "Selected 'interaction: (economic: median income) & (population: 0-9 growth)' with AIC: -908.5451\n",
      "Selected 'housing: previous growth' with AIC: -917.6138\n",
      "Selected 'interaction: (studying: tertiary total (%) log) & (population: total persons log)' with AIC: -926.7924\n",
      "Selected 'housing: previous count log' with AIC: -933.9784\n",
      "up to 19\n",
      "Selected 'interaction: (economic: median income) & (population: 20-29 growth)' with AIC: -868.1975\n",
      "Selected 'interaction: (economic: median income) & (economic: trimmed mean quarterly)' with AIC: -909.8836\n",
      "Selected 'housing: previous growth' with AIC: -986.6130\n",
      "Selected 'interaction: (studying: tertiary total (%) log) & (population: total persons log)' with AIC: -1000.2786\n",
      "Selected 'housing: previous count log' with AIC: -1014.9056\n",
      "up to 20\n",
      "Selected 'interaction: (economic: median income) & (population: 20-29 growth)' with AIC: -913.5950\n",
      "Selected 'interaction: (studying: tertiary total (%) log) & (population: 10-19 growth)' with AIC: -931.0774\n",
      "Selected 'housing: previous growth' with AIC: -939.0965\n",
      "Selected 'housing: previous price' with AIC: -950.6922\n",
      "Selected 'interaction: (studying: tertiary total (%) log) & (population: 50-59 growth)' with AIC: -954.5389\n",
      "Selected 'housing: previous count growth' with AIC: -955.9117\n"
     ]
    },
    {
     "data": {
      "text/plain": [
       "[('population: 80-89 growth', 1),\n",
       " ('interaction: (studying: tertiary total (%) log) & (population: 70-79 growth)',\n",
       "  1),\n",
       " ('interaction: (studying: tertiary total (%) log) & (population: 30-39 growth)',\n",
       "  1),\n",
       " ('interaction: (studying: tertiary total (%) log) & (population: 80-89 growth)',\n",
       "  1),\n",
       " ('interaction: (studying: tertiary total (%) log) & (population: 0-9 growth)',\n",
       "  1),\n",
       " ('interaction: (economic: median income) & (population: 40-49 growth)', 1),\n",
       " ('population: total persons growth', 1),\n",
       " ('interaction: (economic: median income) & (population: 10-19 growth)', 1),\n",
       " ('interaction: (economic: median income) & (population: 80-89 growth)', 2),\n",
       " ('interaction: (economic: median income) & (population: 30-39 growth)', 2),\n",
       " ('interaction: (studying: tertiary total (%) log) & (population: 50-59 growth)',\n",
       "  2),\n",
       " ('economic: gdp per capita quarterly', 3),\n",
       " ('interaction: (economic: median income) & (population: 0-9 growth)', 3),\n",
       " ('interaction: (studying: tertiary total (%) log) & (population: 10-19 growth)',\n",
       "  3),\n",
       " ('interaction: (economic: median income) & (economic: gdp per capita quarterly)',\n",
       "  3),\n",
       " ('interaction: (economic: median income) & (population: 20-29 growth)', 3),\n",
       " ('population: total persons log', 4),\n",
       " ('economic: trimmed mean quarterly', 4),\n",
       " ('interaction: (studying: tertiary total (%) log) & (population: total persons log)',\n",
       "  4),\n",
       " ('housing: previous count growth', 5),\n",
       " ('housing: previous growth', 5),\n",
       " ('housing: previous count log', 5),\n",
       " ('interaction: (economic: median income) & (economic: trimmed mean quarterly)',\n",
       "  5),\n",
       " ('housing: previous price', 5)]"
      ]
     },
     "execution_count": 128,
     "metadata": {},
     "output_type": "execute_result"
    }
   ],
   "source": [
    "from collections import Counter\n",
    "\n",
    "TRAINING_SIZE = 3\n",
    "\n",
    "max_year = int(curated_final[\"year groups\"].max())\n",
    "min_year = int(curated_final[\"year groups\"].min())\n",
    "\n",
    "best_features_list = []\n",
    "for curr_start_year in range(min_year, max_year-TRAINING_SIZE+1):\n",
    "    print(\"up to\", curr_start_year)\n",
    "\n",
    "    # get the data dict\n",
    "    _a, _b, _c, _d, best_features = get_train_test(curated_final, curr_start_year, curr_start_year+TRAINING_SIZE, curr_start_year+TRAINING_SIZE+1, FEATURES)\n",
    "\n",
    "    best_features_list.append(best_features)\n",
    "\n",
    "flattened_features = [item for sublist in best_features_list for item in sublist]\n",
    "features_dict = dict(Counter(flattened_features))\n",
    "sorted(features_dict.items(), key=lambda x: x[1])"
   ]
  },
  {
   "cell_type": "code",
   "execution_count": 131,
   "metadata": {},
   "outputs": [
    {
     "data": {
      "text/plain": [
       "['population: total persons log',\n",
       " 'housing: previous count growth',\n",
       " 'economic: trimmed mean quarterly',\n",
       " 'housing: previous growth',\n",
       " 'housing: previous count log',\n",
       " 'interaction: (studying: tertiary total (%) log) & (population: total persons log)',\n",
       " 'interaction: (economic: median income) & (economic: trimmed mean quarterly)',\n",
       " 'housing: previous price']"
      ]
     },
     "execution_count": 131,
     "metadata": {},
     "output_type": "execute_result"
    }
   ],
   "source": [
    "COUNT_THRESH = 4\n",
    "\n",
    "[column_key for column_key, count in features_dict.items() if count >= COUNT_THRESH]"
   ]
  },
  {
   "cell_type": "code",
   "execution_count": 132,
   "metadata": {},
   "outputs": [],
   "source": [
    "ADD = 0\n",
    "\n",
    "START_YEAR = 0 + ADD\n",
    "END_YEAR = 4 + ADD\n",
    "TEST_YEAR = 5 + ADD\n",
    "\n",
    "SELECT_FEATURES_NO = [column_key for column_key, count in features_dict.items() if count >= COUNT_THRESH]\n",
    "\n",
    "dd = get_data(curated_final, START_YEAR, END_YEAR, TEST_YEAR, SELECT_FEATURES_NO)\n",
    "X_train, y_train, X_test, y_test = dd[\"X_train\"], dd[\"y_train\"], dd[\"X_test\"], dd[\"y_test\"]"
   ]
  },
  {
   "cell_type": "code",
   "execution_count": 136,
   "metadata": {},
   "outputs": [
    {
     "name": "stdout",
     "output_type": "stream",
     "text": [
      "2\n",
      "Random Forest Model Performance:\n",
      "Testing  R^2: -3.4065, RMSE: 0.0750\n",
      "\n",
      "Baseline Model (Median Predictor) Performance:\n",
      "Testing  R^2: -2.2119, RMSE: 0.0641\n",
      "3\n",
      "Random Forest Model Performance:\n",
      "Testing  R^2: -1.9427, RMSE: 0.0718\n",
      "\n",
      "Baseline Model (Median Predictor) Performance:\n",
      "Testing  R^2: -2.9722, RMSE: 0.0834\n",
      "4\n",
      "Random Forest Model Performance:\n",
      "Testing  R^2: -0.7919, RMSE: 0.0393\n",
      "\n",
      "Baseline Model (Median Predictor) Performance:\n",
      "Testing  R^2: -0.8408, RMSE: 0.0398\n",
      "5\n",
      "Random Forest Model Performance:\n",
      "Testing  R^2: -0.0830, RMSE: 0.0610\n",
      "\n",
      "Baseline Model (Median Predictor) Performance:\n",
      "Testing  R^2: -0.0016, RMSE: 0.0587\n",
      "6\n",
      "Random Forest Model Performance:\n",
      "Testing  R^2: -0.0957, RMSE: 0.0287\n",
      "\n",
      "Baseline Model (Median Predictor) Performance:\n",
      "Testing  R^2: -1.0063, RMSE: 0.0388\n",
      "7\n",
      "Random Forest Model Performance:\n",
      "Testing  R^2: -8.7245, RMSE: 0.0861\n",
      "\n",
      "Baseline Model (Median Predictor) Performance:\n",
      "Testing  R^2: -2.8746, RMSE: 0.0544\n",
      "8\n",
      "Random Forest Model Performance:\n",
      "Testing  R^2: -2.5771, RMSE: 0.0396\n",
      "\n",
      "Baseline Model (Median Predictor) Performance:\n",
      "Testing  R^2: -5.8914, RMSE: 0.0549\n",
      "9\n",
      "Random Forest Model Performance:\n",
      "Testing  R^2: -1.4677, RMSE: 0.0323\n",
      "\n",
      "Baseline Model (Median Predictor) Performance:\n",
      "Testing  R^2: -1.3380, RMSE: 0.0314\n",
      "10\n",
      "Random Forest Model Performance:\n",
      "Testing  R^2: -0.2738, RMSE: 0.0217\n",
      "\n",
      "Baseline Model (Median Predictor) Performance:\n",
      "Testing  R^2: -0.2876, RMSE: 0.0218\n",
      "11\n",
      "Random Forest Model Performance:\n",
      "Testing  R^2: -0.2948, RMSE: 0.0210\n",
      "\n",
      "Baseline Model (Median Predictor) Performance:\n",
      "Testing  R^2: -0.0010, RMSE: 0.0185\n",
      "12\n",
      "Random Forest Model Performance:\n",
      "Testing  R^2: -0.2780, RMSE: 0.0208\n",
      "\n",
      "Baseline Model (Median Predictor) Performance:\n",
      "Testing  R^2: -0.1277, RMSE: 0.0196\n",
      "13\n",
      "Random Forest Model Performance:\n",
      "Testing  R^2: -0.3436, RMSE: 0.0196\n",
      "\n",
      "Baseline Model (Median Predictor) Performance:\n",
      "Testing  R^2: -0.5076, RMSE: 0.0208\n",
      "14\n",
      "Random Forest Model Performance:\n",
      "Testing  R^2: -0.0594, RMSE: 0.0238\n",
      "\n",
      "Baseline Model (Median Predictor) Performance:\n",
      "Testing  R^2: -0.0004, RMSE: 0.0231\n",
      "15\n",
      "Random Forest Model Performance:\n",
      "Testing  R^2: -0.7901, RMSE: 0.0334\n",
      "\n",
      "Baseline Model (Median Predictor) Performance:\n",
      "Testing  R^2: -0.4051, RMSE: 0.0296\n",
      "16\n",
      "Random Forest Model Performance:\n",
      "Testing  R^2: -0.3444, RMSE: 0.0530\n",
      "\n",
      "Baseline Model (Median Predictor) Performance:\n",
      "Testing  R^2: -0.0753, RMSE: 0.0474\n"
     ]
    }
   ],
   "source": [
    "r2_list = []\n",
    "r2_base_list = []\n",
    "#r2_zero_list = []\n",
    "\n",
    "for i in range(2, 17):\n",
    "    print(i)\n",
    "    ADD = i\n",
    "\n",
    "    START_YEAR = 0 + ADD\n",
    "    END_YEAR = 4 + ADD\n",
    "    TEST_YEAR = 5 + ADD\n",
    "\n",
    "    SELECT_FEATURES_NO = [column_key for column_key, count in features_dict.items() if count >= COUNT_THRESH]\n",
    "\n",
    "    dd = get_data(curated_final, START_YEAR, END_YEAR, TEST_YEAR, SELECT_FEATURES_NO)\n",
    "    X_train, y_train, X_test, y_test = dd[\"X_train\"], dd[\"y_train\"], dd[\"X_test\"], dd[\"y_test\"]\n",
    "\n",
    "    r2, r2_base = evaluate(X_train, y_train, X_test, y_test, RRF=True)\n",
    "    r2_list.append(r2)\n",
    "    r2_base_list.append(r2_base)\n",
    "    #r2_zero_list.append(r2_zero)"
   ]
  },
  {
   "cell_type": "code",
   "execution_count": 137,
   "metadata": {},
   "outputs": [
    {
     "data": {
      "text/plain": [
       "<matplotlib.legend.Legend at 0x7ff14787ee80>"
      ]
     },
     "execution_count": 137,
     "metadata": {},
     "output_type": "execute_result"
    },
    {
     "data": {
      "image/png": "[encoded data removed]",
      "text/plain": [
       "<Figure size 432x288 with 1 Axes>"
      ]
     },
     "metadata": {
      "needs_background": "light"
     },
     "output_type": "display_data"
    }
   ],
   "source": [
    "plt.plot(list(range(len(r2_list))[2:]), r2_list[2:], label=\"model\")\n",
    "plt.plot(list(range(len(r2_list))[2:]), r2_base_list[2:], label=\"base\")\n",
    "plt.ylim((-8.2, 0.3))\n",
    "plt.legend()"
   ]
  },
  {
   "cell_type": "code",
   "execution_count": 139,
   "metadata": {},
   "outputs": [
    {
     "data": {
      "text/plain": [
       "<matplotlib.legend.Legend at 0x7ff1193087f0>"
      ]
     },
     "execution_count": 139,
     "metadata": {},
     "output_type": "execute_result"
    },
    {
     "data": {
      "image/png": "[encoded data removed]",
      "text/plain": [
       "<Figure size 432x288 with 1 Axes>"
      ]
     },
     "metadata": {
      "needs_background": "light"
     },
     "output_type": "display_data"
    }
   ],
   "source": [
    "plt.plot(list(range(len(r2_list))), r2_list, label=\"model\")\n",
    "plt.plot(list(range(len(r2_list))), r2_base_list, label=\"base\")\n",
    "plt.legend()"
   ]
  },
  {
   "cell_type": "code",
   "execution_count": 74,
   "metadata": {},
   "outputs": [
    {
     "data": {
      "text/plain": [
       "<matplotlib.legend.Legend at 0x7ff11ae46580>"
      ]
     },
     "execution_count": 74,
     "metadata": {},
     "output_type": "execute_result"
    },
    {
     "data": {
      "image/png": "[encoded data removed]",
      "text/plain": [
       "<Figure size 432x288 with 1 Axes>"
      ]
     },
     "metadata": {
      "needs_background": "light"
     },
     "output_type": "display_data"
    }
   ],
   "source": [
    "plt.plot(list(range(len(r2_list))[2:]), r2_list[2:], label=\"model\")\n",
    "plt.plot(list(range(len(r2_list))[2:]), r2_base_list[2:], label=\"base\")\n",
    "plt.plot(list(range(len(r2_list))[2:]), r2_zero_list[2:], label=\"zero\")\n",
    "plt.legend()"
   ]
  },
  {
   "cell_type": "code",
   "execution_count": 57,
   "metadata": {},
   "outputs": [
    {
     "data": {
      "text/plain": [
       "<matplotlib.legend.Legend at 0x7ff12437efd0>"
      ]
     },
     "execution_count": 57,
     "metadata": {},
     "output_type": "execute_result"
    },
    {
     "data": {
      "image/png": "[encoded data removed]",
      "text/plain": [
       "<Figure size 432x288 with 1 Axes>"
      ]
     },
     "metadata": {
      "needs_background": "light"
     },
     "output_type": "display_data"
    }
   ],
   "source": [
    "plt.plot(list(range(len(r2_list))[2:]), r2_list[2:], label=\"model\")\n",
    "plt.plot(list(range(len(r2_list))[2:]), r2_base_list[2:], label=\"base\")\n",
    "plt.plot(list(range(len(r2_list))[2:]), r2_zero_list[2:], label=\"zero\")\n",
    "plt.legend()"
   ]
  },
  {
   "cell_type": "code",
   "execution_count": 182,
   "metadata": {},
   "outputs": [
    {
     "data": {
      "text/plain": [
       "<matplotlib.legend.Legend at 0x7f9684a79370>"
      ]
     },
     "execution_count": 182,
     "metadata": {},
     "output_type": "execute_result"
    },
    {
     "data": {
      "image/png": "[encoded data removed]",
      "text/plain": [
       "<Figure size 432x288 with 1 Axes>"
      ]
     },
     "metadata": {
      "needs_background": "light"
     },
     "output_type": "display_data"
    }
   ],
   "source": [
    "plt.plot(list(range(len(r2_list))[2:]), r2_list[2:], label=\"model\")\n",
    "plt.plot(list(range(len(r2_list))[2:]), r2_base_list[2:], label=\"base\")\n",
    "plt.legend()"
   ]
  },
  {
   "cell_type": "code",
   "execution_count": 170,
   "metadata": {},
   "outputs": [
    {
     "data": {
      "text/plain": [
       "<matplotlib.legend.Legend at 0x7f9687796820>"
      ]
     },
     "execution_count": 170,
     "metadata": {},
     "output_type": "execute_result"
    },
    {
     "data": {
      "image/png": "[encoded data removed]",
      "text/plain": [
       "<Figure size 432x288 with 1 Axes>"
      ]
     },
     "metadata": {
      "needs_background": "light"
     },
     "output_type": "display_data"
    }
   ],
   "source": [
    "plt.plot(list(range(len(r2_list))), r2_list, label=\"model\")\n",
    "plt.plot(list(range(len(r2_list))), r2_base_list, label=\"base\")\n",
    "plt.legend()"
   ]
  },
  {
   "cell_type": "code",
   "execution_count": 176,
   "metadata": {},
   "outputs": [
    {
     "data": {
      "text/plain": [
       "<matplotlib.legend.Legend at 0x7f9687708c10>"
      ]
     },
     "execution_count": 176,
     "metadata": {},
     "output_type": "execute_result"
    },
    {
     "data": {
      "image/png": "[encoded data removed]",
      "text/plain": [
       "<Figure size 432x288 with 1 Axes>"
      ]
     },
     "metadata": {
      "needs_background": "light"
     },
     "output_type": "display_data"
    }
   ],
   "source": [
    "plt.plot(list(range(len(r2_list))), r2_list, label=\"model\")\n",
    "plt.plot(list(range(len(r2_list))), r2_base_list, label=\"base\")\n",
    "plt.legend()"
   ]
  },
  {
   "cell_type": "markdown",
   "metadata": {},
   "source": [
    "### Evaluating"
   ]
  },
  {
   "cell_type": "code",
   "execution_count": 112,
   "metadata": {},
   "outputs": [],
   "source": [
    "from sklearn.ensemble import RandomForestRegressor\n",
    "from sklearn.metrics import r2_score, mean_squared_error\n",
    "\n",
    "def evaluate_rrf(X_train, y_train, X_test, y_test):   \n",
    "    # Train a Random Forest Regressor\n",
    "    rf_regressor = RandomForestRegressor(n_estimators=100, random_state=42, max_depth=8)\n",
    "    rf_regressor.fit(X_train, y_train)\n",
    "\n",
    "    # score the model\n",
    "    y_test_pred = rf_regressor.predict(X_test)\n",
    "\n",
    "    # scoring\n",
    "    r2_test = r2_score(y_test, y_test_pred)\n",
    "    rmse_test = np.sqrt(mean_squared_error(y_test, y_test_pred))\n",
    "    print(f\"Random Forest Model Performance:\")\n",
    "    print(f\"Testing  R^2: {r2_test:.4f}, RMSE: {rmse_test:.4f}\")\n",
    "\n",
    "    # Baseline metrics (Median predictor)\n",
    "    median_test_pred = np.full_like(y_test, np.median(y_train))\n",
    "    median_r2_test = r2_score(y_test, median_test_pred)\n",
    "    median_rmse_test = np.sqrt(mean_squared_error(y_test, median_test_pred))\n",
    "    print(f\"\\nBaseline Model (Median Predictor) Performance:\")\n",
    "    print(f\"Testing  R^2: {median_r2_test:.4f}, RMSE: {median_rmse_test:.4f}\")\n",
    "\n",
    "    return r2_test, median_r2_test"
   ]
  },
  {
   "cell_type": "code",
   "execution_count": 113,
   "metadata": {},
   "outputs": [],
   "source": [
    "def evaluate(X_train, y_train, X_test, y_test, RRF=False):\n",
    "    if (RRF):\n",
    "        return evaluate_rrf(X_train, y_train, X_test, y_test)\n",
    "\n",
    "    # train and test\n",
    "    lin_reg = LinearRegression()\n",
    "    lin_reg.fit(X_train, y_train)\n",
    "\n",
    "    # Predict target values using the test set\n",
    "    y_pred = lin_reg.predict(X_test)\n",
    "\n",
    "    # Calculate evaluation metrics\n",
    "    mse_linear = mean_squared_error(y_test, y_pred)\n",
    "    r2_linear = r2_score(y_test, y_pred)\n",
    "\n",
    "    # baseline data2\n",
    "    baseline_pred = [y_train.mean()] * len(y_test)\n",
    "\n",
    "    # baseline score\n",
    "    mse_baseline = mean_squared_error(y_test, baseline_pred)\n",
    "    r2_baseline = r2_score(y_test, baseline_pred)\n",
    "\n",
    "    # zero R\n",
    "    zero = [0] * len(y_test)\n",
    "\n",
    "    # baseline score\n",
    "    mse_zero = mean_squared_error(y_test, zero)\n",
    "    r2_zero = r2_score(y_test, zero)\n",
    "\n",
    "    # Step 9: Print comparison results\n",
    "    print(f\"Linear Model - RMSE: {np.sqrt(mse_linear):.3f}, R-squared: {r2_linear:.3f}\")\n",
    "    print(f\"Baseline Model - RMSE: {np.sqrt(mse_baseline):.3f}, R-squared: {r2_baseline:.3f}\")\n",
    "    print(f\"Zero Model - RMSE: {np.sqrt(mse_zero):.3f}, R-squared: {r2_zero:.3f}\")\n",
    "\n",
    "    return r2_linear, r2_baseline, r2_zero"
   ]
  },
  {
   "cell_type": "code",
   "execution_count": 131,
   "metadata": {},
   "outputs": [],
   "source": [
    "#coefficients_series = pd.Series(lin_reg.coef_, index=X_train.columns, name='Coefficient')\n",
    "#coefficients_series"
   ]
  },
  {
   "cell_type": "markdown",
   "metadata": {},
   "source": [
    "### Predictions"
   ]
  },
  {
   "cell_type": "code",
   "execution_count": 149,
   "metadata": {},
   "outputs": [
    {
     "data": {
      "text/plain": [
       "['housing: previous price',\n",
       " 'housing: previous count growth',\n",
       " 'housing: previous growth',\n",
       " 'housing: previous count log',\n",
       " 'population: total persons log',\n",
       " 'economic: trimmed mean quarterly',\n",
       " 'interaction: (studying: tertiary total (%) log) & (population: total persons log)',\n",
       " 'interaction: (economic: median income) & (economic: trimmed mean quarterly)']"
      ]
     },
     "execution_count": 149,
     "metadata": {},
     "output_type": "execute_result"
    }
   ],
   "source": [
    "SELECT_FEATURES = [\"housing: previous price\", \"housing: previous count growth\", \"housing: previous growth\", \"housing: previous count log\"] + \\\n",
    "                  [\"population: total persons log\", \"economic: trimmed mean quarterly\"] + \\\n",
    "                  [\"interaction: (studying: tertiary total (%) log) & (population: total persons log)\", \"interaction: (economic: median income) & (economic: trimmed mean quarterly)\"]\n",
    "SELECT_FEATURES"
   ]
  },
  {
   "cell_type": "markdown",
   "metadata": {},
   "source": [
    "#### get previous data frame"
   ]
  },
  {
   "cell_type": "markdown",
   "metadata": {},
   "source": [
    "The below has\n",
    "- Previous count log\n",
    "- Previous growth\n",
    "- Previous count growth\n",
    "- Previous Price"
   ]
  },
  {
   "cell_type": "code",
   "execution_count": 150,
   "metadata": {},
   "outputs": [
    {
     "data": {
      "text/html": [
       "<div>\n",
       "<style scoped>\n",
       "    .dataframe tbody tr th:only-of-type {\n",
       "        vertical-align: middle;\n",
       "    }\n",
       "\n",
       "    .dataframe tbody tr th {\n",
       "        vertical-align: top;\n",
       "    }\n",
       "\n",
       "    .dataframe thead th {\n",
       "        text-align: right;\n",
       "    }\n",
       "</style>\n",
       "<table border=\"1\" class=\"dataframe\">\n",
       "  <thead>\n",
       "    <tr style=\"text-align: right;\">\n",
       "      <th></th>\n",
       "      <th>suburbs</th>\n",
       "      <th>housing: type</th>\n",
       "      <th>housing: previous count growth</th>\n",
       "      <th>housing: previous growth</th>\n",
       "      <th>housing: previous price</th>\n",
       "      <th>housing: previous count log</th>\n",
       "      <th>economic: median income</th>\n",
       "      <th>studying: tertiary total (%) log</th>\n",
       "    </tr>\n",
       "  </thead>\n",
       "  <tbody>\n",
       "    <tr>\n",
       "      <th>21</th>\n",
       "      <td>Albert Park-Middle Park-West St Kilda</td>\n",
       "      <td>flat</td>\n",
       "      <td>-0.1391</td>\n",
       "      <td>0.158489</td>\n",
       "      <td>542.00</td>\n",
       "      <td>7.443078</td>\n",
       "      <td>63415.3</td>\n",
       "      <td>-2.753571</td>\n",
       "    </tr>\n",
       "    <tr>\n",
       "      <th>43</th>\n",
       "      <td>Albert Park-Middle Park-West St Kilda</td>\n",
       "      <td>house</td>\n",
       "      <td>-0.0901</td>\n",
       "      <td>0.124129</td>\n",
       "      <td>1077.50</td>\n",
       "      <td>6.656727</td>\n",
       "      <td>63415.3</td>\n",
       "      <td>-2.753571</td>\n",
       "    </tr>\n",
       "    <tr>\n",
       "      <th>65</th>\n",
       "      <td>Altona</td>\n",
       "      <td>flat</td>\n",
       "      <td>-0.1434</td>\n",
       "      <td>0.101183</td>\n",
       "      <td>390.00</td>\n",
       "      <td>8.251664</td>\n",
       "      <td>58053.2</td>\n",
       "      <td>-3.254503</td>\n",
       "    </tr>\n",
       "    <tr>\n",
       "      <th>87</th>\n",
       "      <td>Altona</td>\n",
       "      <td>house</td>\n",
       "      <td>-0.1079</td>\n",
       "      <td>0.120374</td>\n",
       "      <td>440.00</td>\n",
       "      <td>9.455402</td>\n",
       "      <td>58053.2</td>\n",
       "      <td>-3.254503</td>\n",
       "    </tr>\n",
       "    <tr>\n",
       "      <th>109</th>\n",
       "      <td>Armadale</td>\n",
       "      <td>flat</td>\n",
       "      <td>-0.2242</td>\n",
       "      <td>0.160793</td>\n",
       "      <td>523.25</td>\n",
       "      <td>7.682482</td>\n",
       "      <td>68858.0</td>\n",
       "      <td>-2.574394</td>\n",
       "    </tr>\n",
       "    <tr>\n",
       "      <th>...</th>\n",
       "      <td>...</td>\n",
       "      <td>...</td>\n",
       "      <td>...</td>\n",
       "      <td>...</td>\n",
       "      <td>...</td>\n",
       "      <td>...</td>\n",
       "      <td>...</td>\n",
       "      <td>...</td>\n",
       "    </tr>\n",
       "    <tr>\n",
       "      <th>6139</th>\n",
       "      <td>Williamstown</td>\n",
       "      <td>house</td>\n",
       "      <td>-0.0925</td>\n",
       "      <td>0.074245</td>\n",
       "      <td>689.50</td>\n",
       "      <td>6.783325</td>\n",
       "      <td>65977.6</td>\n",
       "      <td>-2.859455</td>\n",
       "    </tr>\n",
       "    <tr>\n",
       "      <th>6161</th>\n",
       "      <td>Wodonga</td>\n",
       "      <td>flat</td>\n",
       "      <td>0.0929</td>\n",
       "      <td>0.084905</td>\n",
       "      <td>322.50</td>\n",
       "      <td>7.192934</td>\n",
       "      <td>49470.0</td>\n",
       "      <td>-3.816713</td>\n",
       "    </tr>\n",
       "    <tr>\n",
       "      <th>6183</th>\n",
       "      <td>Wodonga</td>\n",
       "      <td>house</td>\n",
       "      <td>-0.0779</td>\n",
       "      <td>0.083492</td>\n",
       "      <td>427.50</td>\n",
       "      <td>8.039802</td>\n",
       "      <td>49470.0</td>\n",
       "      <td>-3.816713</td>\n",
       "    </tr>\n",
       "    <tr>\n",
       "      <th>6205</th>\n",
       "      <td>Yarraville-Seddon</td>\n",
       "      <td>flat</td>\n",
       "      <td>-0.1562</td>\n",
       "      <td>0.053708</td>\n",
       "      <td>425.75</td>\n",
       "      <td>7.621685</td>\n",
       "      <td>68030.2</td>\n",
       "      <td>-2.852498</td>\n",
       "    </tr>\n",
       "    <tr>\n",
       "      <th>6227</th>\n",
       "      <td>Yarraville-Seddon</td>\n",
       "      <td>house</td>\n",
       "      <td>-0.0172</td>\n",
       "      <td>0.070975</td>\n",
       "      <td>615.00</td>\n",
       "      <td>7.850104</td>\n",
       "      <td>68030.2</td>\n",
       "      <td>-2.852498</td>\n",
       "    </tr>\n",
       "  </tbody>\n",
       "</table>\n",
       "<p>284 rows × 8 columns</p>\n",
       "</div>"
      ],
      "text/plain": [
       "                                    suburbs housing: type  \\\n",
       "21    Albert Park-Middle Park-West St Kilda          flat   \n",
       "43    Albert Park-Middle Park-West St Kilda         house   \n",
       "65                                   Altona          flat   \n",
       "87                                   Altona         house   \n",
       "109                                Armadale          flat   \n",
       "...                                     ...           ...   \n",
       "6139                           Williamstown         house   \n",
       "6161                                Wodonga          flat   \n",
       "6183                                Wodonga         house   \n",
       "6205                      Yarraville-Seddon          flat   \n",
       "6227                      Yarraville-Seddon         house   \n",
       "\n",
       "      housing: previous count growth  housing: previous growth  \\\n",
       "21                           -0.1391                  0.158489   \n",
       "43                           -0.0901                  0.124129   \n",
       "65                           -0.1434                  0.101183   \n",
       "87                           -0.1079                  0.120374   \n",
       "109                          -0.2242                  0.160793   \n",
       "...                              ...                       ...   \n",
       "6139                         -0.0925                  0.074245   \n",
       "6161                          0.0929                  0.084905   \n",
       "6183                         -0.0779                  0.083492   \n",
       "6205                         -0.1562                  0.053708   \n",
       "6227                         -0.0172                  0.070975   \n",
       "\n",
       "      housing: previous price  housing: previous count log  \\\n",
       "21                     542.00                     7.443078   \n",
       "43                    1077.50                     6.656727   \n",
       "65                     390.00                     8.251664   \n",
       "87                     440.00                     9.455402   \n",
       "109                    523.25                     7.682482   \n",
       "...                       ...                          ...   \n",
       "6139                   689.50                     6.783325   \n",
       "6161                   322.50                     7.192934   \n",
       "6183                   427.50                     8.039802   \n",
       "6205                   425.75                     7.621685   \n",
       "6227                   615.00                     7.850104   \n",
       "\n",
       "      economic: median income  studying: tertiary total (%) log  \n",
       "21                    63415.3                         -2.753571  \n",
       "43                    63415.3                         -2.753571  \n",
       "65                    58053.2                         -3.254503  \n",
       "87                    58053.2                         -3.254503  \n",
       "109                   68858.0                         -2.574394  \n",
       "...                       ...                               ...  \n",
       "6139                  65977.6                         -2.859455  \n",
       "6161                  49470.0                         -3.816713  \n",
       "6183                  49470.0                         -3.816713  \n",
       "6205                  68030.2                         -2.852498  \n",
       "6227                  68030.2                         -2.852498  \n",
       "\n",
       "[284 rows x 8 columns]"
      ]
     },
     "execution_count": 150,
     "metadata": {},
     "output_type": "execute_result"
    }
   ],
   "source": [
    "predictions_df = curated_final[curated_final[\"year groups\"] == curated_final[\"year groups\"].max()]\n",
    "predictions_df = predictions_df[[\"suburbs\", \"housing: type\",\n",
    "                                 \"housing: count growth\", \"housing: median growth\", \"housing: median\", \"housing: count log\", \n",
    "                                 \"economic: median income\", \"studying: tertiary total (%) log\"]]\n",
    "predictions_df.rename(columns={\"housing: median\": \"housing: previous price\",\n",
    "                               \"housing: count growth\": \"housing: previous count growth\",\n",
    "                               \"housing: median growth\": \"housing: previous growth\",\n",
    "                               \"housing: count log\": \"housing: previous count log\"}, inplace=True)\n",
    "\n",
    "predictions_df"
   ]
  },
  {
   "cell_type": "markdown",
   "metadata": {},
   "source": [
    "Need to get\n",
    "- Interaction teriary and population log\n",
    "- Interaction economic median income and trimmend mean\n",
    "- population count log\n",
    "Done\n",
    "- trimmed mean quarterly"
   ]
  },
  {
   "cell_type": "code",
   "execution_count": 151,
   "metadata": {},
   "outputs": [],
   "source": [
    "# https://www.rba.gov.au/publications/smp/2023/feb/forecasts.html\n",
    "new_inflation = 2.9/4"
   ]
  },
  {
   "cell_type": "markdown",
   "metadata": {},
   "source": [
    "#### get the population csv"
   ]
  },
  {
   "cell_type": "code",
   "execution_count": 152,
   "metadata": {},
   "outputs": [],
   "source": [
    "# get csv and filter the correct sa2 codes\n",
    "future = pd.read_csv(\"../../data/1. landing/population/predictions.csv\")\n",
    "future = future[future[\"Region Type\"] == \"SA2\"]\n",
    "future.rename(columns={\"SA2  code\": \"SA2 code\", \"2026\": \"population: 2026 total\"}, inplace=True)\n",
    "\n",
    "# filter out unncessary columns\n",
    "future = future[[\"SA2 code\", \"population: 2026 total\"]]\n",
    "future.to_csv(\"../../data/2. raw/historic/prediction.csv\")"
   ]
  },
  {
   "cell_type": "code",
   "execution_count": 153,
   "metadata": {},
   "outputs": [
    {
     "data": {
      "text/html": [
       "<div>\n",
       "<style scoped>\n",
       "    .dataframe tbody tr th:only-of-type {\n",
       "        vertical-align: middle;\n",
       "    }\n",
       "\n",
       "    .dataframe tbody tr th {\n",
       "        vertical-align: top;\n",
       "    }\n",
       "\n",
       "    .dataframe thead th {\n",
       "        text-align: right;\n",
       "    }\n",
       "</style>\n",
       "<table border=\"1\" class=\"dataframe\">\n",
       "  <thead>\n",
       "    <tr style=\"text-align: right;\">\n",
       "      <th></th>\n",
       "      <th>suburbs</th>\n",
       "      <th>population: 2026 total</th>\n",
       "    </tr>\n",
       "  </thead>\n",
       "  <tbody>\n",
       "    <tr>\n",
       "      <th>0</th>\n",
       "      <td>Albert Park-Middle Park-West St Kilda</td>\n",
       "      <td>32306.267900</td>\n",
       "    </tr>\n",
       "    <tr>\n",
       "      <th>1</th>\n",
       "      <td>Altona</td>\n",
       "      <td>30915.396427</td>\n",
       "    </tr>\n",
       "    <tr>\n",
       "      <th>2</th>\n",
       "      <td>Armadale</td>\n",
       "      <td>10096.580596</td>\n",
       "    </tr>\n",
       "    <tr>\n",
       "      <th>3</th>\n",
       "      <td>Aspendale-Chelsea-Carrum</td>\n",
       "      <td>43084.958120</td>\n",
       "    </tr>\n",
       "    <tr>\n",
       "      <th>4</th>\n",
       "      <td>Bairnsdale</td>\n",
       "      <td>16557.084499</td>\n",
       "    </tr>\n",
       "    <tr>\n",
       "      <th>...</th>\n",
       "      <td>...</td>\n",
       "      <td>...</td>\n",
       "    </tr>\n",
       "    <tr>\n",
       "      <th>139</th>\n",
       "      <td>West Footscray</td>\n",
       "      <td>12478.346448</td>\n",
       "    </tr>\n",
       "    <tr>\n",
       "      <th>140</th>\n",
       "      <td>Whittlesea</td>\n",
       "      <td>22798.760413</td>\n",
       "    </tr>\n",
       "    <tr>\n",
       "      <th>141</th>\n",
       "      <td>Williamstown</td>\n",
       "      <td>16900.023858</td>\n",
       "    </tr>\n",
       "    <tr>\n",
       "      <th>142</th>\n",
       "      <td>Wodonga</td>\n",
       "      <td>30341.376641</td>\n",
       "    </tr>\n",
       "    <tr>\n",
       "      <th>143</th>\n",
       "      <td>Yarraville-Seddon</td>\n",
       "      <td>27318.890274</td>\n",
       "    </tr>\n",
       "  </tbody>\n",
       "</table>\n",
       "<p>144 rows × 2 columns</p>\n",
       "</div>"
      ],
      "text/plain": [
       "                                   suburbs  population: 2026 total\n",
       "0    Albert Park-Middle Park-West St Kilda            32306.267900\n",
       "1                                   Altona            30915.396427\n",
       "2                                 Armadale            10096.580596\n",
       "3                 Aspendale-Chelsea-Carrum            43084.958120\n",
       "4                               Bairnsdale            16557.084499\n",
       "..                                     ...                     ...\n",
       "139                         West Footscray            12478.346448\n",
       "140                             Whittlesea            22798.760413\n",
       "141                           Williamstown            16900.023858\n",
       "142                                Wodonga            30341.376641\n",
       "143                      Yarraville-Seddon            27318.890274\n",
       "\n",
       "[144 rows x 2 columns]"
      ]
     },
     "execution_count": 153,
     "metadata": {},
     "output_type": "execute_result"
    }
   ],
   "source": [
    "future = pd.read_csv(\"../../data/2. raw/historic/predicitons_suburbs.csv\", index_col=0)\n",
    "future"
   ]
  },
  {
   "cell_type": "markdown",
   "metadata": {},
   "source": [
    "### Join the stuff together"
   ]
  },
  {
   "cell_type": "code",
   "execution_count": 155,
   "metadata": {},
   "outputs": [
    {
     "data": {
      "text/html": [
       "<div>\n",
       "<style scoped>\n",
       "    .dataframe tbody tr th:only-of-type {\n",
       "        vertical-align: middle;\n",
       "    }\n",
       "\n",
       "    .dataframe tbody tr th {\n",
       "        vertical-align: top;\n",
       "    }\n",
       "\n",
       "    .dataframe thead th {\n",
       "        text-align: right;\n",
       "    }\n",
       "</style>\n",
       "<table border=\"1\" class=\"dataframe\">\n",
       "  <thead>\n",
       "    <tr style=\"text-align: right;\">\n",
       "      <th></th>\n",
       "      <th>suburbs</th>\n",
       "      <th>population: 2026 total</th>\n",
       "      <th>housing: type</th>\n",
       "      <th>housing: previous count growth</th>\n",
       "      <th>housing: previous growth</th>\n",
       "      <th>housing: previous price</th>\n",
       "      <th>housing: previous count log</th>\n",
       "      <th>economic: median income</th>\n",
       "      <th>studying: tertiary total (%) log</th>\n",
       "      <th>economic: trimmed mean quarterly</th>\n",
       "      <th>population: total persons log</th>\n",
       "      <th>interaction: (studying: tertiary total (%) log) &amp; (population: total persons log)</th>\n",
       "      <th>interaction: (economic: median income) &amp; (economic: trimmed mean quarterly)</th>\n",
       "    </tr>\n",
       "  </thead>\n",
       "  <tbody>\n",
       "    <tr>\n",
       "      <th>0</th>\n",
       "      <td>Albert Park-Middle Park-West St Kilda</td>\n",
       "      <td>32306.267900</td>\n",
       "      <td>flat</td>\n",
       "      <td>-0.1391</td>\n",
       "      <td>0.158489</td>\n",
       "      <td>542.00</td>\n",
       "      <td>7.443078</td>\n",
       "      <td>63415.3</td>\n",
       "      <td>-2.753571</td>\n",
       "      <td>0.725</td>\n",
       "      <td>10.383017</td>\n",
       "      <td>-28.590370</td>\n",
       "      <td>45976.0925</td>\n",
       "    </tr>\n",
       "    <tr>\n",
       "      <th>1</th>\n",
       "      <td>Albert Park-Middle Park-West St Kilda</td>\n",
       "      <td>32306.267900</td>\n",
       "      <td>house</td>\n",
       "      <td>-0.0901</td>\n",
       "      <td>0.124129</td>\n",
       "      <td>1077.50</td>\n",
       "      <td>6.656727</td>\n",
       "      <td>63415.3</td>\n",
       "      <td>-2.753571</td>\n",
       "      <td>0.725</td>\n",
       "      <td>10.383017</td>\n",
       "      <td>-28.590370</td>\n",
       "      <td>45976.0925</td>\n",
       "    </tr>\n",
       "    <tr>\n",
       "      <th>2</th>\n",
       "      <td>Altona</td>\n",
       "      <td>30915.396427</td>\n",
       "      <td>flat</td>\n",
       "      <td>-0.1434</td>\n",
       "      <td>0.101183</td>\n",
       "      <td>390.00</td>\n",
       "      <td>8.251664</td>\n",
       "      <td>58053.2</td>\n",
       "      <td>-3.254503</td>\n",
       "      <td>0.725</td>\n",
       "      <td>10.339010</td>\n",
       "      <td>-33.648338</td>\n",
       "      <td>42088.5700</td>\n",
       "    </tr>\n",
       "    <tr>\n",
       "      <th>3</th>\n",
       "      <td>Altona</td>\n",
       "      <td>30915.396427</td>\n",
       "      <td>house</td>\n",
       "      <td>-0.1079</td>\n",
       "      <td>0.120374</td>\n",
       "      <td>440.00</td>\n",
       "      <td>9.455402</td>\n",
       "      <td>58053.2</td>\n",
       "      <td>-3.254503</td>\n",
       "      <td>0.725</td>\n",
       "      <td>10.339010</td>\n",
       "      <td>-33.648338</td>\n",
       "      <td>42088.5700</td>\n",
       "    </tr>\n",
       "    <tr>\n",
       "      <th>4</th>\n",
       "      <td>Armadale</td>\n",
       "      <td>10096.580596</td>\n",
       "      <td>flat</td>\n",
       "      <td>-0.2242</td>\n",
       "      <td>0.160793</td>\n",
       "      <td>523.25</td>\n",
       "      <td>7.682482</td>\n",
       "      <td>68858.0</td>\n",
       "      <td>-2.574394</td>\n",
       "      <td>0.725</td>\n",
       "      <td>9.219952</td>\n",
       "      <td>-23.735788</td>\n",
       "      <td>49922.0500</td>\n",
       "    </tr>\n",
       "    <tr>\n",
       "      <th>...</th>\n",
       "      <td>...</td>\n",
       "      <td>...</td>\n",
       "      <td>...</td>\n",
       "      <td>...</td>\n",
       "      <td>...</td>\n",
       "      <td>...</td>\n",
       "      <td>...</td>\n",
       "      <td>...</td>\n",
       "      <td>...</td>\n",
       "      <td>...</td>\n",
       "      <td>...</td>\n",
       "      <td>...</td>\n",
       "      <td>...</td>\n",
       "    </tr>\n",
       "    <tr>\n",
       "      <th>279</th>\n",
       "      <td>Williamstown</td>\n",
       "      <td>16900.023858</td>\n",
       "      <td>house</td>\n",
       "      <td>-0.0925</td>\n",
       "      <td>0.074245</td>\n",
       "      <td>689.50</td>\n",
       "      <td>6.783325</td>\n",
       "      <td>65977.6</td>\n",
       "      <td>-2.859455</td>\n",
       "      <td>0.725</td>\n",
       "      <td>9.735070</td>\n",
       "      <td>-27.836992</td>\n",
       "      <td>47833.7600</td>\n",
       "    </tr>\n",
       "    <tr>\n",
       "      <th>280</th>\n",
       "      <td>Wodonga</td>\n",
       "      <td>30341.376641</td>\n",
       "      <td>flat</td>\n",
       "      <td>0.0929</td>\n",
       "      <td>0.084905</td>\n",
       "      <td>322.50</td>\n",
       "      <td>7.192934</td>\n",
       "      <td>49470.0</td>\n",
       "      <td>-3.816713</td>\n",
       "      <td>0.725</td>\n",
       "      <td>10.320268</td>\n",
       "      <td>-39.389498</td>\n",
       "      <td>35865.7500</td>\n",
       "    </tr>\n",
       "    <tr>\n",
       "      <th>281</th>\n",
       "      <td>Wodonga</td>\n",
       "      <td>30341.376641</td>\n",
       "      <td>house</td>\n",
       "      <td>-0.0779</td>\n",
       "      <td>0.083492</td>\n",
       "      <td>427.50</td>\n",
       "      <td>8.039802</td>\n",
       "      <td>49470.0</td>\n",
       "      <td>-3.816713</td>\n",
       "      <td>0.725</td>\n",
       "      <td>10.320268</td>\n",
       "      <td>-39.389498</td>\n",
       "      <td>35865.7500</td>\n",
       "    </tr>\n",
       "    <tr>\n",
       "      <th>282</th>\n",
       "      <td>Yarraville-Seddon</td>\n",
       "      <td>27318.890274</td>\n",
       "      <td>flat</td>\n",
       "      <td>-0.1562</td>\n",
       "      <td>0.053708</td>\n",
       "      <td>425.75</td>\n",
       "      <td>7.621685</td>\n",
       "      <td>68030.2</td>\n",
       "      <td>-2.852498</td>\n",
       "      <td>0.725</td>\n",
       "      <td>10.215334</td>\n",
       "      <td>-29.139220</td>\n",
       "      <td>49321.8950</td>\n",
       "    </tr>\n",
       "    <tr>\n",
       "      <th>283</th>\n",
       "      <td>Yarraville-Seddon</td>\n",
       "      <td>27318.890274</td>\n",
       "      <td>house</td>\n",
       "      <td>-0.0172</td>\n",
       "      <td>0.070975</td>\n",
       "      <td>615.00</td>\n",
       "      <td>7.850104</td>\n",
       "      <td>68030.2</td>\n",
       "      <td>-2.852498</td>\n",
       "      <td>0.725</td>\n",
       "      <td>10.215334</td>\n",
       "      <td>-29.139220</td>\n",
       "      <td>49321.8950</td>\n",
       "    </tr>\n",
       "  </tbody>\n",
       "</table>\n",
       "<p>284 rows × 13 columns</p>\n",
       "</div>"
      ],
      "text/plain": [
       "                                   suburbs  population: 2026 total  \\\n",
       "0    Albert Park-Middle Park-West St Kilda            32306.267900   \n",
       "1    Albert Park-Middle Park-West St Kilda            32306.267900   \n",
       "2                                   Altona            30915.396427   \n",
       "3                                   Altona            30915.396427   \n",
       "4                                 Armadale            10096.580596   \n",
       "..                                     ...                     ...   \n",
       "279                           Williamstown            16900.023858   \n",
       "280                                Wodonga            30341.376641   \n",
       "281                                Wodonga            30341.376641   \n",
       "282                      Yarraville-Seddon            27318.890274   \n",
       "283                      Yarraville-Seddon            27318.890274   \n",
       "\n",
       "    housing: type  housing: previous count growth  housing: previous growth  \\\n",
       "0            flat                         -0.1391                  0.158489   \n",
       "1           house                         -0.0901                  0.124129   \n",
       "2            flat                         -0.1434                  0.101183   \n",
       "3           house                         -0.1079                  0.120374   \n",
       "4            flat                         -0.2242                  0.160793   \n",
       "..            ...                             ...                       ...   \n",
       "279         house                         -0.0925                  0.074245   \n",
       "280          flat                          0.0929                  0.084905   \n",
       "281         house                         -0.0779                  0.083492   \n",
       "282          flat                         -0.1562                  0.053708   \n",
       "283         house                         -0.0172                  0.070975   \n",
       "\n",
       "     housing: previous price  housing: previous count log  \\\n",
       "0                     542.00                     7.443078   \n",
       "1                    1077.50                     6.656727   \n",
       "2                     390.00                     8.251664   \n",
       "3                     440.00                     9.455402   \n",
       "4                     523.25                     7.682482   \n",
       "..                       ...                          ...   \n",
       "279                   689.50                     6.783325   \n",
       "280                   322.50                     7.192934   \n",
       "281                   427.50                     8.039802   \n",
       "282                   425.75                     7.621685   \n",
       "283                   615.00                     7.850104   \n",
       "\n",
       "     economic: median income  studying: tertiary total (%) log  \\\n",
       "0                    63415.3                         -2.753571   \n",
       "1                    63415.3                         -2.753571   \n",
       "2                    58053.2                         -3.254503   \n",
       "3                    58053.2                         -3.254503   \n",
       "4                    68858.0                         -2.574394   \n",
       "..                       ...                               ...   \n",
       "279                  65977.6                         -2.859455   \n",
       "280                  49470.0                         -3.816713   \n",
       "281                  49470.0                         -3.816713   \n",
       "282                  68030.2                         -2.852498   \n",
       "283                  68030.2                         -2.852498   \n",
       "\n",
       "     economic: trimmed mean quarterly  population: total persons log  \\\n",
       "0                               0.725                      10.383017   \n",
       "1                               0.725                      10.383017   \n",
       "2                               0.725                      10.339010   \n",
       "3                               0.725                      10.339010   \n",
       "4                               0.725                       9.219952   \n",
       "..                                ...                            ...   \n",
       "279                             0.725                       9.735070   \n",
       "280                             0.725                      10.320268   \n",
       "281                             0.725                      10.320268   \n",
       "282                             0.725                      10.215334   \n",
       "283                             0.725                      10.215334   \n",
       "\n",
       "     interaction: (studying: tertiary total (%) log) & (population: total persons log)  \\\n",
       "0                                           -28.590370                                   \n",
       "1                                           -28.590370                                   \n",
       "2                                           -33.648338                                   \n",
       "3                                           -33.648338                                   \n",
       "4                                           -23.735788                                   \n",
       "..                                                 ...                                   \n",
       "279                                         -27.836992                                   \n",
       "280                                         -39.389498                                   \n",
       "281                                         -39.389498                                   \n",
       "282                                         -29.139220                                   \n",
       "283                                         -29.139220                                   \n",
       "\n",
       "     interaction: (economic: median income) & (economic: trimmed mean quarterly)  \n",
       "0                                           45976.0925                            \n",
       "1                                           45976.0925                            \n",
       "2                                           42088.5700                            \n",
       "3                                           42088.5700                            \n",
       "4                                           49922.0500                            \n",
       "..                                                 ...                            \n",
       "279                                         47833.7600                            \n",
       "280                                         35865.7500                            \n",
       "281                                         35865.7500                            \n",
       "282                                         49321.8950                            \n",
       "283                                         49321.8950                            \n",
       "\n",
       "[284 rows x 13 columns]"
      ]
     },
     "execution_count": 155,
     "metadata": {},
     "output_type": "execute_result"
    }
   ],
   "source": [
    "# merge together\n",
    "final_predictions = pd.merge(future, predictions_df, on=\"suburbs\")\n",
    "final_predictions[\"economic: trimmed mean quarterly\"] = 2.9/4\n",
    "final_predictions[\"population: total persons log\"] = final_predictions[\"population: 2026 total\"].apply(np.log)\n",
    "\n",
    "# get interaction\n",
    "interaction_pairs = [(\"studying: tertiary total (%) log\", \"population: total persons log\"), \n",
    "                     (\"economic: median income\", \"economic: trimmed mean quarterly\")]\n",
    "final_predictions = get_interaction(final_predictions, interaction_pairs)\n",
    "\n",
    "final_predictions"
   ]
  },
  {
   "cell_type": "markdown",
   "metadata": {},
   "source": [
    "#### Fit the model"
   ]
  },
  {
   "cell_type": "code",
   "execution_count": 156,
   "metadata": {},
   "outputs": [],
   "source": [
    "training_data = filter_frame(curated_final, start_year=21, end_year=23)\n",
    "\n",
    "X_train, y_train, X_test = training_data[SELECT_FEATURES], training_data[\"housing: median growth\"], final_predictions[SELECT_FEATURES]"
   ]
  },
  {
   "cell_type": "code",
   "execution_count": 160,
   "metadata": {},
   "outputs": [],
   "source": [
    "# train and test\n",
    "lin_reg = LinearRegression()\n",
    "lin_reg.fit(X_train, y_train)\n",
    "\n",
    "# Predict target values using the test set\n",
    "y_pred = lin_reg.predict(X_test)\n",
    "\n",
    "# final frame\n",
    "results = pd.DataFrame(data={\"predicitions\": y_pred, \"suburbs\": final_predictions[\"suburbs\"].values, \"housing: type\": final_predictions[\"housing: type\"].values})\n",
    "results\n",
    "results.to_csv(\"all results.csv\")"
   ]
  },
  {
   "cell_type": "code",
   "execution_count": 161,
   "metadata": {},
   "outputs": [
    {
     "data": {
      "text/html": [
       "<div>\n",
       "<style scoped>\n",
       "    .dataframe tbody tr th:only-of-type {\n",
       "        vertical-align: middle;\n",
       "    }\n",
       "\n",
       "    .dataframe tbody tr th {\n",
       "        vertical-align: top;\n",
       "    }\n",
       "\n",
       "    .dataframe thead th {\n",
       "        text-align: right;\n",
       "    }\n",
       "</style>\n",
       "<table border=\"1\" class=\"dataframe\">\n",
       "  <thead>\n",
       "    <tr style=\"text-align: right;\">\n",
       "      <th></th>\n",
       "      <th>predicitions</th>\n",
       "      <th>suburbs</th>\n",
       "      <th>housing: type</th>\n",
       "    </tr>\n",
       "  </thead>\n",
       "  <tbody>\n",
       "    <tr>\n",
       "      <th>46</th>\n",
       "      <td>0.265342</td>\n",
       "      <td>CBD-St Kilda Rd</td>\n",
       "      <td>flat</td>\n",
       "    </tr>\n",
       "    <tr>\n",
       "      <th>233</th>\n",
       "      <td>0.218558</td>\n",
       "      <td>Southbank</td>\n",
       "      <td>flat</td>\n",
       "    </tr>\n",
       "    <tr>\n",
       "      <th>53</th>\n",
       "      <td>0.216723</td>\n",
       "      <td>Carlton-Parkville</td>\n",
       "      <td>flat</td>\n",
       "    </tr>\n",
       "    <tr>\n",
       "      <th>189</th>\n",
       "      <td>0.203656</td>\n",
       "      <td>North Melbourne-West Melbourne</td>\n",
       "      <td>flat</td>\n",
       "    </tr>\n",
       "    <tr>\n",
       "      <th>59</th>\n",
       "      <td>0.187918</td>\n",
       "      <td>Caulfield</td>\n",
       "      <td>flat</td>\n",
       "    </tr>\n",
       "    <tr>\n",
       "      <th>83</th>\n",
       "      <td>0.185771</td>\n",
       "      <td>Docklands</td>\n",
       "      <td>flat</td>\n",
       "    </tr>\n",
       "    <tr>\n",
       "      <th>229</th>\n",
       "      <td>0.162679</td>\n",
       "      <td>South Melbourne</td>\n",
       "      <td>flat</td>\n",
       "    </tr>\n",
       "    <tr>\n",
       "      <th>213</th>\n",
       "      <td>0.146343</td>\n",
       "      <td>Richmond-Burnley</td>\n",
       "      <td>flat</td>\n",
       "    </tr>\n",
       "    <tr>\n",
       "      <th>118</th>\n",
       "      <td>0.145770</td>\n",
       "      <td>Footscray</td>\n",
       "      <td>flat</td>\n",
       "    </tr>\n",
       "    <tr>\n",
       "      <th>231</th>\n",
       "      <td>0.142553</td>\n",
       "      <td>South Yarra</td>\n",
       "      <td>flat</td>\n",
       "    </tr>\n",
       "  </tbody>\n",
       "</table>\n",
       "</div>"
      ],
      "text/plain": [
       "     predicitions                         suburbs housing: type\n",
       "46       0.265342                 CBD-St Kilda Rd          flat\n",
       "233      0.218558                       Southbank          flat\n",
       "53       0.216723               Carlton-Parkville          flat\n",
       "189      0.203656  North Melbourne-West Melbourne          flat\n",
       "59       0.187918                       Caulfield          flat\n",
       "83       0.185771                       Docklands          flat\n",
       "229      0.162679                 South Melbourne          flat\n",
       "213      0.146343                Richmond-Burnley          flat\n",
       "118      0.145770                       Footscray          flat\n",
       "231      0.142553                     South Yarra          flat"
      ]
     },
     "execution_count": 161,
     "metadata": {},
     "output_type": "execute_result"
    }
   ],
   "source": [
    "best = results.nlargest(10, \"predicitions\")\n",
    "best.to_csv(\"results.csv\")\n",
    "best"
   ]
  },
  {
   "cell_type": "code",
   "execution_count": null,
   "metadata": {},
   "outputs": [],
   "source": []
  }
 ],
 "metadata": {
  "kernelspec": {
   "display_name": "base",
   "language": "python",
   "name": "python3"
  },
  "language_info": {
   "codemirror_mode": {
    "name": "ipython",
    "version": 3
   },
   "file_extension": ".py",
   "mimetype": "text/x-python",
   "name": "python",
   "nbconvert_exporter": "python",
   "pygments_lexer": "ipython3",
   "version": "3.9.12"
  }
 },
 "nbformat": 4,
 "nbformat_minor": 2
}
