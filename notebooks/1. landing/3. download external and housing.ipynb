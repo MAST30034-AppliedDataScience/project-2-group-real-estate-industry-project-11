{
 "cells": [
  {
   "cell_type": "markdown",
   "id": "8a7fb103",
   "metadata": {},
   "source": [
    "## Create File System"
   ]
  },
  {
   "cell_type": "code",
   "execution_count": 4,
   "id": "d5b1283f",
   "metadata": {},
   "outputs": [],
   "source": [
    "import os\n",
    "\n",
    "# get the relative output path\n",
    "RELATIVE_PATH = \"../../data/1. landing/\"\n",
    "\n",
    "# get the directory names\n",
    "directory_names = [\"housing\", \"population\", \"economic\", \"economic_by_region\", \"school\"]\n",
    "\n",
    "# create each new directory\n",
    "for directory_name in directory_names:\n",
    "    new_path = RELATIVE_PATH + directory_name\n",
    "\n",
    "    # if path doesn't exist, create\n",
    "    if (not os.path.exists(new_path)):\n",
    "        os.mkdir(new_path)"
   ]
  },
  {
   "cell_type": "markdown",
   "id": "fc0301be",
   "metadata": {},
   "source": [
    "## External Datasets and Housing"
   ]
  },
  {
   "cell_type": "code",
   "execution_count": 5,
   "id": "dc003308",
   "metadata": {},
   "outputs": [],
   "source": [
    "URL_TO_PATHS = {\n",
    "    \"housing/moving quarterly rent.xlsx\": \"https://www.dffh.vic.gov.au/moving-annual-rent-suburb-june-quarter-2024\",\n",
    "    \"economic/interest.xlsx\": \"https://www.rba.gov.au/statistics/tables/xls/f05hist.xlsx?v=2024-09-28-19-56-34\",\n",
    "    \"economic/gdp.xlsx\": \"https://www.abs.gov.au/statistics/economy/national-accounts/australian-national-accounts-national-income-expenditure-and-product/jun-2024/5206001_Key_Aggregates.xlsx\",\n",
    "    \"economic/inflation.xlsx\": \"https://www.abs.gov.au/statistics/economy/price-indexes-and-inflation/consumer-price-index-australia/jun-quarter-2024/640106.xlsx\",\n",
    "    \"population/age demographics.xlsx\": \"https://www.abs.gov.au/statistics/people/population/regional-population-age-and-sex/2023/32350DS0005_2001-23.xlsx\",\n",
    "    \"population/projections.xlsx\": \"https://www.planning.vic.gov.au/__data/assets/excel_doc/0028/691660/VIF2023_SA2_Pop_Hhold_Dwelling_Projections_to_2036_Release_2.xlsx\",\n",
    "    \"economic_by_region/income_by_geography.xlsx\": \"https://www.abs.gov.au/statistics/labour/earnings-and-working-conditions/personal-income-australia/2020-21-financial-year/Table%201%20-%20Total%20income%2C%20earners%20and%20summary%20statistics%20by%20geography%2C%202016-17%20to%202020-21.xlsx\",\n",
    "    \"economic_by_region/income_distribution_by_geography.xlsx\": \"https://www.abs.gov.au/statistics/labour/earnings-and-working-conditions/personal-income-australia/2020-21-financial-year/Table%202%20-%20Total%20income%20distribution%20by%20geography%2C%202020-21.xlsx\",\n",
    "    \"school/locations_2022.csv\": \"https://www.education.vic.gov.au/Documents/about/research/datavic/dv331_schoollocations2022.csv\",\n",
    "}"
   ]
  },
  {
   "cell_type": "code",
   "execution_count": 7,
   "id": "6e013ea9",
   "metadata": {},
   "outputs": [
    {
     "name": "stdout",
     "output_type": "stream",
     "text": [
      "fetching housing/moving quarterly rent.xlsx\n",
      "writing housing/moving quarterly rent.xlsx\n",
      "waiting for sever to reset ..........\n",
      "fetching economic/interest.xlsx\n",
      "writing economic/interest.xlsx\n",
      "waiting for sever to reset ..........\n",
      "fetching economic/gdp.xlsx\n",
      "writing economic/gdp.xlsx\n",
      "waiting for sever to reset ..........\n",
      "fetching economic/inflation.xlsx\n",
      "writing economic/inflation.xlsx\n",
      "waiting for sever to reset ..........\n",
      "fetching population/age demographics.xlsx\n",
      "writing population/age demographics.xlsx\n",
      "waiting for sever to reset ..........\n",
      "fetching population/projections.xlsx\n",
      "writing population/projections.xlsx\n",
      "waiting for sever to reset ..........\n",
      "fetching economic_by_region/income_by_geography.xlsx\n",
      "writing economic_by_region/income_by_geography.xlsx\n",
      "waiting for sever to reset ..........\n",
      "fetching economic_by_region/income_distribution_by_geography.xlsx\n",
      "writing economic_by_region/income_distribution_by_geography.xlsx\n",
      "waiting for sever to reset ..........\n",
      "fetching school/locations_2022.csv\n",
      "writing school/locations_2022.csv\n",
      "waiting for sever to reset ..........\n"
     ]
    }
   ],
   "source": [
    "import time\n",
    "import requests\n",
    "\n",
    "SLEEP_SECONDS = 10\n",
    "\n",
    "for path, url in URL_TO_PATHS.items():\n",
    "    print(f\"fetching {path}\")\n",
    "    data = requests.get(url).content\n",
    "    \n",
    "    print(f\"writing {path}\")\n",
    "    with open(RELATIVE_PATH + path, \"wb\") as fp:\n",
    "        fp.write(data)\n",
    "    \n",
    "    print(f\"waiting for sever to reset \", end=\"\")\n",
    "    for i in range(SLEEP_SECONDS):\n",
    "        print(\".\", end=\"\")\n",
    "        time.sleep(1)\n",
    "    print(\"\")"
   ]
  },
  {
   "cell_type": "code",
   "execution_count": null,
   "id": "fef54227",
   "metadata": {},
   "outputs": [],
   "source": []
  }
 ],
 "metadata": {
  "kernelspec": {
   "display_name": "Python 3",
   "language": "python",
   "name": "python3"
  },
  "language_info": {
   "codemirror_mode": {
    "name": "ipython",
    "version": 3
   },
   "file_extension": ".py",
   "mimetype": "text/x-python",
   "name": "python",
   "nbconvert_exporter": "python",
   "pygments_lexer": "ipython3",
   "version": "3.10.12"
  }
 },
 "nbformat": 4,
 "nbformat_minor": 5
}
