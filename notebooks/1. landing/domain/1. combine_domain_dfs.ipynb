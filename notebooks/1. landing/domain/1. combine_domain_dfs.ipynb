{
 "cells": [
  {
   "cell_type": "markdown",
   "metadata": {},
   "source": [
    "## Combine Domain Parquet Files\n",
    "\n",
    "This short jupyter notebook takes the domain parquet data and converts it into a single parquet. All cells must be ran in this notebook to do so.\n",
    "\n",
    "First we perform necessary imports."
   ]
  },
  {
   "cell_type": "code",
   "execution_count": 3,
   "metadata": {},
   "outputs": [],
   "source": [
    "from pyspark.sql import SparkSession, functions as F\n",
    "from functools import reduce\n",
    "\n",
    "# Create a spark session (which will run spark jobs)\n",
    "spark = (\n",
    "    SparkSession.builder.appName(\"MAST30034 Crime Curated\")\n",
    "    .config(\"spark.sql.repl.eagerEval.enabled\", True)\n",
    "    .config(\"spark.sql.parquet.cacheMetadata\", \"true\")\n",
    "    .config(\"spark.sql.session.timeZone\", \"Etc/UTC\")\n",
    "    .config('spark.driver.memory', '4g')\n",
    "    .config('spark.executor.memory', '2g')\n",
    "    .getOrCreate()\n",
    ")\n",
    "\n",
    "PAGE_DIRECTORY = '../../../data/1. landing/domain/pages'"
   ]
  },
  {
   "cell_type": "code",
   "execution_count": null,
   "metadata": {},
   "outputs": [],
   "source": [
    "# this is just used to make sure the data is correct when being read in\n",
    "\n",
    "listings_links_path = \"../../../data/1. landing/domain/metadata/listings_links.csv\"\n",
    "\n",
    "# Open and read the CSV file\n",
    "with open(listings_links_path, 'r') as file:\n",
    "    listing_urls = set(file.readlines())\n",
    "\n",
    "\n",
    "# load all the dataframes\n",
    "BATCH_SIZE = 500\n",
    "dfs = []\n",
    "\n",
    "for i in range(0, len(listing_urls), BATCH_SIZE):\n",
    "    page_directory = PAGE_DIRECTORY + f'/{i}-{i+BATCH_SIZE}.parquet'\n",
    "    dfs.append(spark.read.parquet(page_directory))\n",
    "\n",
    "union_df = reduce(lambda df1, df2: df1.union(df2), dfs)"
   ]
  },
  {
   "cell_type": "code",
   "execution_count": null,
   "metadata": {},
   "outputs": [],
   "source": [
    "output_path = \"../../../data/1. landing/domain/domain_current_listings.parquet\"\n",
    "\n",
    "# repartition the dataframe (as 450+ parititons is very excessive)\n",
    "repartitioned = union_df.coalesce(4)\n",
    "\n",
    "# finally write to file\n",
    "repartitioned.write.parquet(output_path)"
   ]
  }
 ],
 "metadata": {
  "kernelspec": {
   "display_name": "Python 3",
   "language": "python",
   "name": "python3"
  },
  "language_info": {
   "codemirror_mode": {
    "name": "ipython",
    "version": 3
   },
   "file_extension": ".py",
   "mimetype": "text/x-python",
   "name": "python",
   "nbconvert_exporter": "python",
   "pygments_lexer": "ipython3",
   "version": "3.10.12"
  }
 },
 "nbformat": 4,
 "nbformat_minor": 2
}
