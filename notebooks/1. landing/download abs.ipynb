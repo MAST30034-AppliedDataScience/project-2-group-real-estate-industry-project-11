{
 "cells": [
  {
   "cell_type": "code",
   "execution_count": 1,
   "metadata": {},
   "outputs": [],
   "source": [
    "# for unzipping\n",
    "import requests, zipfile\n",
    "from io import BytesIO\n",
    "import os\n",
    "\n",
    "# for the good shit\n",
    "import pandas as pd\n",
    "import numpy as np"
   ]
  },
  {
   "cell_type": "code",
   "execution_count": 2,
   "metadata": {},
   "outputs": [],
   "source": [
    "RELATIVE_PATH = \"../../data/1. landing/\"\n",
    "SA2_CODE_NAME = \"SA2 code\"\n",
    "MERGE_COLUMNS = [\"SA2_CODE_2021\", SA2_CODE_NAME, \"year\"]"
   ]
  },
  {
   "cell_type": "markdown",
   "metadata": {},
   "source": [
    "## Creating File system"
   ]
  },
  {
   "cell_type": "code",
   "execution_count": 3,
   "metadata": {},
   "outputs": [],
   "source": [
    "# directories to create\n",
    "DIRECTORIES = [\"ABS\", \"ABS/2021\"]\n",
    "directory_paths = [RELATIVE_PATH + dir for dir in DIRECTORIES]\n",
    "\n",
    "# create the paths\n",
    "for directory_path in directory_paths:\n",
    "    os.makedirs(directory_path, exist_ok=True)"
   ]
  },
  {
   "cell_type": "markdown",
   "metadata": {},
   "source": [
    "## Getting the zip file"
   ]
  },
  {
   "cell_type": "markdown",
   "metadata": {},
   "source": [
    "#### Downloading and unzip"
   ]
  },
  {
   "cell_type": "code",
   "execution_count": 4,
   "metadata": {},
   "outputs": [],
   "source": [
    "import shutil\n",
    "\n",
    "def delete_contents(directory):\n",
    "    # Check if the directory exists\n",
    "    if os.path.exists(directory):\n",
    "        # Clear the contents of the directory\n",
    "        for filename in os.listdir(directory):\n",
    "            file_path = os.path.join(directory, filename)\n",
    "            try:\n",
    "                if os.path.isfile(file_path) or os.path.islink(file_path):\n",
    "                    os.unlink(file_path)  # Remove files and symlinks\n",
    "                elif os.path.isdir(file_path):\n",
    "                    shutil.rmtree(file_path)  # Remove directories\n",
    "            except Exception as e:\n",
    "                print(f\"Failed to delete {file_path}. Reason: {e}\")\n",
    "    else:\n",
    "        print(f\"Directory '{directory}' does not exist.\")"
   ]
  },
  {
   "cell_type": "code",
   "execution_count": 5,
   "metadata": {},
   "outputs": [
    {
     "name": "stdout",
     "output_type": "stream",
     "text": [
      "Downloading started for 2021\n",
      "Download completed\n",
      "Finishing extracting\n"
     ]
    }
   ],
   "source": [
    "# get the request \n",
    "URL = \"https://www.abs.gov.au/census/find-census-data/datapacks/download/2021_GCP_SA2_for_VIC_short-header.zip\"\n",
    "NAME = \"2021\"\n",
    "\n",
    "\n",
    "print(f\"Downloading started for {NAME}\")\n",
    "response = requests.get(URL)\n",
    "print(\"Download completed\")\n",
    "\n",
    "# prepare the outfile\n",
    "out_path = RELATIVE_PATH + \"ABS/\" + NAME\n",
    "delete_contents(out_path)\n",
    "\n",
    "# extract the zip file\n",
    "zipfile_obj = zipfile.ZipFile(BytesIO(response.content))\n",
    "zipfile_obj.extractall(out_path)\n",
    "\n",
    "print(\"Finishing extracting\")"
   ]
  },
  {
   "cell_type": "markdown",
   "metadata": {},
   "source": [
    "#### Renaming files"
   ]
  },
  {
   "cell_type": "code",
   "execution_count": 6,
   "metadata": {},
   "outputs": [],
   "source": [
    "# RENAME the data file\n",
    "PATH  = RELATIVE_PATH + \"ABS/\" + NAME + \"/\"\n",
    "\n",
    "# find the data file\n",
    "data_names = [dir for dir in os.listdir(PATH) if \"Census GCP\" in dir]\n",
    "\n",
    "if (len(data_names) != 1):\n",
    "    raise ValueError(f\"should have exactly one file to match 'Census GCP' in {PATH}\")\n",
    "\n",
    "# out path and in path\n",
    "curr_path = PATH + data_names[0]\n",
    "new_path = PATH + \"data\"\n",
    "\n",
    "# rename the file\n",
    "os.rename(curr_path, new_path)"
   ]
  },
  {
   "cell_type": "code",
   "execution_count": 7,
   "metadata": {},
   "outputs": [],
   "source": [
    "# RENAME the data file\n",
    "PATH  = RELATIVE_PATH + \"ABS/\" + NAME + \"/Metadata/\"\n",
    "\n",
    "# find the data file\n",
    "data_names = [dir for dir in os.listdir(PATH) if \"Metadata\" in dir]\n",
    "\n",
    "if (len(data_names) != 1):\n",
    "    raise ValueError(f\"should have exactly one file to match 'Metadata' in {PATH}\")\n",
    "\n",
    "# out path and in path\n",
    "curr_path = PATH + data_names[0]\n",
    "new_path = PATH + \"column_names.xlsx\"\n",
    "\n",
    "# rename the file\n",
    "os.rename(curr_path, new_path)"
   ]
  },
  {
   "cell_type": "code",
   "execution_count": null,
   "metadata": {},
   "outputs": [],
   "source": []
  },
  {
   "cell_type": "code",
   "execution_count": null,
   "metadata": {},
   "outputs": [],
   "source": []
  }
 ],
 "metadata": {
  "kernelspec": {
   "display_name": "base",
   "language": "python",
   "name": "python3"
  },
  "language_info": {
   "codemirror_mode": {
    "name": "ipython",
    "version": 3
   },
   "file_extension": ".py",
   "mimetype": "text/x-python",
   "name": "python",
   "nbconvert_exporter": "python",
   "pygments_lexer": "ipython3",
   "version": "3.9.12"
  }
 },
 "nbformat": 4,
 "nbformat_minor": 2
}
