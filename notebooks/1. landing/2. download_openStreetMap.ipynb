{
 "cells": [
  {
   "cell_type": "markdown",
   "metadata": {},
   "source": [
    "### This jupyternotebook is used to download openStreetMap data\n"
   ]
  },
  {
   "cell_type": "markdown",
   "metadata": {},
   "source": [
    "**I accidentally deleted this file when cleaning up back then I will try to remeber what I wrote to get VIC amenities**"
   ]
  },
  {
   "cell_type": "code",
   "execution_count": null,
   "metadata": {},
   "outputs": [],
   "source": [
    "import overpy\n",
    "\n",
    "# Initialize the Overpass API\n",
    "api = overpy.Overpass()\n",
    "\n",
    "# Overpass API query to get specified amenities in VIC, Australia (bounded by latitude and longitude)\n",
    "query = \"\"\"\n",
    "[out:json];\n",
    "area[name=\"Victoria\"]->.searchArea;\n",
    "(\n",
    "  node[\"amenity\"=\"restaurant\"](area.searchArea);\n",
    "  node[\"amenity\"=\"hospital\"](area.searchArea);\n",
    "  node[\"amenity\"=\"school\"](area.searchArea);\n",
    "  node[\"amenity\"=\"cafe\"](area.searchArea);\n",
    "  node[\"amenity\"=\"fuel\"](area.searchArea);\n",
    "  way[\"amenity\"=\"restaurant\"](area.searchArea);\n",
    "  way[\"amenity\"=\"hospital\"](area.searchArea);\n",
    "  way[\"amenity\"=\"school\"](area.searchArea);\n",
    "  way[\"amenity\"=\"cafe\"](area.searchArea);\n",
    "  way[\"amenity\"=\"fuel\"](area.searchArea);\n",
    ");\n",
    "out body;\n",
    ">;\n",
    "out skel qt;\n",
    "\"\"\"\n",
    "\n",
    "# Run the query\n",
    "result = api.query(query)\n",
    "\n",
    "# Process and print results\n",
    "print(f\"Found {len(result.nodes)} nodes and {len(result.ways)} ways.\")\n",
    "\n",
    "for node in result.nodes:\n",
    "    print(f\"Amenity found: {node.tags.get('amenity', 'n/a')} at ({node.lat}, {node.lon})\")\n",
    "\n",
    "for way in result.ways:\n",
    "    print(f\"Amenity found: {way.tags.get('amenity', 'n/a')}, way ID: {way.id}\")\n"
   ]
  },
  {
   "cell_type": "code",
   "execution_count": null,
   "metadata": {},
   "outputs": [],
   "source": []
  },
  {
   "cell_type": "code",
   "execution_count": null,
   "metadata": {},
   "outputs": [],
   "source": []
  }
 ],
 "metadata": {
  "kernelspec": {
   "display_name": "Python 3",
   "language": "python",
   "name": "python3"
  },
  "language_info": {
   "name": "python",
   "version": "3.10.12"
  }
 },
 "nbformat": 4,
 "nbformat_minor": 2
}
