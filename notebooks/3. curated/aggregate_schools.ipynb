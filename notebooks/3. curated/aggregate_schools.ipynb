{
 "cells": [
  {
   "cell_type": "code",
   "execution_count": 1,
   "metadata": {},
   "outputs": [],
   "source": [
    "import sys\n",
    "import os\n",
    "import pandas as pd\n",
    "import geopandas as gpd\n",
    "\n",
    "sys.path.append(os.path.abspath('../../scripts/2. modules'))\n",
    "import processing\n",
    "\n",
    "# Input paths\n",
    "SCHOOL_PATH = '../../data/2. raw/school/schools.csv'\n",
    "SCHOOL_ZONES_PATH = '../../data/2. raw/school/zones.geojson'\n",
    "\n",
    "# Output paths\n",
    "SCHOOL_OUTPUT_PATH = \"../../data/2. raw/school\"\n",
    "SCHOOL_OUTPUT_NAME = \"schools.csv\"\n",
    "SCHOOL_ZONES_OUTPUT_NAME = \"zones.geojson\""
   ]
  },
  {
   "cell_type": "code",
   "execution_count": 2,
   "metadata": {},
   "outputs": [],
   "source": [
    "regions_df = processing.get_regions_df(2)\n",
    "schools_df = pd.read_csv(SCHOOL_PATH, encoding='ISO-8859-1')\n",
    "school_zones_df = gpd.read_file(SCHOOL_ZONES_PATH)"
   ]
  },
  {
   "cell_type": "code",
   "execution_count": null,
   "metadata": {},
   "outputs": [],
   "source": [
    "# peform join\n",
    "school_point_gdf = gpd.GeoDataFrame(\n",
    "    out_school_df, \n",
    "    geometry=gpd.points_from_xy(out_school_df['x'], out_school_df['y']),\n",
    ")\n",
    "\n",
    "joined_schools_to_regions_gdf = gpd.sjoin(school_point_gdf, regions_df, how='right', predicate='within')\n",
    "joined_schools_to_regions_gdf['study_score_over_40_percent'] = joined_schools_to_regions_gdf['study_score_over_40_percent'].fillna(0)\n",
    "joined_schools_to_regions_gdf = joined_schools_to_regions_gdf.reset_index(drop=True)\n",
    "\n",
    "idx = joined_schools_to_regions_gdf.groupby('suburbs')['study_score_over_40_percent'].idxmax()\n",
    "best_schools = joined_schools_to_regions_gdf.loc[idx]\n",
    "\n",
    "best_schools = best_schools[COLS_OF_INTEREST + ['suburbs', 'school_name']]\n",
    "\n",
    "best_schools.columns = [col if col in ['suburbs'] else 'best_school_' + col for col in best_schools.columns]\n",
    "\n",
    "avg_schools = joined_schools_to_regions_gdf.groupby('suburbs')[COLS_OF_INTEREST].mean()\n",
    "\n",
    "avg_schools.columns = ['avg_school_' + col for col in avg_schools.columns]\n",
    "\n",
    "avg_schools = avg_schools.reset_index()\n",
    "\n",
    "schools_out = pd.merge(best_schools, avg_schools, on='suburbs')\n",
    "schools_out"
   ]
  },
  {
   "cell_type": "code",
   "execution_count": null,
   "metadata": {},
   "outputs": [],
   "source": [
    "# load geojson\n",
    "\n",
    "\n",
    "fix_col_names(school_zones_df)\n",
    "\n",
    "school_zones_df['school_name'] = school_zones_df['school_name'].str.lower()\n",
    "\n",
    "# schools_joined_with_zones = pd.merge(school_zones_df, schools_joined, on='school_name')\n",
    "\n",
    "# schools_joined_with_zones\n",
    "\n",
    "school_zones_df['geometry_right'] = school_zones_df['geometry']\n",
    "\n",
    "regions_df_w_crs = regions_df.set_crs('EPSG:4326')\n",
    "\n",
    "# join based on the largest intersecting area\n",
    "intersecting_zones_df = gpd.sjoin(regions_df_w_crs, school_zones_df, how='left', predicate='intersects')\n",
    "\n",
    "intersecting_zones_df\n",
    "\n",
    "intersecting_zones_df['overlap_area'] = intersecting_zones_df.apply(\n",
    "    lambda row: row.geometry.intersection(row['geometry_right']).area \n",
    "    if not pd.isna(row['geometry_right']) else 0, axis=1\n",
    ")\n",
    "intersecting_zones_df['overlap_area'] = intersecting_zones_df['overlap_area'].fillna(0)\n",
    "\n",
    "schools_zones_joined = pd.merge(intersecting_zones_df, schools_joined, on='school_name', how='left')\n",
    "schools_zones_joined\n",
    "\n",
    "grouped = schools_zones_joined.groupby(['suburbs'])\n",
    "\n",
    "# Define a function to calculate the weighted average for the selected columns\n",
    "def weighted_avg(df, weight_col, cols):\n",
    "    # Multiply each column by the weight (overlap_area), sum and divide by the total weight\n",
    "    return (df[cols].multiply(df[weight_col], axis=0).sum()) / df[weight_col].sum()\n",
    "\n",
    "weighted_averages = grouped.apply(weighted_avg, weight_col='overlap_area', cols=COLS_OF_INTEREST)\n",
    "weighted_averages = weighted_averages.reset_index()\n",
    "\n",
    "weighted_averages.columns = ['suburbs' if col == 'suburbs' else 'zoned_school_' + col for col in weighted_averages.columns]\n",
    "weighted_averages.sort_values('zoned_school_study_score_over_40_percent', ascending=False)"
   ]
  }
 ],
 "metadata": {
  "kernelspec": {
   "display_name": "Python 3",
   "language": "python",
   "name": "python3"
  },
  "language_info": {
   "codemirror_mode": {
    "name": "ipython",
    "version": 3
   },
   "file_extension": ".py",
   "mimetype": "text/x-python",
   "name": "python",
   "nbconvert_exporter": "python",
   "pygments_lexer": "ipython3",
   "version": "3.10.12"
  }
 },
 "nbformat": 4,
 "nbformat_minor": 2
}
