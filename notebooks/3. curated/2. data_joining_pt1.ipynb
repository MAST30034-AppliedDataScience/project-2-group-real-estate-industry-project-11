{
 "cells": [
  {
   "cell_type": "markdown",
   "metadata": {},
   "source": [
    "Takes in x dataframes and merges them together."
   ]
  },
  {
   "cell_type": "code",
   "execution_count": 25,
   "metadata": {},
   "outputs": [],
   "source": [
    "import pandas as pd\n",
    "import geopandas as gpd\n",
    "import sys\n",
    "import os\n",
    "\n",
    "sys.path.append(os.path.abspath('../../scripts/2. modules'))\n",
    "import processing\n",
    "\n",
    "# Inputs\n",
    "CRIME_PATH = '../../data/2. raw/crime.csv'\n",
    "SCHOOLS_PATH = '../../data/3. curated/school/school_by_region.csv'\n",
    "DISTANCES_PATH = '../../data/2. raw/distances.csv'\n",
    "LAND_COVER_PATH = '../../data/2. raw/land_cover.csv'\n",
    "PTV_PATH = '../../data/2. raw/ptv.csv'\n",
    "\n",
    "# Output\n",
    "OUTPUT_PATH = '../../data/3. curated/merged'\n",
    "OUTPUT_FILENAME = 'crime_schools_distances_land.csv'"
   ]
  },
  {
   "cell_type": "markdown",
   "metadata": {},
   "source": [
    "Load each dataframe from the raw layer and prepare it via feature selection for joining."
   ]
  },
  {
   "cell_type": "code",
   "execution_count": 26,
   "metadata": {},
   "outputs": [],
   "source": [
    "regions_df = processing.get_regions_df(2)\n",
    "\n",
    "crime_df = pd.read_csv(CRIME_PATH)\n",
    "\n",
    "def generate_quarters(year, quarter):\n",
    "    result = []\n",
    "    # Loop back to cover the last 4 quarters\n",
    "    for i in range(3, -1, -1):  # 4 quarters back (3 before and the current quarter)\n",
    "        new_quarter = (quarter - i - 1) % 4 + 1\n",
    "        new_year = year if new_quarter <= quarter else year - 1\n",
    "        result.append((new_year, new_quarter))\n",
    "    return result\n",
    "\n",
    "# Process each row in the dataframe and create new rows for each quarter\n",
    "new_rows = []\n",
    "for _, row in crime_df.iterrows():\n",
    "    end_year = row['year']\n",
    "    end_quarter = 2\n",
    "    \n",
    "    # Generate quarters for this row\n",
    "    quarters = generate_quarters(end_year, end_quarter)\n",
    "    \n",
    "    # For each quarter, create a new row\n",
    "    for year, quarter in quarters:\n",
    "        new_row = row.copy()\n",
    "        new_row['year'] = year\n",
    "        new_row['quarter'] = quarter\n",
    "        new_rows.append(new_row)\n",
    "\n",
    "# Create a new dataframe from the expanded rows\n",
    "expanded_crime_df = pd.DataFrame(new_rows).drop(columns=['Unnamed: 0', 'year_ending'])\n",
    "\n",
    "# get the schools by region df\n",
    "schools_by_region = pd.read_csv(SCHOOLS_PATH)\n",
    "\n",
    "ptv_df = pd.read_csv(PTV_PATH)\n",
    "\n",
    "# distances df\n",
    "distances = pd.read_csv(DISTANCES_PATH).drop(columns=['Unnamed: 0', 'geometry', 'regions', 'code', 'centroid', 'route_to_cbd'])\n",
    "\n",
    "# land cover df\n",
    "land_cover = pd.read_csv(LAND_COVER_PATH).drop(columns=['Unnamed: 0'])"
   ]
  },
  {
   "cell_type": "markdown",
   "metadata": {},
   "source": [
    "Now join the data together"
   ]
  },
  {
   "cell_type": "code",
   "execution_count": 27,
   "metadata": {},
   "outputs": [],
   "source": [
    "suburbs = land_cover['suburbs'].unique()\n",
    "\n",
    "df_data = []\n",
    "for suburb in suburbs:\n",
    "    for year in range(2000, 2028):\n",
    "        for quarter in range(1, 5):\n",
    "            df_data.append([suburb, year, quarter])\n",
    "\n",
    "# get the left join base\n",
    "df_left_join = pd.DataFrame(df_data, columns=['suburbs', 'year', 'quarter'])\n",
    "df_left_join\n",
    "\n",
    "# and left join on each value set for the dataframe\n",
    "merged = pd.merge(df_left_join, expanded_crime_df, on=['suburbs', 'year', 'quarter'], how='left')\n",
    "merged = pd.merge(merged, schools_by_region, on=['suburbs'], how='left')\n",
    "merged = pd.merge(merged, distances, on=['suburbs'], how='left')\n",
    "merged = pd.merge(merged, ptv_df, on=['suburbs'], how='left')\n",
    "merged = pd.merge(merged, land_cover, on=['suburbs', 'year', 'quarter'], how='left')\n",
    "\n",
    "processing.to_csv(merged, OUTPUT_PATH, OUTPUT_FILENAME)"
   ]
  }
 ],
 "metadata": {
  "kernelspec": {
   "display_name": "Python 3",
   "language": "python",
   "name": "python3"
  },
  "language_info": {
   "codemirror_mode": {
    "name": "ipython",
    "version": 3
   },
   "file_extension": ".py",
   "mimetype": "text/x-python",
   "name": "python",
   "nbconvert_exporter": "python",
   "pygments_lexer": "ipython3",
   "version": "3.10.12"
  }
 },
 "nbformat": 4,
 "nbformat_minor": 2
}
