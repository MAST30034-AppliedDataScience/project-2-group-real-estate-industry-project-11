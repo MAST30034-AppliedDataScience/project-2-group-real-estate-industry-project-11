{
 "cells": [
  {
   "cell_type": "code",
   "execution_count": 10,
   "id": "576cc261",
   "metadata": {},
   "outputs": [],
   "source": [
    "import pandas as pd\n",
    "import requests"
   ]
  },
  {
   "cell_type": "markdown",
   "id": "8a7fb103",
   "metadata": {},
   "source": [
    "## Create File System"
   ]
  },
  {
   "cell_type": "code",
   "execution_count": 3,
   "id": "d5b1283f",
   "metadata": {},
   "outputs": [],
   "source": [
    "import os\n",
    "\n",
    "# change directories to default one\n",
    "# os.chdir(\"/home/malachy/ADS (2024)/project-2-group-real-estate-industry-project-11/scripts\")\n",
    "\n",
    "# get the relative output path\n",
    "RELATIVE_PATH = \"../data/landing/\"\n",
    "\n",
    "# get the directory names\n",
    "directory_names = [\"housing\", \"population\", \"economic\", \"economic_by_region\", \"school\"]\n",
    "\n",
    "# create each new directory\n",
    "for directory_name in directory_names:\n",
    "    new_path = RELATIVE_PATH + directory_name\n",
    "\n",
    "    # if path doesn't exist, create\n",
    "    if (not os.path.exists(new_path)):\n",
    "        os.mkdir(new_path)"
   ]
  },
  {
   "cell_type": "markdown",
   "id": "fc0301be",
   "metadata": {},
   "source": [
    "## Housing"
   ]
  },
  {
   "cell_type": "code",
   "execution_count": 4,
   "id": "749d4db4",
   "metadata": {},
   "outputs": [],
   "source": [
    "SLEEP_TIME = 10.2"
   ]
  },
  {
   "cell_type": "code",
   "execution_count": 5,
   "id": "b2917d88",
   "metadata": {},
   "outputs": [],
   "source": [
    "def get_new_columns(old_columns, missing_columns):\n",
    "    new_columns = []\n",
    "    for column in old_columns:\n",
    "        if \"Unnamed\" in column:\n",
    "            new_columns.append(missing_columns.pop(0))\n",
    "        else:\n",
    "            new_columns.append(column)\n",
    "\n",
    "    return new_columns"
   ]
  },
  {
   "cell_type": "code",
   "execution_count": 6,
   "id": "c2d62870",
   "metadata": {},
   "outputs": [],
   "source": [
    "import io\n",
    "\n",
    "def write_csv(data, sheet_dict, read_excel_dict):\n",
    "    if (not sheet_dict.get(\"csv\")):\n",
    "        # read the excel data\n",
    "        df = pd.read_excel(data,\n",
    "            sheet_name=sheet_dict[\"sheet\"],\n",
    "            skiprows=read_excel_dict[\"skiprows\"],\n",
    "            index_col=read_excel_dict[\"index col\"], \n",
    "            header=read_excel_dict[\"header rows\"],\n",
    "            nrows=read_excel_dict.get(\"nrows\")\n",
    "        )\n",
    "    else:\n",
    "        # read csv data\n",
    "        csv_data = io.StringIO(data.decode('ascii', errors=\"replace\"))\n",
    "        df = pd.read_csv(csv_data, index_col=0, header=0, encoding='cp1252')\n",
    "\n",
    "    # skip the final records if necessary\n",
    "    if (read_excel_dict.get(\"tail skip\")):\n",
    "        df = df.iloc[:-read_excel_dict[\"tail skip\"]]\n",
    "\n",
    "    # if there are missing columns\n",
    "    if (sheet_dict.get(\"missing header\")):\n",
    "        df.columns = get_new_columns(df.columns, sheet_dict.get(\"missing header\"))\n",
    "\n",
    "    # get the full path\n",
    "    full_path = read_excel_dict[\"relative path\"] + sheet_dict[\"name\"] + \".csv\"\n",
    "\n",
    "    # write to csv\n",
    "    df.to_csv(full_path)"
   ]
  },
  {
   "cell_type": "code",
   "execution_count": 7,
   "id": "0a2f177f",
   "metadata": {},
   "outputs": [],
   "source": [
    "import time\n",
    "\n",
    "def write_all_csvs(url_to_sheets, read_excel_dict):\n",
    "    for url, sheet_dict_list in url_to_sheets.items():\n",
    "        # get the data\n",
    "        data = requests.get(url).content\n",
    "\n",
    "        # for each sheet, write a csv\n",
    "        for sheet_dict in sheet_dict_list:\n",
    "            write_csv(data, sheet_dict, read_excel_dict)\n",
    "        \n",
    "        time.sleep(SLEEP_TIME)\n",
    "\n",
    "        "
   ]
  },
  {
   "cell_type": "code",
   "execution_count": 8,
   "id": "aa9fd4fe",
   "metadata": {},
   "outputs": [],
   "source": [
    "# setting up the parameters for the reading data\n",
    "read_excel_dict_houses = {\n",
    "    \"skiprows\": [x for x in range(11) if x != 1],\n",
    "    \"index col\": 0,\n",
    "    \"header rows\": 0,\n",
    "    \"relative path\": \"../data/landing/housing/\"\n",
    "}\n",
    "\n",
    "# get all the URLS and sheets to get\n",
    "URL_TO_SHEETS_HOUSES = {\n",
    "    \"https://www.dffh.vic.gov.au/moving-annual-rents-suburb-march-quarter-2023-excel\": [\n",
    "        {\"sheet\": \"1 bedroom flat\", \"name\": \"flat_1_bed_2023\"},\n",
    "        {\"sheet\": \"2 bedroom flat\", \"name\": \"flat_2_bed_2023\"},\n",
    "        {\"sheet\": \"3 bedroom flat\", \"name\": \"flat_3_bed_2023\"},\n",
    "        {\"sheet\": \"2 bedroom house\", \"name\": \"house_2_bed_2023\"},\n",
    "        {\"sheet\": \"3 bedroom house\", \"name\": \"house_3_bed_2023\"},\n",
    "        {\"sheet\": \"4 bedroom house\", \"name\": \"house_4_bed_2023\"}\n",
    "    ]\n",
    "}\n"
   ]
  },
  {
   "cell_type": "code",
   "execution_count": 12,
   "id": "c468f5e5",
   "metadata": {},
   "outputs": [
    {
     "name": "stderr",
     "output_type": "stream",
     "text": [
      "/tmp/ipykernel_10832/1424707012.py:6: FutureWarning: Passing bytes to 'read_excel' is deprecated and will be removed in a future version. To read from a byte string, wrap it in a `BytesIO` object.\n",
      "  df = pd.read_excel(data,\n",
      "/tmp/ipykernel_10832/1424707012.py:6: FutureWarning: Passing bytes to 'read_excel' is deprecated and will be removed in a future version. To read from a byte string, wrap it in a `BytesIO` object.\n",
      "  df = pd.read_excel(data,\n",
      "/tmp/ipykernel_10832/1424707012.py:6: FutureWarning: Passing bytes to 'read_excel' is deprecated and will be removed in a future version. To read from a byte string, wrap it in a `BytesIO` object.\n",
      "  df = pd.read_excel(data,\n",
      "/tmp/ipykernel_10832/1424707012.py:6: FutureWarning: Passing bytes to 'read_excel' is deprecated and will be removed in a future version. To read from a byte string, wrap it in a `BytesIO` object.\n",
      "  df = pd.read_excel(data,\n",
      "/tmp/ipykernel_10832/1424707012.py:6: FutureWarning: Passing bytes to 'read_excel' is deprecated and will be removed in a future version. To read from a byte string, wrap it in a `BytesIO` object.\n",
      "  df = pd.read_excel(data,\n",
      "/tmp/ipykernel_10832/1424707012.py:6: FutureWarning: Passing bytes to 'read_excel' is deprecated and will be removed in a future version. To read from a byte string, wrap it in a `BytesIO` object.\n",
      "  df = pd.read_excel(data,\n"
     ]
    }
   ],
   "source": [
    "write_all_csvs(URL_TO_SHEETS_HOUSES, read_excel_dict_houses)"
   ]
  },
  {
   "cell_type": "markdown",
   "id": "5f5e2698",
   "metadata": {},
   "source": [
    "## Economic"
   ]
  },
  {
   "cell_type": "markdown",
   "id": "cbe7b72a",
   "metadata": {},
   "source": [
    "### Interest Rates"
   ]
  },
  {
   "cell_type": "code",
   "execution_count": 13,
   "id": "ece53642",
   "metadata": {},
   "outputs": [],
   "source": [
    "# setting up the parameters for the reading data\n",
    "read_excel_dict_interest = {\n",
    "    \"skiprows\": [x for x in range(11) if x != 1],\n",
    "    \"index col\": 0,\n",
    "    \"header rows\": 0,\n",
    "    \"relative path\": \"../data/landing/economic/\"\n",
    "}\n",
    "\n",
    "# get all the URLS and sheets to get\n",
    "URL_TO_SHEETS_INTEREST = {\n",
    "    \"https://www.rba.gov.au/statistics/tables/xls/f06hist.xlsx\": [{\n",
    "        \"sheet\": \"Data\",\n",
    "        \"name\": \"lending\"\n",
    "    }],\n",
    "    \"https://www.rba.gov.au/statistics/tables/xls/f04hist.xlsx\": [{\n",
    "        \"sheet\": \"Data\",\n",
    "        \"name\": \"deposit\"\n",
    "    }],\n",
    "    \"https://www.rba.gov.au/statistics/tables/xls/f04-1-hist.xlsx\": [{\n",
    "        \"sheet\": \"Data\",\n",
    "        \"name\": \"paid_deposit\"\n",
    "    }]\n",
    "}"
   ]
  },
  {
   "cell_type": "code",
   "execution_count": 14,
   "id": "f92c0c49",
   "metadata": {},
   "outputs": [
    {
     "name": "stderr",
     "output_type": "stream",
     "text": [
      "/tmp/ipykernel_10832/1424707012.py:6: FutureWarning: Passing bytes to 'read_excel' is deprecated and will be removed in a future version. To read from a byte string, wrap it in a `BytesIO` object.\n",
      "  df = pd.read_excel(data,\n",
      "/tmp/ipykernel_10832/1424707012.py:6: FutureWarning: Passing bytes to 'read_excel' is deprecated and will be removed in a future version. To read from a byte string, wrap it in a `BytesIO` object.\n",
      "  df = pd.read_excel(data,\n",
      "/tmp/ipykernel_10832/1424707012.py:6: FutureWarning: Passing bytes to 'read_excel' is deprecated and will be removed in a future version. To read from a byte string, wrap it in a `BytesIO` object.\n",
      "  df = pd.read_excel(data,\n"
     ]
    }
   ],
   "source": [
    "write_all_csvs(URL_TO_SHEETS_INTEREST, read_excel_dict_interest)"
   ]
  },
  {
   "cell_type": "markdown",
   "id": "6d9ee70c",
   "metadata": {},
   "source": [
    "### GDP"
   ]
  },
  {
   "cell_type": "code",
   "execution_count": 15,
   "id": "e6bbfad2",
   "metadata": {},
   "outputs": [],
   "source": [
    "import csv\n",
    "\n",
    "\"\"\"Assumes a bs4 object has been passed in\"\"\"\n",
    "def tag_to_csv(table_tag, dst_path):\n",
    "    with open(dst_path, mode='w', newline='', encoding='utf-8') as csv_file:\n",
    "        writer = csv.writer(csv_file)\n",
    "\n",
    "        # Iterate through table rows <tr>\n",
    "        for row in table_tag.find_all('tr'):\n",
    "            # Get all <td> or <th> in the row\n",
    "            columns = row.find_all(['td', 'th'])\n",
    "\n",
    "            # Extract text from each column and write the row to the CSV file\n",
    "            writer.writerow([col.text.strip() for col in columns])"
   ]
  },
  {
   "cell_type": "code",
   "execution_count": 16,
   "id": "facee391",
   "metadata": {},
   "outputs": [],
   "source": [
    "from bs4 import BeautifulSoup\n",
    "import time\n",
    "\n",
    "def write_table(string, url, dst_path):\n",
    "    content = requests.get(url).content\n",
    "    soup = BeautifulSoup(content, 'lxml')\n",
    "    \n",
    "    caption_tag = soup.find('caption', string=string)\n",
    "\n",
    "    table_tag = caption_tag.find_parent()\n",
    "\n",
    "    tag_to_csv(table_tag, dst_path)\n",
    "\n",
    "    time.sleep(SLEEP_TIME)"
   ]
  },
  {
   "cell_type": "code",
   "execution_count": 17,
   "id": "2d82350a",
   "metadata": {},
   "outputs": [],
   "source": [
    "# no #1: Gross domestic product, chain volume measures, seasonally adjusted\n",
    "GDP_URL = \"https://www.abs.gov.au/statistics/economy/national-accounts/australian-national-accounts-national-income-expenditure-and-product/latest-release\"\n",
    "GDP_STRING = \"Gross domestic product, chain volume measures, seasonally adjusted\"\n",
    "DST_PATH = \"../data/landing/economic/gdp.csv\""
   ]
  },
  {
   "cell_type": "code",
   "execution_count": 18,
   "id": "1e5a76fa",
   "metadata": {},
   "outputs": [],
   "source": [
    "write_table(GDP_STRING, GDP_URL, DST_PATH)"
   ]
  },
  {
   "cell_type": "markdown",
   "id": "e04dc1b1",
   "metadata": {},
   "source": [
    "### Inflation"
   ]
  },
  {
   "cell_type": "code",
   "execution_count": 19,
   "id": "3ab20441",
   "metadata": {},
   "outputs": [],
   "source": [
    "INFLATION_URL = \"https://www.abs.gov.au/statistics/economy/price-indexes-and-inflation/consumer-price-index-australia/latest-release\"\n",
    "INFLATION_STRING = \"All groups CPI and Trimmed mean, Australia, annual movement (%)\"\n",
    "DST_PATH = \"../data/landing/economic/inflation.csv\""
   ]
  },
  {
   "cell_type": "code",
   "execution_count": 20,
   "id": "4d8ecf09",
   "metadata": {},
   "outputs": [],
   "source": [
    "write_table(INFLATION_STRING, INFLATION_URL, DST_PATH)"
   ]
  },
  {
   "cell_type": "markdown",
   "id": "53f35a6b",
   "metadata": {},
   "source": [
    "## Population"
   ]
  },
  {
   "cell_type": "markdown",
   "id": "3a717813",
   "metadata": {},
   "source": [
    "### Immigration"
   ]
  },
  {
   "cell_type": "code",
   "execution_count": 21,
   "id": "85fb4888",
   "metadata": {},
   "outputs": [],
   "source": [
    "# setting up the parameters for the reading data\n",
    "read_excel_dict_immigration = {\n",
    "    \"skiprows\": list(range(12)),\n",
    "    \"index col\": 0,\n",
    "    \"header rows\": 0,\n",
    "    \"relative path\": \"../data/landing/population/\",\n",
    "    \"nrows\": 250\n",
    "}\n",
    "\n",
    "# get all the URLS and sheets to get\n",
    "URL_TO_SHEETS_IMMIGRATION = {\n",
    "    \"https://www.abs.gov.au/statistics/people/population/overseas-migration/2022-23-financial-year/34070DO001_202223.xlsx\": [{\n",
    "        \"sheet\": \"Table 1.3\",\n",
    "        \"name\": \"immigration_2022\"\n",
    "    }]\n",
    "}"
   ]
  },
  {
   "cell_type": "code",
   "execution_count": 22,
   "id": "4766c21f",
   "metadata": {},
   "outputs": [
    {
     "name": "stderr",
     "output_type": "stream",
     "text": [
      "/tmp/ipykernel_10832/1424707012.py:6: FutureWarning: Passing bytes to 'read_excel' is deprecated and will be removed in a future version. To read from a byte string, wrap it in a `BytesIO` object.\n",
      "  df = pd.read_excel(data,\n"
     ]
    }
   ],
   "source": [
    "write_all_csvs(URL_TO_SHEETS_IMMIGRATION, read_excel_dict_immigration)"
   ]
  },
  {
   "cell_type": "markdown",
   "id": "7792cb29",
   "metadata": {},
   "source": [
    "### Age Demos"
   ]
  },
  {
   "cell_type": "code",
   "execution_count": 23,
   "id": "a8ae958e",
   "metadata": {},
   "outputs": [],
   "source": [
    "# setting up the parameters for the reading data\n",
    "read_excel_dict_age = {\n",
    "    \"skiprows\": list(range(5)),\n",
    "    \"index col\": 0,\n",
    "    \"header rows\": [0, 1],\n",
    "    \"relative path\": \"../data/landing/population/\",\n",
    "    \"skip tail\": 1\n",
    "}\n",
    "\n",
    "# get all the URLS and sheets to get\n",
    "URL_TO_SHEETS_AGE = {\n",
    "    \"https://www.abs.gov.au/statistics/people/population/regional-population-age-and-sex/2023/32350DS0005_2001-23.xlsx\": [{\n",
    "        \"sheet\": \"Table 3\",\n",
    "        \"name\": \"age_demos\"\n",
    "    }]\n",
    "}"
   ]
  },
  {
   "cell_type": "code",
   "execution_count": 24,
   "id": "df2ff6c3",
   "metadata": {},
   "outputs": [
    {
     "name": "stderr",
     "output_type": "stream",
     "text": [
      "/tmp/ipykernel_10832/1424707012.py:6: FutureWarning: Passing bytes to 'read_excel' is deprecated and will be removed in a future version. To read from a byte string, wrap it in a `BytesIO` object.\n",
      "  df = pd.read_excel(data,\n"
     ]
    }
   ],
   "source": [
    "write_all_csvs(URL_TO_SHEETS_AGE, read_excel_dict_age)"
   ]
  },
  {
   "cell_type": "markdown",
   "id": "1d07dfa4",
   "metadata": {},
   "source": [
    "### Population Projections"
   ]
  },
  {
   "cell_type": "code",
   "execution_count": 25,
   "id": "2c45d4be",
   "metadata": {},
   "outputs": [],
   "source": [
    "URL_POPULATION = \"https://www.abs.gov.au/statistics/people/population/population-projections-australia/latest-release\"\n",
    "\n",
    "REQUESTS_POPULATION = [\n",
    "    {\"string\": \"Projected population, Victoria\", \"name\": \"population_proj\"},\n",
    "    {\"string\": \"Projected natural increase, Victoria\", \"name\": \"population_natural_proj\"},\n",
    "    {\"string\": \"Population proportion(a), Victoria\", \"name\": \"population_proportions\"}\n",
    "]"
   ]
  },
  {
   "cell_type": "code",
   "execution_count": 26,
   "id": "6b5786d2",
   "metadata": {},
   "outputs": [],
   "source": [
    "for population_dict in REQUESTS_POPULATION:\n",
    "    # get the output path\n",
    "    path = \"../data/landing/population/\" + population_dict[\"name\"] + \".csv\"\n",
    "\n",
    "    # write the table\n",
    "    write_table(population_dict[\"string\"], URL_POPULATION, path)"
   ]
  },
  {
   "cell_type": "markdown",
   "id": "c98de17f",
   "metadata": {},
   "source": [
    "## Economic by Region"
   ]
  },
  {
   "cell_type": "code",
   "execution_count": 27,
   "id": "07a98abf",
   "metadata": {},
   "outputs": [],
   "source": [
    "# setting up the parameters for the reading data\n",
    "read_excel_dict_socioeconomic = {\n",
    "    \"skiprows\": list(range(5)),\n",
    "    \"index col\": [0, 1],\n",
    "    \"header rows\": [0, 1],\n",
    "    \"relative path\": \"../data/landing/economic_by_region/\",\n",
    "    \"skip tail\": 5\n",
    "}\n",
    "\n",
    "# get all the URLS and sheets to get\n",
    "URL_TO_SHEETS_SOCIOECONOMIC = {\n",
    "    \"https://www.abs.gov.au/statistics/labour/earnings-and-working-conditions/personal-income-australia/2020-21-financial-year/Table%201%20-%20Total%20income%2C%20earners%20and%20summary%20statistics%20by%20geography%2C%202016-17%20to%202020-21.xlsx\": [{\n",
    "        \"sheet\": \"Table 1.4\",\n",
    "        \"name\": \"income_by_geography_b2022\"\n",
    "    }], \"https://www.abs.gov.au/statistics/labour/earnings-and-working-conditions/personal-income-australia/2020-21-financial-year/Table%202%20-%20Total%20income%20distribution%20by%20geography%2C%202020-21.xlsx\": [{\n",
    "        \"sheet\": \"Table 2.4\",\n",
    "        \"name\": \"income_distribution_by_geography_2021\"\n",
    "    }], \n",
    "}"
   ]
  },
  {
   "cell_type": "code",
   "execution_count": 28,
   "id": "830fab4c",
   "metadata": {},
   "outputs": [
    {
     "name": "stderr",
     "output_type": "stream",
     "text": [
      "/tmp/ipykernel_10832/1424707012.py:6: FutureWarning: Passing bytes to 'read_excel' is deprecated and will be removed in a future version. To read from a byte string, wrap it in a `BytesIO` object.\n",
      "  df = pd.read_excel(data,\n",
      "/tmp/ipykernel_10832/1424707012.py:6: FutureWarning: Passing bytes to 'read_excel' is deprecated and will be removed in a future version. To read from a byte string, wrap it in a `BytesIO` object.\n",
      "  df = pd.read_excel(data,\n"
     ]
    }
   ],
   "source": [
    "write_all_csvs(URL_TO_SHEETS_SOCIOECONOMIC, read_excel_dict_socioeconomic)"
   ]
  },
  {
   "cell_type": "markdown",
   "id": "a624196e",
   "metadata": {},
   "source": [
    "## Schools"
   ]
  },
  {
   "cell_type": "code",
   "execution_count": 29,
   "id": "ad31336d",
   "metadata": {},
   "outputs": [],
   "source": [
    "# setting up the parameters for the reading data\n",
    "read_excel_dict_school = {\n",
    "    \"skiprows\": [x for x in range(7) if x != 5],\n",
    "    \"index col\": 0,\n",
    "    \"header rows\": 0,\n",
    "    \"relative path\": \"../data/landing/school/\"\n",
    "}\n",
    "\n",
    "MISSING_HEADERS_SCHOOL = [\"VCAA code\", \"School name\", \"Sector\", \"Locality\", \n",
    "                          \"Total Completed Year 12\", \"Survey Participants\"]\n",
    "\n",
    "URL_TO_SHEETS_SCHOOL = {\n",
    "    \"https://www.education.vic.gov.au/Documents/about/research/OnTrack2019/DestinationData2019.xlsx\": [{\n",
    "        \"sheet\": \"SCHOOL PUBLICATION TABLE 2019\",\n",
    "        \"name\": \"after_school_2019\",\n",
    "        \"missing header\": MISSING_HEADERS_SCHOOL\n",
    "    }], \"https://www.education.vic.gov.au/Documents/about/research/OnTrack2021/DestinationData2021_new.XLSX\": [{\n",
    "        \"sheet\": \"SCHOOL PUBLICATION TABLE 2021\",\n",
    "        \"name\": \"after_school_2021\",\n",
    "        \"missing header\": MISSING_HEADERS_SCHOOL\n",
    "    }], \"https://www.education.vic.gov.au/Documents/about/research/datavic/dv331_schoollocations2022.csv\": [{\n",
    "        \"csv\": True,\n",
    "        \"name\": \"locations_2022\"\n",
    "    }]\n",
    "}"
   ]
  },
  {
   "cell_type": "code",
   "execution_count": 30,
   "id": "fa355d6e",
   "metadata": {},
   "outputs": [
    {
     "name": "stderr",
     "output_type": "stream",
     "text": [
      "/tmp/ipykernel_10832/1424707012.py:6: FutureWarning: Passing bytes to 'read_excel' is deprecated and will be removed in a future version. To read from a byte string, wrap it in a `BytesIO` object.\n",
      "  df = pd.read_excel(data,\n",
      "/tmp/ipykernel_10832/1424707012.py:6: FutureWarning: Passing bytes to 'read_excel' is deprecated and will be removed in a future version. To read from a byte string, wrap it in a `BytesIO` object.\n",
      "  df = pd.read_excel(data,\n"
     ]
    }
   ],
   "source": [
    "write_all_csvs(URL_TO_SHEETS_SCHOOL, read_excel_dict_school)"
   ]
  }
 ],
 "metadata": {
  "kernelspec": {
   "display_name": "Python 3 (ipykernel)",
   "language": "python",
   "name": "python3"
  },
  "language_info": {
   "codemirror_mode": {
    "name": "ipython",
    "version": 3
   },
   "file_extension": ".py",
   "mimetype": "text/x-python",
   "name": "python",
   "nbconvert_exporter": "python",
   "pygments_lexer": "ipython3",
   "version": "3.10.12"
  }
 },
 "nbformat": 4,
 "nbformat_minor": 5
}
