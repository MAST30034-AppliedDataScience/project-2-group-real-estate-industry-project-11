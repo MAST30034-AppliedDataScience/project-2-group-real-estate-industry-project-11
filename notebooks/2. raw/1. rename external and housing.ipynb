{
 "cells": [
  {
   "cell_type": "code",
   "execution_count": 13,
   "id": "b41d1857",
   "metadata": {},
   "outputs": [],
   "source": [
    "import pandas as pd\n",
    "import numpy as np\n",
    "import os"
   ]
  },
  {
   "cell_type": "markdown",
   "id": "8a7fb103",
   "metadata": {},
   "source": [
    "## Create File System"
   ]
  },
  {
   "cell_type": "code",
   "execution_count": 14,
   "id": "d5b1283f",
   "metadata": {},
   "outputs": [],
   "source": [
    "\n",
    "# get the relative output path\n",
    "RELATIVE_PATH_IN = \"../../data/1. landing/\"\n",
    "RELATIVE_PATH_OUT = \"../../data/2. raw/1. renamed/\"\n",
    "\n",
    "# get the directory names\n",
    "directory_names = [\"housing\", \"population\", \"economic\", \"economic_by_region\", \"school\"]\n",
    "\n",
    "# create each new directory\n",
    "for directory_name in directory_names:\n",
    "    new_path = RELATIVE_PATH_OUT + directory_name\n",
    "\n",
    "    # if path doesn't exist, create\n",
    "    if (not os.path.exists(new_path)):\n",
    "        os.mkdir(new_path)"
   ]
  },
  {
   "cell_type": "markdown",
   "id": "0a5c768e",
   "metadata": {},
   "source": [
    "## Functions"
   ]
  },
  {
   "cell_type": "markdown",
   "id": "486849b8",
   "metadata": {},
   "source": [
    "### Type Conversions"
   ]
  },
  {
   "cell_type": "code",
   "execution_count": 2,
   "id": "e465a024",
   "metadata": {},
   "outputs": [],
   "source": [
    "\"\"\"\"assumes all input columns are strings\"\"\"\n",
    "def change_numeric(df, columns):\n",
    "    for col in columns:\n",
    "        df[col] = df[col].astype(str)\n",
    "        df[col] = df[col].str.replace(\",\", \"\")\n",
    "        df[col] = pd.to_numeric(df[col], errors=\"coerce\")\n",
    "\n",
    "    return df"
   ]
  },
  {
   "cell_type": "markdown",
   "id": "100dacdc",
   "metadata": {},
   "source": [
    "### Renaming"
   ]
  },
  {
   "cell_type": "code",
   "execution_count": 15,
   "id": "218ca43d",
   "metadata": {},
   "outputs": [],
   "source": [
    "def fill_previous(df, na=\"Unnamed\"):\n",
    "    # get the current columns\n",
    "    curr_columns = list(df.columns)\n",
    "\n",
    "    # basically make the columns by level and create a data frame\n",
    "    flat_column_list = [[group[i] for group in curr_columns] for i in range(len(curr_columns[0]))]\n",
    "    column_dataframe = pd.DataFrame(flat_column_list)\n",
    "\n",
    "    # create the missing values then fill them again\n",
    "    column_dataframe = column_dataframe.applymap(lambda x: None if (not x) or (na in str(x)) else x)\n",
    "    column_dataframe = column_dataframe.T.ffill().T\n",
    "\n",
    "    # get as a numpy array once again\n",
    "    flat_column_list = column_dataframe.to_numpy()\n",
    "\n",
    "    # get the \n",
    "    df.columns = pd.MultiIndex.from_arrays(flat_column_list)\n",
    "\n",
    "    return df"
   ]
  },
  {
   "cell_type": "code",
   "execution_count": 82,
   "id": "3d8bd1e4",
   "metadata": {},
   "outputs": [],
   "source": [
    "import warnings\n",
    "\n",
    "def rename_columns(df, index_dict={}, column_dict={}, keep_columns=False, multilevel=False, warn_me=True):\n",
    "    # get the renamed dictionary using indices\n",
    "    new_column_names = list(df.columns.copy())\n",
    "\n",
    "    # get the column and index indices\n",
    "    index_indices = list(index_dict.keys())\n",
    "    column_indices = [new_column_names.index(col) for col in column_dict.keys() if col in new_column_names]\n",
    "\n",
    "    # check no overlap\n",
    "    if (index_indices and column_indices):\n",
    "        overlap = set(column_indices) & set(index_indices)\n",
    "        assert (not column_indices or not index_indices or not overlap), f\"index_dict and column_dict both use {[new_column_names[x] for x in overlap]}\"\n",
    "\n",
    "    # check within suitable range\n",
    "    if (index_indices):\n",
    "        assert (min(index_indices) >= 1), \"index_dict indices must be above 0\"\n",
    "        assert (max(index_indices) <= len(new_column_names)), f\"index_dict indices must be below {len(new_column_names)}\"\n",
    "\n",
    "    # create a warning for columns not included\n",
    "    columns_not_used = [col for col in column_dict.keys() if not col in new_column_names]\n",
    "    if (warn_me and columns_not_used):\n",
    "        warnings.warn(f\"the following columns were not included: {columns_not_used}\", UserWarning)\n",
    "\n",
    "    # use indices to change the dictionary\n",
    "    if (index_dict | column_dict):\n",
    "        for col_num in range(1, len(new_column_names)+1):\n",
    "            if (index_dict.get(col_num) != None):\n",
    "                new_column_names[col_num-1] = index_dict[col_num]\n",
    "            elif (column_dict.get(new_column_names[col_num-1]) != None):\n",
    "                new_column_names[col_num-1] = column_dict[new_column_names[col_num-1]]\n",
    "            elif (multilevel == True):\n",
    "                new_column_names[col_num-1] = (new_column_names[col_num-1], None)\n",
    "\n",
    "    # convert the rest of the indices necessary to multi index\n",
    "    if (multilevel == True):\n",
    "        new_column_names = pd.MultiIndex.from_tuples(new_column_names)\n",
    "\n",
    "    # add the new columns\n",
    "    df.columns = new_column_names\n",
    "\n",
    "    # drop the columns not of interest\n",
    "    if (not keep_columns):\n",
    "        index_indices = [x-1 for x in index_indices]\n",
    "        keep_columns = sorted(index_indices + column_indices)\n",
    "    elif (keep_columns == \"all\"):\n",
    "        keep_columns = list(range(len(new_column_names)))\n",
    "    else:\n",
    "        keep_columns = [x-1 for x in keep_columns]\n",
    "    \n",
    "    # filter the columns\n",
    "    df = df.iloc[:, keep_columns]\n",
    "\n",
    "    return df"
   ]
  },
  {
   "cell_type": "markdown",
   "id": "9aed09d9",
   "metadata": {},
   "source": [
    "### Excel"
   ]
  },
  {
   "cell_type": "code",
   "execution_count": 17,
   "id": "1f9abafd",
   "metadata": {},
   "outputs": [],
   "source": [
    "def get_new_columns(old_columns, missing_columns):\n",
    "    new_columns = []\n",
    "    for column in old_columns:\n",
    "        if \"Unnamed\" in column:\n",
    "            new_columns.append(missing_columns.pop(0))\n",
    "        else:\n",
    "            new_columns.append(column)\n",
    "\n",
    "    return new_columns"
   ]
  },
  {
   "cell_type": "code",
   "execution_count": 18,
   "id": "16c13462",
   "metadata": {},
   "outputs": [],
   "source": [
    "def get_csv(src_path, sheet_dict, read_excel_dict):\n",
    "    if (not read_excel_dict.get(\"csv\")):\n",
    "        # read the excel data\n",
    "        df = pd.read_excel(src_path,\n",
    "            sheet_name=sheet_dict[\"sheet\"],\n",
    "            skiprows=read_excel_dict[\"skiprows\"],\n",
    "            index_col=read_excel_dict[\"index col\"], \n",
    "            header=read_excel_dict[\"header rows\"],\n",
    "            nrows=read_excel_dict.get(\"nrows\")\n",
    "        )\n",
    "    else:\n",
    "        # read csv data\n",
    "        df = pd.read_csv(src_path, index_col=read_excel_dict[\"index col\"], header=read_excel_dict[\"header rows\"])\n",
    "\n",
    "    # skip the final records if necessary\n",
    "    if (read_excel_dict.get(\"skip tail\")):\n",
    "        df = df.iloc[:-read_excel_dict[\"skip tail\"]]\n",
    "\n",
    "    # if there are missing columns\n",
    "    if (read_excel_dict.get(\"missing header\")):\n",
    "        df.columns = get_new_columns(df.columns, read_excel_dict.get(\"missing header\"))\n",
    "\n",
    "    return df"
   ]
  },
  {
   "cell_type": "markdown",
   "id": "fc0301be",
   "metadata": {},
   "source": [
    "## Housing"
   ]
  },
  {
   "cell_type": "code",
   "execution_count": 168,
   "id": "130706a7",
   "metadata": {},
   "outputs": [],
   "source": [
    "# setting up the parameters for the reading data\n",
    "read_excel_dict_houses = {\n",
    "    \"skiprows\": [0, 2],\n",
    "    \"index col\": None,\n",
    "    \"header rows\": 0,\n",
    "}\n",
    "\n",
    "# get all the URLS and sheets to get\n",
    "SHEET_NAMES_HOUSES = [{\"sheet\": f\"{i} bedroom flat\", \"name\": f\"flat_{i}_bed\"} for i in range(1, 4)] + \\\n",
    "                     [{\"sheet\": f\"{i} bedroom house\", \"name\": f\"house_{i}_bed\"} for i in range(2, 5)] + \\\n",
    "                     [{\"sheet\": \"All properties\", \"name\": \"all_properties\"}]"
   ]
  },
  {
   "cell_type": "code",
   "execution_count": 169,
   "id": "147d01db",
   "metadata": {},
   "outputs": [],
   "source": [
    "# get the measure columns\n",
    "time_stamps = [str(year) + \"-\" + month \n",
    "               for year in range(2000, 2025) \n",
    "               for month in [\"03\", \"06\", \"09\", \"12\"]]\n",
    "\n",
    "# remove the last 2 quarters (because don't exist in the dataframe)\n",
    "time_stamps = time_stamps[:-2]\n",
    "\n",
    "# get the columns as tuples and get the rename dict\n",
    "measure_columns = [(time_stamp, measure) for time_stamp in time_stamps for measure in [\"count\", \"median\"]]\n",
    "new_columns = [(\"suburbs\", None)] + measure_columns\n",
    "rename_dict_housing = {i+2: new_columns[i] for i in range(len(new_columns))}"
   ]
  },
  {
   "cell_type": "code",
   "execution_count": 1,
   "id": "20c046b4",
   "metadata": {},
   "outputs": [
    {
     "ename": "NameError",
     "evalue": "name 'SHEET_NAMES_HOUSES' is not defined",
     "output_type": "error",
     "traceback": [
      "\u001b[0;31m---------------------------------------------------------------------------\u001b[0m",
      "\u001b[0;31mNameError\u001b[0m                                 Traceback (most recent call last)",
      "Input \u001b[0;32mIn [1]\u001b[0m, in \u001b[0;36m<cell line: 2>\u001b[0;34m()\u001b[0m\n\u001b[1;32m      1\u001b[0m housing_df_list \u001b[38;5;241m=\u001b[39m []\n\u001b[0;32m----> 2\u001b[0m \u001b[38;5;28;01mfor\u001b[39;00m sheet_dict \u001b[38;5;129;01min\u001b[39;00m \u001b[43mSHEET_NAMES_HOUSES\u001b[49m:\n\u001b[1;32m      3\u001b[0m     \u001b[38;5;66;03m# get the paths\u001b[39;00m\n\u001b[1;32m      4\u001b[0m     src_path \u001b[38;5;241m=\u001b[39m RELATIVE_PATH_IN \u001b[38;5;241m+\u001b[39m \u001b[38;5;124m\"\u001b[39m\u001b[38;5;124mhousing/moving quarterly rent.xlsx\u001b[39m\u001b[38;5;124m\"\u001b[39m\n\u001b[1;32m      5\u001b[0m     dst_path \u001b[38;5;241m=\u001b[39m RELATIVE_PATH_OUT \u001b[38;5;241m+\u001b[39m \u001b[38;5;124m\"\u001b[39m\u001b[38;5;124mhousing/\u001b[39m\u001b[38;5;124m\"\u001b[39m \u001b[38;5;241m+\u001b[39m sheet_dict[\u001b[38;5;124m\"\u001b[39m\u001b[38;5;124mname\u001b[39m\u001b[38;5;124m\"\u001b[39m] \u001b[38;5;241m+\u001b[39m \u001b[38;5;124m\"\u001b[39m\u001b[38;5;124m.csv\u001b[39m\u001b[38;5;124m\"\u001b[39m\n",
      "\u001b[0;31mNameError\u001b[0m: name 'SHEET_NAMES_HOUSES' is not defined"
     ]
    }
   ],
   "source": [
    "housing_df_list = []\n",
    "for sheet_dict in SHEET_NAMES_HOUSES:\n",
    "    # get the paths\n",
    "    src_path = RELATIVE_PATH_IN + \"housing/moving quarterly rent.xlsx\"\n",
    "    dst_path = RELATIVE_PATH_OUT + \"housing/\" + sheet_dict[\"name\"] + \".csv\"\n",
    "\n",
    "    # get the dataframe\n",
    "    housing_df = get_csv(src_path, sheet_dict, read_excel_dict_houses)\n",
    "\n",
    "    # rename the dataframe\n",
    "    housing_df = rename_columns(housing_df, index_dict=rename_dict_housing, multilevel=True)\n",
    "\n",
    "    # change to numeric\n",
    "    housing_df = change_numeric(housing_df, housing_df.columns[1:])\n",
    "\n",
    "    # write to csv\n",
    "    housing_df.to_csv(dst_path)"
   ]
  },
  {
   "cell_type": "markdown",
   "id": "5f5e2698",
   "metadata": {},
   "source": [
    "## Economic"
   ]
  },
  {
   "cell_type": "markdown",
   "id": "cbe7b72a",
   "metadata": {},
   "source": [
    "### Interest Rates"
   ]
  },
  {
   "cell_type": "code",
   "execution_count": 145,
   "id": "88ed033b",
   "metadata": {},
   "outputs": [],
   "source": [
    "# setting up the parameters for the reading data\n",
    "read_excel_dict_interest = {\n",
    "    \"skiprows\": [x for x in range(11) if x != 1],\n",
    "    \"index col\": None,\n",
    "    \"header rows\": 0,\n",
    "}\n",
    "\n",
    "# get the renamed dict\n",
    "rename_dict_interest = {1: \"year\", 4: \"economic: variable interest rate\"}"
   ]
  },
  {
   "cell_type": "code",
   "execution_count": 146,
   "id": "ece53642",
   "metadata": {},
   "outputs": [
    {
     "data": {
      "text/html": [
       "<div>\n",
       "<style scoped>\n",
       "    .dataframe tbody tr th:only-of-type {\n",
       "        vertical-align: middle;\n",
       "    }\n",
       "\n",
       "    .dataframe tbody tr th {\n",
       "        vertical-align: top;\n",
       "    }\n",
       "\n",
       "    .dataframe thead th {\n",
       "        text-align: right;\n",
       "    }\n",
       "</style>\n",
       "<table border=\"1\" class=\"dataframe\">\n",
       "  <thead>\n",
       "    <tr style=\"text-align: right;\">\n",
       "      <th></th>\n",
       "      <th>year</th>\n",
       "      <th>economic: variable interest rate</th>\n",
       "      <th>month</th>\n",
       "    </tr>\n",
       "  </thead>\n",
       "  <tbody>\n",
       "    <tr>\n",
       "      <th>0</th>\n",
       "      <td>1959</td>\n",
       "      <td>5.0</td>\n",
       "      <td>1</td>\n",
       "    </tr>\n",
       "    <tr>\n",
       "      <th>1</th>\n",
       "      <td>1959</td>\n",
       "      <td>5.0</td>\n",
       "      <td>2</td>\n",
       "    </tr>\n",
       "    <tr>\n",
       "      <th>2</th>\n",
       "      <td>1959</td>\n",
       "      <td>5.0</td>\n",
       "      <td>3</td>\n",
       "    </tr>\n",
       "    <tr>\n",
       "      <th>3</th>\n",
       "      <td>1959</td>\n",
       "      <td>5.0</td>\n",
       "      <td>4</td>\n",
       "    </tr>\n",
       "    <tr>\n",
       "      <th>4</th>\n",
       "      <td>1959</td>\n",
       "      <td>5.0</td>\n",
       "      <td>5</td>\n",
       "    </tr>\n",
       "  </tbody>\n",
       "</table>\n",
       "</div>"
      ],
      "text/plain": [
       "   year  economic: variable interest rate  month\n",
       "0  1959                               5.0      1\n",
       "1  1959                               5.0      2\n",
       "2  1959                               5.0      3\n",
       "3  1959                               5.0      4\n",
       "4  1959                               5.0      5"
      ]
     },
     "execution_count": 146,
     "metadata": {},
     "output_type": "execute_result"
    }
   ],
   "source": [
    "# get the dataframe\n",
    "interest = get_csv(RELATIVE_PATH_IN + \"economic/interest.xlsx\", {\"sheet\": \"Data\"}, read_excel_dict_interest)\n",
    "\n",
    "# rename the dataframe\n",
    "interest = rename_columns(interest, index_dict=rename_dict_interest)\n",
    "\n",
    "# split up the time stamp\n",
    "interest[[\"year\", \"month\", \"day\"]] = interest[\"year\"].astype(str).str.split(\"-\", expand=True).astype(int)\n",
    "interest = interest.drop(columns=\"day\")\n",
    "\n",
    "# change the column types\n",
    "interest = change_numeric(interest, interest.columns)\n",
    "interest[\"year\"] = interest[\"year\"].astype(int)\n",
    "\n",
    "# write to csv\n",
    "interest.to_csv(RELATIVE_PATH_OUT + \"economic/interest.csv\")\n",
    "\n",
    "interest.head(5)"
   ]
  },
  {
   "cell_type": "markdown",
   "id": "6d9ee70c",
   "metadata": {},
   "source": [
    "### GDP"
   ]
  },
  {
   "cell_type": "code",
   "execution_count": 147,
   "id": "2ee52bff",
   "metadata": {},
   "outputs": [],
   "source": [
    "# setting up the parameters for the reading data\n",
    "read_excel_dict_gdp = {\n",
    "    \"skiprows\": list(range(9)),\n",
    "    \"index col\": None,\n",
    "    \"header rows\": 0,\n",
    "}\n",
    "\n",
    "rename_dict_gdp_index = {1: \"year\"}\n",
    "rename_dict_gdp_columns = {\"A2304370T\": \"economic: gdp quarterly\", \"A2304372W\": \"economic: gdp per capita quarterly\"}"
   ]
  },
  {
   "cell_type": "code",
   "execution_count": 148,
   "id": "8610a989",
   "metadata": {},
   "outputs": [],
   "source": [
    "# get the dataframe\n",
    "gdp = get_csv(RELATIVE_PATH_IN + \"economic/gdp.xlsx\", {\"sheet\": \"Data1\"}, read_excel_dict_gdp)\n",
    "\n",
    "# rename the dataframe\n",
    "gdp = rename_columns(gdp, index_dict=rename_dict_gdp_index, column_dict=rename_dict_gdp_columns)\n",
    "\n",
    "# split up the month and the year\n",
    "gdp[[\"year\", \"month\", \"day\"]] = gdp[\"year\"].astype(str).str.split(\"-\", expand=True).astype(int)\n",
    "gdp = gdp.drop(columns=\"day\")\n",
    "\n",
    "# change the column types\n",
    "gdp = change_numeric(gdp, gdp.columns)\n",
    "gdp[\"year\"] = gdp[\"year\"].astype(int)\n",
    "\n",
    "# write to csv\n",
    "gdp.to_csv(RELATIVE_PATH_OUT + \"economic/gdp.csv\")"
   ]
  },
  {
   "cell_type": "markdown",
   "id": "e04dc1b1",
   "metadata": {},
   "source": [
    "### Inflation"
   ]
  },
  {
   "cell_type": "code",
   "execution_count": 149,
   "id": "b4f7a156",
   "metadata": {},
   "outputs": [],
   "source": [
    "# setting up the parameters for the reading data\n",
    "read_excel_dict_inflation = {\n",
    "    \"skiprows\": list(range(1, 10)),\n",
    "    \"index col\": None,\n",
    "    \"header rows\": 0,\n",
    "}\n",
    "\n",
    "rename_dict_inflation_columns = {\"Percentage Change from Previous Period ;  Trimmed Mean ;  Australia ;\": \"economic: trimmed mean quarterly\"}\n",
    "rename_dict_inflation_index = {1: \"year\"}"
   ]
  },
  {
   "cell_type": "code",
   "execution_count": 150,
   "id": "ba14edf1",
   "metadata": {},
   "outputs": [],
   "source": [
    "# get the dataframe\n",
    "inflation = get_csv(RELATIVE_PATH_IN + \"economic/inflation.xlsx\", {\"sheet\": \"Data1\"}, read_excel_dict_inflation)\n",
    "\n",
    "# rename the dataframe\n",
    "inflation = rename_columns(inflation, column_dict=rename_dict_inflation_columns, index_dict=rename_dict_inflation_index)\n",
    "\n",
    "# get the columns\n",
    "inflation[[\"year\", \"month\", \"day\"]] = inflation.astype(str)[\"year\"].str.split(\"-\", expand=True)\n",
    "inflation = inflation.drop(columns=\"day\")\n",
    "\n",
    "# change the column types\n",
    "inflation = change_numeric(inflation, inflation.columns)\n",
    "inflation[\"year\"] = inflation[\"year\"].astype(int)\n",
    "\n",
    "# write to csv\n",
    "inflation.to_csv(RELATIVE_PATH_OUT + \"economic/inflation.csv\")"
   ]
  },
  {
   "cell_type": "markdown",
   "id": "53f35a6b",
   "metadata": {},
   "source": [
    "## Population"
   ]
  },
  {
   "cell_type": "markdown",
   "id": "7792cb29",
   "metadata": {},
   "source": [
    "### Age Demos"
   ]
  },
  {
   "cell_type": "code",
   "execution_count": 156,
   "id": "9f9d0e8c",
   "metadata": {},
   "outputs": [],
   "source": [
    "# setting up the parameters for the reading data\n",
    "read_excel_dict_age = {\n",
    "    \"skiprows\": list(range(6)),\n",
    "    \"index col\": None,\n",
    "    \"header rows\": 0,\n",
    "    \"skip tail\": 1\n",
    "}\n",
    "\n",
    "# rename the columns\n",
    "rename_dict_age = {1: \"year\", 3: \"state\", 10: \"SA2 code\"}\n",
    "rename_dict_age.update({i+11+1: f\"population: {i*5}-{i*5+4}\" for i in range(17)})# need the +1 because it's the actual column position\n",
    "rename_dict_age.update({29: \"population: 85+\", 30: \"population: total\"})"
   ]
  },
  {
   "cell_type": "code",
   "execution_count": 157,
   "id": "543d9803",
   "metadata": {},
   "outputs": [],
   "source": [
    "# get the dataframe\n",
    "df = get_csv(RELATIVE_PATH_IN + \"population/age demographics.xlsx\", {\"sheet\": \"Table 3\"}, read_excel_dict_age)\n",
    "\n",
    "# rename the dataframe\n",
    "df = rename_columns(df, index_dict=rename_dict_age)\n",
    "\n",
    "# change numeric columns\n",
    "df = change_numeric(df, list(df.columns[:1]) + list(df.columns[3:]))\n",
    "df[\"year\"] = df[\"year\"].astype(int)\n",
    "df[\"SA2 code\"] = df[\"SA2 code\"].astype(float)\n",
    "\n",
    "# write to csv\n",
    "df.to_csv(RELATIVE_PATH_OUT + \"population/age demographics.csv\")"
   ]
  },
  {
   "cell_type": "markdown",
   "id": "d8a56837",
   "metadata": {},
   "source": [
    "### Future Population"
   ]
  },
  {
   "cell_type": "code",
   "execution_count": 158,
   "id": "f591ff95",
   "metadata": {},
   "outputs": [],
   "source": [
    "# setting up the parameters for the reading data\n",
    "read_excel_dict_population = {\n",
    "    \"skiprows\": [x for x in range(11) if x != 9],\n",
    "    \"index col\": None,\n",
    "    \"header rows\": 0,\n",
    "    \"skip tail\": 5\n",
    "}\n",
    "\n",
    "# rename the columns\n",
    "rename_dict_population = {year: f\"population: {year}\" for year in range(2026, 2036+1, 5)}\n",
    "rename_dict_population.update({\"SA2  code\": \"SA2 code\"})"
   ]
  },
  {
   "cell_type": "code",
   "execution_count": 159,
   "id": "36a6b5e8",
   "metadata": {},
   "outputs": [],
   "source": [
    "# get the dataframe\n",
    "df = get_csv(RELATIVE_PATH_IN + \"population/projections.xlsx\", {\"sheet\": \"Total_Population\"}, read_excel_dict_population)\n",
    "\n",
    "# rename the dataframe\n",
    "df = rename_columns(df, column_dict=rename_dict_population, keep_columns=[4, 8, 9, 10])\n",
    "\n",
    "df = change_numeric(df, df.columns[1:])\n",
    "df[\"SA2 code\"] = df[\"SA2 code\"].astype(float)\n",
    "\n",
    "# write to csv\n",
    "df.to_csv(RELATIVE_PATH_OUT + \"population/projections.csv\")"
   ]
  },
  {
   "cell_type": "markdown",
   "id": "c98de17f",
   "metadata": {},
   "source": [
    "## Economic by Region"
   ]
  },
  {
   "cell_type": "markdown",
   "id": "f94174f2",
   "metadata": {},
   "source": [
    "### Geography"
   ]
  },
  {
   "cell_type": "code",
   "execution_count": 160,
   "id": "48c627e4",
   "metadata": {},
   "outputs": [],
   "source": [
    "# setting up the parameters for the reading data\n",
    "read_excel_dict_economic_by_region = {\n",
    "    \"skiprows\": list(range(5)),\n",
    "    \"index col\": None,\n",
    "    \"header rows\": [0, 1],\n",
    "    \"skip tail\": 5\n",
    "}\n",
    "\n",
    "# rename the columns\n",
    "rename_dict_economic_geography = {1: (\"SA2 code\",None), 2: (\"SA2 name\",None)}"
   ]
  },
  {
   "cell_type": "code",
   "execution_count": 163,
   "id": "904845e3",
   "metadata": {},
   "outputs": [],
   "source": [
    "# get the dataframe\n",
    "df = get_csv(RELATIVE_PATH_IN + \"economic_by_region/income_by_geography.xlsx\", {\"sheet\": \"Table 1.4\"}, read_excel_dict_economic_by_region)\n",
    "\n",
    "# rename the dataframe\n",
    "df = rename_columns(df, index_dict=rename_dict_economic_geography, keep_columns=\"all\")\n",
    "\n",
    "# will in missing attributes for the multi index\n",
    "df = fill_previous(df)\n",
    "\n",
    "# change to numeric\n",
    "df = change_numeric(df, list(df.columns[:1]) + list(df.columns[2:]))\n",
    "df[\"SA2 code\"] = df[\"SA2 code\"].astype(float)\n",
    "\n",
    "# write to csv\n",
    "df.to_csv(RELATIVE_PATH_OUT + \"economic_by_region/income_by_geography.csv\")"
   ]
  },
  {
   "cell_type": "markdown",
   "id": "eb030929",
   "metadata": {},
   "source": [
    "### Distribution"
   ]
  },
  {
   "cell_type": "code",
   "execution_count": 164,
   "id": "d31a8632",
   "metadata": {},
   "outputs": [],
   "source": [
    "rename_dict_economic_distribution = {\n",
    "    1: \"SA2 code\", \n",
    "    12: \"economic: gini coefficient\",\n",
    "    13: \"economic: top 1% suburb\",\n",
    "    14: \"economic: top 5% suburb\"\n",
    "}"
   ]
  },
  {
   "cell_type": "code",
   "execution_count": 165,
   "id": "da69535d",
   "metadata": {},
   "outputs": [],
   "source": [
    "# get the dataframe\n",
    "df = get_csv(RELATIVE_PATH_IN + \"economic_by_region/income_distribution_by_geography.xlsx\", {\"sheet\": \"Table 2.4\"}, read_excel_dict_economic_by_region)\n",
    "\n",
    "# rename the dataframe\n",
    "df = rename_columns(df, index_dict=rename_dict_economic_distribution)\n",
    "\n",
    "# change to numeric\n",
    "df = change_numeric(df, df.columns)\n",
    "df[\"SA2 code\"] = df[\"SA2 code\"].astype(float)\n",
    "\n",
    "# write to csv\n",
    "df.to_csv(RELATIVE_PATH_OUT + \"economic_by_region/income_distribution_by_geography.csv\")"
   ]
  },
  {
   "cell_type": "markdown",
   "id": "a624196e",
   "metadata": {},
   "source": [
    "## Schools"
   ]
  },
  {
   "cell_type": "markdown",
   "id": "192dcb06",
   "metadata": {},
   "source": [
    "- Not sure what to do here"
   ]
  },
  {
   "cell_type": "markdown",
   "id": "272c9b41",
   "metadata": {},
   "source": [
    "## ABS"
   ]
  },
  {
   "cell_type": "markdown",
   "id": "5ad4fda5",
   "metadata": {},
   "source": []
  }
 ],
 "metadata": {
  "kernelspec": {
   "display_name": "Python 3 (ipykernel)",
   "language": "python",
   "name": "python3"
  },
  "language_info": {
   "codemirror_mode": {
    "name": "ipython",
    "version": 3
   },
   "file_extension": ".py",
   "mimetype": "text/x-python",
   "name": "python",
   "nbconvert_exporter": "python",
   "pygments_lexer": "ipython3",
   "version": "3.9.12"
  }
 },
 "nbformat": 4,
 "nbformat_minor": 5
}
