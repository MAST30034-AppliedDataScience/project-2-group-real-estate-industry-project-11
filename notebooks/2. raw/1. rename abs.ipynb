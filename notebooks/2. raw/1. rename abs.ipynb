{
 "cells": [
  {
   "cell_type": "code",
   "execution_count": 21,
   "metadata": {},
   "outputs": [],
   "source": [
    "import numpy as np\n",
    "import pandas as pd\n",
    "import os"
   ]
  },
  {
   "cell_type": "markdown",
   "metadata": {},
   "source": [
    "## Functions"
   ]
  },
  {
   "cell_type": "code",
   "execution_count": 22,
   "metadata": {},
   "outputs": [],
   "source": [
    "SA2_CODE_NAME = \"SA2 code\"\n",
    "MERGE_COLUMNS = [\"SA2_MAINCODE_2016\", \"SA2_CODE_2021\", SA2_CODE_NAME, \"year\"]\n",
    "\n",
    "RELATIVE_PATH_IN = \"../../data/1. landing/ABS/2021/data\"\n",
    "RELATIVE_PATH_OUT = \"../../data/2. raw/1. renamed/ABS\""
   ]
  },
  {
   "cell_type": "markdown",
   "metadata": {},
   "source": [
    "### Merge"
   ]
  },
  {
   "cell_type": "code",
   "execution_count": 23,
   "metadata": {},
   "outputs": [],
   "source": [
    "def get_next_merge(new_df, final_df):\n",
    "    if (final_df.empty):\n",
    "        return new_df\n",
    "\n",
    "    # get the attributes used for the merge\n",
    "    merge_columns = list(set(new_df.columns) & set(MERGE_COLUMNS) & set(final_df.columns))\n",
    "\n",
    "    # get the columns not already in the data frame\n",
    "    new_columns = list(set(new_df.columns) - set(final_df.columns) - set(merge_columns))\n",
    "\n",
    "    # merge columns\n",
    "    merged_df = pd.merge(final_df, new_df[merge_columns + new_columns], on=merge_columns, how=\"inner\")\n",
    "\n",
    "    # check if any rows lost\n",
    "    print(f\"lost {final_df.shape[0] - merged_df.shape[0]} out of {final_df.shape[0]} records\")\n",
    "    \n",
    "    return merged_df"
   ]
  },
  {
   "cell_type": "code",
   "execution_count": 24,
   "metadata": {},
   "outputs": [],
   "source": [
    "def get_merged_df(df_list):\n",
    "    # keep on aggregating\n",
    "    agg_df = df_list[0]\n",
    "    for new_df in df_list[1:]:\n",
    "        agg_df = get_next_merge(new_df, agg_df)\n",
    "\n",
    "    return agg_df"
   ]
  },
  {
   "cell_type": "markdown",
   "metadata": {},
   "source": [
    "### Renaming"
   ]
  },
  {
   "cell_type": "code",
   "execution_count": 25,
   "metadata": {},
   "outputs": [],
   "source": [
    "\"\"\"\"Note: uses the actual index name\"\"\"\n",
    "def rename_dict(df, csv_dict):\n",
    "    # find the merge columns present in the dictionary\n",
    "    merge_columns = list(set(df.columns) & set(MERGE_COLUMNS))\n",
    "\n",
    "    if (len(merge_columns) != 1):\n",
    "        print(\"more than one merge column in dictionary\")\n",
    "        return None\n",
    "\n",
    "    # filter the dictionary with the old names\n",
    "    df = df[merge_columns + list(csv_dict[\"rename\"].keys())]\n",
    "\n",
    "    # get the new names\n",
    "    df.columns = [SA2_CODE_NAME] + [csv_dict[\"name\"] + \": \" + new_name for new_name in  csv_dict[\"rename\"].values()]\n",
    "    \n",
    "    return df"
   ]
  },
  {
   "cell_type": "markdown",
   "metadata": {},
   "source": [
    "### Reading Data"
   ]
  },
  {
   "cell_type": "code",
   "execution_count": 38,
   "metadata": {},
   "outputs": [],
   "source": [
    "def write_csv(csv_dict):\n",
    "    # get all the files from the directory with the code\n",
    "    all_files = os.listdir(RELATIVE_PATH_IN)\n",
    "    code_paths = [f\"{RELATIVE_PATH_IN}/{file}\" for file in all_files if csv_dict[\"code\"] in file]\n",
    "\n",
    "    # create a new dataframe for each path\n",
    "    code_dataframes = []\n",
    "    for code_path in code_paths:\n",
    "        code_dataframes.append(pd.read_csv(code_path))\n",
    "\n",
    "    # merge the dictionary\n",
    "    out_df = get_merged_df(code_dataframes)\n",
    "\n",
    "    # rename the columns\n",
    "    out_df = rename_dict(out_df, csv_dict)\n",
    "\n",
    "    print(out_df.dtypes)\n",
    "\n",
    "    # add a year if necessary\n",
    "    if (csv_dict.get(\"add year\")):\n",
    "        out_df[\"year\"] = int(csv_dict[\"year\"])\n",
    "\n",
    "        # write the csv\n",
    "        out_df.to_csv(f\"{RELATIVE_PATH_OUT}/{csv_dict['name']}.csv\")\n",
    "    else:\n",
    "        # write csv with year code\n",
    "        out_df.to_csv(f\"{RELATIVE_PATH_OUT}/{csv_dict['name']}.csv\")"
   ]
  },
  {
   "cell_type": "code",
   "execution_count": 32,
   "metadata": {},
   "outputs": [],
   "source": [
    "def get_columns(code, metadata, start=False, ending=False):\n",
    "    # filter for the code\n",
    "    metadata = metadata[metadata[\"Profiletable\"].str.startswith(code)]\n",
    "\n",
    "    # if table is empty, raise a warning\n",
    "    if (metadata.empty):\n",
    "        print(f\"no corresponding code to {code}\")\n",
    "        return\n",
    "    \n",
    "    # find the mask for the values of interest\n",
    "    if (ending):\n",
    "        select_mask = metadata[\"Long\"].apply(lambda x: x[-len(ending):] == ending)\n",
    "        metadata = metadata[select_mask][[\"Short\", \"Long\"]]\n",
    "    if (start):\n",
    "        select_mask = metadata[\"Long\"].str.startswith(start)\n",
    "        metadata = metadata[select_mask][[\"Short\", \"Long\"]]\n",
    "\n",
    "    # create the out dict, and convert to lower\n",
    "    out_dict = {short: long.lower() for short, long in metadata.values}\n",
    "\n",
    "    # create a dictionary\n",
    "    return out_dict\n"
   ]
  },
  {
   "cell_type": "markdown",
   "metadata": {},
   "source": [
    "## Execution"
   ]
  },
  {
   "cell_type": "code",
   "execution_count": 28,
   "metadata": {},
   "outputs": [],
   "source": [
    "os.makedirs(RELATIVE_PATH_OUT, exist_ok=True)"
   ]
  },
  {
   "cell_type": "markdown",
   "metadata": {},
   "source": [
    "#### Read metadata"
   ]
  },
  {
   "cell_type": "code",
   "execution_count": 15,
   "metadata": {},
   "outputs": [
    {
     "name": "stdout",
     "output_type": "stream",
     "text": [
      "(16984, 5)\n",
      "Short                                object\n",
      "Long                                 object\n",
      "DataPackfile                         object\n",
      "Profiletable                         object\n",
      "Columnheadingdescriptioninprofile    object\n",
      "dtype: object\n"
     ]
    },
    {
     "data": {
      "text/html": [
       "<div>\n",
       "<style scoped>\n",
       "    .dataframe tbody tr th:only-of-type {\n",
       "        vertical-align: middle;\n",
       "    }\n",
       "\n",
       "    .dataframe tbody tr th {\n",
       "        vertical-align: top;\n",
       "    }\n",
       "\n",
       "    .dataframe thead th {\n",
       "        text-align: right;\n",
       "    }\n",
       "</style>\n",
       "<table border=\"1\" class=\"dataframe\">\n",
       "  <thead>\n",
       "    <tr style=\"text-align: right;\">\n",
       "      <th></th>\n",
       "      <th>Short</th>\n",
       "      <th>Long</th>\n",
       "      <th>DataPackfile</th>\n",
       "      <th>Profiletable</th>\n",
       "      <th>Columnheadingdescriptioninprofile</th>\n",
       "    </tr>\n",
       "    <tr>\n",
       "      <th>Sequential</th>\n",
       "      <th></th>\n",
       "      <th></th>\n",
       "      <th></th>\n",
       "      <th></th>\n",
       "      <th></th>\n",
       "    </tr>\n",
       "  </thead>\n",
       "  <tbody>\n",
       "    <tr>\n",
       "      <th>G1</th>\n",
       "      <td>Tot_P_M</td>\n",
       "      <td>Total_Persons_Males</td>\n",
       "      <td>G01</td>\n",
       "      <td>G01</td>\n",
       "      <td>Males</td>\n",
       "    </tr>\n",
       "    <tr>\n",
       "      <th>G2</th>\n",
       "      <td>Tot_P_F</td>\n",
       "      <td>Total_Persons_Females</td>\n",
       "      <td>G01</td>\n",
       "      <td>G01</td>\n",
       "      <td>Females</td>\n",
       "    </tr>\n",
       "    <tr>\n",
       "      <th>G3</th>\n",
       "      <td>Tot_P_P</td>\n",
       "      <td>Total_Persons_Persons</td>\n",
       "      <td>G01</td>\n",
       "      <td>G01</td>\n",
       "      <td>Persons</td>\n",
       "    </tr>\n",
       "    <tr>\n",
       "      <th>G4</th>\n",
       "      <td>Age_0_4_yr_M</td>\n",
       "      <td>Age_groups_0_4_years_Males</td>\n",
       "      <td>G01</td>\n",
       "      <td>G01</td>\n",
       "      <td>Males</td>\n",
       "    </tr>\n",
       "    <tr>\n",
       "      <th>G5</th>\n",
       "      <td>Age_0_4_yr_F</td>\n",
       "      <td>Age_groups_0_4_years_Females</td>\n",
       "      <td>G01</td>\n",
       "      <td>G01</td>\n",
       "      <td>Females</td>\n",
       "    </tr>\n",
       "  </tbody>\n",
       "</table>\n",
       "</div>"
      ],
      "text/plain": [
       "                   Short                          Long DataPackfile  \\\n",
       "Sequential                                                            \n",
       "G1               Tot_P_M           Total_Persons_Males          G01   \n",
       "G2               Tot_P_F         Total_Persons_Females          G01   \n",
       "G3               Tot_P_P         Total_Persons_Persons          G01   \n",
       "G4          Age_0_4_yr_M    Age_groups_0_4_years_Males          G01   \n",
       "G5          Age_0_4_yr_F  Age_groups_0_4_years_Females          G01   \n",
       "\n",
       "           Profiletable Columnheadingdescriptioninprofile  \n",
       "Sequential                                                 \n",
       "G1                  G01                             Males  \n",
       "G2                  G01                           Females  \n",
       "G3                  G01                           Persons  \n",
       "G4                  G01                             Males  \n",
       "G5                  G01                           Females  "
      ]
     },
     "execution_count": 15,
     "metadata": {},
     "output_type": "execute_result"
    }
   ],
   "source": [
    "metadata = pd.read_excel(f\"{RELATIVE_PATH_IN}/Metadata/column_names.xlsx\",\n",
    "                         sheet_name=\"Cell Descriptors Information\",\n",
    "                         skiprows = list(range(10)),\n",
    "                         header=0,\n",
    "                         index_col=0)\n",
    "\n",
    "print(metadata.shape)\n",
    "print(metadata.dtypes)\n",
    "metadata.head(5)"
   ]
  },
  {
   "cell_type": "markdown",
   "metadata": {},
   "source": [
    "#### Types of relationships"
   ]
  },
  {
   "cell_type": "code",
   "execution_count": 39,
   "metadata": {},
   "outputs": [
    {
     "name": "stdout",
     "output_type": "stream",
     "text": [
      "lost 0 out of 524 records\n",
      "SA2 code                                   int64\n",
      "relationships: married                     int64\n",
      "relationships: defacto                     int64\n",
      "relationships: lone parents                int64\n",
      "relationships: child under 15              int64\n",
      "relationships: dependent student           int64\n",
      "relationships: non dependent child         int64\n",
      "relationships: other related individual    int64\n",
      "relationships: group household             int64\n",
      "relationships: lone persons                int64\n",
      "dtype: object\n"
     ]
    }
   ],
   "source": [
    "CSV_RELATIONSHIPS_2021 = {\n",
    "    \"year\": \"2021\",\n",
    "    \"code\": \"G27\",\n",
    "    \"name\": \"relationships\",\n",
    "    \"rename\": {\n",
    "        \"P_Ptn_in_RM_Tot\": \"married\",\n",
    "        \"P_Ptn_in_DFM_Tot\": \"defacto\",\n",
    "        \"P_LonePnt_Tot\": \"lone parents\",\n",
    "        \"P_CU15_Tot\": \"child under 15\",\n",
    "        \"P_DpStu_Tot\": \"dependent student\",\n",
    "        \"P_NDpChl_Tot\": \"non dependent child\",\n",
    "        \"P_OthRI_Tot\": \"other related individual\",\n",
    "        \"P_GrpH_Mem_Tot\": \"group household\",\n",
    "        \"P_LonePsn_Tot\": \"lone persons\"\n",
    "    },\n",
    "    \"add year\": False\n",
    "}\n",
    "write_csv(CSV_RELATIONSHIPS_2021)"
   ]
  },
  {
   "cell_type": "markdown",
   "metadata": {},
   "source": [
    "#### Overseas"
   ]
  },
  {
   "cell_type": "code",
   "execution_count": 40,
   "metadata": {},
   "outputs": [
    {
     "name": "stdout",
     "output_type": "stream",
     "text": [
      "SA2 code             int64\n",
      "overseas: 5 years    int64\n",
      "dtype: object\n"
     ]
    }
   ],
   "source": [
    "CSV_OVERSEAS = {\n",
    "    \"year\": \"2021\",\n",
    "    \"code\": \"G45\",\n",
    "    \"name\": \"overseas\",\n",
    "    \"rename\": {\"Difnt_Usl_add_5_yr_ago_OS_P\": \"5 years\"}\n",
    "}\n",
    "write_csv(CSV_OVERSEAS)"
   ]
  },
  {
   "cell_type": "markdown",
   "metadata": {},
   "source": [
    "#### Birth country"
   ]
  },
  {
   "cell_type": "code",
   "execution_count": 41,
   "metadata": {},
   "outputs": [
    {
     "name": "stdout",
     "output_type": "stream",
     "text": [
      "lost 0 out of 524 records\n",
      "lost 0 out of 524 records\n",
      "lost 0 out of 524 records\n",
      "lost 0 out of 524 records\n",
      "lost 0 out of 524 records\n",
      "lost 0 out of 524 records\n",
      "lost 0 out of 524 records\n",
      "SA2 code                                 int64\n",
      "birth: afghanistan age                   int64\n",
      "birth: australia                         int64\n",
      "birth: bangladesh                        int64\n",
      "birth: bosnia and herzegovina            int64\n",
      "birth: brazil                            int64\n",
      "birth: cambodia                          int64\n",
      "birth: canada                            int64\n",
      "birth: chile                             int64\n",
      "birth: china excludes sars and taiwan    int64\n",
      "birth: croatia                           int64\n",
      "birth: egypt                             int64\n",
      "birth: england                           int64\n",
      "birth: fiji                              int64\n",
      "birth: france                            int64\n",
      "birth: germany                           int64\n",
      "birth: greece                            int64\n",
      "birth: hong kong sar of china            int64\n",
      "birth: india                             int64\n",
      "birth: indonesia                         int64\n",
      "birth: iran                              int64\n",
      "birth: iraq                              int64\n",
      "birth: ireland                           int64\n",
      "birth: italy                             int64\n",
      "birth: japan                             int64\n",
      "birth: korea republic of south           int64\n",
      "birth: lebanon                           int64\n",
      "birth: malaysia                          int64\n",
      "birth: malta                             int64\n",
      "birth: mauritius                         int64\n",
      "birth: myanmar                           int64\n",
      "birth: nepal                             int64\n",
      "birth: netherlands                       int64\n",
      "birth: new zealand                       int64\n",
      "birth: north macedonia                   int64\n",
      "birth: pakistan                          int64\n",
      "birth: papua new guinea                  int64\n",
      "birth: philippines                       int64\n",
      "birth: poland                            int64\n",
      "birth: samoa                             int64\n",
      "birth: scotland                          int64\n",
      "birth: singapore                         int64\n",
      "birth: south africa                      int64\n",
      "birth: sri lanka                         int64\n",
      "birth: taiwan                            int64\n",
      "birth: thailand                          int64\n",
      "birth: turkey                            int64\n",
      "birth: united states of america          int64\n",
      "birth: vietnam                           int64\n",
      "birth: wales                             int64\n",
      "birth: zimbabwe                          int64\n",
      "birth: born elsewhere                    int64\n",
      "birth: country of birth not stated       int64\n",
      "birth: total                             int64\n",
      "dtype: object\n"
     ]
    }
   ],
   "source": [
    "birth_dict = get_columns(\"G09\", metadata, start=\"PERSONS\", ending=\"Total\")\n",
    "\n",
    "# get the keys and values\n",
    "birth_dict_keys = birth_dict.keys()\n",
    "birth_dict_values = birth_dict.values()\n",
    "\n",
    "# remove the start and end\n",
    "birth_dict_values = [\" \".join(ethnic_string.split(\"_\")[1:-1]) for ethnic_string in birth_dict_values]\n",
    "\n",
    "# rerecreate the dict\n",
    "birth_dict = {key: value for key, value in zip(birth_dict_keys, birth_dict_values)}\n",
    "CSV_BIRTH = {\n",
    "    \"year\": \"2021\",\n",
    "    \"code\": \"G09\",\n",
    "    \"name\": \"birth\",\n",
    "    \"rename\": birth_dict\n",
    "}\n",
    "write_csv(CSV_BIRTH)"
   ]
  },
  {
   "cell_type": "markdown",
   "metadata": {},
   "source": [
    "#### Studying"
   ]
  },
  {
   "cell_type": "code",
   "execution_count": 42,
   "metadata": {},
   "outputs": [
    {
     "name": "stdout",
     "output_type": "stream",
     "text": [
      "SA2 code                          int64\n",
      "studying: preschool               int64\n",
      "studying: primary government      int64\n",
      "studying: primary catholic        int64\n",
      "studying: primary other           int64\n",
      "studying: primary total           int64\n",
      "studying: secondary government    int64\n",
      "studying: secondary catholic      int64\n",
      "studying: secondary total         int64\n",
      "studying: tafe total              int64\n",
      "studying: tertiary FT 14-25       int64\n",
      "studying: tertiary FT 25+         int64\n",
      "studying: tertiary PT 14-25       int64\n",
      "studying: tertiary PT 25+         int64\n",
      "studying: tertiary total          int64\n",
      "dtype: object\n"
     ]
    }
   ],
   "source": [
    "CSV_STUDYING = {\n",
    "    \"year\": \"2021\",\n",
    "    \"code\": \"G15\",\n",
    "    \"name\": \"studying\",\n",
    "    \"rename\": {\n",
    "        \"Preschool_P\": \"preschool\",\n",
    "        \"Primary_Government_P\": \"primary government\",\n",
    "        \"Primary_Catholic_P\": \"primary catholic\",\n",
    "        \"Primry_Othr_non_Govt_P\": \"primary other\",\n",
    "        \"Primary_Tot_Primary_P\": \"primary total\",\n",
    "        \"Secondary_Government_P\": \"secondary government\",\n",
    "        \"Secondary_Catholic_P\": \"secondary catholic\",\n",
    "        \"Secondary_Tot_Secondary_P\": \"secondary total\",\n",
    "        \"Tert_Voc_edu_Tot_P\": \"tafe total\",\n",
    "        \"Tert_Uni_oth_h_edu_Ft_15_24_P\": \"tertiary FT 14-25\",\n",
    "        \"Tert_Uni_oth_h_edu_Ft_25_ov_P\": \"tertiary FT 25+\",\n",
    "        \"Tert_Uni_oth_h_edu_Pt_15_24_P\": \"tertiary PT 14-25\",\n",
    "        \"Tert_Uni_oth_h_edu_Pt_25_ov_P\": \"tertiary PT 25+\",\n",
    "        \"Tert_Uni_other_high_edu_Tot_P\": \"tertiary total\"\n",
    "    }\n",
    "}\n",
    "write_csv(CSV_STUDYING)"
   ]
  },
  {
   "cell_type": "code",
   "execution_count": null,
   "metadata": {},
   "outputs": [],
   "source": []
  }
 ],
 "metadata": {
  "kernelspec": {
   "display_name": "base",
   "language": "python",
   "name": "python3"
  },
  "language_info": {
   "codemirror_mode": {
    "name": "ipython",
    "version": 3
   },
   "file_extension": ".py",
   "mimetype": "text/x-python",
   "name": "python",
   "nbconvert_exporter": "python",
   "pygments_lexer": "ipython3",
   "version": "3.9.12"
  }
 },
 "nbformat": 4,
 "nbformat_minor": 2
}
