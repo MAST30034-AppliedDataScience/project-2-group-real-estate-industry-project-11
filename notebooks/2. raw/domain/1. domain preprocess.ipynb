{
 "cells": [
  {
   "cell_type": "markdown",
   "metadata": {},
   "source": [
    "This notebook preprocesses the current listings of domain.\n",
    "\n",
    "By running all the cells in this notebook, the preprocessed dataset will be saved to the raw layer such that '../data/2. raw/cleaned_domain_current_listings.parquet'."
   ]
  },
  {
   "cell_type": "markdown",
   "metadata": {},
   "source": [
    "Before running this notebook, make sure you have:\n",
    "- 'domain_current_listings.parquet' in the landing layer such that '../data/1. landing/domain_current_listings.parquet'."
   ]
  },
  {
   "cell_type": "code",
   "execution_count": 1,
   "metadata": {},
   "outputs": [],
   "source": [
    "from pyspark.sql import SparkSession\n",
    "from pyspark.sql.functions import split, regexp_extract, regexp_replace\n",
    "import pandas as pd"
   ]
  },
  {
   "cell_type": "code",
   "execution_count": null,
   "metadata": {},
   "outputs": [],
   "source": [
    "# Create a SparkSession\n",
    "spark = (SparkSession.builder.appName(\"Project 2\")\n",
    "         .config(\"spark.sql.repl.eagerEval.enabled\", True)\n",
    "         .config(\"spark.sql.parquet.cacheMetadata\", \"true\")\n",
    "         .config(\"spark.sql.session.timeZone\", \"Etc/UTC\")\n",
    "         .getOrCreate()\n",
    ")"
   ]
  },
  {
   "cell_type": "code",
   "execution_count": 3,
   "metadata": {},
   "outputs": [
    {
     "name": "stderr",
     "output_type": "stream",
     "text": [
      "                                                                                \r"
     ]
    },
    {
     "data": {
      "text/html": [
       "<table border='1'>\n",
       "<tr><th>bedrooms</th><th>bathrooms</th><th>car_parks</th><th>url</th><th>name</th><th>cost_text</th><th>type</th><th>latitude</th><th>longitude</th></tr>\n",
       "<tr><td>2</td><td>1</td><td>1</td><td>https://www.domai...</td><td>705/8 Marmion Pla...</td><td>$600 per week</td><td>Apartment / Unit ...</td><td>-37.8134708</td><td>144.9424794</td></tr>\n",
       "<tr><td>3</td><td>2</td><td>2</td><td>https://www.domai...</td><td>5/18-20 Ibbottson...</td><td>$650 Per Week</td><td>Townhouse</td><td>-37.70987239999999</td><td>145.0844928</td></tr>\n",
       "<tr><td>3</td><td>2</td><td>1</td><td>https://www.domai...</td><td>2109/35 Malcolm S...</td><td>$1,150/week</td><td>Apartment / Unit ...</td><td>-37.8369683</td><td>144.9964622</td></tr>\n",
       "<tr><td>2</td><td>1</td><td>1</td><td>https://www.domai...</td><td>4/17a The Esplana...</td><td>$475.00 per week</td><td>Apartment / Unit ...</td><td>-38.1345686</td><td>144.3548803</td></tr>\n",
       "<tr><td>3</td><td>2</td><td>2</td><td>https://www.domai...</td><td>501/446 Malvern R...</td><td>$2200 Per Week</td><td>Apartment / Unit ...</td><td>-37.8479885</td><td>145.0012197</td></tr>\n",
       "</table>\n"
      ],
      "text/plain": [
       "+--------+---------+---------+--------------------+--------------------+----------------+--------------------+------------------+-----------+\n",
       "|bedrooms|bathrooms|car_parks|                 url|                name|       cost_text|                type|          latitude|  longitude|\n",
       "+--------+---------+---------+--------------------+--------------------+----------------+--------------------+------------------+-----------+\n",
       "|       2|        1|        1|https://www.domai...|705/8 Marmion Pla...|   $600 per week|Apartment / Unit ...|       -37.8134708|144.9424794|\n",
       "|       3|        2|        2|https://www.domai...|5/18-20 Ibbottson...|   $650 Per Week|           Townhouse|-37.70987239999999|145.0844928|\n",
       "|       3|        2|        1|https://www.domai...|2109/35 Malcolm S...|     $1,150/week|Apartment / Unit ...|       -37.8369683|144.9964622|\n",
       "|       2|        1|        1|https://www.domai...|4/17a The Esplana...|$475.00 per week|Apartment / Unit ...|       -38.1345686|144.3548803|\n",
       "|       3|        2|        2|https://www.domai...|501/446 Malvern R...|  $2200 Per Week|Apartment / Unit ...|       -37.8479885|145.0012197|\n",
       "+--------+---------+---------+--------------------+--------------------+----------------+--------------------+------------------+-----------+"
      ]
     },
     "execution_count": 3,
     "metadata": {},
     "output_type": "execute_result"
    }
   ],
   "source": [
    "# Read the parquet file \n",
    "domain_current = spark.read.parquet('../data/1. landing/domain_current_listings.parquet')\n",
    "domain_current.limit(5)"
   ]
  },
  {
   "cell_type": "code",
   "execution_count": 4,
   "metadata": {},
   "outputs": [
    {
     "data": {
      "text/plain": [
       "14199"
      ]
     },
     "execution_count": 4,
     "metadata": {},
     "output_type": "execute_result"
    }
   ],
   "source": [
    "# Count the number of properties\n",
    "domain_current.count()"
   ]
  },
  {
   "cell_type": "code",
   "execution_count": 5,
   "metadata": {},
   "outputs": [
    {
     "name": "stdout",
     "output_type": "stream",
     "text": [
      "root\n",
      " |-- bedrooms: integer (nullable = true)\n",
      " |-- bathrooms: integer (nullable = true)\n",
      " |-- car_parks: integer (nullable = true)\n",
      " |-- url: string (nullable = true)\n",
      " |-- name: string (nullable = true)\n",
      " |-- cost_text: string (nullable = true)\n",
      " |-- type: string (nullable = true)\n",
      " |-- latitude: string (nullable = true)\n",
      " |-- longitude: string (nullable = true)\n",
      "\n"
     ]
    }
   ],
   "source": [
    "# Print the data types of the columns\n",
    "domain_current.printSchema()"
   ]
  },
  {
   "cell_type": "code",
   "execution_count": 6,
   "metadata": {},
   "outputs": [
    {
     "data": {
      "text/plain": [
       "(0, 0, 0, 0, 0)"
      ]
     },
     "execution_count": 6,
     "metadata": {},
     "output_type": "execute_result"
    }
   ],
   "source": [
    "# Dectect the rows that have missing values in the columns 'name', 'cost_text', 'type', 'latitude' and 'longitude'\n",
    "domain_current.where(domain_current['name'].isNull()).count(), domain_current.where(domain_current['cost_text'].isNull()).count(), domain_current.where(domain_current['type'].isNull()).count(), domain_current.where(domain_current['latitude'].isNull()).count(), domain_current.where(domain_current['longitude'].isNull()).count()"
   ]
  },
  {
   "cell_type": "code",
   "execution_count": 7,
   "metadata": {},
   "outputs": [
    {
     "data": {
      "text/plain": [
       "14166"
      ]
     },
     "execution_count": 7,
     "metadata": {},
     "output_type": "execute_result"
    }
   ],
   "source": [
    "# Drop the rows that have missing values in the columns 'bedrooms', 'bathrooms' and 'car_parks'\n",
    "domain_current = domain_current.dropna(subset=['bedrooms', 'bathrooms', 'car_parks'])\n",
    "domain_current.count()"
   ]
  },
  {
   "cell_type": "code",
   "execution_count": 8,
   "metadata": {},
   "outputs": [
    {
     "data": {
      "text/html": [
       "<table border='1'>\n",
       "<tr><th>bedrooms</th><th>bathrooms</th><th>car_parks</th><th>url</th><th>name</th><th>cost_text</th><th>type</th><th>latitude</th><th>longitude</th><th>suburb</th></tr>\n",
       "<tr><td>2</td><td>1</td><td>1</td><td>https://www.domai...</td><td>705/8 Marmion Pla...</td><td>$600 per week</td><td>Apartment / Unit ...</td><td>-37.8134708</td><td>144.9424794</td><td> Docklands VIC 3008</td></tr>\n",
       "<tr><td>3</td><td>2</td><td>2</td><td>https://www.domai...</td><td>5/18-20 Ibbottson...</td><td>$650 Per Week</td><td>Townhouse</td><td>-37.70987239999999</td><td>145.0844928</td><td> Watsonia VIC 3087</td></tr>\n",
       "<tr><td>3</td><td>2</td><td>1</td><td>https://www.domai...</td><td>2109/35 Malcolm S...</td><td>$1,150/week</td><td>Apartment / Unit ...</td><td>-37.8369683</td><td>144.9964622</td><td> South Yarra VIC ...</td></tr>\n",
       "<tr><td>2</td><td>1</td><td>1</td><td>https://www.domai...</td><td>4/17a The Esplana...</td><td>$475.00 per week</td><td>Apartment / Unit ...</td><td>-38.1345686</td><td>144.3548803</td><td> Geelong VIC 3220</td></tr>\n",
       "<tr><td>3</td><td>2</td><td>2</td><td>https://www.domai...</td><td>501/446 Malvern R...</td><td>$2200 Per Week</td><td>Apartment / Unit ...</td><td>-37.8479885</td><td>145.0012197</td><td> Prahran VIC 3181</td></tr>\n",
       "</table>\n"
      ],
      "text/plain": [
       "+--------+---------+---------+--------------------+--------------------+----------------+--------------------+------------------+-----------+--------------------+\n",
       "|bedrooms|bathrooms|car_parks|                 url|                name|       cost_text|                type|          latitude|  longitude|              suburb|\n",
       "+--------+---------+---------+--------------------+--------------------+----------------+--------------------+------------------+-----------+--------------------+\n",
       "|       2|        1|        1|https://www.domai...|705/8 Marmion Pla...|   $600 per week|Apartment / Unit ...|       -37.8134708|144.9424794|  Docklands VIC 3008|\n",
       "|       3|        2|        2|https://www.domai...|5/18-20 Ibbottson...|   $650 Per Week|           Townhouse|-37.70987239999999|145.0844928|   Watsonia VIC 3087|\n",
       "|       3|        2|        1|https://www.domai...|2109/35 Malcolm S...|     $1,150/week|Apartment / Unit ...|       -37.8369683|144.9964622| South Yarra VIC ...|\n",
       "|       2|        1|        1|https://www.domai...|4/17a The Esplana...|$475.00 per week|Apartment / Unit ...|       -38.1345686|144.3548803|    Geelong VIC 3220|\n",
       "|       3|        2|        2|https://www.domai...|501/446 Malvern R...|  $2200 Per Week|Apartment / Unit ...|       -37.8479885|145.0012197|    Prahran VIC 3181|\n",
       "+--------+---------+---------+--------------------+--------------------+----------------+--------------------+------------------+-----------+--------------------+"
      ]
     },
     "execution_count": 8,
     "metadata": {},
     "output_type": "execute_result"
    }
   ],
   "source": [
    "# Creat a new column 'suburb' by extracting the suburbs from 'name'\n",
    "domain_current = domain_current.withColumn('suburb', split(domain_current['name'], ',')[1])\n",
    "domain_current.limit(5)"
   ]
  },
  {
   "cell_type": "code",
   "execution_count": 9,
   "metadata": {},
   "outputs": [
    {
     "data": {
      "text/html": [
       "<table border='1'>\n",
       "<tr><th>bedrooms</th><th>bathrooms</th><th>car_parks</th><th>url</th><th>name</th><th>cost_text</th><th>type</th><th>latitude</th><th>longitude</th><th>suburb</th><th>postcode</th></tr>\n",
       "<tr><td>2</td><td>1</td><td>1</td><td>https://www.domai...</td><td>705/8 Marmion Pla...</td><td>$600 per week</td><td>Apartment / Unit ...</td><td>-37.8134708</td><td>144.9424794</td><td> Docklands VIC 3008</td><td>3008</td></tr>\n",
       "<tr><td>3</td><td>2</td><td>2</td><td>https://www.domai...</td><td>5/18-20 Ibbottson...</td><td>$650 Per Week</td><td>Townhouse</td><td>-37.70987239999999</td><td>145.0844928</td><td> Watsonia VIC 3087</td><td>3087</td></tr>\n",
       "<tr><td>3</td><td>2</td><td>1</td><td>https://www.domai...</td><td>2109/35 Malcolm S...</td><td>$1,150/week</td><td>Apartment / Unit ...</td><td>-37.8369683</td><td>144.9964622</td><td> South Yarra VIC ...</td><td>3141</td></tr>\n",
       "<tr><td>2</td><td>1</td><td>1</td><td>https://www.domai...</td><td>4/17a The Esplana...</td><td>$475.00 per week</td><td>Apartment / Unit ...</td><td>-38.1345686</td><td>144.3548803</td><td> Geelong VIC 3220</td><td>3220</td></tr>\n",
       "<tr><td>3</td><td>2</td><td>2</td><td>https://www.domai...</td><td>501/446 Malvern R...</td><td>$2200 Per Week</td><td>Apartment / Unit ...</td><td>-37.8479885</td><td>145.0012197</td><td> Prahran VIC 3181</td><td>3181</td></tr>\n",
       "</table>\n"
      ],
      "text/plain": [
       "+--------+---------+---------+--------------------+--------------------+----------------+--------------------+------------------+-----------+--------------------+--------+\n",
       "|bedrooms|bathrooms|car_parks|                 url|                name|       cost_text|                type|          latitude|  longitude|              suburb|postcode|\n",
       "+--------+---------+---------+--------------------+--------------------+----------------+--------------------+------------------+-----------+--------------------+--------+\n",
       "|       2|        1|        1|https://www.domai...|705/8 Marmion Pla...|   $600 per week|Apartment / Unit ...|       -37.8134708|144.9424794|  Docklands VIC 3008|    3008|\n",
       "|       3|        2|        2|https://www.domai...|5/18-20 Ibbottson...|   $650 Per Week|           Townhouse|-37.70987239999999|145.0844928|   Watsonia VIC 3087|    3087|\n",
       "|       3|        2|        1|https://www.domai...|2109/35 Malcolm S...|     $1,150/week|Apartment / Unit ...|       -37.8369683|144.9964622| South Yarra VIC ...|    3141|\n",
       "|       2|        1|        1|https://www.domai...|4/17a The Esplana...|$475.00 per week|Apartment / Unit ...|       -38.1345686|144.3548803|    Geelong VIC 3220|    3220|\n",
       "|       3|        2|        2|https://www.domai...|501/446 Malvern R...|  $2200 Per Week|Apartment / Unit ...|       -37.8479885|145.0012197|    Prahran VIC 3181|    3181|\n",
       "+--------+---------+---------+--------------------+--------------------+----------------+--------------------+------------------+-----------+--------------------+--------+"
      ]
     },
     "execution_count": 9,
     "metadata": {},
     "output_type": "execute_result"
    }
   ],
   "source": [
    "# Create a new column 'postcode' by extracting the postcodes from 'suburb'\n",
    "domain_current = domain_current.withColumn('postcode', regexp_extract(domain_current['suburb'], r'\\b(\\d{4})\\b', 0))\n",
    "domain_current.limit(5)"
   ]
  },
  {
   "cell_type": "code",
   "execution_count": 10,
   "metadata": {},
   "outputs": [
    {
     "data": {
      "text/html": [
       "<table border='1'>\n",
       "<tr><th>bedrooms</th><th>bathrooms</th><th>car_parks</th><th>url</th><th>name</th><th>cost_text</th><th>type</th><th>latitude</th><th>longitude</th><th>suburb</th><th>postcode</th><th>rent_pw</th></tr>\n",
       "<tr><td>2</td><td>1</td><td>1</td><td>https://www.domai...</td><td>705/8 Marmion Pla...</td><td>$600 per week</td><td>Apartment / Unit ...</td><td>-37.8134708</td><td>144.9424794</td><td> Docklands VIC 3008</td><td>3008</td><td>600</td></tr>\n",
       "<tr><td>3</td><td>2</td><td>2</td><td>https://www.domai...</td><td>5/18-20 Ibbottson...</td><td>$650 Per Week</td><td>Townhouse</td><td>-37.70987239999999</td><td>145.0844928</td><td> Watsonia VIC 3087</td><td>3087</td><td>650</td></tr>\n",
       "<tr><td>3</td><td>2</td><td>1</td><td>https://www.domai...</td><td>2109/35 Malcolm S...</td><td>$1,150/week</td><td>Apartment / Unit ...</td><td>-37.8369683</td><td>144.9964622</td><td> South Yarra VIC ...</td><td>3141</td><td>1150</td></tr>\n",
       "<tr><td>2</td><td>1</td><td>1</td><td>https://www.domai...</td><td>4/17a The Esplana...</td><td>$475.00 per week</td><td>Apartment / Unit ...</td><td>-38.1345686</td><td>144.3548803</td><td> Geelong VIC 3220</td><td>3220</td><td>475</td></tr>\n",
       "<tr><td>3</td><td>2</td><td>2</td><td>https://www.domai...</td><td>501/446 Malvern R...</td><td>$2200 Per Week</td><td>Apartment / Unit ...</td><td>-37.8479885</td><td>145.0012197</td><td> Prahran VIC 3181</td><td>3181</td><td>2200</td></tr>\n",
       "</table>\n"
      ],
      "text/plain": [
       "+--------+---------+---------+--------------------+--------------------+----------------+--------------------+------------------+-----------+--------------------+--------+-------+\n",
       "|bedrooms|bathrooms|car_parks|                 url|                name|       cost_text|                type|          latitude|  longitude|              suburb|postcode|rent_pw|\n",
       "+--------+---------+---------+--------------------+--------------------+----------------+--------------------+------------------+-----------+--------------------+--------+-------+\n",
       "|       2|        1|        1|https://www.domai...|705/8 Marmion Pla...|   $600 per week|Apartment / Unit ...|       -37.8134708|144.9424794|  Docklands VIC 3008|    3008|    600|\n",
       "|       3|        2|        2|https://www.domai...|5/18-20 Ibbottson...|   $650 Per Week|           Townhouse|-37.70987239999999|145.0844928|   Watsonia VIC 3087|    3087|    650|\n",
       "|       3|        2|        1|https://www.domai...|2109/35 Malcolm S...|     $1,150/week|Apartment / Unit ...|       -37.8369683|144.9964622| South Yarra VIC ...|    3141|   1150|\n",
       "|       2|        1|        1|https://www.domai...|4/17a The Esplana...|$475.00 per week|Apartment / Unit ...|       -38.1345686|144.3548803|    Geelong VIC 3220|    3220|    475|\n",
       "|       3|        2|        2|https://www.domai...|501/446 Malvern R...|  $2200 Per Week|Apartment / Unit ...|       -37.8479885|145.0012197|    Prahran VIC 3181|    3181|   2200|\n",
       "+--------+---------+---------+--------------------+--------------------+----------------+--------------------+------------------+-----------+--------------------+--------+-------+"
      ]
     },
     "execution_count": 10,
     "metadata": {},
     "output_type": "execute_result"
    }
   ],
   "source": [
    "# Create a new column 'rent_pw' by extracting the rents from 'cost_text'\n",
    "domain_current = domain_current.withColumn('rent_pw', regexp_extract(regexp_replace(domain_current['cost_text'], ',', ''), r'\\b(\\d+)\\b', 0))\n",
    "domain_current.limit(5)"
   ]
  },
  {
   "cell_type": "code",
   "execution_count": 11,
   "metadata": {},
   "outputs": [
    {
     "name": "stdout",
     "output_type": "stream",
     "text": [
      "root\n",
      " |-- bedrooms: integer (nullable = true)\n",
      " |-- bathrooms: integer (nullable = true)\n",
      " |-- car_parks: integer (nullable = true)\n",
      " |-- url: string (nullable = true)\n",
      " |-- name: string (nullable = true)\n",
      " |-- cost_text: string (nullable = true)\n",
      " |-- type: string (nullable = true)\n",
      " |-- latitude: string (nullable = true)\n",
      " |-- longitude: string (nullable = true)\n",
      " |-- suburb: string (nullable = true)\n",
      " |-- postcode: string (nullable = true)\n",
      " |-- rent_pw: integer (nullable = true)\n",
      "\n"
     ]
    }
   ],
   "source": [
    "# Convert the data type of 'rent_pw' to integer\n",
    "domain_current = domain_current.withColumn('rent_pw', domain_current['rent_pw'].cast('int'))\n",
    "domain_current.printSchema()"
   ]
  },
  {
   "cell_type": "code",
   "execution_count": 12,
   "metadata": {},
   "outputs": [
    {
     "data": {
      "text/plain": [
       "838"
      ]
     },
     "execution_count": 12,
     "metadata": {},
     "output_type": "execute_result"
    }
   ],
   "source": [
    "# Dectect the rows that have missing values in the column 'rent_pw'\n",
    "domain_current.where(domain_current['rent_pw'].isNull()).count()"
   ]
  },
  {
   "cell_type": "code",
   "execution_count": 13,
   "metadata": {},
   "outputs": [
    {
     "data": {
      "text/plain": [
       "13328"
      ]
     },
     "execution_count": 13,
     "metadata": {},
     "output_type": "execute_result"
    }
   ],
   "source": [
    "# Drop the the rows that have missing values in the column 'rent_pw'\n",
    "domain_current = domain_current.dropna(subset=['rent_pw'])\n",
    "domain_current.count()"
   ]
  },
  {
   "cell_type": "code",
   "execution_count": 14,
   "metadata": {},
   "outputs": [],
   "source": [
    "# Convert 'domain_current' to a pandas DataFrame\n",
    "domain_current = domain_current.toPandas()"
   ]
  },
  {
   "cell_type": "code",
   "execution_count": null,
   "metadata": {},
   "outputs": [],
   "source": [
    "# Display the full list\n",
    "pd.set_option('display.max_rows', None)\n",
    "\n",
    "# Detect the rows with any 'annual' or 'month' or 'season' in 'cost_text'\n",
    "domain_current[domain_current['cost_text'].str.contains('annual|month|season', case=False)]"
   ]
  },
  {
   "cell_type": "code",
   "execution_count": 16,
   "metadata": {},
   "outputs": [],
   "source": [
    "# Manually correct 'rent_pw'\n",
    "domain_current.loc[25, 'rent_pw'] = 507\n",
    "domain_current.loc[154, 'rent_pw'] = 350\n",
    "domain_current.loc[473, 'rent_pw'] = 70\n",
    "domain_current.loc[927, 'rent_pw'] = 70\n",
    "domain_current.loc[1795, 'rent_pw'] = 3850\n",
    "domain_current.loc[1827, 'rent_pw'] = 450\n",
    "domain_current.loc[1912, 'rent_pw'] = 608\n",
    "domain_current.loc[1929, 'rent_pw'] = 76\n",
    "domain_current.loc[2308, 'rent_pw'] = 627\n",
    "domain_current.loc[2693, 'rent_pw'] = 18\n",
    "domain_current.loc[2865, 'rent_pw'] = 76\n",
    "domain_current.loc[3514, 'rent_pw'] = 608\n",
    "domain_current.loc[3756, 'rent_pw'] = 51\n",
    "domain_current.loc[3813, 'rent_pw'] = 558\n",
    "domain_current.loc[4004, 'rent_pw'] = 455\n",
    "domain_current.loc[4081, 'rent_pw'] = 35\n",
    "domain_current.loc[4372, 'rent_pw'] = 29\n",
    "domain_current.loc[4446, 'rent_pw'] = 456\n",
    "domain_current.loc[5021, 'rent_pw'] = 637\n",
    "domain_current.loc[5167, 'rent_pw'] = 51\n",
    "domain_current.loc[6169, 'rent_pw'] = 58\n",
    "domain_current.loc[6223, 'rent_pw'] = 26\n",
    "domain_current.loc[6769, 'rent_pw'] = 425\n",
    "domain_current.loc[6996, 'rent_pw'] = 54\n",
    "domain_current.loc[7515, 'rent_pw'] = 558\n",
    "domain_current.loc[7564, 'rent_pw'] = 70\n",
    "domain_current.loc[7658, 'rent_pw'] = 3500\n",
    "domain_current.loc[7979, 'rent_pw'] = 558\n",
    "domain_current.loc[8501, 'rent_pw'] = 58\n",
    "domain_current.loc[9351, 'rent_pw'] = 3850\n",
    "domain_current.loc[9808, 'rent_pw'] = 747\n",
    "domain_current.loc[10585, 'rent_pw'] = 3500\n",
    "domain_current.loc[10684, 'rent_pw'] = 627\n",
    "domain_current.loc[11143, 'rent_pw'] = 456\n",
    "domain_current.loc[11411, 'rent_pw'] = 54\n",
    "domain_current.loc[11427, 'rent_pw'] = 61\n",
    "domain_current.loc[11536, 'rent_pw'] = 56\n",
    "domain_current.loc[11664, 'rent_pw'] = 425\n",
    "domain_current.loc[11998, 'rent_pw'] = 26\n",
    "domain_current.loc[12448, 'rent_pw'] = 70\n",
    "domain_current.loc[12571, 'rent_pw'] = 506\n",
    "domain_current.loc[12826, 'rent_pw'] = 3850\n",
    "domain_current.loc[12996, 'rent_pw'] = 517"
   ]
  },
  {
   "cell_type": "code",
   "execution_count": 17,
   "metadata": {},
   "outputs": [
    {
     "data": {
      "text/plain": [
       "array(['Apartment / Unit / Flat', 'Townhouse', 'House', 'Studio', 'Villa',\n",
       "       'Terrace', 'Duplex', 'Carspace', 'New House & Land',\n",
       "       'Semi-Detached', 'Acreage / Semi-Rural',\n",
       "       'New Apartments / Off the Plan', 'New land', 'Block of Units'],\n",
       "      dtype=object)"
      ]
     },
     "execution_count": 17,
     "metadata": {},
     "output_type": "execute_result"
    }
   ],
   "source": [
    "# List all the types of properties\n",
    "domain_current['type'].unique()"
   ]
  },
  {
   "cell_type": "code",
   "execution_count": 18,
   "metadata": {},
   "outputs": [],
   "source": [
    "# Remove the rows with 'Carspace' in 'type'\n",
    "domain_current = domain_current[~domain_current['type'].str.contains('Carspace', case=False)]"
   ]
  },
  {
   "cell_type": "code",
   "execution_count": null,
   "metadata": {},
   "outputs": [],
   "source": [
    "# Save the cleaned data to a parquet file\n",
    "domain_current = spark.createDataFrame(domain_current)\n",
    "domain_current.write.mode('overwrite').parquet('../data/2. raw/cleaned_domain_current_listings.parquet')"
   ]
  }
 ],
 "metadata": {
  "kernelspec": {
   "display_name": "Python 3",
   "language": "python",
   "name": "python3"
  },
  "language_info": {
   "codemirror_mode": {
    "name": "ipython",
    "version": 3
   },
   "file_extension": ".py",
   "mimetype": "text/x-python",
   "name": "python",
   "nbconvert_exporter": "python",
   "pygments_lexer": "ipython3",
   "version": "3.12.3"
  }
 },
 "nbformat": 4,
 "nbformat_minor": 2
}
