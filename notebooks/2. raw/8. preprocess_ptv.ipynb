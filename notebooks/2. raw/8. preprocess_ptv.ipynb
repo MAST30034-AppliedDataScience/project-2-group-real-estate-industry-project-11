{
 "cells": [
  {
   "cell_type": "code",
   "execution_count": 1,
   "metadata": {},
   "outputs": [],
   "source": [
    "import sys\n",
    "import os\n",
    "import pandas as pd\n",
    "import geopandas as gpd\n",
    "\n",
    "sys.path.append(os.path.abspath('../../scripts/2. modules'))\n",
    "import processing\n",
    "\n",
    "# Inputs\n",
    "PTV_METRO_PATH = '../../data/1. landing/shapefile/metro_station'\n",
    "PTV_REGIONAL_PATH = '../../data/1. landing/shapefile/regional_station'\n",
    "\n",
    "# Outputs\n",
    "PTV_FILE_PATH_OUT = '../../data/2. raw'\n",
    "PTV_FILE_NAME = 'ptv.csv'"
   ]
  },
  {
   "cell_type": "code",
   "execution_count": 2,
   "metadata": {},
   "outputs": [],
   "source": [
    "regions_df = processing.get_regions_df(2)\n",
    "metro_trains = gpd.read_file(PTV_METRO_PATH)\n",
    "regional_trains = gpd.read_file(PTV_REGIONAL_PATH)"
   ]
  },
  {
   "cell_type": "code",
   "execution_count": 6,
   "metadata": {},
   "outputs": [],
   "source": [
    "duplicate_stations = set(pd.merge(regional_trains, metro_trains, on=\"STOP_NAME\")['STOP_NAME'])\n",
    "\n",
    "regional_trains_no_duplicates = regional_trains[~regional_trains['STOP_NAME'].isin(duplicate_stations)]\n",
    "\n",
    "all_stations = pd.concat([metro_trains, regional_trains_no_duplicates], ignore_index=True)\n",
    "all_stations = gpd.GeoDataFrame(\n",
    "    geometry=all_stations['geometry']\n",
    ")\n",
    "\n",
    "regions_df_trains = gpd.GeoDataFrame(\n",
    "    regions_df,\n",
    "    geometry=regions_df['geometry']\n",
    ")\n",
    "\n",
    "if regions_df_trains.crs is None:\n",
    "    regions_df_trains = regions_df_trains.set_crs('EPSG:4326')\n",
    "if all_stations.crs is None:\n",
    "    gdf_points = all_stations.set_crs(\"EPSG:7844\")\n",
    "\n",
    "if regions_df_trains.crs != all_stations.crs:\n",
    "    all_stations = all_stations.to_crs(regions_df_trains.crs)\n",
    "\n",
    "gdf_joined = gpd.sjoin(regions_df_trains, all_stations, how='left', predicate='intersects')\n",
    "\n",
    "# Group by the index of the geometry GeoDataFrame and count points\n",
    "point_counts = gdf_joined.groupby('suburbs').size()\n",
    "\n",
    "# Add the point counts as a new column to the geometry GeoDataFrame\n",
    "regions_df_trains['trains'] = list(point_counts)\n",
    "regions_df_trains['trains'] = regions_df_trains['trains'].fillna(0)\n",
    "\n",
    "regions_df_trains = regions_df_trains[['suburbs', 'trains']]"
   ]
  },
  {
   "cell_type": "code",
   "execution_count": 7,
   "metadata": {},
   "outputs": [],
   "source": [
    "processing.to_csv(regions_df_trains, PTV_FILE_PATH_OUT, PTV_FILE_NAME)"
   ]
  }
 ],
 "metadata": {
  "kernelspec": {
   "display_name": "Python 3",
   "language": "python",
   "name": "python3"
  },
  "language_info": {
   "codemirror_mode": {
    "name": "ipython",
    "version": 3
   },
   "file_extension": ".py",
   "mimetype": "text/x-python",
   "name": "python",
   "nbconvert_exporter": "python",
   "pygments_lexer": "ipython3",
   "version": "3.10.12"
  }
 },
 "nbformat": 4,
 "nbformat_minor": 2
}
